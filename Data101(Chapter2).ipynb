{
  "nbformat": 4,
  "nbformat_minor": 0,
  "metadata": {
    "colab": {
      "name": "Data101(Chapter2).ipynb",
      "provenance": [],
      "authorship_tag": "ABX9TyOaXaobU0rrtsnV/YFbv4KW",
      "include_colab_link": true
    },
    "kernelspec": {
      "name": "python3",
      "display_name": "Python 3"
    },
    "language_info": {
      "name": "python"
    }
  },
  "cells": [
    {
      "cell_type": "markdown",
      "metadata": {
        "id": "view-in-github",
        "colab_type": "text"
      },
      "source": [
        "<a href=\"https://colab.research.google.com/github/Chanakarn06/DWDM21/blob/main/Data101(Chapter2).ipynb\" target=\"_parent\"><img src=\"https://colab.research.google.com/assets/colab-badge.svg\" alt=\"Open In Colab\"/></a>"
      ]
    },
    {
      "cell_type": "markdown",
      "metadata": {
        "id": "0B047PsDtm0k"
      },
      "source": [
        "ข้อดีหนึ่งของ Python คือมี pagkage สำหรับทำงานต่างๆมากมาย\n",
        "\n",
        "ซึ่ง pandas เป็น package สำหรับการทำงานกับข้อมูลที่อยู่ในตารางโดย pandas จะเรียกตารางนั้นว่า dataframe\n"
      ]
    },
    {
      "cell_type": "code",
      "metadata": {
        "id": "rUFJ-_HFsGSe"
      },
      "source": [
        "import pandas # วิธีเรียกใช้ package คือ import ตามด้วยชื่อ package\n",
        "  "
      ],
      "execution_count": 5,
      "outputs": []
    },
    {
      "cell_type": "code",
      "metadata": {
        "id": "8cf2ODGGzfeA"
      },
      "source": [
        "import pandas as pd # เหมือนกับข้างบนแต่ว่า ตั้งชื่อให้ package ที่โหลดมาใหม่ว่า pd\n"
      ],
      "execution_count": 6,
      "outputs": []
    },
    {
      "cell_type": "markdown",
      "metadata": {
        "id": "sSo2dC2Itl56"
      },
      "source": [
        "ไฟล์ .csv (csv = comma separated values) เป็นไฟล์หลักที่เราจะได้ใช้กัน"
      ]
    },
    {
      "cell_type": "code",
      "metadata": {
        "id": "dGB8BymyvGkU"
      },
      "source": [
        "data_df = pd.read_csv('data.csv')"
      ],
      "execution_count": 7,
      "outputs": []
    },
    {
      "cell_type": "code",
      "metadata": {
        "colab": {
          "base_uri": "https://localhost:8080/",
          "height": 143
        },
        "id": "rW2nUH8rxSvI",
        "outputId": "dd2f98b8-af7c-4595-dd56-be8e32a909c9"
      },
      "source": [
        "data_df"
      ],
      "execution_count": 8,
      "outputs": [
        {
          "output_type": "execute_result",
          "data": {
            "text/html": [
              "<div>\n",
              "<style scoped>\n",
              "    .dataframe tbody tr th:only-of-type {\n",
              "        vertical-align: middle;\n",
              "    }\n",
              "\n",
              "    .dataframe tbody tr th {\n",
              "        vertical-align: top;\n",
              "    }\n",
              "\n",
              "    .dataframe thead th {\n",
              "        text-align: right;\n",
              "    }\n",
              "</style>\n",
              "<table border=\"1\" class=\"dataframe\">\n",
              "  <thead>\n",
              "    <tr style=\"text-align: right;\">\n",
              "      <th></th>\n",
              "      <th>name</th>\n",
              "      <th>age</th>\n",
              "      <th>city</th>\n",
              "    </tr>\n",
              "  </thead>\n",
              "  <tbody>\n",
              "    <tr>\n",
              "      <th>0</th>\n",
              "      <td>tom</td>\n",
              "      <td>27</td>\n",
              "      <td>Khon Kaen</td>\n",
              "    </tr>\n",
              "    <tr>\n",
              "      <th>1</th>\n",
              "      <td>Paul</td>\n",
              "      <td>15</td>\n",
              "      <td>Bangkok</td>\n",
              "    </tr>\n",
              "    <tr>\n",
              "      <th>2</th>\n",
              "      <td>Sarah</td>\n",
              "      <td>49</td>\n",
              "      <td>London</td>\n",
              "    </tr>\n",
              "  </tbody>\n",
              "</table>\n",
              "</div>"
            ],
            "text/plain": [
              "    name  age       city\n",
              "0    tom   27  Khon Kaen\n",
              "1   Paul   15    Bangkok\n",
              "2  Sarah   49     London"
            ]
          },
          "metadata": {
            "tags": []
          },
          "execution_count": 8
        }
      ]
    },
    {
      "cell_type": "code",
      "metadata": {
        "id": "IEKREt7bx9ng"
      },
      "source": [
        "data_df2 = pd.read_csv('data.csv')"
      ],
      "execution_count": 9,
      "outputs": []
    },
    {
      "cell_type": "code",
      "metadata": {
        "colab": {
          "base_uri": "https://localhost:8080/",
          "height": 143
        },
        "id": "1hHxofiN1VOn",
        "outputId": "96017683-2430-4d14-8d45-e1df186b9f70"
      },
      "source": [
        "data_df"
      ],
      "execution_count": 10,
      "outputs": [
        {
          "output_type": "execute_result",
          "data": {
            "text/html": [
              "<div>\n",
              "<style scoped>\n",
              "    .dataframe tbody tr th:only-of-type {\n",
              "        vertical-align: middle;\n",
              "    }\n",
              "\n",
              "    .dataframe tbody tr th {\n",
              "        vertical-align: top;\n",
              "    }\n",
              "\n",
              "    .dataframe thead th {\n",
              "        text-align: right;\n",
              "    }\n",
              "</style>\n",
              "<table border=\"1\" class=\"dataframe\">\n",
              "  <thead>\n",
              "    <tr style=\"text-align: right;\">\n",
              "      <th></th>\n",
              "      <th>name</th>\n",
              "      <th>age</th>\n",
              "      <th>city</th>\n",
              "    </tr>\n",
              "  </thead>\n",
              "  <tbody>\n",
              "    <tr>\n",
              "      <th>0</th>\n",
              "      <td>tom</td>\n",
              "      <td>27</td>\n",
              "      <td>Khon Kaen</td>\n",
              "    </tr>\n",
              "    <tr>\n",
              "      <th>1</th>\n",
              "      <td>Paul</td>\n",
              "      <td>15</td>\n",
              "      <td>Bangkok</td>\n",
              "    </tr>\n",
              "    <tr>\n",
              "      <th>2</th>\n",
              "      <td>Sarah</td>\n",
              "      <td>49</td>\n",
              "      <td>London</td>\n",
              "    </tr>\n",
              "  </tbody>\n",
              "</table>\n",
              "</div>"
            ],
            "text/plain": [
              "    name  age       city\n",
              "0    tom   27  Khon Kaen\n",
              "1   Paul   15    Bangkok\n",
              "2  Sarah   49     London"
            ]
          },
          "metadata": {
            "tags": []
          },
          "execution_count": 10
        }
      ]
    },
    {
      "cell_type": "markdown",
      "metadata": {
        "id": "ZPR4gGxJ0VdT"
      },
      "source": [
        "\n",
        "\n",
        "# Basic Python"
      ]
    },
    {
      "cell_type": "markdown",
      "metadata": {
        "id": "omAFMOvq0c2x"
      },
      "source": [
        "Variables"
      ]
    },
    {
      "cell_type": "markdown",
      "metadata": {
        "id": "gxOtQOKx1ksk"
      },
      "source": [
        "ข้อกำหนดในการตั้งชื่อตัวแปร\n",
        "\n",
        "\n",
        "1.   ชื่อห้ามมีเว้นวรรค\n",
        "2.   ใช้ภาษาอังกฤษ\n",
        "3.   ตัวเล็กกับตัวใหญ่แตกต่างกัน\n",
        "\n"
      ]
    },
    {
      "cell_type": "code",
      "metadata": {
        "id": "2bInYwnp0knI"
      },
      "source": [
        "variable_a = 12\n",
        "variable_b = 'abcde' # เรียกว่า quote\n",
        "variable_c = variable_a"
      ],
      "execution_count": 11,
      "outputs": []
    },
    {
      "cell_type": "code",
      "metadata": {
        "colab": {
          "base_uri": "https://localhost:8080/"
        },
        "id": "1wZqFG8h1Xxh",
        "outputId": "baafc5c9-807c-4d3b-ab7f-d45c0db4fc42"
      },
      "source": [
        "variable_a "
      ],
      "execution_count": 12,
      "outputs": [
        {
          "output_type": "execute_result",
          "data": {
            "text/plain": [
              "12"
            ]
          },
          "metadata": {
            "tags": []
          },
          "execution_count": 12
        }
      ]
    },
    {
      "cell_type": "code",
      "metadata": {
        "colab": {
          "base_uri": "https://localhost:8080/",
          "height": 35
        },
        "id": "9Cnw8gv71fxy",
        "outputId": "3246736a-5157-483e-84fe-7675849f5364"
      },
      "source": [
        "variable_b"
      ],
      "execution_count": 13,
      "outputs": [
        {
          "output_type": "execute_result",
          "data": {
            "application/vnd.google.colaboratory.intrinsic+json": {
              "type": "string"
            },
            "text/plain": [
              "'abcde'"
            ]
          },
          "metadata": {
            "tags": []
          },
          "execution_count": 13
        }
      ]
    },
    {
      "cell_type": "code",
      "metadata": {
        "colab": {
          "base_uri": "https://localhost:8080/"
        },
        "id": "_ZA3Sfkj1iEz",
        "outputId": "7cc87b13-01ea-4bbd-f925-cb473f029655"
      },
      "source": [
        "variable_c"
      ],
      "execution_count": 14,
      "outputs": [
        {
          "output_type": "execute_result",
          "data": {
            "text/plain": [
              "12"
            ]
          },
          "metadata": {
            "tags": []
          },
          "execution_count": 14
        }
      ]
    },
    {
      "cell_type": "code",
      "metadata": {
        "id": "q-UsO8at3CY_",
        "outputId": "8bc2de28-fe46-4719-ea50-0b1a9429f6dd",
        "colab": {
          "base_uri": "https://localhost:8080/",
          "height": 131
        }
      },
      "source": [
        "# ชื่อห้ามมีเว้นวรรค\n",
        "variable a = 6"
      ],
      "execution_count": 18,
      "outputs": [
        {
          "output_type": "error",
          "ename": "SyntaxError",
          "evalue": "ignored",
          "traceback": [
            "\u001b[0;36m  File \u001b[0;32m\"<ipython-input-18-126f7ab49866>\"\u001b[0;36m, line \u001b[0;32m2\u001b[0m\n\u001b[0;31m    variable a = 6\u001b[0m\n\u001b[0m             ^\u001b[0m\n\u001b[0;31mSyntaxError\u001b[0m\u001b[0;31m:\u001b[0m invalid syntax\n"
          ]
        }
      ]
    },
    {
      "cell_type": "code",
      "metadata": {
        "colab": {
          "base_uri": "https://localhost:8080/"
        },
        "id": "WpDp2xUa2F3O",
        "outputId": "e0da065d-5f16-4652-b586-762d6acd0755"
      },
      "source": [
        "# พยายามใช้ภาาาอังกฤษ\n",
        "#colab ใช้ภาษาไทยเป็นชื่อตัวแปรได้ แต่ไม่ควรใช้\n",
        "ตัวแปร = 3\n",
        "ตัวแปร "
      ],
      "execution_count": 17,
      "outputs": [
        {
          "output_type": "execute_result",
          "data": {
            "text/plain": [
              "3"
            ]
          },
          "metadata": {
            "tags": []
          },
          "execution_count": 17
        }
      ]
    },
    {
      "cell_type": "code",
      "metadata": {
        "colab": {
          "base_uri": "https://localhost:8080/"
        },
        "id": "uVmqOj_m3OWt",
        "outputId": "253bdfaa-214d-450b-9228-537fe48671c5"
      },
      "source": [
        "# ตัวเล็กกับตัวใหญ่ แตกต่างกัน (case sensitive)\n",
        "v_a = 1\n",
        "V_a = 2\n",
        "print(v_a)\n",
        "print(V_a)"
      ],
      "execution_count": 19,
      "outputs": [
        {
          "output_type": "stream",
          "text": [
            "1\n",
            "2\n"
          ],
          "name": "stdout"
        }
      ]
    },
    {
      "cell_type": "code",
      "metadata": {
        "colab": {
          "base_uri": "https://localhost:8080/"
        },
        "id": "oQGKxwYO3fVX",
        "outputId": "8714f74d-c3ba-43b3-8e3e-f3a5aede0415"
      },
      "source": [
        "# # ตัวเล็กกับตัวใหญ่ แตกต่างกัน (case sensitive)\n",
        "v_a = 1\n",
        "v_a = 2\n",
        "print(v_a)\n",
        "print(v_a)"
      ],
      "execution_count": 20,
      "outputs": [
        {
          "output_type": "stream",
          "text": [
            "2\n",
            "2\n"
          ],
          "name": "stdout"
        }
      ]
    },
    {
      "cell_type": "code",
      "metadata": {
        "id": "XFox6GxZ30hp",
        "outputId": "be480abb-b731-44b4-b108-094ae2e55374",
        "colab": {
          "base_uri": "https://localhost:8080/",
          "height": 131
        }
      },
      "source": [
        "# ห้ามใช้ตัวเลขเป็นตัวหน้า\n",
        "2ab=1"
      ],
      "execution_count": 21,
      "outputs": [
        {
          "output_type": "error",
          "ename": "SyntaxError",
          "evalue": "ignored",
          "traceback": [
            "\u001b[0;36m  File \u001b[0;32m\"<ipython-input-21-0bde15fe55c6>\"\u001b[0;36m, line \u001b[0;32m2\u001b[0m\n\u001b[0;31m    2ab=1\u001b[0m\n\u001b[0m      ^\u001b[0m\n\u001b[0;31mSyntaxError\u001b[0m\u001b[0;31m:\u001b[0m invalid syntax\n"
          ]
        }
      ]
    },
    {
      "cell_type": "code",
      "metadata": {
        "id": "8-UW6JtA4O0h"
      },
      "source": [
        "# ห้ามใช้ตัวเลขเป็นตัวหน้า\n",
        "variable = 1"
      ],
      "execution_count": 22,
      "outputs": []
    },
    {
      "cell_type": "code",
      "metadata": {
        "colab": {
          "base_uri": "https://localhost:8080/"
        },
        "id": "TR8S8KTN4Wn-",
        "outputId": "dff671bb-9cc2-4f36-8188-dca892d71464"
      },
      "source": [
        "print(variable)"
      ],
      "execution_count": 23,
      "outputs": [
        {
          "output_type": "stream",
          "text": [
            "1\n"
          ],
          "name": "stdout"
        }
      ]
    },
    {
      "cell_type": "code",
      "metadata": {
        "id": "ydfXo7DL3-U1"
      },
      "source": [
        "variable_a = 12\n",
        "variable_b = 'abcde' # เรียกว่า quote\n",
        "variable_c = variable_a\n",
        "variable_d = -41.2\n",
        "variable_4 = \"KKU\" # เรียกว่า double quotte"
      ],
      "execution_count": 24,
      "outputs": []
    },
    {
      "cell_type": "code",
      "metadata": {
        "colab": {
          "base_uri": "https://localhost:8080/"
        },
        "id": "UlTRJZ1S4lqN",
        "outputId": "6710cec1-dd01-4a76-f7ad-f3cf33e943dc"
      },
      "source": [
        "variable_x = variable_c + variable_d\n",
        "print(variable_x)  "
      ],
      "execution_count": 25,
      "outputs": [
        {
          "output_type": "stream",
          "text": [
            "-29.200000000000003\n"
          ],
          "name": "stdout"
        }
      ]
    },
    {
      "cell_type": "code",
      "metadata": {
        "colab": {
          "base_uri": "https://localhost:8080/",
          "height": 166
        },
        "id": "9XN59v5q6J-g",
        "outputId": "74fffda0-a8d5-4c70-a858-a95c541b6e2d"
      },
      "source": [
        "variable_a + variable_b # ตัวเลขกับตัวหนังสือบวกกันไม่ได้"
      ],
      "execution_count": 27,
      "outputs": [
        {
          "output_type": "error",
          "ename": "TypeError",
          "evalue": "ignored",
          "traceback": [
            "\u001b[0;31m---------------------------------------------------------------------------\u001b[0m",
            "\u001b[0;31mTypeError\u001b[0m                                 Traceback (most recent call last)",
            "\u001b[0;32m<ipython-input-27-d1790bf135aa>\u001b[0m in \u001b[0;36m<module>\u001b[0;34m()\u001b[0m\n\u001b[0;32m----> 1\u001b[0;31m \u001b[0mvariable_a\u001b[0m \u001b[0;34m+\u001b[0m \u001b[0mvariable_b\u001b[0m \u001b[0;31m# ตัวเลขกับตัวหนังสือบวกกันไม่ได้\u001b[0m\u001b[0;34m\u001b[0m\u001b[0;34m\u001b[0m\u001b[0m\n\u001b[0m",
            "\u001b[0;31mTypeError\u001b[0m: unsupported operand type(s) for +: 'int' and 'str'"
          ]
        }
      ]
    },
    {
      "cell_type": "code",
      "metadata": {
        "colab": {
          "base_uri": "https://localhost:8080/"
        },
        "id": "k8wTas3A6c0F",
        "outputId": "d4db08d3-08af-4264-d4b8-3ea058366ccd"
      },
      "source": [
        "print(variable_b + variable_4)"
      ],
      "execution_count": 28,
      "outputs": [
        {
          "output_type": "stream",
          "text": [
            "abcdeKKU\n"
          ],
          "name": "stdout"
        }
      ]
    },
    {
      "cell_type": "markdown",
      "metadata": {
        "id": "Ax5K5Xew7Eht"
      },
      "source": [
        "### Casting int() float() str()"
      ]
    },
    {
      "cell_type": "code",
      "metadata": {
        "colab": {
          "base_uri": "https://localhost:8080/"
        },
        "id": "Gh5ZfdJF7U40",
        "outputId": "638aa136-b7d9-4c73-ce57-f7c827f33385"
      },
      "source": [
        "print(variable_x)\n",
        "print(int(variable_x))"
      ],
      "execution_count": 29,
      "outputs": [
        {
          "output_type": "stream",
          "text": [
            "-29.200000000000003\n",
            "-29\n"
          ],
          "name": "stdout"
        }
      ]
    },
    {
      "cell_type": "code",
      "metadata": {
        "colab": {
          "base_uri": "https://localhost:8080/"
        },
        "id": "s-Zwg_Ns7jJN",
        "outputId": "fc2ec583-a324-4e7b-a9fb-7354d62c9173"
      },
      "source": [
        "V_X = str(variable_x)\n",
        "print(V_X)"
      ],
      "execution_count": 30,
      "outputs": [
        {
          "output_type": "stream",
          "text": [
            "-29.200000000000003\n"
          ],
          "name": "stdout"
        }
      ]
    },
    {
      "cell_type": "code",
      "metadata": {
        "id": "lDnBhJNX756T",
        "outputId": "50f8f66e-3b8a-4f45-f001-b83dcca4a95b",
        "colab": {
          "base_uri": "https://localhost:8080/",
          "height": 166
        }
      },
      "source": [
        "V_X + variable_a #(ค่าตัวเลข) # ไม่สามารถเอามาบวกกับตัวเลขธรรมดา"
      ],
      "execution_count": 32,
      "outputs": [
        {
          "output_type": "error",
          "ename": "TypeError",
          "evalue": "ignored",
          "traceback": [
            "\u001b[0;31m---------------------------------------------------------------------------\u001b[0m",
            "\u001b[0;31mTypeError\u001b[0m                                 Traceback (most recent call last)",
            "\u001b[0;32m<ipython-input-32-a5cd3f1eda4e>\u001b[0m in \u001b[0;36m<module>\u001b[0;34m()\u001b[0m\n\u001b[0;32m----> 1\u001b[0;31m \u001b[0mV_X\u001b[0m \u001b[0;34m+\u001b[0m \u001b[0mvariable_a\u001b[0m \u001b[0;31m#(ค่าตัวเลข) # ไม่สามารถเอามาบวกกับตัวเลขธรรมดา\u001b[0m\u001b[0;34m\u001b[0m\u001b[0;34m\u001b[0m\u001b[0m\n\u001b[0m",
            "\u001b[0;31mTypeError\u001b[0m: can only concatenate str (not \"int\") to str"
          ]
        }
      ]
    },
    {
      "cell_type": "code",
      "metadata": {
        "colab": {
          "base_uri": "https://localhost:8080/",
          "height": 166
        },
        "id": "zY_dnD3z8GDa",
        "outputId": "21c945b5-47d6-40a9-809e-e8ece460385f"
      },
      "source": [
        "variable_a  + V_X"
      ],
      "execution_count": 36,
      "outputs": [
        {
          "output_type": "error",
          "ename": "TypeError",
          "evalue": "ignored",
          "traceback": [
            "\u001b[0;31m---------------------------------------------------------------------------\u001b[0m",
            "\u001b[0;31mTypeError\u001b[0m                                 Traceback (most recent call last)",
            "\u001b[0;32m<ipython-input-36-9978d619706b>\u001b[0m in \u001b[0;36m<module>\u001b[0;34m()\u001b[0m\n\u001b[0;32m----> 1\u001b[0;31m \u001b[0mvariable_a\u001b[0m  \u001b[0;34m+\u001b[0m \u001b[0mV_X\u001b[0m\u001b[0;34m\u001b[0m\u001b[0;34m\u001b[0m\u001b[0m\n\u001b[0m",
            "\u001b[0;31mTypeError\u001b[0m: unsupported operand type(s) for +: 'int' and 'str'"
          ]
        }
      ]
    },
    {
      "cell_type": "code",
      "metadata": {
        "colab": {
          "base_uri": "https://localhost:8080/",
          "height": 35
        },
        "id": "MciRe-Sh8WdD",
        "outputId": "e1e0a60f-ecf4-4339-c987-92cc442368b6"
      },
      "source": [
        "V_X"
      ],
      "execution_count": 37,
      "outputs": [
        {
          "output_type": "execute_result",
          "data": {
            "application/vnd.google.colaboratory.intrinsic+json": {
              "type": "string"
            },
            "text/plain": [
              "'-29.200000000000003'"
            ]
          },
          "metadata": {
            "tags": []
          },
          "execution_count": 37
        }
      ]
    },
    {
      "cell_type": "code",
      "metadata": {
        "colab": {
          "base_uri": "https://localhost:8080/"
        },
        "id": "0KCQjL8W8j08",
        "outputId": "a01c7afe-9871-428c-9c06-fe97ccb2189c"
      },
      "source": [
        "float(V_X)"
      ],
      "execution_count": 33,
      "outputs": [
        {
          "output_type": "execute_result",
          "data": {
            "text/plain": [
              "-29.200000000000003"
            ]
          },
          "metadata": {
            "tags": []
          },
          "execution_count": 33
        }
      ]
    },
    {
      "cell_type": "markdown",
      "metadata": {
        "id": "oM6xISsl9DW3"
      },
      "source": [
        "## Data Structure\n",
        "### list() #ตัวเลขหรือตัวแปล"
      ]
    },
    {
      "cell_type": "code",
      "metadata": {
        "id": "9BnLwRib8p9y"
      },
      "source": [
        "list_a = [1,2,0,.2,'ads'] # square brackets ใส่อะไรลงไปก็ได้"
      ],
      "execution_count": 38,
      "outputs": []
    },
    {
      "cell_type": "code",
      "metadata": {
        "id": "Tp0NEpTQ9uc8"
      },
      "source": [
        "list_b = [2,'xyz',list_a,[1,2,0.0]]"
      ],
      "execution_count": 39,
      "outputs": []
    },
    {
      "cell_type": "code",
      "metadata": {
        "colab": {
          "base_uri": "https://localhost:8080/"
        },
        "id": "-oGfxW5j98NO",
        "outputId": "92a8402d-dee2-4600-cb4e-2f23668ea167"
      },
      "source": [
        "list_a # ลำดับมีความสำคัญ"
      ],
      "execution_count": 40,
      "outputs": [
        {
          "output_type": "execute_result",
          "data": {
            "text/plain": [
              "[1, 2, 0, 0.2, 'ads']"
            ]
          },
          "metadata": {
            "tags": []
          },
          "execution_count": 40
        }
      ]
    },
    {
      "cell_type": "code",
      "metadata": {
        "colab": {
          "base_uri": "https://localhost:8080/"
        },
        "id": "sJpvztIq-FRt",
        "outputId": "ee1e08d6-659a-4040-e20f-3ed90f80dfc9"
      },
      "source": [
        "list_b"
      ],
      "execution_count": 41,
      "outputs": [
        {
          "output_type": "execute_result",
          "data": {
            "text/plain": [
              "[2, 'xyz', [1, 2, 0, 0.2, 'ads'], [1, 2, 0.0]]"
            ]
          },
          "metadata": {
            "tags": []
          },
          "execution_count": 41
        }
      ]
    },
    {
      "cell_type": "code",
      "metadata": {
        "colab": {
          "base_uri": "https://localhost:8080/"
        },
        "id": "CGbRzhX4-J5F",
        "outputId": "47db1a19-7995-4c97-9143-d3228674baa9"
      },
      "source": [
        "len(list_b) # คือความยาว มีสมาชิกกี่ตัว"
      ],
      "execution_count": 42,
      "outputs": [
        {
          "output_type": "execute_result",
          "data": {
            "text/plain": [
              "4"
            ]
          },
          "metadata": {
            "tags": []
          },
          "execution_count": 42
        }
      ]
    },
    {
      "cell_type": "code",
      "metadata": {
        "colab": {
          "base_uri": "https://localhost:8080/"
        },
        "id": "bnNnBHu--UJA",
        "outputId": "afa09313-5e15-4962-cd54-1cd83a12d8c9"
      },
      "source": [
        "list_b[3] # ชี้สมาชิกใน list ตัวที่3"
      ],
      "execution_count": 43,
      "outputs": [
        {
          "output_type": "execute_result",
          "data": {
            "text/plain": [
              "[1, 2, 0.0]"
            ]
          },
          "metadata": {
            "tags": []
          },
          "execution_count": 43
        }
      ]
    },
    {
      "cell_type": "code",
      "metadata": {
        "colab": {
          "base_uri": "https://localhost:8080/"
        },
        "id": "IDwUGHNB-kiV",
        "outputId": "06533dbb-9416-4f5f-ee69-a324164d50a5"
      },
      "source": [
        "list_b[3][1] # ชี้ออยู่ในลำดับที่1"
      ],
      "execution_count": 44,
      "outputs": [
        {
          "output_type": "execute_result",
          "data": {
            "text/plain": [
              "2"
            ]
          },
          "metadata": {
            "tags": []
          },
          "execution_count": 44
        }
      ]
    },
    {
      "cell_type": "markdown",
      "metadata": {
        "id": "hw5STxIX-3IN"
      },
      "source": [
        "string คือ list ของ ตัวหนังสือ "
      ]
    },
    {
      "cell_type": "code",
      "metadata": {
        "id": "mM5o3SHM-_xH"
      },
      "source": [
        "a = 'Stat KKU'"
      ],
      "execution_count": 45,
      "outputs": []
    },
    {
      "cell_type": "code",
      "metadata": {
        "colab": {
          "base_uri": "https://localhost:8080/",
          "height": 35
        },
        "id": "hBIUSQ7f_E8o",
        "outputId": "1b174764-3f58-4e83-e317-1156909fa7ae"
      },
      "source": [
        "a[4]"
      ],
      "execution_count": 46,
      "outputs": [
        {
          "output_type": "execute_result",
          "data": {
            "application/vnd.google.colaboratory.intrinsic+json": {
              "type": "string"
            },
            "text/plain": [
              "' '"
            ]
          },
          "metadata": {
            "tags": []
          },
          "execution_count": 46
        }
      ]
    },
    {
      "cell_type": "markdown",
      "metadata": {
        "id": "DHFM2JFu_lZA"
      },
      "source": [
        "### วิธีการสร้าง listt ว่าง"
      ]
    },
    {
      "cell_type": "code",
      "metadata": {
        "id": "L1KnJRYs_qtc"
      },
      "source": [
        "list_c = list()\n",
        "list_d = [] #แบบที่ 2"
      ],
      "execution_count": 50,
      "outputs": []
    },
    {
      "cell_type": "code",
      "metadata": {
        "colab": {
          "base_uri": "https://localhost:8080/"
        },
        "id": "6Vy0qOB6_9Rk",
        "outputId": "271ca217-1cc2-449a-f301-58ec9149dbe1"
      },
      "source": [
        "list_c"
      ],
      "execution_count": 51,
      "outputs": [
        {
          "output_type": "execute_result",
          "data": {
            "text/plain": [
              "[]"
            ]
          },
          "metadata": {
            "tags": []
          },
          "execution_count": 51
        }
      ]
    },
    {
      "cell_type": "code",
      "metadata": {
        "colab": {
          "base_uri": "https://localhost:8080/"
        },
        "id": "b5ELwftVAA16",
        "outputId": "bb0d91ad-8283-4921-e957-d312a94d834a"
      },
      "source": [
        "list_d"
      ],
      "execution_count": 52,
      "outputs": [
        {
          "output_type": "execute_result",
          "data": {
            "text/plain": [
              "[]"
            ]
          },
          "metadata": {
            "tags": []
          },
          "execution_count": 52
        }
      ]
    },
    {
      "cell_type": "markdown",
      "metadata": {
        "id": "JEmA1cAPAXUd"
      },
      "source": [
        "### เติมค่าลงไปใน list (.append())"
      ]
    },
    {
      "cell_type": "code",
      "metadata": {
        "id": "RAJ39ZCuAETZ"
      },
      "source": [
        "list_d.append('a')"
      ],
      "execution_count": 53,
      "outputs": []
    },
    {
      "cell_type": "code",
      "metadata": {
        "colab": {
          "base_uri": "https://localhost:8080/"
        },
        "id": "10i8y4tlAs42",
        "outputId": "2c823836-cfde-4803-b0e4-3f67f415d0a5"
      },
      "source": [
        "list_d"
      ],
      "execution_count": 54,
      "outputs": [
        {
          "output_type": "execute_result",
          "data": {
            "text/plain": [
              "['a']"
            ]
          },
          "metadata": {
            "tags": []
          },
          "execution_count": 54
        }
      ]
    },
    {
      "cell_type": "code",
      "metadata": {
        "id": "9_nLUazqAyUw"
      },
      "source": [
        "list_d.append('56')"
      ],
      "execution_count": 55,
      "outputs": []
    },
    {
      "cell_type": "code",
      "metadata": {
        "colab": {
          "base_uri": "https://localhost:8080/"
        },
        "id": "aazCY6PdA1BL",
        "outputId": "603cf7f7-b5ce-49cd-deba-ea43315be07c"
      },
      "source": [
        "list_d"
      ],
      "execution_count": 56,
      "outputs": [
        {
          "output_type": "execute_result",
          "data": {
            "text/plain": [
              "['a', '56']"
            ]
          },
          "metadata": {
            "tags": []
          },
          "execution_count": 56
        }
      ]
    },
    {
      "cell_type": "markdown",
      "metadata": {
        "id": "tluRzx8FBFGh"
      },
      "source": [
        "### การชี้ค่าใน list\n",
        "\n",
        "1.   ใช้ลำดับในการชี้\n",
        "2.   ลำดับเริ่มจาก 0\n",
        "3.   สามารถชี้จากข้างหลังได้โดยใช้ negative index\n",
        "\n"
      ]
    },
    {
      "cell_type": "code",
      "metadata": {
        "colab": {
          "base_uri": "https://localhost:8080/"
        },
        "id": "_YsCT5XbA6qO",
        "outputId": "fe955f60-c4df-421e-a109-b9a0e9a38fd8"
      },
      "source": [
        "list_b"
      ],
      "execution_count": 57,
      "outputs": [
        {
          "output_type": "execute_result",
          "data": {
            "text/plain": [
              "[2, 'xyz', [1, 2, 0, 0.2, 'ads'], [1, 2, 0.0]]"
            ]
          },
          "metadata": {
            "tags": []
          },
          "execution_count": 57
        }
      ]
    },
    {
      "cell_type": "code",
      "metadata": {
        "colab": {
          "base_uri": "https://localhost:8080/"
        },
        "id": "lZGI0cliBhjp",
        "outputId": "901d5e3d-a070-424f-f91d-496114137e58"
      },
      "source": [
        "list_b[-1]"
      ],
      "execution_count": 58,
      "outputs": [
        {
          "output_type": "execute_result",
          "data": {
            "text/plain": [
              "[1, 2, 0.0]"
            ]
          },
          "metadata": {
            "tags": []
          },
          "execution_count": 58
        }
      ]
    },
    {
      "cell_type": "markdown",
      "metadata": {
        "id": "UcheC-WjCMAR"
      },
      "source": [
        "list slicing"
      ]
    },
    {
      "cell_type": "code",
      "metadata": {
        "id": "hN57XsV0CCAp"
      },
      "source": [
        "list_ex = [1,2,3,5,6,8,-1,20,50,0]\n",
        "  "
      ],
      "execution_count": 59,
      "outputs": []
    },
    {
      "cell_type": "markdown",
      "metadata": {
        "id": "FBjHtIQrC9DW"
      },
      "source": [
        " เราจะตัด list โดยเอาตังแต่ [ตัวหน้า:ก่อนตัวหลัง]\n",
        " ถ้าเป็นสัญลักษณ์คณิตศาสตร์[ตัวหน้า:ตัวหล้ง]->[ตัวหน้า,ตัวหลัง)"
      ]
    },
    {
      "cell_type": "code",
      "metadata": {
        "colab": {
          "base_uri": "https://localhost:8080/"
        },
        "id": "QfmaNd2-CiS3",
        "outputId": "f1f2e89b-026e-406d-e40d-36d665de22ae"
      },
      "source": [
        "list_ex[1:6] "
      ],
      "execution_count": 60,
      "outputs": [
        {
          "output_type": "execute_result",
          "data": {
            "text/plain": [
              "[2, 3, 5, 6, 8]"
            ]
          },
          "metadata": {
            "tags": []
          },
          "execution_count": 60
        }
      ]
    },
    {
      "cell_type": "code",
      "metadata": {
        "colab": {
          "base_uri": "https://localhost:8080/"
        },
        "id": "taZ26QRxDEUB",
        "outputId": "7edf086f-1a26-4fbf-b19d-5a5a11f940a7"
      },
      "source": [
        "list_ex[4:]  "
      ],
      "execution_count": 62,
      "outputs": [
        {
          "output_type": "execute_result",
          "data": {
            "text/plain": [
              "[6, 8, -1, 20, 50, 0]"
            ]
          },
          "metadata": {
            "tags": []
          },
          "execution_count": 62
        }
      ]
    },
    {
      "cell_type": "code",
      "metadata": {
        "colab": {
          "base_uri": "https://localhost:8080/"
        },
        "id": "xjUl9SiSDi3t",
        "outputId": "2a35d5e5-6ee3-4256-e946-ed89a7b49b0f"
      },
      "source": [
        "list_ex[:6] "
      ],
      "execution_count": 61,
      "outputs": [
        {
          "output_type": "execute_result",
          "data": {
            "text/plain": [
              "[1, 2, 3, 5, 6, 8]"
            ]
          },
          "metadata": {
            "tags": []
          },
          "execution_count": 61
        }
      ]
    },
    {
      "cell_type": "markdown",
      "metadata": {
        "id": "m_xHMrfYEMO0"
      },
      "source": [
        "[จุดดเริ่มต้น:จุดสุดท้าย:step]"
      ]
    },
    {
      "cell_type": "code",
      "metadata": {
        "colab": {
          "base_uri": "https://localhost:8080/"
        },
        "id": "fUyOgQvmEchq",
        "outputId": "47c0f9a8-c884-498e-b0fb-e9c9e14b4fe1"
      },
      "source": [
        "list_ex"
      ],
      "execution_count": 63,
      "outputs": [
        {
          "output_type": "execute_result",
          "data": {
            "text/plain": [
              "[1, 2, 3, 5, 6, 8, -1, 20, 50, 0]"
            ]
          },
          "metadata": {
            "tags": []
          },
          "execution_count": 63
        }
      ]
    },
    {
      "cell_type": "code",
      "metadata": {
        "colab": {
          "base_uri": "https://localhost:8080/"
        },
        "id": "w7QbkDxRD3f7",
        "outputId": "05315ab1-073b-47fe-dc19-12f3a89ef3a6"
      },
      "source": [
        "list_ex[::2]"
      ],
      "execution_count": 64,
      "outputs": [
        {
          "output_type": "execute_result",
          "data": {
            "text/plain": [
              "[1, 3, 6, -1, 50]"
            ]
          },
          "metadata": {
            "tags": []
          },
          "execution_count": 64
        }
      ]
    },
    {
      "cell_type": "code",
      "metadata": {
        "colab": {
          "base_uri": "https://localhost:8080/"
        },
        "id": "GMZvezN0EIWm",
        "outputId": "d819915e-78f3-4c28-d424-31b697980d14"
      },
      "source": [
        "list_ex[::-1] # การกลับ list"
      ],
      "execution_count": 66,
      "outputs": [
        {
          "output_type": "execute_result",
          "data": {
            "text/plain": [
              "[0, 50, 20, -1, 8, 6, 5, 3, 2, 1]"
            ]
          },
          "metadata": {
            "tags": []
          },
          "execution_count": 66
        }
      ]
    },
    {
      "cell_type": "code",
      "metadata": {
        "colab": {
          "base_uri": "https://localhost:8080/",
          "height": 35
        },
        "id": "tHQ-20UJE45E",
        "outputId": "9310a4d6-c229-4d0f-f7ae-1db2f1a93562"
      },
      "source": [
        "a"
      ],
      "execution_count": 67,
      "outputs": [
        {
          "output_type": "execute_result",
          "data": {
            "application/vnd.google.colaboratory.intrinsic+json": {
              "type": "string"
            },
            "text/plain": [
              "'Stat KKU'"
            ]
          },
          "metadata": {
            "tags": []
          },
          "execution_count": 67
        }
      ]
    },
    {
      "cell_type": "code",
      "metadata": {
        "colab": {
          "base_uri": "https://localhost:8080/",
          "height": 35
        },
        "id": "9gzHOz65E6oY",
        "outputId": "df9cea7b-e424-428a-d140-483baaff970f"
      },
      "source": [
        "a[5::]"
      ],
      "execution_count": 68,
      "outputs": [
        {
          "output_type": "execute_result",
          "data": {
            "application/vnd.google.colaboratory.intrinsic+json": {
              "type": "string"
            },
            "text/plain": [
              "'KKU'"
            ]
          },
          "metadata": {
            "tags": []
          },
          "execution_count": 68
        }
      ]
    },
    {
      "cell_type": "code",
      "metadata": {
        "colab": {
          "base_uri": "https://localhost:8080/",
          "height": 35
        },
        "id": "Yk4M2kA6Fym5",
        "outputId": "ce585e56-f345-4091-8a94-c04dfbca7f79"
      },
      "source": [
        "a[-3::]"
      ],
      "execution_count": 69,
      "outputs": [
        {
          "output_type": "execute_result",
          "data": {
            "application/vnd.google.colaboratory.intrinsic+json": {
              "type": "string"
            },
            "text/plain": [
              "'KKU'"
            ]
          },
          "metadata": {
            "tags": []
          },
          "execution_count": 69
        }
      ]
    },
    {
      "cell_type": "code",
      "metadata": {
        "colab": {
          "base_uri": "https://localhost:8080/",
          "height": 35
        },
        "id": "NGoiFnf6GV3f",
        "outputId": "6c2d7c75-60c1-4d2f-d74b-edf3d7171027"
      },
      "source": [
        "a[-3::1]"
      ],
      "execution_count": 70,
      "outputs": [
        {
          "output_type": "execute_result",
          "data": {
            "application/vnd.google.colaboratory.intrinsic+json": {
              "type": "string"
            },
            "text/plain": [
              "'KKU'"
            ]
          },
          "metadata": {
            "tags": []
          },
          "execution_count": 70
        }
      ]
    },
    {
      "cell_type": "markdown",
      "metadata": {
        "id": "n2LhtKaMGqR3"
      },
      "source": [
        "### list + list "
      ]
    },
    {
      "cell_type": "code",
      "metadata": {
        "colab": {
          "base_uri": "https://localhost:8080/"
        },
        "id": "C_3GccuqGv3_",
        "outputId": "5129296a-72de-45e4-e361-c1af6fb943cb"
      },
      "source": [
        "print(list_a)\n",
        "print(list_b)"
      ],
      "execution_count": 74,
      "outputs": [
        {
          "output_type": "stream",
          "text": [
            "[1, 2, 0, 0.2, 'ads']\n",
            "[2, 'xyz', [1, 2, 0, 0.2, 'ads'], [1, 2, 0.0]]\n"
          ],
          "name": "stdout"
        }
      ]
    },
    {
      "cell_type": "code",
      "metadata": {
        "colab": {
          "base_uri": "https://localhost:8080/"
        },
        "id": "HZUesaEiHEPu",
        "outputId": "ed7181f9-9d86-4e6e-b106-babd526c3d47"
      },
      "source": [
        "(list_a)+(list_b)"
      ],
      "execution_count": 75,
      "outputs": [
        {
          "output_type": "execute_result",
          "data": {
            "text/plain": [
              "[1, 2, 0, 0.2, 'ads', 2, 'xyz', [1, 2, 0, 0.2, 'ads'], [1, 2, 0.0]]"
            ]
          },
          "metadata": {
            "tags": []
          },
          "execution_count": 75
        }
      ]
    },
    {
      "cell_type": "markdown",
      "metadata": {
        "id": "0fYwwaOALN-e"
      },
      "source": [
        "format string"
      ]
    },
    {
      "cell_type": "markdown",
      "metadata": {
        "id": "7p709TXnLwDj"
      },
      "source": [
        "\n",
        "\n",
        "```\n",
        "f'string{ตัวแปร}\n",
        "```\n",
        "{} curly brackets\n",
        "\n",
        "\n",
        "\n",
        "\n",
        "\n"
      ]
    },
    {
      "cell_type": "code",
      "metadata": {
        "colab": {
          "base_uri": "https://localhost:8080/",
          "height": 35
        },
        "id": "c1iwAPnbLSZt",
        "outputId": "338bee6d-1b02-4be6-d416-94cf63d97df0"
      },
      "source": [
        "f'ตัวแปร list_a มีค่าคือ{list_a}'"
      ],
      "execution_count": 76,
      "outputs": [
        {
          "output_type": "execute_result",
          "data": {
            "application/vnd.google.colaboratory.intrinsic+json": {
              "type": "string"
            },
            "text/plain": [
              "\"ตัวแปร list_a มีค่าคือ[1, 2, 0, 0.2, 'ads']\""
            ]
          },
          "metadata": {
            "tags": []
          },
          "execution_count": 76
        }
      ]
    },
    {
      "cell_type": "markdown",
      "metadata": {
        "id": "yfnQ_ML_HfVX"
      },
      "source": [
        "### Loop\n",
        "\n",
        "\n",
        "\n"
      ]
    },
    {
      "cell_type": "markdown",
      "metadata": {
        "id": "4BMPY-csBbmE"
      },
      "source": [
        "ให้โปรแกรมทำงานคล้ายๆกันซ้ำๆหลายๆรอบ สามารถเอามา loop ได้ "
      ]
    },
    {
      "cell_type": "markdown",
      "metadata": {
        "id": "7TO-yZoHKYi_"
      },
      "source": [
        "\n",
        "\n",
        "indent\n",
        "```python\n",
        "for ตัวแปรที่จะรับค่าจากlist in ลิสต์ที่จะนำมาวนลูป :\n",
        "do something #in loop\n",
        "do another thing #in loop\n",
        "\n",
        "do other thing #out side loop\n",
        "\n",
        "\n",
        "\n",
        "```\n",
        "\n",
        "\n",
        "\n"
      ]
    },
    {
      "cell_type": "code",
      "metadata": {
        "colab": {
          "base_uri": "https://localhost:8080/"
        },
        "id": "VGbMld89KrLl",
        "outputId": "d668c39c-9716-4d96-be7b-43c40a14f02a"
      },
      "source": [
        "for i in [1,2,3,4,5]:\n",
        "  print(i+1)\n"
      ],
      "execution_count": 77,
      "outputs": [
        {
          "output_type": "stream",
          "text": [
            "2\n",
            "3\n",
            "4\n",
            "5\n",
            "6\n"
          ],
          "name": "stdout"
        }
      ]
    },
    {
      "cell_type": "code",
      "metadata": {
        "colab": {
          "base_uri": "https://localhost:8080/"
        },
        "id": "vOLrMJphMb7_",
        "outputId": "33cbfb6c-9bdf-481c-c7ae-ddeea5920b67"
      },
      "source": [
        "for x in [1,2,3,4,5]:\n",
        "  print(f'ค่าตัวแปร x คือ {x} และ x+2={x+2}')"
      ],
      "execution_count": 78,
      "outputs": [
        {
          "output_type": "stream",
          "text": [
            "ค่าตัวแปร x คือ 1 และ x+2=3\n",
            "ค่าตัวแปร x คือ 2 และ x+2=4\n",
            "ค่าตัวแปร x คือ 3 และ x+2=5\n",
            "ค่าตัวแปร x คือ 4 และ x+2=6\n",
            "ค่าตัวแปร x คือ 5 และ x+2=7\n"
          ],
          "name": "stdout"
        }
      ]
    },
    {
      "cell_type": "code",
      "metadata": {
        "colab": {
          "base_uri": "https://localhost:8080/"
        },
        "id": "LBAIEriJM2bE",
        "outputId": "aea104e5-e5d7-4be8-f2b0-f38bcc8d40f2"
      },
      "source": [
        "list5=[1,2,3,4,5]\n",
        "for x in list5:\n",
        "  print(f'ค่าตัวแปร x คือ {x} และ x+2={x+2}')"
      ],
      "execution_count": 79,
      "outputs": [
        {
          "output_type": "stream",
          "text": [
            "ค่าตัวแปร x คือ 1 และ x+2=3\n",
            "ค่าตัวแปร x คือ 2 และ x+2=4\n",
            "ค่าตัวแปร x คือ 3 และ x+2=5\n",
            "ค่าตัวแปร x คือ 4 และ x+2=6\n",
            "ค่าตัวแปร x คือ 5 และ x+2=7\n"
          ],
          "name": "stdout"
        }
      ]
    },
    {
      "cell_type": "code",
      "metadata": {
        "colab": {
          "base_uri": "https://localhost:8080/"
        },
        "id": "mftFYyADNLfb",
        "outputId": "8ac817e6-e6a4-49f2-b39c-78c1023b6e08"
      },
      "source": [
        "list(range(10))"
      ],
      "execution_count": 80,
      "outputs": [
        {
          "output_type": "execute_result",
          "data": {
            "text/plain": [
              "[0, 1, 2, 3, 4, 5, 6, 7, 8, 9]"
            ]
          },
          "metadata": {
            "tags": []
          },
          "execution_count": 80
        }
      ]
    },
    {
      "cell_type": "code",
      "metadata": {
        "colab": {
          "base_uri": "https://localhost:8080/"
        },
        "id": "-IKLVbiwNUzG",
        "outputId": "7eed242f-60ae-40d6-e008-5721e748fb85"
      },
      "source": [
        "for i in range(2,7):\n",
        "  print(i)"
      ],
      "execution_count": 81,
      "outputs": [
        {
          "output_type": "stream",
          "text": [
            "2\n",
            "3\n",
            "4\n",
            "5\n",
            "6\n"
          ],
          "name": "stdout"
        }
      ]
    },
    {
      "cell_type": "code",
      "metadata": {
        "colab": {
          "base_uri": "https://localhost:8080/"
        },
        "id": "Z6vvECL2N3R8",
        "outputId": "d9fb61fc-4b81-4158-933c-7fe6ddc6a500"
      },
      "source": [
        "for i in range(2,7,2):\n",
        "  print(i)"
      ],
      "execution_count": 82,
      "outputs": [
        {
          "output_type": "stream",
          "text": [
            "2\n",
            "4\n",
            "6\n"
          ],
          "name": "stdout"
        }
      ]
    },
    {
      "cell_type": "code",
      "metadata": {
        "colab": {
          "base_uri": "https://localhost:8080/"
        },
        "id": "oJdeOjmHOWZM",
        "outputId": "536dcb75-bd09-4797-927c-428571418761"
      },
      "source": [
        "for i in range(5):\n",
        "  print('hahaha')"
      ],
      "execution_count": 83,
      "outputs": [
        {
          "output_type": "stream",
          "text": [
            "hahaha\n",
            "hahaha\n",
            "hahaha\n",
            "hahaha\n",
            "hahaha\n"
          ],
          "name": "stdout"
        }
      ]
    },
    {
      "cell_type": "code",
      "metadata": {
        "colab": {
          "base_uri": "https://localhost:8080/"
        },
        "id": "bcvSlwXuOcGi",
        "outputId": "859a9fa5-32c4-4915-bdbb-5f37059f7e93"
      },
      "source": [
        "for i in range(5):\n",
        "  print('ice')"
      ],
      "execution_count": 84,
      "outputs": [
        {
          "output_type": "stream",
          "text": [
            "ice\n",
            "ice\n",
            "ice\n",
            "ice\n",
            "ice\n"
          ],
          "name": "stdout"
        }
      ]
    },
    {
      "cell_type": "code",
      "metadata": {
        "colab": {
          "base_uri": "https://localhost:8080/"
        },
        "id": "PF8uvTHBOkd3",
        "outputId": "991cf1dd-acb8-457f-9e7e-6d12fc6ed064"
      },
      "source": [
        "for i in range(5):\n",
        "  print('hahaha')\n",
        "  x = i+3\n",
        "  print(f'i={i} x={x}')"
      ],
      "execution_count": 85,
      "outputs": [
        {
          "output_type": "stream",
          "text": [
            "hahaha\n",
            "i=0 x=3\n",
            "hahaha\n",
            "i=1 x=4\n",
            "hahaha\n",
            "i=2 x=5\n",
            "hahaha\n",
            "i=3 x=6\n",
            "hahaha\n",
            "i=4 x=7\n"
          ],
          "name": "stdout"
        }
      ]
    },
    {
      "cell_type": "markdown",
      "metadata": {
        "id": "WJqWzZADPEhU"
      },
      "source": [
        "###  Nested loop"
      ]
    },
    {
      "cell_type": "code",
      "metadata": {
        "colab": {
          "base_uri": "https://localhost:8080/"
        },
        "id": "e9-J3H0GPLeb",
        "outputId": "dc0bf7e6-4c41-48db-d990-a7b95325a0db"
      },
      "source": [
        "for i in range(3):\n",
        "  print(f'now i = {i}')\n",
        "  print('start j loop')\n",
        "  for j in range (4):\n",
        "    print(f'i= {i} j = {j} i+j ={i+j}')\n",
        "  print('end j loop')"
      ],
      "execution_count": 86,
      "outputs": [
        {
          "output_type": "stream",
          "text": [
            "now i = 0\n",
            "start j loop\n",
            "i= 0 j = 0 i+j =0\n",
            "i= 0 j = 1 i+j =1\n",
            "i= 0 j = 2 i+j =2\n",
            "i= 0 j = 3 i+j =3\n",
            "end j loop\n",
            "now i = 1\n",
            "start j loop\n",
            "i= 1 j = 0 i+j =1\n",
            "i= 1 j = 1 i+j =2\n",
            "i= 1 j = 2 i+j =3\n",
            "i= 1 j = 3 i+j =4\n",
            "end j loop\n",
            "now i = 2\n",
            "start j loop\n",
            "i= 2 j = 0 i+j =2\n",
            "i= 2 j = 1 i+j =3\n",
            "i= 2 j = 2 i+j =4\n",
            "i= 2 j = 3 i+j =5\n",
            "end j loop\n"
          ],
          "name": "stdout"
        }
      ]
    },
    {
      "cell_type": "code",
      "metadata": {
        "id": "ck6FMDbtQEGz"
      },
      "source": [
        ""
      ],
      "execution_count": 86,
      "outputs": []
    },
    {
      "cell_type": "markdown",
      "metadata": {
        "id": "1vhWi0RXHnAt"
      },
      "source": [
        "### Condition (if statement)\n",
        "เงื่อนไข\n",
        "\n"
      ]
    },
    {
      "cell_type": "markdown",
      "metadata": {
        "id": "S1HenSrHFjfA"
      },
      "source": [
        "\n",
        "\n",
        "\n",
        "```python\n",
        "if เงื่อนไขที่จะตรวจสอบ (โดยใช้สัญลักษณ์ ==,!=,<,>,<=,>=):\n",
        "  ถ้าเงื่อนไขเป็นจริง ทำงานที่ 1\n",
        "  ถ้าเงื่อนไขเป็นจริง ทำงานที่ 2\n",
        "```\n",
        "\n",
        "\n",
        "\n"
      ]
    },
    {
      "cell_type": "code",
      "metadata": {
        "id": "44jQ1eRjF60D"
      },
      "source": [
        "stringx ='djuhvuifjdvidfkjvviosfvif'\n",
        "\n",
        "if len(stringx) > 30:\n",
        "  print(f'{string} is longer than 30 characters')\n"
      ],
      "execution_count": 106,
      "outputs": []
    },
    {
      "cell_type": "code",
      "metadata": {
        "id": "aGTDphWCFVLX",
        "outputId": "29a46b4f-597d-4777-b6c7-6b70a392b534",
        "colab": {
          "base_uri": "https://localhost:8080/"
        }
      },
      "source": [
        "stringx ='djuhvuifjdvidfkjvviosfvif'\n",
        "\n",
        "if len(stringx) > 100:\n",
        "  print(f'{stringx} is longer than 30 characters')\n",
        "else: \n",
        "  print(f'{stringx} in {len(stringx)} characters long')"
      ],
      "execution_count": 105,
      "outputs": [
        {
          "output_type": "stream",
          "text": [
            "djuhvuifjdvidfkjvviosfvif in 25 characters long\n"
          ],
          "name": "stdout"
        }
      ]
    },
    {
      "cell_type": "markdown",
      "metadata": {
        "id": "AYCLNo-SJ-Pv"
      },
      "source": [
        "\n",
        "```python\n",
        "if เงื่อนไขที่จะตรวจสอบ (โดยใช้สัญลักษณ์ ==,!=,<,>,<=,>=):\n",
        "  ถ้าเงื่อนไขเป็นจริง ทำงานที่ 1\n",
        "  ถ้าเงื่อนไขเป็นจริง ทำงานที่ 2\n",
        "elif เงื่อนไขที่จะตรวจสอบต่อไปถ้าเงื่อไขข้างบนไม่เป็นจริง :\n",
        "ถ้าเงื่อนไขเป็นจริง ทำงานที่ a1\n",
        "ถ้าเงื่อนไขเป็นจริง ทำงานที่ a2\n",
        "elif เงื่อนไขที่จะตรวจสอบต่อไปถ้าเงื่อไขข้างบนไม่เป็นจริง :\n",
        "ถ้าเงื่อนไขเป็นจริง ทำงานที่ b1\n",
        "ถ้าเงื่อนไขเป็นจริง ทำงานที่ b2\n",
        "else : #ตรวจสอบเงื่อนไขข้างบนแล้วไม่เป็นจริง\n",
        "ทำงานที่ X\n",
        "```\n"
      ]
    },
    {
      "cell_type": "code",
      "metadata": {
        "id": "EGZXs5WXJFE3",
        "outputId": "67484675-d4af-4d46-a523-d38f02be7294",
        "colab": {
          "base_uri": "https://localhost:8080/"
        }
      },
      "source": [
        "password = '12345'\n",
        "\n",
        "input_pass = '123sf'\n",
        "if input_pass == password:\n",
        "  print('Welcome!')\n",
        "elif len(input_pass)> len(password) :\n",
        "  print('Too long,try again')\n",
        "elif len(input_pass)< len(password) :\n",
        "  print('Too short,try again')\n",
        "else:\n",
        "  print('Wrong password,try again!')"
      ],
      "execution_count": 109,
      "outputs": [
        {
          "output_type": "stream",
          "text": [
            "Wrong password,try again!\n"
          ],
          "name": "stdout"
        }
      ]
    },
    {
      "cell_type": "markdown",
      "metadata": {
        "id": "7dubb7EONdPu"
      },
      "source": [
        "Quiz 1 หา min"
      ]
    },
    {
      "cell_type": "code",
      "metadata": {
        "id": "nGtabNNNNhwd"
      },
      "source": [
        "list_ex = [1,5,9,-19,-2,0] #หาค่าน้อยที่สุดใน list_ex โดยไม่ใช้ funtion min"
      ],
      "execution_count": null,
      "outputs": []
    },
    {
      "cell_type": "code",
      "metadata": {
        "id": "271wl625Oshy",
        "outputId": "dbb5ce98-4e6f-44c4-f4ca-7368af87d62b",
        "colab": {
          "base_uri": "https://localhost:8080/"
        }
      },
      "source": [
        "list_ex = [1,5,9,-19,-2,0]\n",
        "pp = list_ex[0] \n",
        "i = 0 # ลำดับของค่าสูงสุดเริ่มต้น\n",
        "for m in list_ex: # ทำการวนซ้ำตามจำนวนในลิสต์\n",
        "    if(m<pp): # ถ้ามากกว่าค่าสูงสุดเดิม\n",
        "        pp = m # ให้เปลี่ยนเป็นค่านั้น\n",
        "        imin = i # และเปลี่ยนลำดับด้วย\n",
        "    i += 1\n",
        "print(min(list_ex)) "
      ],
      "execution_count": 113,
      "outputs": [
        {
          "output_type": "stream",
          "text": [
            "-19\n"
          ],
          "name": "stdout"
        }
      ]
    }
  ]
}