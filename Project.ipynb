{
  "nbformat": 4,
  "nbformat_minor": 0,
  "metadata": {
    "colab": {
      "name": "Project.ipynb",
      "provenance": [],
      "include_colab_link": true
    },
    "kernelspec": {
      "name": "python3",
      "display_name": "Python 3"
    },
    "language_info": {
      "name": "python"
    }
  },
  "cells": [
    {
      "cell_type": "markdown",
      "metadata": {
        "id": "view-in-github",
        "colab_type": "text"
      },
      "source": [
        "<a href=\"https://colab.research.google.com/github/Chanakarn06/DWDM21/blob/main/Project.ipynb\" target=\"_parent\"><img src=\"https://colab.research.google.com/assets/colab-badge.svg\" alt=\"Open In Colab\"/></a>"
      ]
    },
    {
      "cell_type": "markdown",
      "metadata": {
        "id": "8i55kQUqOGPe"
      },
      "source": [
        "### **สมาชิก**\n",
        "ชื่อกลุ่ม : Natasha Romanoff\n",
        "\n",
        "1.623020514-5 จุฑากาญจน์ ชิงจันทร์\n",
        "\n",
        "2.623021047-5 ฐิติวัฒน์ จันทรเสนา\n",
        "\n",
        "3.623021042-5 ขนิษฐา ภูโสภา\n",
        "\n",
        "4.623021043-3 จิตติยา ศิริธรรมจักร\n",
        "\n",
        "5.623021046-7 ชนกานต์ พูลผล"
      ]
    },
    {
      "cell_type": "markdown",
      "metadata": {
        "id": "MU_ZCaljEIuH"
      },
      "source": [
        "#**DATA**"
      ]
    },
    {
      "cell_type": "markdown",
      "metadata": {
        "id": "bSbKoEgnOTS_"
      },
      "source": [
        "## แหล่งข้อมูล\n",
        "**1** การนำเข้าปุ๋ยเคมี (รายประเทศ)\\\n",
        "องค์กร : ศูนย์เทคโนโลยีสารสนเทศและการสื่อสาร กรมวิชาการเกษตร\n",
        "จาก : https://data.go.th\n",
        "\n",
        "**2** การนำเข้าเมล็ดพันธุ์ควบคุม (รายประเทศ)\\\n",
        "องค์กร : ศูนย์เทคโนโลยีสารสนเทศและการสื่อสาร กรมวิชาการเกษตร\n",
        "จาก : https://data.go.th\n",
        "\n",
        "**3** สารป้องกันและกำจัดโรคพืชที่มีปริมาณการนำเข้าสูง\\\n",
        "องค์กร : ศูนย์เทคโนโลยีสารสนเทศและการสื่อสาร กรมวิชาการเกษตร\n",
        "จาก : https://data.go.th\n",
        "\n",
        "**4** ข้อมูลทั่วไปของประเทศที่นำเข้าสินค้าทางการเกษตร\n",
        "\n",
        "\n",
        "\n",
        "File for this project : https://drive.google.com/drive/folders/1PCwak7QUVizd6sfY-NvAZBRLNh5N-fhz?usp=sharing\n",
        "\n",
        "# วัตถุประสงค์\n",
        "เพื่อทำนายว่าจำนวนประชากร รายได้ ค่าครองชีพ มีผลต่อการนำเข้าสินค้าทางการเกษตรหรือไม่ โดยจะจัดกลุ่มปริมาณการนำเข้าสินค้าให้อยู่ในกลุ่มน้อย หรือกลุ่มมาก"
      ]
    },
    {
      "cell_type": "markdown",
      "metadata": {
        "id": "-oCjJbyDRHgs"
      },
      "source": [
        "### ตารางข้อมูลทั้งหมด 4 ตาราง นั้นคือ \n",
        "\n",
        "1. การนำเข้าปุ๋ยเคมี (รายประเทศ)\n",
        "> มี 19 attibute \n",
        "2. การนำเข้าเมล็ดพันธุ์ควบคุม (รายประเทศ)\n",
        "> มี 21 attibute \n",
        "3. สารป้องกันและกำจัดโรคพืชที่มีปริมาณการนำเข้าสูง\n",
        "> มี 20 attibute \n",
        "4. ข้อมูลทั่วไปของประเทศที่นำเข้าสินค้าทางการเกษตร\n",
        "> มี 9 attibute "
      ]
    },
    {
      "cell_type": "markdown",
      "metadata": {
        "id": "koRDSo8xTTnE"
      },
      "source": [
        "### การเชื่อมไดร์ฟเพื่อดึงข้อมูลจากไดร์ฟ"
      ]
    },
    {
      "cell_type": "code",
      "metadata": {
        "id": "ZIHye3KO6Frf"
      },
      "source": [
        "import pandas as pd #เพื่อใช้ทำงานกับข้อมูลที่เป็นรูปแบบตาราง\n",
        "import os           #เพื่อจัดการกับไฟล์ และ ตัว path ที่เราจะนำเข้า"
      ],
      "execution_count": null,
      "outputs": []
    },
    {
      "cell_type": "code",
      "metadata": {
        "id": "pPAsJDyW6N3A"
      },
      "source": [
        "from google.colab import drive#เชื่อมข้อมูล เพราะเราจะทำการนำเข้าข้อมูล โดยให้ดึงมาจาก google drive ของเรา\n",
        "drive.mount('/content/drive')"
      ],
      "execution_count": null,
      "outputs": []
    },
    {
      "cell_type": "code",
      "metadata": {
        "id": "EQLnfpts6R0V"
      },
      "source": [
        "path = '/content/drive/My Drive/Project'#โดยเราจะทำการระบุให้ชี้ไปที่ โฟนเดอร์ที่เราเซฟไฟล์ไว้ หรือก็คือ โฟนเดอร์ Project"
      ],
      "execution_count": null,
      "outputs": []
    },
    {
      "cell_type": "markdown",
      "metadata": {
        "id": "8DSJ-1fUE6c3"
      },
      "source": [
        "#**Preprocessing**"
      ]
    },
    {
      "cell_type": "markdown",
      "metadata": {
        "id": "EVP0FlNJdY2t"
      },
      "source": [
        "##**ตารางที่ 1 ตาราง ปริมาณการนำเข้าปุ๋ยเคมี**"
      ]
    },
    {
      "cell_type": "code",
      "metadata": {
        "id": "BTLBLFGor2F7"
      },
      "source": [
        "data_fc = pd.read_csv(os.path.join(path,'ปริมาณการนำเข้าปุ๋ยเคมี.csv'))\n",
        "data_fc #การนำเข้าไฟล์ที่มีตัวแปรคือdata_fc"
      ],
      "execution_count": null,
      "outputs": []
    },
    {
      "cell_type": "code",
      "metadata": {
        "id": "hWP-YOdp78pO"
      },
      "source": [
        "data_fc.shape #.shape ใช้ข้อมูลว่า array นั้นมีสมาชิกกี่ตัว กี่แถว กี่คอลัมน์ กี่ตาราง ซึ่ง data_fc มี34แถว 20 คอลัมน์ \n",
        "#แต่เมื่อตรวจสอบที่ไฟล์ต้นททางพบว่า แถวและคอลัมน์ที่ขึ้น แนน เป็นส่วนที่ไม่ได้ใช้ดังนั้นต้องทำการตัดคอลัมน์ที่ 20 ออก และแถว32-33"
      ],
      "execution_count": null,
      "outputs": []
    },
    {
      "cell_type": "markdown",
      "metadata": {
        "id": "etYaGckPcn0o"
      },
      "source": [
        "###**ตัดคอลัมน์ที่ 20 ออก**\n",
        "โดยการใช้ .iloc ให้ตัดคอลัมน์มาแค่คอลัมน์ 0-18"
      ]
    },
    {
      "cell_type": "code",
      "metadata": {
        "id": "2xJxY2VvUlD4"
      },
      "source": [
        "data_fcUSE = data_fc.iloc[:,:19]\n",
        "data_fcUSE"
      ],
      "execution_count": null,
      "outputs": []
    },
    {
      "cell_type": "markdown",
      "metadata": {
        "id": "YZPW0bdrc7dN"
      },
      "source": [
        "###**ตัดแถว 32-33**\n",
        "โดยการใช้ .dropna ซึ่งจะใช้ตัดแถวข้อมูลที่มีค่า missing"
      ]
    },
    {
      "cell_type": "code",
      "metadata": {
        "id": "OGedG-Bm8FJK"
      },
      "source": [
        "data_FC = data_fcUSE.dropna() #ใช้ dropna เพื่อต้องการลบข้อมูลทั้งแถวออกเมื่อมีคอลัมน์ใดคอลัมน์หนึ่งเป็น NaN\n",
        "data_FC"
      ],
      "execution_count": null,
      "outputs": []
    },
    {
      "cell_type": "code",
      "metadata": {
        "id": "814GMgdlVrzl"
      },
      "source": [
        "data_FC.shape #ตรวจสอบขนาดของตารางใหม่"
      ],
      "execution_count": null,
      "outputs": []
    },
    {
      "cell_type": "code",
      "metadata": {
        "id": "vo5UPuS9X9Ge"
      },
      "source": [
        "data_FC.isnull().any() #เชคว่าภายในตารางมีค่าว่างหรือไม่\n",
        "#ไม่ม่ค่าว่างอยู่"
      ],
      "execution_count": null,
      "outputs": []
    },
    {
      "cell_type": "markdown",
      "metadata": {
        "id": "tkzrkaAjdkX1"
      },
      "source": [
        "##**ตารางที่ 2 ตาราง ปริมาณการนำเข้าเมล็ดพันธุ์**"
      ]
    },
    {
      "cell_type": "code",
      "metadata": {
        "id": "D_Gu3gYR7MQb"
      },
      "source": [
        "data_pc = pd.read_csv(os.path.join(path,'ปริมาณการนำเข้าเมล็ดพันธุ์.csv')) #การนำเข้าไฟล์ที่มีตัวแปรคือdata_pc\n",
        "data_pc"
      ],
      "execution_count": null,
      "outputs": []
    },
    {
      "cell_type": "code",
      "metadata": {
        "id": "ozVgJ3WTSpKV"
      },
      "source": [
        "data_pc.shape"
      ],
      "execution_count": null,
      "outputs": []
    },
    {
      "cell_type": "markdown",
      "metadata": {
        "id": "j5Z7QmZpX8A1"
      },
      "source": [
        "##**ตารางที่ 3 ตาราง สารป้องกันและกำจัดโรคพืช**"
      ]
    },
    {
      "cell_type": "code",
      "metadata": {
        "id": "1hHMDqvR7MKw"
      },
      "source": [
        "data_pd = pd.read_csv(os.path.join(path,'สารป้องกันและกำจัดโรคพืช.csv')) #การนำเข้าไฟล์ที่มีตัวแปรคือdata_pd\n",
        "data_pd"
      ],
      "execution_count": null,
      "outputs": []
    },
    {
      "cell_type": "code",
      "metadata": {
        "id": "HY6Q5p5KS1sU"
      },
      "source": [
        "data_pd.shape\n",
        "#ข้อมูลมีค่า NaN แต่เมื่อตรวจสอบที่ไฟล์ต้นททางพบว่า แถวและคอลัมน์ที่ขึ้น NaN เป็นส่วนที่ไม่ได้ใช้ดังนั้นต้องทำการตัดคอลัมน์ที่ 9 ออก"
      ],
      "execution_count": null,
      "outputs": []
    },
    {
      "cell_type": "markdown",
      "metadata": {
        "id": "85NYiDXIYqhu"
      },
      "source": [
        "####**รวมตารางครั้งที่ 1**"
      ]
    },
    {
      "cell_type": "code",
      "metadata": {
        "id": "eUHs_2vg9JsT"
      },
      "source": [
        "merged_data_FC_data_pc = data_FC.merge(data_pc,how='left',left_on='Subtitle_FC',right_on='Subtitle_PC')\n",
        "merged_data_FC_data_pc #ใช้ merged เป็นการเชื่อมตาราง data_FC และ data_pc ในแนวแกนX"
      ],
      "execution_count": null,
      "outputs": []
    },
    {
      "cell_type": "markdown",
      "metadata": {
        "id": "ptie171lYofN"
      },
      "source": [
        "####**รวมตารางครั้งที่ 2**"
      ]
    },
    {
      "cell_type": "code",
      "metadata": {
        "id": "htE6S5k4-GUU"
      },
      "source": [
        "merged_03 = data_pd.merge(merged_data_FC_data_pc,how='left',left_on='Subtitle_PD',right_on='Subtitle_PC')\n",
        "merged_03\n",
        "#ใช้merged_03 เพื่อเชื่อมตารางเข้าด้วยกัน"
      ],
      "execution_count": null,
      "outputs": []
    },
    {
      "cell_type": "markdown",
      "metadata": {
        "id": "Jn9g65Hh_5Dq"
      },
      "source": [
        "จากข้อมูลของตารางเบื้องต้น จะเห็นว่า มีข้อมูลที่เป็น NaN หรือ Not a Number เป็นจำนวนมาก ดังนั้นต้องทำการกำจัดค่า Missing value"
      ]
    },
    {
      "cell_type": "code",
      "metadata": {
        "id": "EIhLlgRTAo6U"
      },
      "source": [
        "merged_03.shape #.shape ใช้ข้อมูลว่า array นั้นมีสมาชิกกี่ตัว กี่แถว กี่คอลัมน์ กี่ตาราง ซึ่ง ตาราง merged_03 มี32 แถว 49 คอลัมน์"
      ],
      "execution_count": null,
      "outputs": []
    },
    {
      "cell_type": "code",
      "metadata": {
        "id": "2cxENYBFAVN5"
      },
      "source": [
        "merged_03.dropna().shape \n",
        "#ใช้ dropna เพื่อต้องการลบข้อมูลทั้งแถวออกเมื่อมีคอลัมน์ใดคอลัมน์หนึ่งเป็น NaN และใช้ .shape  เพื่อตรวจสอบว่ามี NAN กี่แถว กี่คอลัมน์"
      ],
      "execution_count": null,
      "outputs": []
    },
    {
      "cell_type": "code",
      "metadata": {
        "id": "n3Q3yTanAtJW"
      },
      "source": [
        "merged_03.dropna().shape[0] "
      ],
      "execution_count": null,
      "outputs": []
    },
    {
      "cell_type": "markdown",
      "metadata": {
        "id": "Y0_z3ofcA4DI"
      },
      "source": [
        "คำนวณข้อมูลว่าหายไปกี่เปอร์เซ็น"
      ]
    },
    {
      "cell_type": "code",
      "metadata": {
        "id": "0lTAb6hjBJcX"
      },
      "source": [
        "removes = merged_03.shape[0] - merged_03.dropna().shape[0]\n",
        "print(f'size before drop = {merged_03.shape[0]}')\n",
        "print(f'size after drop = {merged_03.dropna().shape[0]}')\n",
        "print(f'we lost {100*(removes/merged_03.shape[0])}% of data') #จากการคำนวณพบว่ามีข้อมูลที่หายไปถึง 0%"
      ],
      "execution_count": null,
      "outputs": []
    },
    {
      "cell_type": "markdown",
      "metadata": {
        "id": "Q7M75moUBW4f"
      },
      "source": [
        "จากการหาเปอร์เซ็นของข้อมูลที่โดนตัดไปจากการกำจัด Missing โดยการ dropna พบว่ามีข้อมูลหายไป 0% ซึ่งสมควรสามารถใช้วิธีนี้ได้ "
      ]
    },
    {
      "cell_type": "markdown",
      "metadata": {
        "id": "JMAfYotLDONw"
      },
      "source": [
        "นอกจากนี้ ถ้าเกิดปัญหามีค่า Missing จากการพิจารณา Handle Missing Value แล้วพบว่า ข้อมูลของเราเป็น Numeric ดังนั้นต้องแทนค่าด้วยค่ากลาง(mean)"
      ]
    },
    {
      "cell_type": "code",
      "metadata": {
        "id": "p1RZRoylBVkq"
      },
      "source": [
        "merged_03.mean() #หาค่ามีนทั้งหมด"
      ],
      "execution_count": null,
      "outputs": []
    },
    {
      "cell_type": "markdown",
      "metadata": {
        "id": "ySR-bE__EETC"
      },
      "source": [
        "**ทดลอง**\n",
        "ถ้าสนใจคอลัมน์ ปี 2016 2017 และ2018"
      ]
    },
    {
      "cell_type": "code",
      "metadata": {
        "id": "So7ObBcCEOh4"
      },
      "source": [
        "merged_03[['Y2016_x']].mean()\n",
        "#เติมมีนลงไปแทนค่า missing\n",
        "#เราสามารถใช้ data.mean() ได้เพื่อหาค่ามีนทั้งหมดแต่จะนาน ดังนี้ชี้แค่ส่วนที่เราสนใจ"
      ],
      "execution_count": null,
      "outputs": []
    },
    {
      "cell_type": "code",
      "metadata": {
        "id": "1r9kD-e1EvjT"
      },
      "source": [
        "avg_age1=merged_03[['Y2016_x']].mean()\n",
        "merged_03[['Y2016_x']] = merged_03[['Y2016_x']].fillna('Y2016_x')#ใช้ fillna เพื่อแทนค่าของ missing"
      ],
      "execution_count": null,
      "outputs": []
    },
    {
      "cell_type": "code",
      "metadata": {
        "id": "b_VOG49fPzxS"
      },
      "source": [
        "avg_age2=merged_03[['Y2017_x']].mean()\n",
        "merged_03[['Y2017_x']] = merged_03[['Y2017_x']].fillna('Y2017_x')#ใช้ fillna เพื่อแทนค่าของ missing"
      ],
      "execution_count": null,
      "outputs": []
    },
    {
      "cell_type": "code",
      "metadata": {
        "id": "fkTsjzBOPzdJ"
      },
      "source": [
        "avg_age2=merged_03[['Y2018_x']].mean()\n",
        "merged_03[['Y2018_x']] = merged_03[['Y2018_x']].fillna('Y2018_x')#ใช้ fillna เพื่อแทนค่าของ missing"
      ],
      "execution_count": null,
      "outputs": []
    },
    {
      "cell_type": "code",
      "metadata": {
        "id": "DbP34uItE2pu"
      },
      "source": [
        "merged_03.isnull().any()"
      ],
      "execution_count": null,
      "outputs": []
    },
    {
      "cell_type": "markdown",
      "metadata": {
        "id": "EFDcVp-yGJLR"
      },
      "source": [
        "##**ตารางที่ 4 ตาราง ข้อมูลทั่วไปนำเข้าสินค้าทางเกษตร**\n",
        "หาข้อมูลเพิ่ม"
      ]
    },
    {
      "cell_type": "code",
      "metadata": {
        "id": "4XdtVlXUGMgK"
      },
      "source": [
        "path = '/content/drive/My Drive/Project'#โดยเราจะทำการระบุให้ชี้ไปที่ โฟนเดอร์ที่เราเซฟไฟล์ไว้ หรือก็คือ โฟนเดอร์ Project"
      ],
      "execution_count": null,
      "outputs": []
    },
    {
      "cell_type": "code",
      "metadata": {
        "id": "izt4DrMF3YYs"
      },
      "source": [
        "data_add = pd.read_csv(os.path.join(path,'ข้อมูลทั่วไปนำเข้าสินค้าทางเกษตร.csv'))\n",
        "data_add"
      ],
      "execution_count": null,
      "outputs": []
    },
    {
      "cell_type": "code",
      "metadata": {
        "id": "Ug3fa8cuh_h2"
      },
      "source": [
        "data_ADD = data_add.iloc[:,:9]\n",
        "data_ADD"
      ],
      "execution_count": null,
      "outputs": []
    },
    {
      "cell_type": "markdown",
      "metadata": {
        "id": "ez0H9WSPYb5d"
      },
      "source": [
        "####**รวมตารางครั้งที่ 3**"
      ]
    },
    {
      "cell_type": "code",
      "metadata": {
        "id": "1vrAOZP9QGcs"
      },
      "source": [
        "merged_04 = data_ADD.merge(merged_03,how='left',left_on='country',right_on='Subtitle_PD') \n",
        "merged_04\n",
        "#add table that about coutry anothor"
      ],
      "execution_count": null,
      "outputs": []
    },
    {
      "cell_type": "code",
      "metadata": {
        "id": "gl6nztFgQRjo"
      },
      "source": [
        "removes = merged_04.shape[0] - merged_04.dropna().shape[0]\n",
        "print(f'size before drop = {merged_04.shape[0]}')\n",
        "print(f'size after drop = {merged_04.dropna().shape[0]}')\n",
        " #จากการคำนวณพบว่ามีข้อมูลที่หายไปถึง 0%"
      ],
      "execution_count": null,
      "outputs": []
    },
    {
      "cell_type": "markdown",
      "metadata": {
        "id": "7O3dJnL0EiNO"
      },
      "source": [
        "#**Classitication**\n",
        "ปัญหาของเราคือ เราสินค้าทางการเกษตรในประเทศของเราไม่เพียงพอ เราเลยอยากรู้ว่าในปีถัดไปเราควรสั่งสินค้าจากประเทศบ้าง โดยเราจะพิจารณาจากปริมาณการนำเข้า 3 ปีย้อนหลัง คือ 2018 2019 2020 นอกจากนี้เราอยากรู้อีกว่ามีปัจจัยใดบ้างที่ส่งผลต่อการผลิตสินค้าทางการเกษตรของประเทศที่เรานำเข้า ซึ่งเรามีปัจจัยที่คาดว่าจะเกี่ยวข้องคือ จำนวนประชากร ค่าเเรงโดยเฉลี่ย และค่าครองชีพโดยเฉลี่ย\n",
        "    ดังนั้น เราจึงได้ทำการวิเคราะห์ Data mining เพื่อทำนายว่าจำนวนประชากร รายได้ ค่าครองชีพ มีผลต่อการนำเข้าสินค้าทางการเกษตรหรือไม่ โดยจะจัดกลุ่มปริมาณการนำเข้าสินค้าให้อยู่ในกลุ่มน้อย หรือกลุ่มมาก "
      ]
    },
    {
      "cell_type": "markdown",
      "metadata": {
        "id": "c5gZG0QRciHv"
      },
      "source": [
        "แต่ข้อมูลของเรายังไม่พร้อมใช้งาน เพราะเราต้องการดูผลรวมของจำนวนการนำเข้าสินค้าทางการเกษตรแต่ล่ะประเทศดังนั้น ต้องสร้างคอลัมน์รวม"
      ]
    },
    {
      "cell_type": "markdown",
      "metadata": {
        "id": "Fb8wwLGiWuMf"
      },
      "source": [
        "###**สร้างคอลัมน์ผลรวม**"
      ]
    },
    {
      "cell_type": "code",
      "metadata": {
        "id": "j_0s-Vx8t9kF"
      },
      "source": [
        "merged_04['PD_total'] = merged_04.Y2018+merged_04.Y2019_x+merged_04.Y2020_x\n",
        "merged_04"
      ],
      "execution_count": null,
      "outputs": []
    },
    {
      "cell_type": "code",
      "metadata": {
        "id": "kei5OmbNdJ20"
      },
      "source": [
        "merged_04['PD_total'] = merged_04.Y2007+merged_04.Y2008+merged_04.Y2009+merged_04.Y2010+merged_04.Y2011+merged_04.Y2012+merged_04.Y2013+merged_04.Y2014+merged_04.Y2015+merged_04.Y2016+merged_04.Y2017+merged_04.Y2018+merged_04.Y2019_x+merged_04.Y2020_x\n",
        "merged_04"
      ],
      "execution_count": null,
      "outputs": []
    },
    {
      "cell_type": "code",
      "metadata": {
        "id": "3nnPJwmd3Sd9"
      },
      "source": [
        "merged_04['PC_total'] = merged_04.Y2018_y+merged_04.Y2019_y+merged_04.Y2020_y\n",
        "merged_04"
      ],
      "execution_count": null,
      "outputs": []
    },
    {
      "cell_type": "code",
      "metadata": {
        "id": "zFXdj2dq3SVO"
      },
      "source": [
        "merged_04['FC_total'] = merged_04.Y2018_x\n",
        "merged_04"
      ],
      "execution_count": null,
      "outputs": []
    },
    {
      "cell_type": "code",
      "metadata": {
        "id": "rQYvo9Tl4cat"
      },
      "source": [
        "merged_04['total'] = merged_04.FC_total+merged_04.PD_total+merged_04.PC_total\n",
        "merged_04"
      ],
      "execution_count": null,
      "outputs": []
    },
    {
      "cell_type": "markdown",
      "metadata": {
        "id": "fUIvQHFIW-SO"
      },
      "source": [
        "###**สร้างตารางที่มีแต่คอลัมน์ที่จะใช้**"
      ]
    },
    {
      "cell_type": "code",
      "metadata": {
        "id": "FViS2airzDel"
      },
      "source": [
        "data1 = merged_04[['country','total']]\n",
        "data1"
      ],
      "execution_count": null,
      "outputs": []
    },
    {
      "cell_type": "code",
      "metadata": {
        "id": "8y1fBQ4fzXLN"
      },
      "source": [
        "data1.shape #ได้ว่าข้อมูลนี้มี 32 แถว 2 คอลัม"
      ],
      "execution_count": null,
      "outputs": []
    },
    {
      "cell_type": "code",
      "metadata": {
        "id": "gY-HJFbazfAK"
      },
      "source": [
        "data1.isnull().any() #เชคว่าภายในตารางมีค่าว่างหรือไม่ จะเห็นว่าคอลัมน์ total มีค่าว่าง"
      ],
      "execution_count": null,
      "outputs": []
    },
    {
      "cell_type": "code",
      "metadata": {
        "id": "-CnNDATT0NqU"
      },
      "source": [
        "data1= data1.dropna()  \n",
        "#เนื่องจากข้อมูลของเราในปีที่นำมาจังหวัดบึงกาฬยังไม่แยกตัวออกมา เราจึงเลือกที่จะจัดการกับค่าว่างโดยการดรอป"
      ],
      "execution_count": null,
      "outputs": []
    },
    {
      "cell_type": "code",
      "metadata": {
        "id": "pQMoHGnv0doL"
      },
      "source": [
        "data1.isnull().any() #เชคว่าภายในตารางมีค่าว่างหรือไม่ จะเห็นว่าคอลัมน์ total ไม่มีค่าว่างแล้ว"
      ],
      "execution_count": null,
      "outputs": []
    },
    {
      "cell_type": "code",
      "metadata": {
        "id": "QSeDaRZy0qI9"
      },
      "source": [
        "data1.shape #ได้ว่าข้อมูลนี้มี 29 แถว 2 คอลัม"
      ],
      "execution_count": null,
      "outputs": []
    },
    {
      "cell_type": "code",
      "metadata": {
        "id": "bjNXZBC70tT5"
      },
      "source": [
        "from sklearn.cluster import KMeans #นำเข้าฟังก์ชัน kmeans เพื่อใช้ในการจัดกลุ่ม"
      ],
      "execution_count": null,
      "outputs": []
    },
    {
      "cell_type": "code",
      "metadata": {
        "id": "6q5W72Ki0wB9"
      },
      "source": [
        "Xd = data1[['total']] #Xd คือตัวแปรของปริมาณการนำเข้าสินค้าทางการเกษตร\n",
        "#ให้ตัวแปร Xd เป็นตัวแปรที่แทนคอลัม total "
      ],
      "execution_count": null,
      "outputs": []
    },
    {
      "cell_type": "code",
      "metadata": {
        "id": "xASHM53J1j-F"
      },
      "source": [
        "from sklearn.datasets import make_blobs #make_blobs คือ สุ่มเดต้าขึ้นมาเป็นกลุ่มๆ"
      ],
      "execution_count": null,
      "outputs": []
    },
    {
      "cell_type": "markdown",
      "metadata": {
        "id": "7Z2oeV7f2IrT"
      },
      "source": [
        "###**Cluster**"
      ]
    },
    {
      "cell_type": "code",
      "metadata": {
        "id": "-87REorT1z_N"
      },
      "source": [
        "Xd,y=make_blobs(n_samples=29, centers=2, n_features=2, random_state=6)  #230 แถว 2 หลัก จากที่กำหนด n_samples=29 และ n_features=2 จะแบ่งเป็น 2 กลุ่ม ตาม centers=2"
      ],
      "execution_count": null,
      "outputs": []
    },
    {
      "cell_type": "code",
      "metadata": {
        "id": "ZNYq8PSf1zoH"
      },
      "source": [
        "Xd.shape"
      ],
      "execution_count": null,
      "outputs": []
    },
    {
      "cell_type": "code",
      "metadata": {
        "id": "-F1gaTUn1zcu"
      },
      "source": [
        "from matplotlib import pyplot as plt #นำเข้า pyplot โดยตั้งชื่อว่า plt นำมาเพื่อพล็อตกราฟ\n",
        "plt.scatter(Xd[:,0],Xd[:,1]) #จะแบ่งเป็น 2 กลุ่ม ตาม centers=2"
      ],
      "execution_count": null,
      "outputs": []
    },
    {
      "cell_type": "code",
      "metadata": {
        "id": "z8k0SyZd5yPt"
      },
      "source": [
        "from sklearn.cluster import KMeans"
      ],
      "execution_count": null,
      "outputs": []
    },
    {
      "cell_type": "code",
      "metadata": {
        "id": "niwDqOQq5yGe"
      },
      "source": [
        "KMclust=KMeans(n_clusters=2) # n_clusters=2 การกำหนดตัวแบ่งว่าจะแบ่งให้มีกลุ่ม 2 กลุ่ม"
      ],
      "execution_count": null,
      "outputs": []
    },
    {
      "cell_type": "code",
      "metadata": {
        "id": "U6XdAAGE5x_S"
      },
      "source": [
        "KMclust.fit(Xd)"
      ],
      "execution_count": null,
      "outputs": []
    },
    {
      "cell_type": "code",
      "metadata": {
        "id": "uBSSXngf5x18"
      },
      "source": [
        "label=KMclust.predict(Xd) # predict ว่าอยู่ในกลุ่มไหน"
      ],
      "execution_count": null,
      "outputs": []
    },
    {
      "cell_type": "code",
      "metadata": {
        "id": "g5oi3RDZ5xrQ"
      },
      "source": [
        "plt.scatter(Xd[:,0], Xd[:,1], c=label) # เปลี่ยนสีให้เป็นไปตาม label ของเราโดยการสุ่ม"
      ],
      "execution_count": null,
      "outputs": []
    },
    {
      "cell_type": "code",
      "metadata": {
        "id": "EV1_vY8v6EmU"
      },
      "source": [
        "import numpy as np\n",
        "import seaborn as sns"
      ],
      "execution_count": null,
      "outputs": []
    },
    {
      "cell_type": "code",
      "metadata": {
        "id": "2fwyAiez6EYc"
      },
      "source": [
        "n_group = 2 # จำนวนกลุ่ม\n",
        "n_duplicate = 30 # จำนวนทำซ้ำสูงสุด\n",
        "tol = 0.0001 # ค่าความเปลี่ยนแปลงสูงสุดที่ยอมให้หยุดได้\n",
        "sumagicult = np.random.choice(len(Xd),n_group,replace=0)\n",
        "X_cend = Xd[sumagicult] # จุดเซนทรอยด์ตั้งต้น เลือกแบบสุ่ม\n",
        "# วนซ้ำเพื่อปรับเซนทรอยด์\n",
        "for i in range(n_duplicate):\n",
        "    distance = ((X_cend[None]-Xd[:,None])**2).sum(2) # วัดระยะห่างจากจุดถึงเซนทรอยด์\n",
        "    gruopd = distance.argmin(1) # ตัดสินกลุ่มของจุดโดยเลือกเซนทรอยด์ที่ใกล้สุด\n",
        "    X_cen_maid = np.empty_like(X_cend) # จุดเซนทรอยด์ใหม่\n",
        "    # วนซ้ำเพื่อหาตำแหน่งเซนทรอยด์ใหม่\n",
        "    for j in range(n_group):\n",
        "        if(len(Xd[gruopd==j])): # ถ้ามีสมาชิกในกลุ่ม\n",
        "            X_cen_maid[j] = Xd[gruopd==j].mean(0) # กำหนดเซนทรอยด์ใหม่เป็นตำแหน่งเฉลี่ยของทุกจุดในกลุ่ม\n",
        "        else: # ถ้าในกลุ่มว่างเปล่าก็ให้สุ่มเซนทรอยด์ใหม่\n",
        "            X_cen_maid[j] = Xd[np.random.randint(len(Xd))]\n",
        "    if(np.allclose(X_cend,X_cen_maid,atol=tol)): # ถ้าความเปลี่ยนแปลงน้อยกว่าค่าที่กำหนดก็ให้หยุด\n",
        "        X_cend = X_cen_maid\n",
        "        break\n",
        "    X_cend = X_cen_maid # ย้ายจุดเซนทรอยด์ไปยังตำแหน่งใหม่"
      ],
      "execution_count": null,
      "outputs": []
    },
    {
      "cell_type": "code",
      "metadata": {
        "id": "lXFh79qz6EKQ"
      },
      "source": [
        "distance = ((X_cend[None]-Xd[:,None])**2).sum(2)\n",
        "zd = distance.argmin(1)\n",
        "plt.gca(aspect=0.5)\n",
        "plt.scatter(Xd[:,0],Xd[:,1],c=zd,edgecolor='k',cmap='rainbow')\n",
        "plt.scatter(X_cend[:,0],X_cend[:,1],300,'#EEAA55',marker='*',edgecolor='#9999DD',lw=2, label = 'Centroids')\n",
        "plt.scatter(Xd[0,0], Xd[0,1], c = 'red', label = 'Cluster 0')\n",
        "plt.scatter(Xd[1,0], Xd[1,1], c = 'purple', label = 'Cluster 1')\n",
        "plt.title('Clusters of Agricult Product')\n",
        "plt.xlabel('Agricult Product Score')\n",
        "plt.legend()\n",
        "plt.show()\n",
        "#คือการกำหนดหัวเรื่องเพื่อให้มองชัดขึ้นว่าเรื่องนี้เป็นเรื่องอะไร และมีการกำหนดว่า สีที่ปรากฏหมายถึงค่าของอะไร รวมถึงการทำการกำหนดจุดcentriodด้วย"
      ],
      "execution_count": null,
      "outputs": []
    },
    {
      "cell_type": "code",
      "metadata": {
        "id": "vUN2xHxD-y8l"
      },
      "source": [
        "ssed = 0\n",
        "for i in range(n_group):\n",
        "    ssed += np.sum(distance[zd==i,i])\n",
        "print(ssed)\n",
        "#พิจารณาผลรวมของระยะห่างระหว่างจุดข้อมูลไปยังเซนทรอยด์นั้นๆ ซึ่งเรียกว่าผลรวมความคลาดเคลื่อนกำลังสอง (sum of squared errors, SSE)"
      ],
      "execution_count": null,
      "outputs": []
    },
    {
      "cell_type": "code",
      "metadata": {
        "id": "VyVa3M97_EZo"
      },
      "source": [
        "KMclust.cluster_centers_ #คือตำแหน่งของจุดเซนทรอยด์ที่ได้มา จะมีขนาดเท่ากับ (จำนวนเซนทรอยด์,จำนวนมิติ)"
      ],
      "execution_count": null,
      "outputs": []
    },
    {
      "cell_type": "code",
      "metadata": {
        "id": "nzAksXN1_ES6"
      },
      "source": [
        "KMclust.transform(Xd) # ระยะห่างของแต่ละจุดกับ centroid"
      ],
      "execution_count": null,
      "outputs": []
    },
    {
      "cell_type": "code",
      "metadata": {
        "id": "R-ZeqHwy_EMz"
      },
      "source": [
        "KMclust.labels_ #ผลการแบ่งกลุ่มของข้อมูลที่ใช้เรียนรู้"
      ],
      "execution_count": null,
      "outputs": []
    },
    {
      "cell_type": "code",
      "metadata": {
        "id": "laceEKOn_VRB"
      },
      "source": [
        "Setempy=[] #Setempy เซ็ทว่างของสินค้าทางการเกษตร\n",
        "for k in range(2, 10):\n",
        "    m=KMeans(n_clusters=k) \n",
        "    m.fit(Xd)\n",
        "    Setempy.append([k, m.inertia_])\n",
        "Setempy\n",
        "#K-Means จะตัดแบ่ง (Partition) วัตถุออกเป็น K กลุ่ม  และแทนค่าแต่ละกลุ่มด้วยค่าเฉลี่ยของกลุ่ม ซึ่งใช้เป็นจุดศูนย์กลาง (centroid) ของกลุ่มในการวัดระยะห่างของข้อมูลในกลุ่มเดียวกัน\n",
        "#สร้าง ssd เป็นเซตว่าง แล้วกำหนดค่า k ตั้งแต่ 2 ถึง 10 จากนั้นทำการวนลูป for เพื่อหาค่า k means ของแต่ละ k \n",
        "#จากผลสรุปได้ว่าตารางนี้ควรจัดกลุ่มเป็น 2 กลุ่ม เนื่องจากมีค่า k means สูงที่สุด"
      ],
      "execution_count": null,
      "outputs": []
    },
    {
      "cell_type": "code",
      "metadata": {
        "id": "r49QVCke_VHo"
      },
      "source": [
        "xyd= np.array(Setempy) #Setempy เซ็ทว่างของสินค้าทางการเกษตร\n",
        "print(xyd) #xyd ตัวแปรของ xy ของการหย่า"
      ],
      "execution_count": null,
      "outputs": []
    },
    {
      "cell_type": "code",
      "metadata": {
        "id": "DmxTQLtS_U_A"
      },
      "source": [
        "plt.plot(xyd[:, 0], xyd[:, 1], linestyle='--', marker='o') #xyd ตัวแปรของ xy ของการหย่า"
      ],
      "execution_count": null,
      "outputs": []
    },
    {
      "cell_type": "markdown",
      "metadata": {
        "id": "TaKcqEVvAcyY"
      },
      "source": [
        "จากกราฟด้านบนจะเห็นว่า ค่าK จะเท่ากับ 5 เนื่องจากเป็นมุมที่คมที่สุดของกราฟ ดังนั้นค่าที่ดีที่สุดสำหรับ K คือ 5"
      ]
    },
    {
      "cell_type": "code",
      "metadata": {
        "id": "JrKJ8gdXAA7D"
      },
      "source": [
        "agp=pd.DataFrame(Setempy, columns=['k', 'Setempy']) #agp ตัวแปรของสินค้าทางการเกษตร\n",
        "agp"
      ],
      "execution_count": null,
      "outputs": []
    },
    {
      "cell_type": "code",
      "metadata": {
        "id": "Kp4ps5UGAAzz"
      },
      "source": [
        "agp['pct_chg']=agp['Setempy'].pct_change() * 100\n",
        "agp"
      ],
      "execution_count": null,
      "outputs": []
    },
    {
      "cell_type": "code",
      "metadata": {
        "id": "OA4mBmDs_zgs"
      },
      "source": [
        "plt.plot(agp['k'], agp['Setempy'], linestyle='--', marker='o')\n",
        "for index, row in agp.iterrows():\n",
        "    plt.text(row['k']+.02, row['Setempy']+.02, f'{row[\"pct_chg\"]:.2f}', fontsize=10)"
      ],
      "execution_count": null,
      "outputs": []
    },
    {
      "cell_type": "markdown",
      "metadata": {
        "id": "jM4KR8SjFwUc"
      },
      "source": [
        "นำเข้ากลุ่มที่จัดไว้โดยการเพิ่มที่คอลัม cluster"
      ]
    },
    {
      "cell_type": "code",
      "metadata": {
        "id": "-JKUcxtB_zZc"
      },
      "source": [
        "data1['cluster']=KMclust.labels_\n",
        "data1.head()"
      ],
      "execution_count": null,
      "outputs": []
    },
    {
      "cell_type": "code",
      "metadata": {
        "id": "CjM2MlgUF70G"
      },
      "source": [
        "data1.groupby('cluster').describe().T #ดูรายละเอียดในตารางนี้"
      ],
      "execution_count": null,
      "outputs": []
    },
    {
      "cell_type": "code",
      "metadata": {
        "id": "3cu3UHt-F7sA"
      },
      "source": [
        "sns.countplot(x='cluster', data=data1) #สร้างกราฟแท่งดูว่าแค่ละกลุ่มมีจำนวนเท่าไหร่ จากรูป"
      ],
      "execution_count": null,
      "outputs": []
    },
    {
      "cell_type": "code",
      "metadata": {
        "id": "RJDly8x8F7kL"
      },
      "source": [
        "data1"
      ],
      "execution_count": null,
      "outputs": []
    },
    {
      "cell_type": "code",
      "metadata": {
        "id": "BhvVCvPyGVP_"
      },
      "source": [
        "data1.groupby('cluster').head().sort_values('cluster')"
      ],
      "execution_count": null,
      "outputs": []
    },
    {
      "cell_type": "code",
      "metadata": {
        "id": "CLD1ahrIGVIZ"
      },
      "source": [
        "data1.rename(columns={'cluster':'C_Agicult'},inplace=True) #เปลี่ยนชื่อจากคอลัม cluster เป็น C_Agicult\n",
        "data1"
      ],
      "execution_count": null,
      "outputs": []
    },
    {
      "cell_type": "markdown",
      "metadata": {
        "id": "4Pk7bLGvGvyH"
      },
      "source": [
        ">#### **เชื่อมตารางข้อมูลเพื่อวิเคราะห์ระดับ Data mining**"
      ]
    },
    {
      "cell_type": "code",
      "metadata": {
        "id": "cecJNAoR4w-t"
      },
      "source": [
        "Data1 = merged_04[['country','population(million)','living expenses(USD)','avg income(USD)']]\n",
        "Data1"
      ],
      "execution_count": null,
      "outputs": []
    },
    {
      "cell_type": "code",
      "metadata": {
        "id": "RGoK6W53HAa-"
      },
      "source": [
        "Data2 = Data1.merge(data1,how='right',left_on='country',right_on='country') #สร้างตัวแปร Data2 มารับการรวมตารางของตาราง Data1 กับ data1 โดยการใช้คอลัม country เป็นคีย์เชื่อมทั้งสองตาราง\n",
        "Data2"
      ],
      "execution_count": null,
      "outputs": []
    },
    {
      "cell_type": "code",
      "metadata": {
        "id": "YtPN7hIqIPBn",
        "colab": {
          "base_uri": "https://localhost:8080/",
          "height": 0
        },
        "outputId": "bf409d51-3e02-409d-d750-4ccc4a364e60"
      },
      "source": [
        "Data = Data2[['C_Agicult','population(million)','living expenses(USD)','avg income(USD)']]\n",
        "Data#เลือกเฉพาะคอลัมที่ต้องการได้ดังนี้"
      ],
      "execution_count": 74,
      "outputs": [
        {
          "output_type": "execute_result",
          "data": {
            "text/html": [
              "<div>\n",
              "<style scoped>\n",
              "    .dataframe tbody tr th:only-of-type {\n",
              "        vertical-align: middle;\n",
              "    }\n",
              "\n",
              "    .dataframe tbody tr th {\n",
              "        vertical-align: top;\n",
              "    }\n",
              "\n",
              "    .dataframe thead th {\n",
              "        text-align: right;\n",
              "    }\n",
              "</style>\n",
              "<table border=\"1\" class=\"dataframe\">\n",
              "  <thead>\n",
              "    <tr style=\"text-align: right;\">\n",
              "      <th></th>\n",
              "      <th>C_Agicult</th>\n",
              "      <th>population(million)</th>\n",
              "      <th>living expenses(USD)</th>\n",
              "      <th>avg income(USD)</th>\n",
              "    </tr>\n",
              "  </thead>\n",
              "  <tbody>\n",
              "    <tr>\n",
              "      <th>0</th>\n",
              "      <td>0</td>\n",
              "      <td>34.22</td>\n",
              "      <td>952</td>\n",
              "      <td>4,754</td>\n",
              "    </tr>\n",
              "    <tr>\n",
              "      <th>1</th>\n",
              "      <td>0</td>\n",
              "      <td>1,400</td>\n",
              "      <td>752</td>\n",
              "      <td>884</td>\n",
              "    </tr>\n",
              "    <tr>\n",
              "      <th>2</th>\n",
              "      <td>1</td>\n",
              "      <td>51</td>\n",
              "      <td>1,154</td>\n",
              "      <td>2,738</td>\n",
              "    </tr>\n",
              "    <tr>\n",
              "      <th>3</th>\n",
              "      <td>0</td>\n",
              "      <td>2</td>\n",
              "      <td>1,856</td>\n",
              "      <td>4,684</td>\n",
              "    </tr>\n",
              "    <tr>\n",
              "      <th>4</th>\n",
              "      <td>0</td>\n",
              "      <td>30</td>\n",
              "      <td>652</td>\n",
              "      <td>882</td>\n",
              "    </tr>\n",
              "    <tr>\n",
              "      <th>5</th>\n",
              "      <td>1</td>\n",
              "      <td>146</td>\n",
              "      <td>424</td>\n",
              "      <td>891</td>\n",
              "    </tr>\n",
              "    <tr>\n",
              "      <th>6</th>\n",
              "      <td>1</td>\n",
              "      <td>4.207</td>\n",
              "      <td>1,326</td>\n",
              "      <td>3,024</td>\n",
              "    </tr>\n",
              "    <tr>\n",
              "      <th>7</th>\n",
              "      <td>0</td>\n",
              "      <td>93</td>\n",
              "      <td>449</td>\n",
              "      <td>250</td>\n",
              "    </tr>\n",
              "    <tr>\n",
              "      <th>8</th>\n",
              "      <td>0</td>\n",
              "      <td>5.39</td>\n",
              "      <td>2,074</td>\n",
              "      <td>6,521</td>\n",
              "    </tr>\n",
              "    <tr>\n",
              "      <th>9</th>\n",
              "      <td>0</td>\n",
              "      <td>36.28</td>\n",
              "      <td>1,701</td>\n",
              "      <td>3,620</td>\n",
              "    </tr>\n",
              "    <tr>\n",
              "      <th>10</th>\n",
              "      <td>1</td>\n",
              "      <td>9.39</td>\n",
              "      <td>1774</td>\n",
              "      <td>3,589</td>\n",
              "    </tr>\n",
              "    <tr>\n",
              "      <th>11</th>\n",
              "      <td>1</td>\n",
              "      <td>125</td>\n",
              "      <td>1,370</td>\n",
              "      <td>3,465</td>\n",
              "    </tr>\n",
              "    <tr>\n",
              "      <th>12</th>\n",
              "      <td>0</td>\n",
              "      <td>109</td>\n",
              "      <td>601</td>\n",
              "      <td>286</td>\n",
              "    </tr>\n",
              "    <tr>\n",
              "      <th>13</th>\n",
              "      <td>0</td>\n",
              "      <td>5.53</td>\n",
              "      <td>1,536</td>\n",
              "      <td>4,135</td>\n",
              "    </tr>\n",
              "    <tr>\n",
              "      <th>14</th>\n",
              "      <td>0</td>\n",
              "      <td>163</td>\n",
              "      <td>136</td>\n",
              "      <td>168</td>\n",
              "    </tr>\n",
              "    <tr>\n",
              "      <th>15</th>\n",
              "      <td>0</td>\n",
              "      <td>25.36</td>\n",
              "      <td>1,944</td>\n",
              "      <td>4283</td>\n",
              "    </tr>\n",
              "    <tr>\n",
              "      <th>16</th>\n",
              "      <td>0</td>\n",
              "      <td>328.2</td>\n",
              "      <td>1,951</td>\n",
              "      <td>5493</td>\n",
              "    </tr>\n",
              "    <tr>\n",
              "      <th>17</th>\n",
              "      <td>1</td>\n",
              "      <td>1,319</td>\n",
              "      <td>423</td>\n",
              "      <td>158</td>\n",
              "    </tr>\n",
              "    <tr>\n",
              "      <th>18</th>\n",
              "      <td>1</td>\n",
              "      <td>35.27</td>\n",
              "      <td>644</td>\n",
              "      <td>248</td>\n",
              "    </tr>\n",
              "    <tr>\n",
              "      <th>19</th>\n",
              "      <td>0</td>\n",
              "      <td>38.26</td>\n",
              "      <td>882</td>\n",
              "      <td>342</td>\n",
              "    </tr>\n",
              "    <tr>\n",
              "      <th>20</th>\n",
              "      <td>1</td>\n",
              "      <td>82.8</td>\n",
              "      <td>1,414</td>\n",
              "      <td>3,915</td>\n",
              "    </tr>\n",
              "    <tr>\n",
              "      <th>21</th>\n",
              "      <td>1</td>\n",
              "      <td>96.46</td>\n",
              "      <td>639</td>\n",
              "      <td>222</td>\n",
              "    </tr>\n",
              "    <tr>\n",
              "      <th>22</th>\n",
              "      <td>1</td>\n",
              "      <td>11.49</td>\n",
              "      <td>1,495</td>\n",
              "      <td>1,638</td>\n",
              "    </tr>\n",
              "    <tr>\n",
              "      <th>23</th>\n",
              "      <td>1</td>\n",
              "      <td>10.38</td>\n",
              "      <td>1,515</td>\n",
              "      <td>4,483</td>\n",
              "    </tr>\n",
              "    <tr>\n",
              "      <th>24</th>\n",
              "      <td>1</td>\n",
              "      <td>17.42</td>\n",
              "      <td>1,778</td>\n",
              "      <td>4,418</td>\n",
              "    </tr>\n",
              "    <tr>\n",
              "      <th>25</th>\n",
              "      <td>0</td>\n",
              "      <td>18.25</td>\n",
              "      <td>905</td>\n",
              "      <td>1,123</td>\n",
              "    </tr>\n",
              "    <tr>\n",
              "      <th>26</th>\n",
              "      <td>1</td>\n",
              "      <td>10.53</td>\n",
              "      <td>850</td>\n",
              "      <td>1,052</td>\n",
              "    </tr>\n",
              "    <tr>\n",
              "      <th>27</th>\n",
              "      <td>0</td>\n",
              "      <td>5.4</td>\n",
              "      <td>2,169</td>\n",
              "      <td>4,577</td>\n",
              "    </tr>\n",
              "    <tr>\n",
              "      <th>28</th>\n",
              "      <td>1</td>\n",
              "      <td>23.57</td>\n",
              "      <td>1,057</td>\n",
              "      <td>2,542</td>\n",
              "    </tr>\n",
              "  </tbody>\n",
              "</table>\n",
              "</div>"
            ],
            "text/plain": [
              "    C_Agicult population(million) living expenses(USD) avg income(USD)\n",
              "0           0               34.22                  952           4,754\n",
              "1           0               1,400                  752             884\n",
              "2           1                  51                1,154           2,738\n",
              "3           0                   2                1,856           4,684\n",
              "4           0                  30                  652             882\n",
              "5           1                 146                  424             891\n",
              "6           1               4.207                1,326           3,024\n",
              "7           0                  93                  449             250\n",
              "8           0                5.39                2,074           6,521\n",
              "9           0               36.28                1,701           3,620\n",
              "10          1                9.39                 1774           3,589\n",
              "11          1                 125                1,370           3,465\n",
              "12          0                 109                  601             286\n",
              "13          0                5.53                1,536           4,135\n",
              "14          0                 163                  136             168\n",
              "15          0               25.36                1,944            4283\n",
              "16          0               328.2                1,951            5493\n",
              "17          1               1,319                  423             158\n",
              "18          1               35.27                  644             248\n",
              "19          0               38.26                  882             342\n",
              "20          1                82.8                1,414           3,915\n",
              "21          1               96.46                  639             222\n",
              "22          1               11.49                1,495           1,638\n",
              "23          1               10.38                1,515           4,483\n",
              "24          1               17.42                1,778           4,418\n",
              "25          0               18.25                  905           1,123\n",
              "26          1               10.53                  850           1,052\n",
              "27          0                 5.4                2,169           4,577\n",
              "28          1               23.57                1,057           2,542"
            ]
          },
          "metadata": {},
          "execution_count": 74
        }
      ]
    },
    {
      "cell_type": "code",
      "metadata": {
        "colab": {
          "base_uri": "https://localhost:8080/"
        },
        "id": "yOazbo7pg5MA",
        "outputId": "c3a3c724-670d-4bef-a673-b2c6d504135e"
      },
      "source": [
        "Data.shape"
      ],
      "execution_count": 75,
      "outputs": [
        {
          "output_type": "execute_result",
          "data": {
            "text/plain": [
              "(29, 4)"
            ]
          },
          "metadata": {},
          "execution_count": 75
        }
      ]
    },
    {
      "cell_type": "code",
      "metadata": {
        "colab": {
          "base_uri": "https://localhost:8080/"
        },
        "id": "FcAbWPoKqv02",
        "outputId": "b49254ea-9b40-4600-bfe5-132bf80af0bd"
      },
      "source": [
        "Data.dtypes"
      ],
      "execution_count": 76,
      "outputs": [
        {
          "output_type": "execute_result",
          "data": {
            "text/plain": [
              "C_Agicult                int32\n",
              "population(million)     object\n",
              "living expenses(USD)    object\n",
              "avg income(USD)         object\n",
              "dtype: object"
            ]
          },
          "metadata": {},
          "execution_count": 76
        }
      ]
    },
    {
      "cell_type": "code",
      "metadata": {
        "id": "eSpJvx09kZw8"
      },
      "source": [
        "import pandas as pd\n",
        "import re"
      ],
      "execution_count": 77,
      "outputs": []
    },
    {
      "cell_type": "code",
      "metadata": {
        "colab": {
          "base_uri": "https://localhost:8080/",
          "height": 0
        },
        "id": "Bd1mnK4SkmZW",
        "outputId": "b9772459-3687-40b4-922c-a3519d544e00"
      },
      "source": [
        "#strip values to float type\n",
        "Datafloat = Data.replace('[^\\d.]','', regex=True).astype(float)\n",
        "Datafloat"
      ],
      "execution_count": 78,
      "outputs": [
        {
          "output_type": "execute_result",
          "data": {
            "text/html": [
              "<div>\n",
              "<style scoped>\n",
              "    .dataframe tbody tr th:only-of-type {\n",
              "        vertical-align: middle;\n",
              "    }\n",
              "\n",
              "    .dataframe tbody tr th {\n",
              "        vertical-align: top;\n",
              "    }\n",
              "\n",
              "    .dataframe thead th {\n",
              "        text-align: right;\n",
              "    }\n",
              "</style>\n",
              "<table border=\"1\" class=\"dataframe\">\n",
              "  <thead>\n",
              "    <tr style=\"text-align: right;\">\n",
              "      <th></th>\n",
              "      <th>C_Agicult</th>\n",
              "      <th>population(million)</th>\n",
              "      <th>living expenses(USD)</th>\n",
              "      <th>avg income(USD)</th>\n",
              "    </tr>\n",
              "  </thead>\n",
              "  <tbody>\n",
              "    <tr>\n",
              "      <th>0</th>\n",
              "      <td>0.0</td>\n",
              "      <td>34.220</td>\n",
              "      <td>952.0</td>\n",
              "      <td>4754.0</td>\n",
              "    </tr>\n",
              "    <tr>\n",
              "      <th>1</th>\n",
              "      <td>0.0</td>\n",
              "      <td>1400.000</td>\n",
              "      <td>752.0</td>\n",
              "      <td>884.0</td>\n",
              "    </tr>\n",
              "    <tr>\n",
              "      <th>2</th>\n",
              "      <td>1.0</td>\n",
              "      <td>51.000</td>\n",
              "      <td>1154.0</td>\n",
              "      <td>2738.0</td>\n",
              "    </tr>\n",
              "    <tr>\n",
              "      <th>3</th>\n",
              "      <td>0.0</td>\n",
              "      <td>2.000</td>\n",
              "      <td>1856.0</td>\n",
              "      <td>4684.0</td>\n",
              "    </tr>\n",
              "    <tr>\n",
              "      <th>4</th>\n",
              "      <td>0.0</td>\n",
              "      <td>30.000</td>\n",
              "      <td>652.0</td>\n",
              "      <td>882.0</td>\n",
              "    </tr>\n",
              "    <tr>\n",
              "      <th>5</th>\n",
              "      <td>1.0</td>\n",
              "      <td>146.000</td>\n",
              "      <td>424.0</td>\n",
              "      <td>891.0</td>\n",
              "    </tr>\n",
              "    <tr>\n",
              "      <th>6</th>\n",
              "      <td>1.0</td>\n",
              "      <td>4.207</td>\n",
              "      <td>1326.0</td>\n",
              "      <td>3024.0</td>\n",
              "    </tr>\n",
              "    <tr>\n",
              "      <th>7</th>\n",
              "      <td>0.0</td>\n",
              "      <td>93.000</td>\n",
              "      <td>449.0</td>\n",
              "      <td>250.0</td>\n",
              "    </tr>\n",
              "    <tr>\n",
              "      <th>8</th>\n",
              "      <td>0.0</td>\n",
              "      <td>5.390</td>\n",
              "      <td>2074.0</td>\n",
              "      <td>6521.0</td>\n",
              "    </tr>\n",
              "    <tr>\n",
              "      <th>9</th>\n",
              "      <td>0.0</td>\n",
              "      <td>36.280</td>\n",
              "      <td>1701.0</td>\n",
              "      <td>3620.0</td>\n",
              "    </tr>\n",
              "    <tr>\n",
              "      <th>10</th>\n",
              "      <td>1.0</td>\n",
              "      <td>9.390</td>\n",
              "      <td>1774.0</td>\n",
              "      <td>3589.0</td>\n",
              "    </tr>\n",
              "    <tr>\n",
              "      <th>11</th>\n",
              "      <td>1.0</td>\n",
              "      <td>125.000</td>\n",
              "      <td>1370.0</td>\n",
              "      <td>3465.0</td>\n",
              "    </tr>\n",
              "    <tr>\n",
              "      <th>12</th>\n",
              "      <td>0.0</td>\n",
              "      <td>109.000</td>\n",
              "      <td>601.0</td>\n",
              "      <td>286.0</td>\n",
              "    </tr>\n",
              "    <tr>\n",
              "      <th>13</th>\n",
              "      <td>0.0</td>\n",
              "      <td>5.530</td>\n",
              "      <td>1536.0</td>\n",
              "      <td>4135.0</td>\n",
              "    </tr>\n",
              "    <tr>\n",
              "      <th>14</th>\n",
              "      <td>0.0</td>\n",
              "      <td>163.000</td>\n",
              "      <td>136.0</td>\n",
              "      <td>168.0</td>\n",
              "    </tr>\n",
              "    <tr>\n",
              "      <th>15</th>\n",
              "      <td>0.0</td>\n",
              "      <td>25.360</td>\n",
              "      <td>1944.0</td>\n",
              "      <td>4283.0</td>\n",
              "    </tr>\n",
              "    <tr>\n",
              "      <th>16</th>\n",
              "      <td>0.0</td>\n",
              "      <td>328.200</td>\n",
              "      <td>1951.0</td>\n",
              "      <td>5493.0</td>\n",
              "    </tr>\n",
              "    <tr>\n",
              "      <th>17</th>\n",
              "      <td>1.0</td>\n",
              "      <td>1319.000</td>\n",
              "      <td>423.0</td>\n",
              "      <td>158.0</td>\n",
              "    </tr>\n",
              "    <tr>\n",
              "      <th>18</th>\n",
              "      <td>1.0</td>\n",
              "      <td>35.270</td>\n",
              "      <td>644.0</td>\n",
              "      <td>248.0</td>\n",
              "    </tr>\n",
              "    <tr>\n",
              "      <th>19</th>\n",
              "      <td>0.0</td>\n",
              "      <td>38.260</td>\n",
              "      <td>882.0</td>\n",
              "      <td>342.0</td>\n",
              "    </tr>\n",
              "    <tr>\n",
              "      <th>20</th>\n",
              "      <td>1.0</td>\n",
              "      <td>82.800</td>\n",
              "      <td>1414.0</td>\n",
              "      <td>3915.0</td>\n",
              "    </tr>\n",
              "    <tr>\n",
              "      <th>21</th>\n",
              "      <td>1.0</td>\n",
              "      <td>96.460</td>\n",
              "      <td>639.0</td>\n",
              "      <td>222.0</td>\n",
              "    </tr>\n",
              "    <tr>\n",
              "      <th>22</th>\n",
              "      <td>1.0</td>\n",
              "      <td>11.490</td>\n",
              "      <td>1495.0</td>\n",
              "      <td>1638.0</td>\n",
              "    </tr>\n",
              "    <tr>\n",
              "      <th>23</th>\n",
              "      <td>1.0</td>\n",
              "      <td>10.380</td>\n",
              "      <td>1515.0</td>\n",
              "      <td>4483.0</td>\n",
              "    </tr>\n",
              "    <tr>\n",
              "      <th>24</th>\n",
              "      <td>1.0</td>\n",
              "      <td>17.420</td>\n",
              "      <td>1778.0</td>\n",
              "      <td>4418.0</td>\n",
              "    </tr>\n",
              "    <tr>\n",
              "      <th>25</th>\n",
              "      <td>0.0</td>\n",
              "      <td>18.250</td>\n",
              "      <td>905.0</td>\n",
              "      <td>1123.0</td>\n",
              "    </tr>\n",
              "    <tr>\n",
              "      <th>26</th>\n",
              "      <td>1.0</td>\n",
              "      <td>10.530</td>\n",
              "      <td>850.0</td>\n",
              "      <td>1052.0</td>\n",
              "    </tr>\n",
              "    <tr>\n",
              "      <th>27</th>\n",
              "      <td>0.0</td>\n",
              "      <td>5.400</td>\n",
              "      <td>2169.0</td>\n",
              "      <td>4577.0</td>\n",
              "    </tr>\n",
              "    <tr>\n",
              "      <th>28</th>\n",
              "      <td>1.0</td>\n",
              "      <td>23.570</td>\n",
              "      <td>1057.0</td>\n",
              "      <td>2542.0</td>\n",
              "    </tr>\n",
              "  </tbody>\n",
              "</table>\n",
              "</div>"
            ],
            "text/plain": [
              "    C_Agicult  population(million)  living expenses(USD)  avg income(USD)\n",
              "0         0.0               34.220                 952.0           4754.0\n",
              "1         0.0             1400.000                 752.0            884.0\n",
              "2         1.0               51.000                1154.0           2738.0\n",
              "3         0.0                2.000                1856.0           4684.0\n",
              "4         0.0               30.000                 652.0            882.0\n",
              "5         1.0              146.000                 424.0            891.0\n",
              "6         1.0                4.207                1326.0           3024.0\n",
              "7         0.0               93.000                 449.0            250.0\n",
              "8         0.0                5.390                2074.0           6521.0\n",
              "9         0.0               36.280                1701.0           3620.0\n",
              "10        1.0                9.390                1774.0           3589.0\n",
              "11        1.0              125.000                1370.0           3465.0\n",
              "12        0.0              109.000                 601.0            286.0\n",
              "13        0.0                5.530                1536.0           4135.0\n",
              "14        0.0              163.000                 136.0            168.0\n",
              "15        0.0               25.360                1944.0           4283.0\n",
              "16        0.0              328.200                1951.0           5493.0\n",
              "17        1.0             1319.000                 423.0            158.0\n",
              "18        1.0               35.270                 644.0            248.0\n",
              "19        0.0               38.260                 882.0            342.0\n",
              "20        1.0               82.800                1414.0           3915.0\n",
              "21        1.0               96.460                 639.0            222.0\n",
              "22        1.0               11.490                1495.0           1638.0\n",
              "23        1.0               10.380                1515.0           4483.0\n",
              "24        1.0               17.420                1778.0           4418.0\n",
              "25        0.0               18.250                 905.0           1123.0\n",
              "26        1.0               10.530                 850.0           1052.0\n",
              "27        0.0                5.400                2169.0           4577.0\n",
              "28        1.0               23.570                1057.0           2542.0"
            ]
          },
          "metadata": {},
          "execution_count": 78
        }
      ]
    },
    {
      "cell_type": "code",
      "metadata": {
        "colab": {
          "base_uri": "https://localhost:8080/",
          "height": 0
        },
        "id": "6WTPFOQc2wTK",
        "outputId": "46da2d2c-df86-47df-b823-3a03280d7bf5"
      },
      "source": [
        "Datafloat['total'] = Data['C_Agicult'].astype('int')\n",
        "Datafloat"
      ],
      "execution_count": 79,
      "outputs": [
        {
          "output_type": "execute_result",
          "data": {
            "text/html": [
              "<div>\n",
              "<style scoped>\n",
              "    .dataframe tbody tr th:only-of-type {\n",
              "        vertical-align: middle;\n",
              "    }\n",
              "\n",
              "    .dataframe tbody tr th {\n",
              "        vertical-align: top;\n",
              "    }\n",
              "\n",
              "    .dataframe thead th {\n",
              "        text-align: right;\n",
              "    }\n",
              "</style>\n",
              "<table border=\"1\" class=\"dataframe\">\n",
              "  <thead>\n",
              "    <tr style=\"text-align: right;\">\n",
              "      <th></th>\n",
              "      <th>C_Agicult</th>\n",
              "      <th>population(million)</th>\n",
              "      <th>living expenses(USD)</th>\n",
              "      <th>avg income(USD)</th>\n",
              "      <th>total</th>\n",
              "    </tr>\n",
              "  </thead>\n",
              "  <tbody>\n",
              "    <tr>\n",
              "      <th>0</th>\n",
              "      <td>0.0</td>\n",
              "      <td>34.220</td>\n",
              "      <td>952.0</td>\n",
              "      <td>4754.0</td>\n",
              "      <td>0</td>\n",
              "    </tr>\n",
              "    <tr>\n",
              "      <th>1</th>\n",
              "      <td>0.0</td>\n",
              "      <td>1400.000</td>\n",
              "      <td>752.0</td>\n",
              "      <td>884.0</td>\n",
              "      <td>0</td>\n",
              "    </tr>\n",
              "    <tr>\n",
              "      <th>2</th>\n",
              "      <td>1.0</td>\n",
              "      <td>51.000</td>\n",
              "      <td>1154.0</td>\n",
              "      <td>2738.0</td>\n",
              "      <td>1</td>\n",
              "    </tr>\n",
              "    <tr>\n",
              "      <th>3</th>\n",
              "      <td>0.0</td>\n",
              "      <td>2.000</td>\n",
              "      <td>1856.0</td>\n",
              "      <td>4684.0</td>\n",
              "      <td>0</td>\n",
              "    </tr>\n",
              "    <tr>\n",
              "      <th>4</th>\n",
              "      <td>0.0</td>\n",
              "      <td>30.000</td>\n",
              "      <td>652.0</td>\n",
              "      <td>882.0</td>\n",
              "      <td>0</td>\n",
              "    </tr>\n",
              "    <tr>\n",
              "      <th>5</th>\n",
              "      <td>1.0</td>\n",
              "      <td>146.000</td>\n",
              "      <td>424.0</td>\n",
              "      <td>891.0</td>\n",
              "      <td>1</td>\n",
              "    </tr>\n",
              "    <tr>\n",
              "      <th>6</th>\n",
              "      <td>1.0</td>\n",
              "      <td>4.207</td>\n",
              "      <td>1326.0</td>\n",
              "      <td>3024.0</td>\n",
              "      <td>1</td>\n",
              "    </tr>\n",
              "    <tr>\n",
              "      <th>7</th>\n",
              "      <td>0.0</td>\n",
              "      <td>93.000</td>\n",
              "      <td>449.0</td>\n",
              "      <td>250.0</td>\n",
              "      <td>0</td>\n",
              "    </tr>\n",
              "    <tr>\n",
              "      <th>8</th>\n",
              "      <td>0.0</td>\n",
              "      <td>5.390</td>\n",
              "      <td>2074.0</td>\n",
              "      <td>6521.0</td>\n",
              "      <td>0</td>\n",
              "    </tr>\n",
              "    <tr>\n",
              "      <th>9</th>\n",
              "      <td>0.0</td>\n",
              "      <td>36.280</td>\n",
              "      <td>1701.0</td>\n",
              "      <td>3620.0</td>\n",
              "      <td>0</td>\n",
              "    </tr>\n",
              "    <tr>\n",
              "      <th>10</th>\n",
              "      <td>1.0</td>\n",
              "      <td>9.390</td>\n",
              "      <td>1774.0</td>\n",
              "      <td>3589.0</td>\n",
              "      <td>1</td>\n",
              "    </tr>\n",
              "    <tr>\n",
              "      <th>11</th>\n",
              "      <td>1.0</td>\n",
              "      <td>125.000</td>\n",
              "      <td>1370.0</td>\n",
              "      <td>3465.0</td>\n",
              "      <td>1</td>\n",
              "    </tr>\n",
              "    <tr>\n",
              "      <th>12</th>\n",
              "      <td>0.0</td>\n",
              "      <td>109.000</td>\n",
              "      <td>601.0</td>\n",
              "      <td>286.0</td>\n",
              "      <td>0</td>\n",
              "    </tr>\n",
              "    <tr>\n",
              "      <th>13</th>\n",
              "      <td>0.0</td>\n",
              "      <td>5.530</td>\n",
              "      <td>1536.0</td>\n",
              "      <td>4135.0</td>\n",
              "      <td>0</td>\n",
              "    </tr>\n",
              "    <tr>\n",
              "      <th>14</th>\n",
              "      <td>0.0</td>\n",
              "      <td>163.000</td>\n",
              "      <td>136.0</td>\n",
              "      <td>168.0</td>\n",
              "      <td>0</td>\n",
              "    </tr>\n",
              "    <tr>\n",
              "      <th>15</th>\n",
              "      <td>0.0</td>\n",
              "      <td>25.360</td>\n",
              "      <td>1944.0</td>\n",
              "      <td>4283.0</td>\n",
              "      <td>0</td>\n",
              "    </tr>\n",
              "    <tr>\n",
              "      <th>16</th>\n",
              "      <td>0.0</td>\n",
              "      <td>328.200</td>\n",
              "      <td>1951.0</td>\n",
              "      <td>5493.0</td>\n",
              "      <td>0</td>\n",
              "    </tr>\n",
              "    <tr>\n",
              "      <th>17</th>\n",
              "      <td>1.0</td>\n",
              "      <td>1319.000</td>\n",
              "      <td>423.0</td>\n",
              "      <td>158.0</td>\n",
              "      <td>1</td>\n",
              "    </tr>\n",
              "    <tr>\n",
              "      <th>18</th>\n",
              "      <td>1.0</td>\n",
              "      <td>35.270</td>\n",
              "      <td>644.0</td>\n",
              "      <td>248.0</td>\n",
              "      <td>1</td>\n",
              "    </tr>\n",
              "    <tr>\n",
              "      <th>19</th>\n",
              "      <td>0.0</td>\n",
              "      <td>38.260</td>\n",
              "      <td>882.0</td>\n",
              "      <td>342.0</td>\n",
              "      <td>0</td>\n",
              "    </tr>\n",
              "    <tr>\n",
              "      <th>20</th>\n",
              "      <td>1.0</td>\n",
              "      <td>82.800</td>\n",
              "      <td>1414.0</td>\n",
              "      <td>3915.0</td>\n",
              "      <td>1</td>\n",
              "    </tr>\n",
              "    <tr>\n",
              "      <th>21</th>\n",
              "      <td>1.0</td>\n",
              "      <td>96.460</td>\n",
              "      <td>639.0</td>\n",
              "      <td>222.0</td>\n",
              "      <td>1</td>\n",
              "    </tr>\n",
              "    <tr>\n",
              "      <th>22</th>\n",
              "      <td>1.0</td>\n",
              "      <td>11.490</td>\n",
              "      <td>1495.0</td>\n",
              "      <td>1638.0</td>\n",
              "      <td>1</td>\n",
              "    </tr>\n",
              "    <tr>\n",
              "      <th>23</th>\n",
              "      <td>1.0</td>\n",
              "      <td>10.380</td>\n",
              "      <td>1515.0</td>\n",
              "      <td>4483.0</td>\n",
              "      <td>1</td>\n",
              "    </tr>\n",
              "    <tr>\n",
              "      <th>24</th>\n",
              "      <td>1.0</td>\n",
              "      <td>17.420</td>\n",
              "      <td>1778.0</td>\n",
              "      <td>4418.0</td>\n",
              "      <td>1</td>\n",
              "    </tr>\n",
              "    <tr>\n",
              "      <th>25</th>\n",
              "      <td>0.0</td>\n",
              "      <td>18.250</td>\n",
              "      <td>905.0</td>\n",
              "      <td>1123.0</td>\n",
              "      <td>0</td>\n",
              "    </tr>\n",
              "    <tr>\n",
              "      <th>26</th>\n",
              "      <td>1.0</td>\n",
              "      <td>10.530</td>\n",
              "      <td>850.0</td>\n",
              "      <td>1052.0</td>\n",
              "      <td>1</td>\n",
              "    </tr>\n",
              "    <tr>\n",
              "      <th>27</th>\n",
              "      <td>0.0</td>\n",
              "      <td>5.400</td>\n",
              "      <td>2169.0</td>\n",
              "      <td>4577.0</td>\n",
              "      <td>0</td>\n",
              "    </tr>\n",
              "    <tr>\n",
              "      <th>28</th>\n",
              "      <td>1.0</td>\n",
              "      <td>23.570</td>\n",
              "      <td>1057.0</td>\n",
              "      <td>2542.0</td>\n",
              "      <td>1</td>\n",
              "    </tr>\n",
              "  </tbody>\n",
              "</table>\n",
              "</div>"
            ],
            "text/plain": [
              "    C_Agicult  population(million)  ...  avg income(USD)  total\n",
              "0         0.0               34.220  ...           4754.0      0\n",
              "1         0.0             1400.000  ...            884.0      0\n",
              "2         1.0               51.000  ...           2738.0      1\n",
              "3         0.0                2.000  ...           4684.0      0\n",
              "4         0.0               30.000  ...            882.0      0\n",
              "5         1.0              146.000  ...            891.0      1\n",
              "6         1.0                4.207  ...           3024.0      1\n",
              "7         0.0               93.000  ...            250.0      0\n",
              "8         0.0                5.390  ...           6521.0      0\n",
              "9         0.0               36.280  ...           3620.0      0\n",
              "10        1.0                9.390  ...           3589.0      1\n",
              "11        1.0              125.000  ...           3465.0      1\n",
              "12        0.0              109.000  ...            286.0      0\n",
              "13        0.0                5.530  ...           4135.0      0\n",
              "14        0.0              163.000  ...            168.0      0\n",
              "15        0.0               25.360  ...           4283.0      0\n",
              "16        0.0              328.200  ...           5493.0      0\n",
              "17        1.0             1319.000  ...            158.0      1\n",
              "18        1.0               35.270  ...            248.0      1\n",
              "19        0.0               38.260  ...            342.0      0\n",
              "20        1.0               82.800  ...           3915.0      1\n",
              "21        1.0               96.460  ...            222.0      1\n",
              "22        1.0               11.490  ...           1638.0      1\n",
              "23        1.0               10.380  ...           4483.0      1\n",
              "24        1.0               17.420  ...           4418.0      1\n",
              "25        0.0               18.250  ...           1123.0      0\n",
              "26        1.0               10.530  ...           1052.0      1\n",
              "27        0.0                5.400  ...           4577.0      0\n",
              "28        1.0               23.570  ...           2542.0      1\n",
              "\n",
              "[29 rows x 5 columns]"
            ]
          },
          "metadata": {},
          "execution_count": 79
        }
      ]
    },
    {
      "cell_type": "code",
      "metadata": {
        "colab": {
          "base_uri": "https://localhost:8080/",
          "height": 0
        },
        "id": "5Fayh1034S8R",
        "outputId": "af5db840-c3d9-4484-e6a2-eacb7368d0ff"
      },
      "source": [
        "Data = Datafloat[['total','population(million)','living expenses(USD)','avg income(USD)']]\n",
        "Data#เลือกเฉพาะคอลัมที่ต้องการได้ดังนี้"
      ],
      "execution_count": 80,
      "outputs": [
        {
          "output_type": "execute_result",
          "data": {
            "text/html": [
              "<div>\n",
              "<style scoped>\n",
              "    .dataframe tbody tr th:only-of-type {\n",
              "        vertical-align: middle;\n",
              "    }\n",
              "\n",
              "    .dataframe tbody tr th {\n",
              "        vertical-align: top;\n",
              "    }\n",
              "\n",
              "    .dataframe thead th {\n",
              "        text-align: right;\n",
              "    }\n",
              "</style>\n",
              "<table border=\"1\" class=\"dataframe\">\n",
              "  <thead>\n",
              "    <tr style=\"text-align: right;\">\n",
              "      <th></th>\n",
              "      <th>total</th>\n",
              "      <th>population(million)</th>\n",
              "      <th>living expenses(USD)</th>\n",
              "      <th>avg income(USD)</th>\n",
              "    </tr>\n",
              "  </thead>\n",
              "  <tbody>\n",
              "    <tr>\n",
              "      <th>0</th>\n",
              "      <td>0</td>\n",
              "      <td>34.220</td>\n",
              "      <td>952.0</td>\n",
              "      <td>4754.0</td>\n",
              "    </tr>\n",
              "    <tr>\n",
              "      <th>1</th>\n",
              "      <td>0</td>\n",
              "      <td>1400.000</td>\n",
              "      <td>752.0</td>\n",
              "      <td>884.0</td>\n",
              "    </tr>\n",
              "    <tr>\n",
              "      <th>2</th>\n",
              "      <td>1</td>\n",
              "      <td>51.000</td>\n",
              "      <td>1154.0</td>\n",
              "      <td>2738.0</td>\n",
              "    </tr>\n",
              "    <tr>\n",
              "      <th>3</th>\n",
              "      <td>0</td>\n",
              "      <td>2.000</td>\n",
              "      <td>1856.0</td>\n",
              "      <td>4684.0</td>\n",
              "    </tr>\n",
              "    <tr>\n",
              "      <th>4</th>\n",
              "      <td>0</td>\n",
              "      <td>30.000</td>\n",
              "      <td>652.0</td>\n",
              "      <td>882.0</td>\n",
              "    </tr>\n",
              "    <tr>\n",
              "      <th>5</th>\n",
              "      <td>1</td>\n",
              "      <td>146.000</td>\n",
              "      <td>424.0</td>\n",
              "      <td>891.0</td>\n",
              "    </tr>\n",
              "    <tr>\n",
              "      <th>6</th>\n",
              "      <td>1</td>\n",
              "      <td>4.207</td>\n",
              "      <td>1326.0</td>\n",
              "      <td>3024.0</td>\n",
              "    </tr>\n",
              "    <tr>\n",
              "      <th>7</th>\n",
              "      <td>0</td>\n",
              "      <td>93.000</td>\n",
              "      <td>449.0</td>\n",
              "      <td>250.0</td>\n",
              "    </tr>\n",
              "    <tr>\n",
              "      <th>8</th>\n",
              "      <td>0</td>\n",
              "      <td>5.390</td>\n",
              "      <td>2074.0</td>\n",
              "      <td>6521.0</td>\n",
              "    </tr>\n",
              "    <tr>\n",
              "      <th>9</th>\n",
              "      <td>0</td>\n",
              "      <td>36.280</td>\n",
              "      <td>1701.0</td>\n",
              "      <td>3620.0</td>\n",
              "    </tr>\n",
              "    <tr>\n",
              "      <th>10</th>\n",
              "      <td>1</td>\n",
              "      <td>9.390</td>\n",
              "      <td>1774.0</td>\n",
              "      <td>3589.0</td>\n",
              "    </tr>\n",
              "    <tr>\n",
              "      <th>11</th>\n",
              "      <td>1</td>\n",
              "      <td>125.000</td>\n",
              "      <td>1370.0</td>\n",
              "      <td>3465.0</td>\n",
              "    </tr>\n",
              "    <tr>\n",
              "      <th>12</th>\n",
              "      <td>0</td>\n",
              "      <td>109.000</td>\n",
              "      <td>601.0</td>\n",
              "      <td>286.0</td>\n",
              "    </tr>\n",
              "    <tr>\n",
              "      <th>13</th>\n",
              "      <td>0</td>\n",
              "      <td>5.530</td>\n",
              "      <td>1536.0</td>\n",
              "      <td>4135.0</td>\n",
              "    </tr>\n",
              "    <tr>\n",
              "      <th>14</th>\n",
              "      <td>0</td>\n",
              "      <td>163.000</td>\n",
              "      <td>136.0</td>\n",
              "      <td>168.0</td>\n",
              "    </tr>\n",
              "    <tr>\n",
              "      <th>15</th>\n",
              "      <td>0</td>\n",
              "      <td>25.360</td>\n",
              "      <td>1944.0</td>\n",
              "      <td>4283.0</td>\n",
              "    </tr>\n",
              "    <tr>\n",
              "      <th>16</th>\n",
              "      <td>0</td>\n",
              "      <td>328.200</td>\n",
              "      <td>1951.0</td>\n",
              "      <td>5493.0</td>\n",
              "    </tr>\n",
              "    <tr>\n",
              "      <th>17</th>\n",
              "      <td>1</td>\n",
              "      <td>1319.000</td>\n",
              "      <td>423.0</td>\n",
              "      <td>158.0</td>\n",
              "    </tr>\n",
              "    <tr>\n",
              "      <th>18</th>\n",
              "      <td>1</td>\n",
              "      <td>35.270</td>\n",
              "      <td>644.0</td>\n",
              "      <td>248.0</td>\n",
              "    </tr>\n",
              "    <tr>\n",
              "      <th>19</th>\n",
              "      <td>0</td>\n",
              "      <td>38.260</td>\n",
              "      <td>882.0</td>\n",
              "      <td>342.0</td>\n",
              "    </tr>\n",
              "    <tr>\n",
              "      <th>20</th>\n",
              "      <td>1</td>\n",
              "      <td>82.800</td>\n",
              "      <td>1414.0</td>\n",
              "      <td>3915.0</td>\n",
              "    </tr>\n",
              "    <tr>\n",
              "      <th>21</th>\n",
              "      <td>1</td>\n",
              "      <td>96.460</td>\n",
              "      <td>639.0</td>\n",
              "      <td>222.0</td>\n",
              "    </tr>\n",
              "    <tr>\n",
              "      <th>22</th>\n",
              "      <td>1</td>\n",
              "      <td>11.490</td>\n",
              "      <td>1495.0</td>\n",
              "      <td>1638.0</td>\n",
              "    </tr>\n",
              "    <tr>\n",
              "      <th>23</th>\n",
              "      <td>1</td>\n",
              "      <td>10.380</td>\n",
              "      <td>1515.0</td>\n",
              "      <td>4483.0</td>\n",
              "    </tr>\n",
              "    <tr>\n",
              "      <th>24</th>\n",
              "      <td>1</td>\n",
              "      <td>17.420</td>\n",
              "      <td>1778.0</td>\n",
              "      <td>4418.0</td>\n",
              "    </tr>\n",
              "    <tr>\n",
              "      <th>25</th>\n",
              "      <td>0</td>\n",
              "      <td>18.250</td>\n",
              "      <td>905.0</td>\n",
              "      <td>1123.0</td>\n",
              "    </tr>\n",
              "    <tr>\n",
              "      <th>26</th>\n",
              "      <td>1</td>\n",
              "      <td>10.530</td>\n",
              "      <td>850.0</td>\n",
              "      <td>1052.0</td>\n",
              "    </tr>\n",
              "    <tr>\n",
              "      <th>27</th>\n",
              "      <td>0</td>\n",
              "      <td>5.400</td>\n",
              "      <td>2169.0</td>\n",
              "      <td>4577.0</td>\n",
              "    </tr>\n",
              "    <tr>\n",
              "      <th>28</th>\n",
              "      <td>1</td>\n",
              "      <td>23.570</td>\n",
              "      <td>1057.0</td>\n",
              "      <td>2542.0</td>\n",
              "    </tr>\n",
              "  </tbody>\n",
              "</table>\n",
              "</div>"
            ],
            "text/plain": [
              "    total  population(million)  living expenses(USD)  avg income(USD)\n",
              "0       0               34.220                 952.0           4754.0\n",
              "1       0             1400.000                 752.0            884.0\n",
              "2       1               51.000                1154.0           2738.0\n",
              "3       0                2.000                1856.0           4684.0\n",
              "4       0               30.000                 652.0            882.0\n",
              "5       1              146.000                 424.0            891.0\n",
              "6       1                4.207                1326.0           3024.0\n",
              "7       0               93.000                 449.0            250.0\n",
              "8       0                5.390                2074.0           6521.0\n",
              "9       0               36.280                1701.0           3620.0\n",
              "10      1                9.390                1774.0           3589.0\n",
              "11      1              125.000                1370.0           3465.0\n",
              "12      0              109.000                 601.0            286.0\n",
              "13      0                5.530                1536.0           4135.0\n",
              "14      0              163.000                 136.0            168.0\n",
              "15      0               25.360                1944.0           4283.0\n",
              "16      0              328.200                1951.0           5493.0\n",
              "17      1             1319.000                 423.0            158.0\n",
              "18      1               35.270                 644.0            248.0\n",
              "19      0               38.260                 882.0            342.0\n",
              "20      1               82.800                1414.0           3915.0\n",
              "21      1               96.460                 639.0            222.0\n",
              "22      1               11.490                1495.0           1638.0\n",
              "23      1               10.380                1515.0           4483.0\n",
              "24      1               17.420                1778.0           4418.0\n",
              "25      0               18.250                 905.0           1123.0\n",
              "26      1               10.530                 850.0           1052.0\n",
              "27      0                5.400                2169.0           4577.0\n",
              "28      1               23.570                1057.0           2542.0"
            ]
          },
          "metadata": {},
          "execution_count": 80
        }
      ]
    },
    {
      "cell_type": "code",
      "metadata": {
        "colab": {
          "base_uri": "https://localhost:8080/"
        },
        "id": "q8LEyWt94erx",
        "outputId": "0d60ce57-168f-4beb-a532-b9092b812e02"
      },
      "source": [
        "Data.dtypes"
      ],
      "execution_count": 81,
      "outputs": [
        {
          "output_type": "execute_result",
          "data": {
            "text/plain": [
              "total                     int64\n",
              "population(million)     float64\n",
              "living expenses(USD)    float64\n",
              "avg income(USD)         float64\n",
              "dtype: object"
            ]
          },
          "metadata": {},
          "execution_count": 81
        }
      ]
    },
    {
      "cell_type": "markdown",
      "metadata": {
        "id": "xJEx_P4-jeHL"
      },
      "source": [
        "#**Data Mining**\n",
        "\n",
        "![image.png](data:image/png;base64,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)"
      ]
    },
    {
      "cell_type": "markdown",
      "metadata": {
        "id": "_Ek-Idy0FDQG"
      },
      "source": [
        "#**การคัดเลือกตัวแบบ**"
      ]
    },
    {
      "cell_type": "markdown",
      "metadata": {
        "id": "K91qPrLdZ5VT"
      },
      "source": [
        "##KNN"
      ]
    },
    {
      "cell_type": "code",
      "metadata": {
        "id": "eMhoFx9dZ4X0"
      },
      "source": [
        "from sklearn.model_selection import train_test_split \n",
        "from sklearn import datasets"
      ],
      "execution_count": 82,
      "outputs": []
    },
    {
      "cell_type": "markdown",
      "metadata": {
        "id": "KBA3gU43Z2oz"
      },
      "source": [
        "> โดยจะกำหนดแบ่ง train กับ test โดย test size = 0.2 "
      ]
    },
    {
      "cell_type": "code",
      "metadata": {
        "id": "iwx5IJEnj3OZ"
      },
      "source": [
        "X = Data.iloc[:,1:4] #กำหนดค่า X โดยให้เอาทุกแถว ตั้งแต่คอลัมที่ 2 ถึง 5\n",
        "y = Data[['total']] #กำหนดค่า y โดยให้เอาทุกแถว \n",
        "# train-test\n",
        "X_train, X_test, y_train, y_test = train_test_split(X,y, test_size=0.2, random_state=1, stratify=y)\n",
        "# train-validation\n",
        "X_train2, X_val, y_train2, y_val = train_test_split(X_train, y_train, test_size=0.3, random_state=6)"
      ],
      "execution_count": 83,
      "outputs": []
    },
    {
      "cell_type": "markdown",
      "metadata": {
        "id": "sMYuieWYfNg1"
      },
      "source": [
        "##**Train Model**"
      ]
    },
    {
      "cell_type": "markdown",
      "metadata": {
        "id": "suBANdwucy5A"
      },
      "source": [
        ">  Import"
      ]
    },
    {
      "cell_type": "code",
      "metadata": {
        "id": "N8QZkPhocxUX"
      },
      "source": [
        "from sklearn.neighbors import KNeighborsClassifier\n",
        "from sklearn.metrics import accuracy_score"
      ],
      "execution_count": 84,
      "outputs": []
    },
    {
      "cell_type": "markdown",
      "metadata": {
        "id": "d10Hc9L_c2Oj"
      },
      "source": [
        ">  Define นิยามโมเดล"
      ]
    },
    {
      "cell_type": "code",
      "metadata": {
        "id": "ip7Fn90SDFtC"
      },
      "source": [
        "KNN_1=KNeighborsClassifier(n_neighbors=4) #n_neighbors คือ จำนวนเพื่อนบ้านที่จะพิจารณา"
      ],
      "execution_count": 85,
      "outputs": []
    },
    {
      "cell_type": "markdown",
      "metadata": {
        "id": "ucgrtAP7c5yj"
      },
      "source": [
        "> Train เพื่อสร้างโมเดล"
      ]
    },
    {
      "cell_type": "code",
      "metadata": {
        "colab": {
          "base_uri": "https://localhost:8080/"
        },
        "id": "2UeHXrFyc5g7",
        "outputId": "25010fce-95ee-4035-fc1d-5f894a8a2f89"
      },
      "source": [
        "KNN_1.fit(X_train , y_train)\n",
        " #input มี2ตัว คือ X และ y \n",
        "#โดยใช้น้ำหนักแต่ละจุดเท่ากัน"
      ],
      "execution_count": 86,
      "outputs": [
        {
          "output_type": "stream",
          "name": "stderr",
          "text": [
            "/usr/local/lib/python3.7/dist-packages/ipykernel_launcher.py:1: DataConversionWarning: A column-vector y was passed when a 1d array was expected. Please change the shape of y to (n_samples, ), for example using ravel().\n",
            "  \"\"\"Entry point for launching an IPython kernel.\n"
          ]
        },
        {
          "output_type": "execute_result",
          "data": {
            "text/plain": [
              "KNeighborsClassifier(algorithm='auto', leaf_size=30, metric='minkowski',\n",
              "                     metric_params=None, n_jobs=None, n_neighbors=4, p=2,\n",
              "                     weights='uniform')"
            ]
          },
          "metadata": {},
          "execution_count": 86
        }
      ]
    },
    {
      "cell_type": "markdown",
      "metadata": {
        "id": "4fg_5aqP7bE4"
      },
      "source": [
        ">**Test** ใช้คำสั่ง .predict โดยที่ข้อมูลมากจาก X_test"
      ]
    },
    {
      "cell_type": "code",
      "metadata": {
        "colab": {
          "base_uri": "https://localhost:8080/"
        },
        "id": "rKObkUDx7dfx",
        "outputId": "cf2bcfa3-03da-4c9f-e6d1-8a883b18450a"
      },
      "source": [
        "KNN_1.predict(X_test) #โดยใช้ predict ทำนายว่าตัวที่ใกล้สุด 3 ตัวแรก คือ 2"
      ],
      "execution_count": 87,
      "outputs": [
        {
          "output_type": "execute_result",
          "data": {
            "text/plain": [
              "array([0, 0, 1, 0, 0, 0])"
            ]
          },
          "metadata": {},
          "execution_count": 87
        }
      ]
    },
    {
      "cell_type": "markdown",
      "metadata": {
        "id": "mW-gS70U77tx"
      },
      "source": [
        "ใช้คำสั่ง .predict_proba เป็นการคำนวณความน่าจะเป็นว่า จำนวนประชากร รายได้เฉลี่ย ค่าครองชีพที่นำเข้าโมเดลนั้นจะอยู่กลุ่มไหนของปริมาณการนำเข้าสินค้าทางการเกษตรกี่เปอร์เซ็นต์"
      ]
    },
    {
      "cell_type": "code",
      "metadata": {
        "id": "Cf9pcsGS7-Hk",
        "colab": {
          "base_uri": "https://localhost:8080/"
        },
        "outputId": "7d7b89b2-1f75-41d9-b5db-c5923992c99d"
      },
      "source": [
        "KNN_1.predict_proba(X_test)"
      ],
      "execution_count": 88,
      "outputs": [
        {
          "output_type": "execute_result",
          "data": {
            "text/plain": [
              "array([[0.5 , 0.5 ],\n",
              "       [0.5 , 0.5 ],\n",
              "       [0.25, 0.75],\n",
              "       [0.5 , 0.5 ],\n",
              "       [0.75, 0.25],\n",
              "       [1.  , 0.  ]])"
            ]
          },
          "metadata": {},
          "execution_count": 88
        }
      ]
    },
    {
      "cell_type": "markdown",
      "metadata": {
        "id": "vep6w3x6FqkP"
      },
      "source": [
        "##**การวัดผลของตัวแบบ KNN**"
      ]
    },
    {
      "cell_type": "markdown",
      "metadata": {
        "id": "91wn_i_X8FZJ"
      },
      "source": [
        "ตรวจสอบความแม่นยำของโมเดล ว่าสามารถจำแนกกลุ่มปริมาณการนำเข้าสินค้าทางการเกษตร ว่าอยู่กลุ่มมาก กลุ่มน้อย ได้ที่ความแม่นยำกี่เปอร์เซ็นต์"
      ]
    },
    {
      "cell_type": "code",
      "metadata": {
        "id": "zYHH8BW-8HNJ"
      },
      "source": [
        "from sklearn.model_selection import cross_val_score"
      ],
      "execution_count": 89,
      "outputs": []
    },
    {
      "cell_type": "code",
      "metadata": {
        "id": "22KvKZnt8KJg",
        "colab": {
          "base_uri": "https://localhost:8080/"
        },
        "outputId": "3d000a6c-7197-4a47-9481-cc52e0b54774"
      },
      "source": [
        "cross_val_score(KNN_1, X_train, y_train, cv=12).mean()"
      ],
      "execution_count": 90,
      "outputs": [
        {
          "output_type": "stream",
          "name": "stderr",
          "text": [
            "/usr/local/lib/python3.7/dist-packages/sklearn/model_selection/_split.py:667: UserWarning: The least populated class in y has only 11 members, which is less than n_splits=12.\n",
            "  % (min_groups, self.n_splits)), UserWarning)\n",
            "/usr/local/lib/python3.7/dist-packages/sklearn/model_selection/_validation.py:515: DataConversionWarning: A column-vector y was passed when a 1d array was expected. Please change the shape of y to (n_samples, ), for example using ravel().\n",
            "  estimator.fit(X_train, y_train, **fit_params)\n",
            "/usr/local/lib/python3.7/dist-packages/sklearn/model_selection/_validation.py:515: DataConversionWarning: A column-vector y was passed when a 1d array was expected. Please change the shape of y to (n_samples, ), for example using ravel().\n",
            "  estimator.fit(X_train, y_train, **fit_params)\n",
            "/usr/local/lib/python3.7/dist-packages/sklearn/model_selection/_validation.py:515: DataConversionWarning: A column-vector y was passed when a 1d array was expected. Please change the shape of y to (n_samples, ), for example using ravel().\n",
            "  estimator.fit(X_train, y_train, **fit_params)\n",
            "/usr/local/lib/python3.7/dist-packages/sklearn/model_selection/_validation.py:515: DataConversionWarning: A column-vector y was passed when a 1d array was expected. Please change the shape of y to (n_samples, ), for example using ravel().\n",
            "  estimator.fit(X_train, y_train, **fit_params)\n",
            "/usr/local/lib/python3.7/dist-packages/sklearn/model_selection/_validation.py:515: DataConversionWarning: A column-vector y was passed when a 1d array was expected. Please change the shape of y to (n_samples, ), for example using ravel().\n",
            "  estimator.fit(X_train, y_train, **fit_params)\n",
            "/usr/local/lib/python3.7/dist-packages/sklearn/model_selection/_validation.py:515: DataConversionWarning: A column-vector y was passed when a 1d array was expected. Please change the shape of y to (n_samples, ), for example using ravel().\n",
            "  estimator.fit(X_train, y_train, **fit_params)\n",
            "/usr/local/lib/python3.7/dist-packages/sklearn/model_selection/_validation.py:515: DataConversionWarning: A column-vector y was passed when a 1d array was expected. Please change the shape of y to (n_samples, ), for example using ravel().\n",
            "  estimator.fit(X_train, y_train, **fit_params)\n",
            "/usr/local/lib/python3.7/dist-packages/sklearn/model_selection/_validation.py:515: DataConversionWarning: A column-vector y was passed when a 1d array was expected. Please change the shape of y to (n_samples, ), for example using ravel().\n",
            "  estimator.fit(X_train, y_train, **fit_params)\n",
            "/usr/local/lib/python3.7/dist-packages/sklearn/model_selection/_validation.py:515: DataConversionWarning: A column-vector y was passed when a 1d array was expected. Please change the shape of y to (n_samples, ), for example using ravel().\n",
            "  estimator.fit(X_train, y_train, **fit_params)\n",
            "/usr/local/lib/python3.7/dist-packages/sklearn/model_selection/_validation.py:515: DataConversionWarning: A column-vector y was passed when a 1d array was expected. Please change the shape of y to (n_samples, ), for example using ravel().\n",
            "  estimator.fit(X_train, y_train, **fit_params)\n",
            "/usr/local/lib/python3.7/dist-packages/sklearn/model_selection/_validation.py:515: DataConversionWarning: A column-vector y was passed when a 1d array was expected. Please change the shape of y to (n_samples, ), for example using ravel().\n",
            "  estimator.fit(X_train, y_train, **fit_params)\n",
            "/usr/local/lib/python3.7/dist-packages/sklearn/model_selection/_validation.py:515: DataConversionWarning: A column-vector y was passed when a 1d array was expected. Please change the shape of y to (n_samples, ), for example using ravel().\n",
            "  estimator.fit(X_train, y_train, **fit_params)\n"
          ]
        },
        {
          "output_type": "execute_result",
          "data": {
            "text/plain": [
              "0.625"
            ]
          },
          "metadata": {},
          "execution_count": 90
        }
      ]
    },
    {
      "cell_type": "markdown",
      "metadata": {
        "id": "Bk-xGyhn9lRR"
      },
      "source": [
        ">**สรุปได้ว่า** จำนวนประชากร รายได้เฉลี่ย ค่าครองชีพโดยเฉลี่ย สามารถทำนายจำนวนคู่หย่าว่าแต่ละจังหวัดจัดอยู่ในกลุ่มมากหรือน้อยได้ ความแม่นยำ 62.50% เมื่อใช้โมเดล KNN"
      ]
    },
    {
      "cell_type": "markdown",
      "metadata": {
        "id": "h68SR-cT-Kdh"
      },
      "source": [
        "#**Desition Tree**"
      ]
    },
    {
      "cell_type": "markdown",
      "metadata": {
        "id": "Q_C0jtId-SiK"
      },
      "source": [
        ">**Import**"
      ]
    },
    {
      "cell_type": "code",
      "metadata": {
        "id": "m--m98na-OGZ"
      },
      "source": [
        "from sklearn.tree import DecisionTreeClassifier"
      ],
      "execution_count": 91,
      "outputs": []
    },
    {
      "cell_type": "markdown",
      "metadata": {
        "id": "cSWvoBuN-YP5"
      },
      "source": [
        ">**Define**"
      ]
    },
    {
      "cell_type": "code",
      "metadata": {
        "id": "tx6t26uk-bX5"
      },
      "source": [
        "myTree=DecisionTreeClassifier(criterion='entropy',max_depth=2)\n",
        "#criterion คือ default เป็น ‘gini’ ซึ่งเราสามารถจะเลือกเป็น ‘entropy’ \n",
        "#max_depth ความลึกของ tree หรือจำนวน level ที่มากที่สุด ของ node ที่จะทำการ split"
      ],
      "execution_count": 92,
      "outputs": []
    },
    {
      "cell_type": "markdown",
      "metadata": {
        "id": "mRYKv1xr-Tb5"
      },
      "source": [
        ">**Train**"
      ]
    },
    {
      "cell_type": "code",
      "metadata": {
        "id": "vZzcrXwi-ec4",
        "colab": {
          "base_uri": "https://localhost:8080/"
        },
        "outputId": "a63f13da-27f3-4d11-ddfa-326d71f97178"
      },
      "source": [
        "myTree.fit(X_train,y_train) #กำหนดขอบเขตของข้อมูล"
      ],
      "execution_count": 93,
      "outputs": [
        {
          "output_type": "execute_result",
          "data": {
            "text/plain": [
              "DecisionTreeClassifier(ccp_alpha=0.0, class_weight=None, criterion='entropy',\n",
              "                       max_depth=2, max_features=None, max_leaf_nodes=None,\n",
              "                       min_impurity_decrease=0.0, min_impurity_split=None,\n",
              "                       min_samples_leaf=1, min_samples_split=2,\n",
              "                       min_weight_fraction_leaf=0.0, presort='deprecated',\n",
              "                       random_state=None, splitter='best')"
            ]
          },
          "metadata": {},
          "execution_count": 93
        }
      ]
    },
    {
      "cell_type": "markdown",
      "metadata": {
        "id": "wli1K47u-miC"
      },
      "source": [
        ">**Test**"
      ]
    },
    {
      "cell_type": "code",
      "metadata": {
        "id": "1iNdQ-52-oeJ",
        "colab": {
          "base_uri": "https://localhost:8080/"
        },
        "outputId": "398fdd7b-8cce-4986-b655-1cb8032cc97f"
      },
      "source": [
        "y_pred = myTree.predict(X_test)\n",
        "y_pred"
      ],
      "execution_count": 94,
      "outputs": [
        {
          "output_type": "execute_result",
          "data": {
            "text/plain": [
              "array([1, 0, 1, 0, 0, 0])"
            ]
          },
          "metadata": {},
          "execution_count": 94
        }
      ]
    },
    {
      "cell_type": "markdown",
      "metadata": {
        "id": "Sya9jAsp-rpx"
      },
      "source": [
        ">**Draw Tree**"
      ]
    },
    {
      "cell_type": "code",
      "metadata": {
        "id": "zIOK99dZ-tgI"
      },
      "source": [
        "from sklearn.tree import plot_tree"
      ],
      "execution_count": 95,
      "outputs": []
    },
    {
      "cell_type": "code",
      "metadata": {
        "id": "MJ_GfgWp-wRR",
        "colab": {
          "base_uri": "https://localhost:8080/",
          "height": 331
        },
        "outputId": "283a1077-cd51-45b7-f035-1a73b325b51d"
      },
      "source": [
        "plot_tree(myTree)"
      ],
      "execution_count": 96,
      "outputs": [
        {
          "output_type": "execute_result",
          "data": {
            "text/plain": [
              "[Text(200.88000000000002, 181.2, 'X[1] <= 1817.0\\nentropy = 0.999\\nsamples = 23\\nvalue = [12, 11]'),\n",
              " Text(133.92000000000002, 108.72, 'X[1] <= 1004.5\\nentropy = 0.993\\nsamples = 20\\nvalue = [9, 11]'),\n",
              " Text(66.96000000000001, 36.23999999999998, 'entropy = 0.946\\nsamples = 11\\nvalue = [7, 4]'),\n",
              " Text(200.88000000000002, 36.23999999999998, 'entropy = 0.764\\nsamples = 9\\nvalue = [2, 7]'),\n",
              " Text(267.84000000000003, 108.72, 'entropy = 0.0\\nsamples = 3\\nvalue = [3, 0]')]"
            ]
          },
          "metadata": {},
          "execution_count": 96
        },
        {
          "output_type": "display_data",
          "data": {
            "image/png": "[encoded data removed]",
            "text/plain": [
              "<Figure size 432x288 with 1 Axes>"
            ]
          },
          "metadata": {
            "needs_background": "light"
          }
        }
      ]
    },
    {
      "cell_type": "markdown",
      "metadata": {
        "id": "yJuhCmHWFg4V"
      },
      "source": [
        "##**การวัดผลของตัวแบบ Disition tree**"
      ]
    },
    {
      "cell_type": "markdown",
      "metadata": {
        "id": "5GrQcbrM-2Ra"
      },
      "source": [
        ">**Evaluation**"
      ]
    },
    {
      "cell_type": "code",
      "metadata": {
        "id": "V8n3YkEG-5M5"
      },
      "source": [
        "from sklearn.metrics import classification_report, confusion_matrix"
      ],
      "execution_count": 97,
      "outputs": []
    },
    {
      "cell_type": "code",
      "metadata": {
        "id": "_KQuAlmH-5aS",
        "colab": {
          "base_uri": "https://localhost:8080/"
        },
        "outputId": "e03c7b3d-3f59-4ab4-ada4-de1f5793c686"
      },
      "source": [
        "cross_val_score(myTree, X_train, y_train, cv=12).mean()"
      ],
      "execution_count": 98,
      "outputs": [
        {
          "output_type": "stream",
          "name": "stderr",
          "text": [
            "/usr/local/lib/python3.7/dist-packages/sklearn/model_selection/_split.py:667: UserWarning: The least populated class in y has only 11 members, which is less than n_splits=12.\n",
            "  % (min_groups, self.n_splits)), UserWarning)\n"
          ]
        },
        {
          "output_type": "execute_result",
          "data": {
            "text/plain": [
              "0.4583333333333333"
            ]
          },
          "metadata": {},
          "execution_count": 98
        }
      ]
    },
    {
      "cell_type": "markdown",
      "metadata": {
        "id": "_o2EUNUy_A-j"
      },
      "source": [
        ">**สรุปได้ว่า** จำนวนประชากร รายได้เฉลี่ย ค่าครองชีพโดยเฉลี่ย สามารถทำนายจำนวนคู่หย่าว่าแต่ละจังหวัดจัดอยู่ในกลุ่มมากหรือน้อยได้ ความแม่นยำ 41.67% เมื่อใช้โมเดล Decision Tree"
      ]
    },
    {
      "cell_type": "markdown",
      "metadata": {
        "id": "whJ_BIXr_G8I"
      },
      "source": [
        "#**Random Forest**"
      ]
    },
    {
      "cell_type": "code",
      "metadata": {
        "id": "nbT9iXNO_OPh",
        "colab": {
          "base_uri": "https://localhost:8080/"
        },
        "outputId": "cf521b28-20fb-4e1d-a69f-99c3a2238d1e"
      },
      "source": [
        "from sklearn.ensemble import RandomForestClassifier\n",
        "skRF = RandomForestClassifier(random_state=1)\n",
        "skRF.fit(X_train,y_train)\n",
        "skRF.score(X,y)\n",
        "y_predrf = skRF.predict(X_test)\n",
        "y_predrf"
      ],
      "execution_count": 99,
      "outputs": [
        {
          "output_type": "stream",
          "name": "stderr",
          "text": [
            "/usr/local/lib/python3.7/dist-packages/ipykernel_launcher.py:3: DataConversionWarning: A column-vector y was passed when a 1d array was expected. Please change the shape of y to (n_samples,), for example using ravel().\n",
            "  This is separate from the ipykernel package so we can avoid doing imports until\n"
          ]
        },
        {
          "output_type": "execute_result",
          "data": {
            "text/plain": [
              "array([1, 0, 1, 0, 0, 0])"
            ]
          },
          "metadata": {},
          "execution_count": 99
        }
      ]
    },
    {
      "cell_type": "markdown",
      "metadata": {
        "id": "HtcA0cNHFYVV"
      },
      "source": [
        "##**การวัดผลของตัวแบบ Random Forest**"
      ]
    },
    {
      "cell_type": "code",
      "metadata": {
        "id": "6MWogupB_OGi",
        "colab": {
          "base_uri": "https://localhost:8080/"
        },
        "outputId": "3c9952b9-3a9a-4fab-a7b0-3342cc714ea7"
      },
      "source": [
        "cross_val_score(skRF, X_train, y_train, cv=12).mean()"
      ],
      "execution_count": 100,
      "outputs": [
        {
          "output_type": "stream",
          "name": "stderr",
          "text": [
            "/usr/local/lib/python3.7/dist-packages/sklearn/model_selection/_split.py:667: UserWarning: The least populated class in y has only 11 members, which is less than n_splits=12.\n",
            "  % (min_groups, self.n_splits)), UserWarning)\n",
            "/usr/local/lib/python3.7/dist-packages/sklearn/model_selection/_validation.py:515: DataConversionWarning: A column-vector y was passed when a 1d array was expected. Please change the shape of y to (n_samples,), for example using ravel().\n",
            "  estimator.fit(X_train, y_train, **fit_params)\n",
            "/usr/local/lib/python3.7/dist-packages/sklearn/model_selection/_validation.py:515: DataConversionWarning: A column-vector y was passed when a 1d array was expected. Please change the shape of y to (n_samples,), for example using ravel().\n",
            "  estimator.fit(X_train, y_train, **fit_params)\n",
            "/usr/local/lib/python3.7/dist-packages/sklearn/model_selection/_validation.py:515: DataConversionWarning: A column-vector y was passed when a 1d array was expected. Please change the shape of y to (n_samples,), for example using ravel().\n",
            "  estimator.fit(X_train, y_train, **fit_params)\n",
            "/usr/local/lib/python3.7/dist-packages/sklearn/model_selection/_validation.py:515: DataConversionWarning: A column-vector y was passed when a 1d array was expected. Please change the shape of y to (n_samples,), for example using ravel().\n",
            "  estimator.fit(X_train, y_train, **fit_params)\n",
            "/usr/local/lib/python3.7/dist-packages/sklearn/model_selection/_validation.py:515: DataConversionWarning: A column-vector y was passed when a 1d array was expected. Please change the shape of y to (n_samples,), for example using ravel().\n",
            "  estimator.fit(X_train, y_train, **fit_params)\n",
            "/usr/local/lib/python3.7/dist-packages/sklearn/model_selection/_validation.py:515: DataConversionWarning: A column-vector y was passed when a 1d array was expected. Please change the shape of y to (n_samples,), for example using ravel().\n",
            "  estimator.fit(X_train, y_train, **fit_params)\n",
            "/usr/local/lib/python3.7/dist-packages/sklearn/model_selection/_validation.py:515: DataConversionWarning: A column-vector y was passed when a 1d array was expected. Please change the shape of y to (n_samples,), for example using ravel().\n",
            "  estimator.fit(X_train, y_train, **fit_params)\n",
            "/usr/local/lib/python3.7/dist-packages/sklearn/model_selection/_validation.py:515: DataConversionWarning: A column-vector y was passed when a 1d array was expected. Please change the shape of y to (n_samples,), for example using ravel().\n",
            "  estimator.fit(X_train, y_train, **fit_params)\n",
            "/usr/local/lib/python3.7/dist-packages/sklearn/model_selection/_validation.py:515: DataConversionWarning: A column-vector y was passed when a 1d array was expected. Please change the shape of y to (n_samples,), for example using ravel().\n",
            "  estimator.fit(X_train, y_train, **fit_params)\n",
            "/usr/local/lib/python3.7/dist-packages/sklearn/model_selection/_validation.py:515: DataConversionWarning: A column-vector y was passed when a 1d array was expected. Please change the shape of y to (n_samples,), for example using ravel().\n",
            "  estimator.fit(X_train, y_train, **fit_params)\n",
            "/usr/local/lib/python3.7/dist-packages/sklearn/model_selection/_validation.py:515: DataConversionWarning: A column-vector y was passed when a 1d array was expected. Please change the shape of y to (n_samples,), for example using ravel().\n",
            "  estimator.fit(X_train, y_train, **fit_params)\n",
            "/usr/local/lib/python3.7/dist-packages/sklearn/model_selection/_validation.py:515: DataConversionWarning: A column-vector y was passed when a 1d array was expected. Please change the shape of y to (n_samples,), for example using ravel().\n",
            "  estimator.fit(X_train, y_train, **fit_params)\n"
          ]
        },
        {
          "output_type": "execute_result",
          "data": {
            "text/plain": [
              "0.375"
            ]
          },
          "metadata": {},
          "execution_count": 100
        }
      ]
    },
    {
      "cell_type": "markdown",
      "metadata": {
        "id": "f0JIQV4jISsS"
      },
      "source": [
        "สรุปได้ว่า จำนวนประชากร รายได้ ค่าครองชีพ มีผลต่อการนำเข้าสินค้าทางการเกษตรว่าแต่ละประเทศจัดอยู่ในกลุ่มมากหรือน้อยได้ ด้วยความแม่นยำ 41.67% เมื่อใช้โมเดล RF"
      ]
    },
    {
      "cell_type": "markdown",
      "metadata": {
        "id": "inDg6WobGJwO"
      },
      "source": [
        "**จากการทำทั้งสามโมเดลการทำนายพบว่ จำนวนประชากร รายได้ ค่าครองชีพ มีผลต่อการนำเข้าสินค้าทางการเกษตรว่าแต่ละประเทศจัดอยู่ในกลุ่มมากหรือน้อยได้ ที่มีความความแม่นยำมากที่สุด 2 โมเดลจากทั้งสามโมเดลคือ KNN และ RF โดยมีความแม่นยำ 62.50% เท่ากัน**"
      ]
    },
    {
      "cell_type": "markdown",
      "metadata": {
        "id": "4PP3CXqRGOJN"
      },
      "source": [
        "#**Visualization**\n",
        "ของผลการวัดของแต่ละโมเดล"
      ]
    },
    {
      "cell_type": "markdown",
      "metadata": {
        "id": "1yjVZSTqI5dx"
      },
      "source": [
        "##**วัดผลเปรียบเทียบความแม่นยำ**"
      ]
    },
    {
      "cell_type": "code",
      "metadata": {
        "id": "4X_FwTZ0GWTO"
      },
      "source": [
        "import numpy as np\n",
        "\n",
        "\n",
        "labels = ['KNN', 'Desition Tree', 'RF']\n",
        "cross_val_score = [62.50, 54.16, 62.50]"
      ],
      "execution_count": 101,
      "outputs": []
    },
    {
      "cell_type": "code",
      "metadata": {
        "id": "MIQlwnBXGdfl",
        "colab": {
          "base_uri": "https://localhost:8080/",
          "height": 297
        },
        "outputId": "53c4273b-971e-4dfb-b18f-380bed03c1ec"
      },
      "source": [
        "width = 0.35  #ขนาดของแท่ง\n",
        "\n",
        "plt.bar([0,1,2],cross_val_score)\n",
        "plt.ylabel('Score')\n",
        "plt.title('Cross value score of model')\n",
        "plt.xticks([0,1,2],labels)\n",
        "plt.legend();\n",
        "plt.show()"
      ],
      "execution_count": 102,
      "outputs": [
        {
          "output_type": "stream",
          "name": "stderr",
          "text": [
            "No handles with labels found to put in legend.\n"
          ]
        },
        {
          "output_type": "display_data",
          "data": {
            "image/png": "[encoded data removed]",
            "text/plain": [
              "<Figure size 432x288 with 1 Axes>"
            ]
          },
          "metadata": {
            "needs_background": "light"
          }
        }
      ]
    },
    {
      "cell_type": "markdown",
      "metadata": {
        "id": "O-3eeipSJC-u"
      },
      "source": [
        ">**เราจะเห็นว่าโมเดล KNN และ Random Forest มีความแม่นยำเท่ากัน**"
      ]
    },
    {
      "cell_type": "markdown",
      "metadata": {
        "id": "7GQIQqz4JVRW"
      },
      "source": [
        "##**ดูความสัมพันธ์ของปัจจัย**"
      ]
    },
    {
      "cell_type": "markdown",
      "metadata": {
        "id": "MXOm6SxMyE98"
      },
      "source": [
        "**แสดงข้อมูลที่จะทำการวิเคราะห์**"
      ]
    },
    {
      "cell_type": "code",
      "metadata": {
        "id": "BBoCFSLgGdX_",
        "colab": {
          "base_uri": "https://localhost:8080/",
          "height": 0
        },
        "outputId": "a8ff9f8c-86c2-4adf-ac90-b0b056680fc0"
      },
      "source": [
        "Data"
      ],
      "execution_count": 103,
      "outputs": [
        {
          "output_type": "execute_result",
          "data": {
            "text/html": [
              "<div>\n",
              "<style scoped>\n",
              "    .dataframe tbody tr th:only-of-type {\n",
              "        vertical-align: middle;\n",
              "    }\n",
              "\n",
              "    .dataframe tbody tr th {\n",
              "        vertical-align: top;\n",
              "    }\n",
              "\n",
              "    .dataframe thead th {\n",
              "        text-align: right;\n",
              "    }\n",
              "</style>\n",
              "<table border=\"1\" class=\"dataframe\">\n",
              "  <thead>\n",
              "    <tr style=\"text-align: right;\">\n",
              "      <th></th>\n",
              "      <th>total</th>\n",
              "      <th>population(million)</th>\n",
              "      <th>living expenses(USD)</th>\n",
              "      <th>avg income(USD)</th>\n",
              "    </tr>\n",
              "  </thead>\n",
              "  <tbody>\n",
              "    <tr>\n",
              "      <th>0</th>\n",
              "      <td>0</td>\n",
              "      <td>34.220</td>\n",
              "      <td>952.0</td>\n",
              "      <td>4754.0</td>\n",
              "    </tr>\n",
              "    <tr>\n",
              "      <th>1</th>\n",
              "      <td>0</td>\n",
              "      <td>1400.000</td>\n",
              "      <td>752.0</td>\n",
              "      <td>884.0</td>\n",
              "    </tr>\n",
              "    <tr>\n",
              "      <th>2</th>\n",
              "      <td>1</td>\n",
              "      <td>51.000</td>\n",
              "      <td>1154.0</td>\n",
              "      <td>2738.0</td>\n",
              "    </tr>\n",
              "    <tr>\n",
              "      <th>3</th>\n",
              "      <td>0</td>\n",
              "      <td>2.000</td>\n",
              "      <td>1856.0</td>\n",
              "      <td>4684.0</td>\n",
              "    </tr>\n",
              "    <tr>\n",
              "      <th>4</th>\n",
              "      <td>0</td>\n",
              "      <td>30.000</td>\n",
              "      <td>652.0</td>\n",
              "      <td>882.0</td>\n",
              "    </tr>\n",
              "    <tr>\n",
              "      <th>5</th>\n",
              "      <td>1</td>\n",
              "      <td>146.000</td>\n",
              "      <td>424.0</td>\n",
              "      <td>891.0</td>\n",
              "    </tr>\n",
              "    <tr>\n",
              "      <th>6</th>\n",
              "      <td>1</td>\n",
              "      <td>4.207</td>\n",
              "      <td>1326.0</td>\n",
              "      <td>3024.0</td>\n",
              "    </tr>\n",
              "    <tr>\n",
              "      <th>7</th>\n",
              "      <td>0</td>\n",
              "      <td>93.000</td>\n",
              "      <td>449.0</td>\n",
              "      <td>250.0</td>\n",
              "    </tr>\n",
              "    <tr>\n",
              "      <th>8</th>\n",
              "      <td>0</td>\n",
              "      <td>5.390</td>\n",
              "      <td>2074.0</td>\n",
              "      <td>6521.0</td>\n",
              "    </tr>\n",
              "    <tr>\n",
              "      <th>9</th>\n",
              "      <td>0</td>\n",
              "      <td>36.280</td>\n",
              "      <td>1701.0</td>\n",
              "      <td>3620.0</td>\n",
              "    </tr>\n",
              "    <tr>\n",
              "      <th>10</th>\n",
              "      <td>1</td>\n",
              "      <td>9.390</td>\n",
              "      <td>1774.0</td>\n",
              "      <td>3589.0</td>\n",
              "    </tr>\n",
              "    <tr>\n",
              "      <th>11</th>\n",
              "      <td>1</td>\n",
              "      <td>125.000</td>\n",
              "      <td>1370.0</td>\n",
              "      <td>3465.0</td>\n",
              "    </tr>\n",
              "    <tr>\n",
              "      <th>12</th>\n",
              "      <td>0</td>\n",
              "      <td>109.000</td>\n",
              "      <td>601.0</td>\n",
              "      <td>286.0</td>\n",
              "    </tr>\n",
              "    <tr>\n",
              "      <th>13</th>\n",
              "      <td>0</td>\n",
              "      <td>5.530</td>\n",
              "      <td>1536.0</td>\n",
              "      <td>4135.0</td>\n",
              "    </tr>\n",
              "    <tr>\n",
              "      <th>14</th>\n",
              "      <td>0</td>\n",
              "      <td>163.000</td>\n",
              "      <td>136.0</td>\n",
              "      <td>168.0</td>\n",
              "    </tr>\n",
              "    <tr>\n",
              "      <th>15</th>\n",
              "      <td>0</td>\n",
              "      <td>25.360</td>\n",
              "      <td>1944.0</td>\n",
              "      <td>4283.0</td>\n",
              "    </tr>\n",
              "    <tr>\n",
              "      <th>16</th>\n",
              "      <td>0</td>\n",
              "      <td>328.200</td>\n",
              "      <td>1951.0</td>\n",
              "      <td>5493.0</td>\n",
              "    </tr>\n",
              "    <tr>\n",
              "      <th>17</th>\n",
              "      <td>1</td>\n",
              "      <td>1319.000</td>\n",
              "      <td>423.0</td>\n",
              "      <td>158.0</td>\n",
              "    </tr>\n",
              "    <tr>\n",
              "      <th>18</th>\n",
              "      <td>1</td>\n",
              "      <td>35.270</td>\n",
              "      <td>644.0</td>\n",
              "      <td>248.0</td>\n",
              "    </tr>\n",
              "    <tr>\n",
              "      <th>19</th>\n",
              "      <td>0</td>\n",
              "      <td>38.260</td>\n",
              "      <td>882.0</td>\n",
              "      <td>342.0</td>\n",
              "    </tr>\n",
              "    <tr>\n",
              "      <th>20</th>\n",
              "      <td>1</td>\n",
              "      <td>82.800</td>\n",
              "      <td>1414.0</td>\n",
              "      <td>3915.0</td>\n",
              "    </tr>\n",
              "    <tr>\n",
              "      <th>21</th>\n",
              "      <td>1</td>\n",
              "      <td>96.460</td>\n",
              "      <td>639.0</td>\n",
              "      <td>222.0</td>\n",
              "    </tr>\n",
              "    <tr>\n",
              "      <th>22</th>\n",
              "      <td>1</td>\n",
              "      <td>11.490</td>\n",
              "      <td>1495.0</td>\n",
              "      <td>1638.0</td>\n",
              "    </tr>\n",
              "    <tr>\n",
              "      <th>23</th>\n",
              "      <td>1</td>\n",
              "      <td>10.380</td>\n",
              "      <td>1515.0</td>\n",
              "      <td>4483.0</td>\n",
              "    </tr>\n",
              "    <tr>\n",
              "      <th>24</th>\n",
              "      <td>1</td>\n",
              "      <td>17.420</td>\n",
              "      <td>1778.0</td>\n",
              "      <td>4418.0</td>\n",
              "    </tr>\n",
              "    <tr>\n",
              "      <th>25</th>\n",
              "      <td>0</td>\n",
              "      <td>18.250</td>\n",
              "      <td>905.0</td>\n",
              "      <td>1123.0</td>\n",
              "    </tr>\n",
              "    <tr>\n",
              "      <th>26</th>\n",
              "      <td>1</td>\n",
              "      <td>10.530</td>\n",
              "      <td>850.0</td>\n",
              "      <td>1052.0</td>\n",
              "    </tr>\n",
              "    <tr>\n",
              "      <th>27</th>\n",
              "      <td>0</td>\n",
              "      <td>5.400</td>\n",
              "      <td>2169.0</td>\n",
              "      <td>4577.0</td>\n",
              "    </tr>\n",
              "    <tr>\n",
              "      <th>28</th>\n",
              "      <td>1</td>\n",
              "      <td>23.570</td>\n",
              "      <td>1057.0</td>\n",
              "      <td>2542.0</td>\n",
              "    </tr>\n",
              "  </tbody>\n",
              "</table>\n",
              "</div>"
            ],
            "text/plain": [
              "    total  population(million)  living expenses(USD)  avg income(USD)\n",
              "0       0               34.220                 952.0           4754.0\n",
              "1       0             1400.000                 752.0            884.0\n",
              "2       1               51.000                1154.0           2738.0\n",
              "3       0                2.000                1856.0           4684.0\n",
              "4       0               30.000                 652.0            882.0\n",
              "5       1              146.000                 424.0            891.0\n",
              "6       1                4.207                1326.0           3024.0\n",
              "7       0               93.000                 449.0            250.0\n",
              "8       0                5.390                2074.0           6521.0\n",
              "9       0               36.280                1701.0           3620.0\n",
              "10      1                9.390                1774.0           3589.0\n",
              "11      1              125.000                1370.0           3465.0\n",
              "12      0              109.000                 601.0            286.0\n",
              "13      0                5.530                1536.0           4135.0\n",
              "14      0              163.000                 136.0            168.0\n",
              "15      0               25.360                1944.0           4283.0\n",
              "16      0              328.200                1951.0           5493.0\n",
              "17      1             1319.000                 423.0            158.0\n",
              "18      1               35.270                 644.0            248.0\n",
              "19      0               38.260                 882.0            342.0\n",
              "20      1               82.800                1414.0           3915.0\n",
              "21      1               96.460                 639.0            222.0\n",
              "22      1               11.490                1495.0           1638.0\n",
              "23      1               10.380                1515.0           4483.0\n",
              "24      1               17.420                1778.0           4418.0\n",
              "25      0               18.250                 905.0           1123.0\n",
              "26      1               10.530                 850.0           1052.0\n",
              "27      0                5.400                2169.0           4577.0\n",
              "28      1               23.570                1057.0           2542.0"
            ]
          },
          "metadata": {},
          "execution_count": 103
        }
      ]
    },
    {
      "cell_type": "code",
      "metadata": {
        "id": "hLcn-KPIGqju",
        "colab": {
          "base_uri": "https://localhost:8080/"
        },
        "outputId": "e351d41f-e84b-4b22-fdcb-ef21052b2378"
      },
      "source": [
        "np.arange(len(Data.iloc[:,:]))"
      ],
      "execution_count": 104,
      "outputs": [
        {
          "output_type": "execute_result",
          "data": {
            "text/plain": [
              "array([ 0,  1,  2,  3,  4,  5,  6,  7,  8,  9, 10, 11, 12, 13, 14, 15, 16,\n",
              "       17, 18, 19, 20, 21, 22, 23, 24, 25, 26, 27, 28])"
            ]
          },
          "metadata": {},
          "execution_count": 104
        }
      ]
    },
    {
      "cell_type": "markdown",
      "metadata": {
        "id": "_3dOj41bJuPC"
      },
      "source": [
        "> **graph 1 **"
      ]
    },
    {
      "cell_type": "markdown",
      "metadata": {
        "id": "OvhjW6d9J5WF"
      },
      "source": [
        "## **จำนวนการนำเข้าสินค้ากับจำนวนประชากร**"
      ]
    },
    {
      "cell_type": "code",
      "metadata": {
        "id": "nrMHixa3J7vP",
        "colab": {
          "base_uri": "https://localhost:8080/",
          "height": 264
        },
        "outputId": "7af86a59-a816-4a64-8edc-88c1128da747"
      },
      "source": [
        "plt.scatter(range(len(Data.iloc[:,1])),Data.iloc[:,1],s=100)\n",
        "plt.show()"
      ],
      "execution_count": 105,
      "outputs": [
        {
          "output_type": "display_data",
          "data": {
            "image/png": "[encoded data removed]",
            "text/plain": [
              "<Figure size 432x288 with 1 Axes>"
            ]
          },
          "metadata": {
            "needs_background": "light"
          }
        }
      ]
    },
    {
      "cell_type": "code",
      "metadata": {
        "id": "zzp__Ru4J8UI",
        "colab": {
          "base_uri": "https://localhost:8080/",
          "height": 264
        },
        "outputId": "91bf343f-5256-4b6b-aaaa-0637b454c945"
      },
      "source": [
        "plt.plot(range(len(Data.iloc[:,1])),Data.iloc[:,1],'s-.r')\n",
        "plt.show()"
      ],
      "execution_count": 106,
      "outputs": [
        {
          "output_type": "display_data",
          "data": {
            "image/png": "[encoded data removed]",
            "text/plain": [
              "<Figure size 432x288 with 1 Axes>"
            ]
          },
          "metadata": {
            "needs_background": "light"
          }
        }
      ]
    },
    {
      "cell_type": "code",
      "metadata": {
        "id": "UWffq4Qlwq-a",
        "colab": {
          "base_uri": "https://localhost:8080/",
          "height": 264
        },
        "outputId": "4ecc5cb1-f15b-45c2-d392-61ddffad55d1"
      },
      "source": [
        "plt.scatter(range(len(Data['population(million)'])),Data['total'],s=100)\n",
        "plt.show()"
      ],
      "execution_count": 107,
      "outputs": [
        {
          "output_type": "display_data",
          "data": {
            "image/png": "[encoded data removed]",
            "text/plain": [
              "<Figure size 432x288 with 1 Axes>"
            ]
          },
          "metadata": {
            "needs_background": "light"
          }
        }
      ]
    },
    {
      "cell_type": "markdown",
      "metadata": {
        "id": "xXVql3RkzKVD"
      },
      "source": [
        "**จากกราฟจะสามารถสรุปผลได้ว่า จำนวนการนำเข้าสินค้ากับจำนวนประชากรมีความสัมพันธ์กัน โดย ถ้าเรามองภาพแบ่งสเกลเอ็ก จะเห็นได้ว่า 1 ที่แทนปริมาณการนำเข้าสินค้าทางการเกษตรจำนวนมาก ส่วนใหญ่จะมีประชากรน้อย และ 0 ที่แทนปริมาณการนำเข้าสินค้าทางการเกษตรจำนวนน้อยส่วนใหญ่จะมีประชากรมาก หรือกล่าวได้ว่า ปริมาณการนำเข้าสินค้าทางการเกษตรกับจำนวนประชากรมีความสัมพันธ์ไปในทิศทางตรงกันข้ามกัน**"
      ]
    },
    {
      "cell_type": "markdown",
      "metadata": {
        "id": "sjHFKvuougFO"
      },
      "source": [
        ">**graph 2**"
      ]
    },
    {
      "cell_type": "markdown",
      "metadata": {
        "id": "PHy-JCyIuMzq"
      },
      "source": [
        "###**จำนวนการนำเข้าสินค้าทางเกษตรกับจำนวนค่าครองชีพ**"
      ]
    },
    {
      "cell_type": "code",
      "metadata": {
        "id": "qJU8GbRjt-Az",
        "colab": {
          "base_uri": "https://localhost:8080/",
          "height": 0
        },
        "outputId": "755c493d-f908-4c2c-ca90-f831f8c4cf25"
      },
      "source": [
        "plt.scatter(range(len(Data['living expenses(USD)'])),Data['total'],s=100)\n",
        "plt.show()"
      ],
      "execution_count": 108,
      "outputs": [
        {
          "output_type": "display_data",
          "data": {
            "image/png": "[encoded data removed]",
            "text/plain": [
              "<Figure size 432x288 with 1 Axes>"
            ]
          },
          "metadata": {
            "needs_background": "light"
          }
        }
      ]
    },
    {
      "cell_type": "code",
      "metadata": {
        "id": "PtMs2CzQt98a",
        "colab": {
          "base_uri": "https://localhost:8080/",
          "height": 0
        },
        "outputId": "3a98994c-d244-4557-8352-debb947aabf7"
      },
      "source": [
        "plt.plot(range(len(Data.iloc[:,-2])),Data.iloc[:,-2],'s-.r')\n",
        "plt.show()"
      ],
      "execution_count": 109,
      "outputs": [
        {
          "output_type": "display_data",
          "data": {
            "image/png": "[encoded data removed]",
            "text/plain": [
              "<Figure size 432x288 with 1 Axes>"
            ]
          },
          "metadata": {
            "needs_background": "light"
          }
        }
      ]
    },
    {
      "cell_type": "markdown",
      "metadata": {
        "id": "oyt6Ev-dzBrc"
      },
      "source": [
        "**จากกราฟจะสามารถสรุปผลได้ว่า จำนวนการนำเข้าสินค้ากับค่าครองชีพมีความสัมพันธ์กัน โดย ถ้าเรามองภาพแบ่งสเกลเอ็ก จะเห็นได้ว่า 1 ที่แทนปริมาณการนำเข้าสินค้าทางการเกษตรจำนวนมาก ส่วนใหญ่จะมีค่าครองชีพน้อย และ 0 ที่แทนปริมาณการนำเข้าสินค้าทางการเกษตรจำนวนน้อยส่วนใหญ่จะมีค่าครองชีพมาก หรือกล่าวได้ว่า ปริมาณการนำเข้าสินค้าทางการเกษตรกับค่าครองชีพมีความสัมพันะธ์ไปในทิศทางตรงกันข้ามกัน**"
      ]
    },
    {
      "cell_type": "markdown",
      "metadata": {
        "id": "AoIZFDohuC4b"
      },
      "source": [
        ">**graph 3**"
      ]
    },
    {
      "cell_type": "markdown",
      "metadata": {
        "id": "WfuC0x8LynN7"
      },
      "source": [
        "###**จำนวนการนำเข้าสินค้าทางเกษตรกับรายได้เฉลี่ย**"
      ]
    },
    {
      "cell_type": "code",
      "metadata": {
        "id": "zgBqDj1yt90D",
        "colab": {
          "base_uri": "https://localhost:8080/"
        },
        "outputId": "cb0b8588-b35e-43f6-ea89-9079c5bd22a2"
      },
      "source": [
        "Data.iloc[:,3]"
      ],
      "execution_count": 110,
      "outputs": [
        {
          "output_type": "execute_result",
          "data": {
            "text/plain": [
              "0     4754.0\n",
              "1      884.0\n",
              "2     2738.0\n",
              "3     4684.0\n",
              "4      882.0\n",
              "5      891.0\n",
              "6     3024.0\n",
              "7      250.0\n",
              "8     6521.0\n",
              "9     3620.0\n",
              "10    3589.0\n",
              "11    3465.0\n",
              "12     286.0\n",
              "13    4135.0\n",
              "14     168.0\n",
              "15    4283.0\n",
              "16    5493.0\n",
              "17     158.0\n",
              "18     248.0\n",
              "19     342.0\n",
              "20    3915.0\n",
              "21     222.0\n",
              "22    1638.0\n",
              "23    4483.0\n",
              "24    4418.0\n",
              "25    1123.0\n",
              "26    1052.0\n",
              "27    4577.0\n",
              "28    2542.0\n",
              "Name: avg income(USD), dtype: float64"
            ]
          },
          "metadata": {},
          "execution_count": 110
        }
      ]
    },
    {
      "cell_type": "code",
      "metadata": {
        "id": "Hk_Jysy-t4Uh",
        "colab": {
          "base_uri": "https://localhost:8080/",
          "height": 0
        },
        "outputId": "d49b9320-e236-4e72-9274-e9d698466aa1"
      },
      "source": [
        "plt.scatter(range(len(Data['avg income(USD)'])),Data['total'],s=100)\n",
        "plt.show()"
      ],
      "execution_count": 111,
      "outputs": [
        {
          "output_type": "display_data",
          "data": {
            "image/png": "[encoded data removed]",
            "text/plain": [
              "<Figure size 432x288 with 1 Axes>"
            ]
          },
          "metadata": {
            "needs_background": "light"
          }
        }
      ]
    },
    {
      "cell_type": "code",
      "metadata": {
        "id": "Y0XhYVxut4By",
        "colab": {
          "base_uri": "https://localhost:8080/",
          "height": 0
        },
        "outputId": "5c4369e0-07af-4d85-84bd-41b4c39c686c"
      },
      "source": [
        "plt.plot(range(len(Data.iloc[:,3])),Data.iloc[:,3],'s-.r')\n",
        "plt.show()"
      ],
      "execution_count": 112,
      "outputs": [
        {
          "output_type": "display_data",
          "data": {
            "image/png": "[encoded data removed]",
            "text/plain": [
              "<Figure size 432x288 with 1 Axes>"
            ]
          },
          "metadata": {
            "needs_background": "light"
          }
        }
      ]
    },
    {
      "cell_type": "markdown",
      "metadata": {
        "id": "koosHKB_ysEb"
      },
      "source": [
        "**จากกราฟจะสามารถสรุปผลได้ว่า จำนวนการนำเข้าสินค้ากับรายได้เฉลี่ยมีความสัมพันธ์กัน โดย ถ้าเรามองภาพแบ่งสเกลเอ็ก จะเห็นได้ว่า 1 ที่แทนปริมาณการนำเข้าสินค้าทางการเกษตรจำนวนมาก ส่วนใหญ่จะมีรายได้เฉลี่ยมาก และ 0 ที่แทนปริมาณการนำเข้าสินค้าทางการเกษตรจำนวนน้อยส่วนใหญ่จะมีรายได้เฉลี่ยน้อย หรือกล่าวได้ว่า ปริมาณการนำเข้าสินค้าทางการเกษตรกับค่าครองชีพมีความสัมพันะธ์ไปในทิศทางเดียวกัน**"
      ]
    },
    {
      "cell_type": "markdown",
      "metadata": {
        "id": "BEPw1n7XyRbI"
      },
      "source": [
        "##**แก้กราฟ**"
      ]
    },
    {
      "cell_type": "code",
      "metadata": {
        "colab": {
          "base_uri": "https://localhost:8080/",
          "height": 1000
        },
        "id": "xQyMqej8wNp6",
        "outputId": "53709752-1b19-4c71-a3e9-4f264c3d8658"
      },
      "source": [
        "merged_04"
      ],
      "execution_count": 113,
      "outputs": [
        {
          "output_type": "execute_result",
          "data": {
            "text/html": [
              "<div>\n",
              "<style scoped>\n",
              "    .dataframe tbody tr th:only-of-type {\n",
              "        vertical-align: middle;\n",
              "    }\n",
              "\n",
              "    .dataframe tbody tr th {\n",
              "        vertical-align: top;\n",
              "    }\n",
              "\n",
              "    .dataframe thead th {\n",
              "        text-align: right;\n",
              "    }\n",
              "</style>\n",
              "<table border=\"1\" class=\"dataframe\">\n",
              "  <thead>\n",
              "    <tr style=\"text-align: right;\">\n",
              "      <th></th>\n",
              "      <th>id_x</th>\n",
              "      <th>country</th>\n",
              "      <th>View_x</th>\n",
              "      <th>population(million)</th>\n",
              "      <th>religion</th>\n",
              "      <th>capital</th>\n",
              "      <th>language</th>\n",
              "      <th>living expenses(USD)</th>\n",
              "      <th>avg income(USD)</th>\n",
              "      <th>id_y</th>\n",
              "      <th>Title</th>\n",
              "      <th>Subtitle_PD</th>\n",
              "      <th>Unit</th>\n",
              "      <th>View_y</th>\n",
              "      <th>Freq</th>\n",
              "      <th>Y2007</th>\n",
              "      <th>Y2008</th>\n",
              "      <th>Y2009</th>\n",
              "      <th>Y2010</th>\n",
              "      <th>Y2011</th>\n",
              "      <th>Y2012</th>\n",
              "      <th>Y2013</th>\n",
              "      <th>Y2014</th>\n",
              "      <th>Y2015</th>\n",
              "      <th>Y2016</th>\n",
              "      <th>Y2017</th>\n",
              "      <th>Y2018</th>\n",
              "      <th>Y2019_x</th>\n",
              "      <th>Y2020_x</th>\n",
              "      <th>Unnamed: 20</th>\n",
              "      <th>id_x</th>\n",
              "      <th>Title_x</th>\n",
              "      <th>Subtitle_FC</th>\n",
              "      <th>Unit_x</th>\n",
              "      <th>View_x</th>\n",
              "      <th>Freq_x</th>\n",
              "      <th>Y2006_x</th>\n",
              "      <th>Y2007_x</th>\n",
              "      <th>Y2008_x</th>\n",
              "      <th>Y2009_x</th>\n",
              "      <th>Y2010_x</th>\n",
              "      <th>Y2011_x</th>\n",
              "      <th>Y2012_x</th>\n",
              "      <th>Y2013_x</th>\n",
              "      <th>Y2014_x</th>\n",
              "      <th>Y2015_x</th>\n",
              "      <th>Y2016_x</th>\n",
              "      <th>Y2017_x</th>\n",
              "      <th>Y2018_x</th>\n",
              "      <th>id_y</th>\n",
              "      <th>Title_y</th>\n",
              "      <th>Subtitle_PC</th>\n",
              "      <th>Unit_y</th>\n",
              "      <th>View_y</th>\n",
              "      <th>Freq_y</th>\n",
              "      <th>Y2006_y</th>\n",
              "      <th>Y2007_y</th>\n",
              "      <th>Y2008_y</th>\n",
              "      <th>Y2009_y</th>\n",
              "      <th>Y2010_y</th>\n",
              "      <th>Y2011_y</th>\n",
              "      <th>Y2012_y</th>\n",
              "      <th>Y2013_y</th>\n",
              "      <th>Y2014_y</th>\n",
              "      <th>Y2015_y</th>\n",
              "      <th>Y2016_y</th>\n",
              "      <th>Y2017_y</th>\n",
              "      <th>Y2018_y</th>\n",
              "      <th>Y2019_y</th>\n",
              "      <th>Y2020_y</th>\n",
              "      <th>PD_total</th>\n",
              "      <th>PC_total</th>\n",
              "      <th>FC_total</th>\n",
              "      <th>total</th>\n",
              "    </tr>\n",
              "  </thead>\n",
              "  <tbody>\n",
              "    <tr>\n",
              "      <th>0</th>\n",
              "      <td>1</td>\n",
              "      <td>SAUDI ARABIA</td>\n",
              "      <td>ประเทศ</td>\n",
              "      <td>34.22</td>\n",
              "      <td>อิสลาม</td>\n",
              "      <td>ริยาด</td>\n",
              "      <td>อาหรับ</td>\n",
              "      <td>952</td>\n",
              "      <td>4,754</td>\n",
              "      <td>1</td>\n",
              "      <td>สารป้องกันและกำจัดโรคพืชที่มีปริมาณการนำเข้าสูง</td>\n",
              "      <td>SAUDI ARABIA</td>\n",
              "      <td>กิโลกรัม</td>\n",
              "      <td>ประเทศ</td>\n",
              "      <td>รายปี</td>\n",
              "      <td>2,249,315.00</td>\n",
              "      <td>2,143,682.00</td>\n",
              "      <td>1,192,758.30</td>\n",
              "      <td>1,829,041.50</td>\n",
              "      <td>1,867,354.50</td>\n",
              "      <td>1,404,900.00</td>\n",
              "      <td>1,891,636.00</td>\n",
              "      <td>1,794,707.00</td>\n",
              "      <td>1,848,395.00</td>\n",
              "      <td>2,074,101.00</td>\n",
              "      <td>2,773,214.60</td>\n",
              "      <td>2,789,352.25</td>\n",
              "      <td>2,249,075.00</td>\n",
              "      <td>1,893,065.00</td>\n",
              "      <td>NaN</td>\n",
              "      <td>1.0</td>\n",
              "      <td>ปริมาณการนำเข้าปุ๋ยเคมีรายประเทศ</td>\n",
              "      <td>SAUDI ARABIA</td>\n",
              "      <td>เมตริกตัน</td>\n",
              "      <td>ประเทศ</td>\n",
              "      <td>รายปี</td>\n",
              "      <td>582,636.00</td>\n",
              "      <td>787,997.00</td>\n",
              "      <td>672,800.00</td>\n",
              "      <td>1,007,240.00</td>\n",
              "      <td>858,295.00</td>\n",
              "      <td>869,573.00</td>\n",
              "      <td>1,050,904.00</td>\n",
              "      <td>1,008,322.00</td>\n",
              "      <td>1,051,742.00</td>\n",
              "      <td>999,195.06</td>\n",
              "      <td>1,058,661.00</td>\n",
              "      <td>1,180,532.00</td>\n",
              "      <td>927324.755</td>\n",
              "      <td>1.0</td>\n",
              "      <td>ปริมาณการนำเข้าเมล็ดพันธุ์ควบคุม</td>\n",
              "      <td>SAUDI ARABIA</td>\n",
              "      <td>เมตริกตัน</td>\n",
              "      <td>ประเทศ</td>\n",
              "      <td>รายปี</td>\n",
              "      <td>4,910.26</td>\n",
              "      <td>6,203.20</td>\n",
              "      <td>6,274.60</td>\n",
              "      <td>4,090.01</td>\n",
              "      <td>4,427.09</td>\n",
              "      <td>1,961.45</td>\n",
              "      <td>2,980.24</td>\n",
              "      <td>6,262.60</td>\n",
              "      <td>5,689.41</td>\n",
              "      <td>3,091.60</td>\n",
              "      <td>8,182.42</td>\n",
              "      <td>8,778.60</td>\n",
              "      <td>3,060.24</td>\n",
              "      <td>6,909.40</td>\n",
              "      <td>6,849.32</td>\n",
              "      <td>2,249,315.002,143,682.001,192,758.301,829,041....</td>\n",
              "      <td>3,060.246,909.406,849.32</td>\n",
              "      <td>927324.755</td>\n",
              "      <td>927324.7552,249,315.002,143,682.001,192,758.30...</td>\n",
              "    </tr>\n",
              "    <tr>\n",
              "      <th>1</th>\n",
              "      <td>2</td>\n",
              "      <td>CHINA</td>\n",
              "      <td>ประเทศ</td>\n",
              "      <td>1,400</td>\n",
              "      <td>พุทธ</td>\n",
              "      <td>ปักกิ่ง</td>\n",
              "      <td>จีนกลาง</td>\n",
              "      <td>752</td>\n",
              "      <td>884</td>\n",
              "      <td>2</td>\n",
              "      <td>สารป้องกันและกำจัดโรคพืชที่มีปริมาณการนำเข้าสูง</td>\n",
              "      <td>CHINA</td>\n",
              "      <td>กิโลกรัม</td>\n",
              "      <td>ประเทศ</td>\n",
              "      <td>รายปี</td>\n",
              "      <td>1,160,075.00</td>\n",
              "      <td>1,519,815.00</td>\n",
              "      <td>782,375.00</td>\n",
              "      <td>794,125.00</td>\n",
              "      <td>736,610.00</td>\n",
              "      <td>4,517.00</td>\n",
              "      <td>222,750.00</td>\n",
              "      <td>775,000.00</td>\n",
              "      <td>610,500.00</td>\n",
              "      <td>524,056.80</td>\n",
              "      <td>270,000.00</td>\n",
              "      <td>353,631.00</td>\n",
              "      <td>373,507.00</td>\n",
              "      <td>625150.9077</td>\n",
              "      <td>NaN</td>\n",
              "      <td>2.0</td>\n",
              "      <td>ปริมาณการนำเข้าปุ๋ยเคมีรายประเทศ</td>\n",
              "      <td>CHINA</td>\n",
              "      <td>เมตริกตัน</td>\n",
              "      <td>ประเทศ</td>\n",
              "      <td>รายปี</td>\n",
              "      <td>270,060.53</td>\n",
              "      <td>675,840.83</td>\n",
              "      <td>569,348.49</td>\n",
              "      <td>427,921.66</td>\n",
              "      <td>723,621.87</td>\n",
              "      <td>728,466.14</td>\n",
              "      <td>610,452.25</td>\n",
              "      <td>472,653.78</td>\n",
              "      <td>746,048.64</td>\n",
              "      <td>708,995.53</td>\n",
              "      <td>865,728.91</td>\n",
              "      <td>949,696.61</td>\n",
              "      <td>645736.27</td>\n",
              "      <td>2.0</td>\n",
              "      <td>ปริมาณการนำเข้าเมล็ดพันธุ์ควบคุม</td>\n",
              "      <td>CHINA</td>\n",
              "      <td>เมตริกตัน</td>\n",
              "      <td>ประเทศ</td>\n",
              "      <td>รายปี</td>\n",
              "      <td>124,916.36</td>\n",
              "      <td>46,686.16</td>\n",
              "      <td>47,946.76</td>\n",
              "      <td>5,675.89</td>\n",
              "      <td>6,870.47</td>\n",
              "      <td>9,738.47</td>\n",
              "      <td>3,796.07</td>\n",
              "      <td>6,479.97</td>\n",
              "      <td>4,689.86</td>\n",
              "      <td>3,568.08</td>\n",
              "      <td>37,890.50</td>\n",
              "      <td>44,373.90</td>\n",
              "      <td>5,544.60</td>\n",
              "      <td>3,023.29</td>\n",
              "      <td>3,460.13</td>\n",
              "      <td>1,160,075.001,519,815.00782,375.00794,125.0073...</td>\n",
              "      <td>5,544.603,023.293,460.13</td>\n",
              "      <td>645736.27</td>\n",
              "      <td>645736.271,160,075.001,519,815.00782,375.00794...</td>\n",
              "    </tr>\n",
              "    <tr>\n",
              "      <th>2</th>\n",
              "      <td>3</td>\n",
              "      <td>KOREA  REPUBLIC OF</td>\n",
              "      <td>ประเทศ</td>\n",
              "      <td>51</td>\n",
              "      <td>ไม่นับถือ</td>\n",
              "      <td>โซล</td>\n",
              "      <td>เกาหลี</td>\n",
              "      <td>1,154</td>\n",
              "      <td>2,738</td>\n",
              "      <td>3</td>\n",
              "      <td>สารป้องกันและกำจัดโรคพืชที่มีปริมาณการนำเข้าสูง</td>\n",
              "      <td>KOREA  REPUBLIC OF</td>\n",
              "      <td>กิโลกรัม</td>\n",
              "      <td>ประเทศ</td>\n",
              "      <td>รายปี</td>\n",
              "      <td>1,875,370.00</td>\n",
              "      <td>1,724,557.00</td>\n",
              "      <td>1,332,152.90</td>\n",
              "      <td>1,002,940.60</td>\n",
              "      <td>1,778,427.60</td>\n",
              "      <td>763,273.50</td>\n",
              "      <td>1,201,126.00</td>\n",
              "      <td>1,347,522.00</td>\n",
              "      <td>1,503,846.00</td>\n",
              "      <td>1,750,676.64</td>\n",
              "      <td>2,392,512.50</td>\n",
              "      <td>1,974,102.84</td>\n",
              "      <td>2,274,394.04</td>\n",
              "      <td>2,501,570.96</td>\n",
              "      <td>NaN</td>\n",
              "      <td>3.0</td>\n",
              "      <td>ปริมาณการนำเข้าปุ๋ยเคมีรายประเทศ</td>\n",
              "      <td>KOREA  REPUBLIC OF</td>\n",
              "      <td>เมตริกตัน</td>\n",
              "      <td>ประเทศ</td>\n",
              "      <td>รายปี</td>\n",
              "      <td>426,401.90</td>\n",
              "      <td>472,745.91</td>\n",
              "      <td>287,250.00</td>\n",
              "      <td>417,478.50</td>\n",
              "      <td>435,164.70</td>\n",
              "      <td>528,138.20</td>\n",
              "      <td>443,139.60</td>\n",
              "      <td>425,380.00</td>\n",
              "      <td>358,277.95</td>\n",
              "      <td>303,010.00</td>\n",
              "      <td>276,959.51</td>\n",
              "      <td>335,142.27</td>\n",
              "      <td>392424.045</td>\n",
              "      <td>3.0</td>\n",
              "      <td>ปริมาณการนำเข้าเมล็ดพันธุ์ควบคุม</td>\n",
              "      <td>KOREA  REPUBLIC OF</td>\n",
              "      <td>เมตริกตัน</td>\n",
              "      <td>ประเทศ</td>\n",
              "      <td>รายปี</td>\n",
              "      <td>35,847</td>\n",
              "      <td>59,459.38</td>\n",
              "      <td>165,267.43</td>\n",
              "      <td>12,467.58</td>\n",
              "      <td>259,375.78</td>\n",
              "      <td>356,372.62</td>\n",
              "      <td>682,724.86</td>\n",
              "      <td>738,370.00</td>\n",
              "      <td>756,349.34</td>\n",
              "      <td>379,566.84</td>\n",
              "      <td>893,000.00</td>\n",
              "      <td>90,000.00</td>\n",
              "      <td>27,000.00</td>\n",
              "      <td>68,787.67</td>\n",
              "      <td>10,469.92</td>\n",
              "      <td>1,875,370.001,724,557.001,332,152.901,002,940....</td>\n",
              "      <td>27,000.0068,787.6710,469.92</td>\n",
              "      <td>392424.045</td>\n",
              "      <td>392424.0451,875,370.001,724,557.001,332,152.90...</td>\n",
              "    </tr>\n",
              "    <tr>\n",
              "      <th>3</th>\n",
              "      <td>4</td>\n",
              "      <td>QATAR</td>\n",
              "      <td>ประเทศ</td>\n",
              "      <td>2</td>\n",
              "      <td>อิสลาม</td>\n",
              "      <td>โดฮา</td>\n",
              "      <td>อาหรับ</td>\n",
              "      <td>1,856</td>\n",
              "      <td>4,684</td>\n",
              "      <td>4</td>\n",
              "      <td>สารป้องกันและกำจัดโรคพืชที่มีปริมาณการนำเข้าสูง</td>\n",
              "      <td>QATAR</td>\n",
              "      <td>กิโลกรัม</td>\n",
              "      <td>ประเทศ</td>\n",
              "      <td>รายปี</td>\n",
              "      <td>647,240.00</td>\n",
              "      <td>890,090.00</td>\n",
              "      <td>665,440.00</td>\n",
              "      <td>673,721.00</td>\n",
              "      <td>742,418.00</td>\n",
              "      <td>732,970.00</td>\n",
              "      <td>783,931.00</td>\n",
              "      <td>1,465,079.00</td>\n",
              "      <td>2,444,760.00</td>\n",
              "      <td>1,472,750.00</td>\n",
              "      <td>3,733,675.00</td>\n",
              "      <td>5,940,771.00</td>\n",
              "      <td>6,381,231.75</td>\n",
              "      <td>2,592,601.20</td>\n",
              "      <td>NaN</td>\n",
              "      <td>4.0</td>\n",
              "      <td>ปริมาณการนำเข้าปุ๋ยเคมีรายประเทศ</td>\n",
              "      <td>QATAR</td>\n",
              "      <td>เมตริกตัน</td>\n",
              "      <td>ประเทศ</td>\n",
              "      <td>รายปี</td>\n",
              "      <td>268,274.00</td>\n",
              "      <td>445,726.00</td>\n",
              "      <td>460,968.00</td>\n",
              "      <td>387,572.71</td>\n",
              "      <td>380,881.23</td>\n",
              "      <td>403,071.27</td>\n",
              "      <td>472,870.41</td>\n",
              "      <td>526,558.08</td>\n",
              "      <td>430,408.53</td>\n",
              "      <td>331,931.77</td>\n",
              "      <td>451,942.09</td>\n",
              "      <td>654,577.16</td>\n",
              "      <td>434565.1042</td>\n",
              "      <td>4.0</td>\n",
              "      <td>ปริมาณการนำเข้าเมล็ดพันธุ์ควบคุม</td>\n",
              "      <td>QATAR</td>\n",
              "      <td>เมตริกตัน</td>\n",
              "      <td>ประเทศ</td>\n",
              "      <td>รายปี</td>\n",
              "      <td>47,414.77</td>\n",
              "      <td>124,915.02</td>\n",
              "      <td>580,000.00</td>\n",
              "      <td>21,176.02</td>\n",
              "      <td>439,619.60</td>\n",
              "      <td>591,966.00</td>\n",
              "      <td>1,977,507.00</td>\n",
              "      <td>3,305,691.43</td>\n",
              "      <td>1,033,485.31</td>\n",
              "      <td>132,251.55</td>\n",
              "      <td>6,033.50</td>\n",
              "      <td>1,104.20</td>\n",
              "      <td>37,697.36</td>\n",
              "      <td>5,947.01</td>\n",
              "      <td>18,978.08</td>\n",
              "      <td>647,240.00890,090.00665,440.00673,721.00742,41...</td>\n",
              "      <td>37,697.365,947.0118,978.08</td>\n",
              "      <td>434565.1042</td>\n",
              "      <td>434565.1042647,240.00890,090.00665,440.00673,7...</td>\n",
              "    </tr>\n",
              "    <tr>\n",
              "      <th>4</th>\n",
              "      <td>5</td>\n",
              "      <td>MALAYSIA</td>\n",
              "      <td>ประเทศ</td>\n",
              "      <td>30</td>\n",
              "      <td>อิสลาม</td>\n",
              "      <td>กัวลาลัมเปอร์</td>\n",
              "      <td>มลายู</td>\n",
              "      <td>652</td>\n",
              "      <td>882</td>\n",
              "      <td>5</td>\n",
              "      <td>สารป้องกันและกำจัดโรคพืชที่มีปริมาณการนำเข้าสูง</td>\n",
              "      <td>MALAYSIA</td>\n",
              "      <td>กิโลกรัม</td>\n",
              "      <td>ประเทศ</td>\n",
              "      <td>รายปี</td>\n",
              "      <td>709,000.00</td>\n",
              "      <td>512,800.00</td>\n",
              "      <td>420,400.00</td>\n",
              "      <td>708,000.00</td>\n",
              "      <td>781,310.00</td>\n",
              "      <td>474,262.00</td>\n",
              "      <td>764,404.00</td>\n",
              "      <td>674,049.00</td>\n",
              "      <td>484,012.00</td>\n",
              "      <td>723,500.00</td>\n",
              "      <td>787,000.00</td>\n",
              "      <td>551,000.00</td>\n",
              "      <td>299,800.00</td>\n",
              "      <td>463,530.00</td>\n",
              "      <td>NaN</td>\n",
              "      <td>5.0</td>\n",
              "      <td>ปริมาณการนำเข้าปุ๋ยเคมีรายประเทศ</td>\n",
              "      <td>MALAYSIA</td>\n",
              "      <td>เมตริกตัน</td>\n",
              "      <td>ประเทศ</td>\n",
              "      <td>รายปี</td>\n",
              "      <td>244,645.54</td>\n",
              "      <td>234,427.46</td>\n",
              "      <td>173,449.15</td>\n",
              "      <td>285,714.33</td>\n",
              "      <td>292,836.88</td>\n",
              "      <td>201,669.47</td>\n",
              "      <td>292,360.67</td>\n",
              "      <td>276,166.76</td>\n",
              "      <td>243,072.57</td>\n",
              "      <td>194,100.98</td>\n",
              "      <td>188,477.92</td>\n",
              "      <td>404,790.14</td>\n",
              "      <td>252642.6558</td>\n",
              "      <td>5.0</td>\n",
              "      <td>ปริมาณการนำเข้าเมล็ดพันธุ์ควบคุม</td>\n",
              "      <td>MALAYSIA</td>\n",
              "      <td>เมตริกตัน</td>\n",
              "      <td>ประเทศ</td>\n",
              "      <td>รายปี</td>\n",
              "      <td>37,645.03</td>\n",
              "      <td>46,467.47</td>\n",
              "      <td>23,567.58</td>\n",
              "      <td>57,468.97</td>\n",
              "      <td>43,853.56</td>\n",
              "      <td>34,853.57</td>\n",
              "      <td>35,568.35</td>\n",
              "      <td>46,865.57</td>\n",
              "      <td>35,456.56</td>\n",
              "      <td>45,357.68</td>\n",
              "      <td>46,646.36</td>\n",
              "      <td>8,074.23</td>\n",
              "      <td>5,864.26</td>\n",
              "      <td>7,467.67</td>\n",
              "      <td>13,467.65</td>\n",
              "      <td>709,000.00512,800.00420,400.00708,000.00781,31...</td>\n",
              "      <td>5,864.267,467.6713,467.65</td>\n",
              "      <td>252642.6558</td>\n",
              "      <td>252642.6558709,000.00512,800.00420,400.00708,0...</td>\n",
              "    </tr>\n",
              "    <tr>\n",
              "      <th>5</th>\n",
              "      <td>6</td>\n",
              "      <td>RUSSIAN FEDERATION (CIS)</td>\n",
              "      <td>ประเทศ</td>\n",
              "      <td>146</td>\n",
              "      <td>คริสต์</td>\n",
              "      <td>มินสค์/มอสโก</td>\n",
              "      <td>รัสเซีย</td>\n",
              "      <td>424</td>\n",
              "      <td>891</td>\n",
              "      <td>6</td>\n",
              "      <td>สารป้องกันและกำจัดโรคพืชที่มีปริมาณการนำเข้าสูง</td>\n",
              "      <td>RUSSIAN FEDERATION (CIS)</td>\n",
              "      <td>กิโลกรัม</td>\n",
              "      <td>ประเทศ</td>\n",
              "      <td>รายปี</td>\n",
              "      <td>101,198.00</td>\n",
              "      <td>120,678.00</td>\n",
              "      <td>194,505.00</td>\n",
              "      <td>392,673.30</td>\n",
              "      <td>234,041.00</td>\n",
              "      <td>317,680.00</td>\n",
              "      <td>375,921.00</td>\n",
              "      <td>377,982.00</td>\n",
              "      <td>322,012.00</td>\n",
              "      <td>382,155.71</td>\n",
              "      <td>473,435.65</td>\n",
              "      <td>485,576.76</td>\n",
              "      <td>425,200.00</td>\n",
              "      <td>372,827.00</td>\n",
              "      <td>NaN</td>\n",
              "      <td>6.0</td>\n",
              "      <td>ปริมาณการนำเข้าปุ๋ยเคมีรายประเทศ</td>\n",
              "      <td>RUSSIAN FEDERATION (CIS)</td>\n",
              "      <td>เมตริกตัน</td>\n",
              "      <td>ประเทศ</td>\n",
              "      <td>รายปี</td>\n",
              "      <td>271,118.00</td>\n",
              "      <td>399,021.62</td>\n",
              "      <td>300,699.57</td>\n",
              "      <td>248,145.52</td>\n",
              "      <td>663,041.93</td>\n",
              "      <td>882,062.94</td>\n",
              "      <td>979,020.81</td>\n",
              "      <td>1,016,522.47</td>\n",
              "      <td>753,518.99</td>\n",
              "      <td>581,231.30</td>\n",
              "      <td>486,795.15</td>\n",
              "      <td>578,495.49</td>\n",
              "      <td>596639.4825</td>\n",
              "      <td>6.0</td>\n",
              "      <td>ปริมาณการนำเข้าเมล็ดพันธุ์ควบคุม</td>\n",
              "      <td>RUSSIAN FEDERATION (CIS)</td>\n",
              "      <td>เมตริกตัน</td>\n",
              "      <td>ประเทศ</td>\n",
              "      <td>รายปี</td>\n",
              "      <td>29,043.91</td>\n",
              "      <td>48,355.61</td>\n",
              "      <td>20,411.79</td>\n",
              "      <td>36,064.85</td>\n",
              "      <td>58,854.49</td>\n",
              "      <td>11,252.81</td>\n",
              "      <td>16,244.27</td>\n",
              "      <td>15,039.72</td>\n",
              "      <td>12,239.65</td>\n",
              "      <td>26,248.50</td>\n",
              "      <td>11,443.81</td>\n",
              "      <td>14,488.36</td>\n",
              "      <td>9,978.89</td>\n",
              "      <td>9,152.59</td>\n",
              "      <td>8,830.02</td>\n",
              "      <td>101,198.00120,678.00194,505.00392,673.30234,04...</td>\n",
              "      <td>9,978.899,152.598,830.02</td>\n",
              "      <td>596639.4825</td>\n",
              "      <td>596639.4825101,198.00120,678.00194,505.00392,6...</td>\n",
              "    </tr>\n",
              "    <tr>\n",
              "      <th>6</th>\n",
              "      <td>7</td>\n",
              "      <td>KUWAIT</td>\n",
              "      <td>ประเทศ</td>\n",
              "      <td>4.207</td>\n",
              "      <td>อิสลาม</td>\n",
              "      <td>คูเวตซิตี</td>\n",
              "      <td>อาหรับ</td>\n",
              "      <td>1,326</td>\n",
              "      <td>3,024</td>\n",
              "      <td>7</td>\n",
              "      <td>สารป้องกันและกำจัดโรคพืชที่มีปริมาณการนำเข้าสูง</td>\n",
              "      <td>KUWAIT</td>\n",
              "      <td>กิโลกรัม</td>\n",
              "      <td>ประเทศ</td>\n",
              "      <td>รายปี</td>\n",
              "      <td>28,790.00</td>\n",
              "      <td>29,875.00</td>\n",
              "      <td>160,147.20</td>\n",
              "      <td>267,567.20</td>\n",
              "      <td>325,673.30</td>\n",
              "      <td>353,488.00</td>\n",
              "      <td>434,042.00</td>\n",
              "      <td>431,027.00</td>\n",
              "      <td>242,024.00</td>\n",
              "      <td>354,884.73</td>\n",
              "      <td>462,819.48</td>\n",
              "      <td>403,756.40</td>\n",
              "      <td>375,010.00</td>\n",
              "      <td>297623.4085</td>\n",
              "      <td>NaN</td>\n",
              "      <td>7.0</td>\n",
              "      <td>ปริมาณการนำเข้าปุ๋ยเคมีรายประเทศ</td>\n",
              "      <td>KUWAIT</td>\n",
              "      <td>เมตริกตัน</td>\n",
              "      <td>ประเทศ</td>\n",
              "      <td>รายปี</td>\n",
              "      <td>175,789.27</td>\n",
              "      <td>71,839.00</td>\n",
              "      <td>94,201.00</td>\n",
              "      <td>161,139.82</td>\n",
              "      <td>151,097.30</td>\n",
              "      <td>159,859.70</td>\n",
              "      <td>130,217.30</td>\n",
              "      <td>131,996.98</td>\n",
              "      <td>102,995.80</td>\n",
              "      <td>156,195.80</td>\n",
              "      <td>176,403.60</td>\n",
              "      <td>200,013.80</td>\n",
              "      <td>75,065.40</td>\n",
              "      <td>7.0</td>\n",
              "      <td>ปริมาณการนำเข้าเมล็ดพันธุ์ควบคุม</td>\n",
              "      <td>KUWAIT</td>\n",
              "      <td>เมตริกตัน</td>\n",
              "      <td>ประเทศ</td>\n",
              "      <td>รายปี</td>\n",
              "      <td>0.00</td>\n",
              "      <td>0.00</td>\n",
              "      <td>0.00</td>\n",
              "      <td>0.00</td>\n",
              "      <td>0.00</td>\n",
              "      <td>0</td>\n",
              "      <td>0</td>\n",
              "      <td>0</td>\n",
              "      <td>0</td>\n",
              "      <td>0</td>\n",
              "      <td>1,758,000.00</td>\n",
              "      <td>1,358,167.00</td>\n",
              "      <td>1,072,741.00</td>\n",
              "      <td>258,390.00</td>\n",
              "      <td>1,061,682.00</td>\n",
              "      <td>28,790.0029,875.00160,147.20267,567.20325,673....</td>\n",
              "      <td>1,072,741.00258,390.001,061,682.00</td>\n",
              "      <td>75,065.40</td>\n",
              "      <td>75,065.4028,790.0029,875.00160,147.20267,567.2...</td>\n",
              "    </tr>\n",
              "    <tr>\n",
              "      <th>7</th>\n",
              "      <td>8</td>\n",
              "      <td>EGYPT</td>\n",
              "      <td>ประเทศ</td>\n",
              "      <td>93</td>\n",
              "      <td>อิสลาม</td>\n",
              "      <td>ไคโร</td>\n",
              "      <td>อาหรับ</td>\n",
              "      <td>449</td>\n",
              "      <td>250</td>\n",
              "      <td>8</td>\n",
              "      <td>สารป้องกันและกำจัดโรคพืชที่มีปริมาณการนำเข้าสูง</td>\n",
              "      <td>EGYPT</td>\n",
              "      <td>กิโลกรัม</td>\n",
              "      <td>ประเทศ</td>\n",
              "      <td>รายปี</td>\n",
              "      <td>327,000.00</td>\n",
              "      <td>313,200.00</td>\n",
              "      <td>149,603.00</td>\n",
              "      <td>294,000.00</td>\n",
              "      <td>351,049.90</td>\n",
              "      <td>374,000.00</td>\n",
              "      <td>596,777.00</td>\n",
              "      <td>546,375.00</td>\n",
              "      <td>428,400.00</td>\n",
              "      <td>476,000.00</td>\n",
              "      <td>616,010.00</td>\n",
              "      <td>382,204.03</td>\n",
              "      <td>393,960.00</td>\n",
              "      <td>403736.8408</td>\n",
              "      <td>NaN</td>\n",
              "      <td>8.0</td>\n",
              "      <td>ปริมาณการนำเข้าปุ๋ยเคมีรายประเทศ</td>\n",
              "      <td>EGYPT</td>\n",
              "      <td>เมตริกตัน</td>\n",
              "      <td>ประเทศ</td>\n",
              "      <td>รายปี</td>\n",
              "      <td>32,032.00</td>\n",
              "      <td>0</td>\n",
              "      <td>39,248.00</td>\n",
              "      <td>153,836.04</td>\n",
              "      <td>0</td>\n",
              "      <td>25,603.48</td>\n",
              "      <td>0</td>\n",
              "      <td>0</td>\n",
              "      <td>3,185.31</td>\n",
              "      <td>26.86</td>\n",
              "      <td>2,574.52</td>\n",
              "      <td>30,216.83</td>\n",
              "      <td>4,292.37</td>\n",
              "      <td>8.0</td>\n",
              "      <td>ปริมาณการนำเข้าเมล็ดพันธุ์ควบคุม</td>\n",
              "      <td>EGYPT</td>\n",
              "      <td>เมตริกตัน</td>\n",
              "      <td>ประเทศ</td>\n",
              "      <td>รายปี</td>\n",
              "      <td>0</td>\n",
              "      <td>0</td>\n",
              "      <td>0</td>\n",
              "      <td>0</td>\n",
              "      <td>0</td>\n",
              "      <td>0</td>\n",
              "      <td>0</td>\n",
              "      <td>0</td>\n",
              "      <td>0</td>\n",
              "      <td>0</td>\n",
              "      <td>151</td>\n",
              "      <td>505.5</td>\n",
              "      <td>510</td>\n",
              "      <td>153.7</td>\n",
              "      <td>312.5</td>\n",
              "      <td>327,000.00313,200.00149,603.00294,000.00351,04...</td>\n",
              "      <td>510153.7312.5</td>\n",
              "      <td>4,292.37</td>\n",
              "      <td>4,292.37327,000.00313,200.00149,603.00294,000....</td>\n",
              "    </tr>\n",
              "    <tr>\n",
              "      <th>8</th>\n",
              "      <td>9</td>\n",
              "      <td>NORWAY</td>\n",
              "      <td>ประเทศ</td>\n",
              "      <td>5.39</td>\n",
              "      <td>คริสต์</td>\n",
              "      <td>ออสโล</td>\n",
              "      <td>นอร์เวย์</td>\n",
              "      <td>2,074</td>\n",
              "      <td>6,521</td>\n",
              "      <td>9</td>\n",
              "      <td>สารป้องกันและกำจัดโรคพืชที่มีปริมาณการนำเข้าสูง</td>\n",
              "      <td>NORWAY</td>\n",
              "      <td>กิโลกรัม</td>\n",
              "      <td>ประเทศ</td>\n",
              "      <td>รายปี</td>\n",
              "      <td>35,776.00</td>\n",
              "      <td>427,341.00</td>\n",
              "      <td>152,960.00</td>\n",
              "      <td>455,887.00</td>\n",
              "      <td>608,253.00</td>\n",
              "      <td>226,901.00</td>\n",
              "      <td>614,174.00</td>\n",
              "      <td>405,157.00</td>\n",
              "      <td>508,189.00</td>\n",
              "      <td>599,519.00</td>\n",
              "      <td>1,355,992.00</td>\n",
              "      <td>1,034,266.00</td>\n",
              "      <td>916,249.00</td>\n",
              "      <td>919,208.00</td>\n",
              "      <td>NaN</td>\n",
              "      <td>9.0</td>\n",
              "      <td>ปริมาณการนำเข้าปุ๋ยเคมีรายประเทศ</td>\n",
              "      <td>NORWAY</td>\n",
              "      <td>เมตริกตัน</td>\n",
              "      <td>ประเทศ</td>\n",
              "      <td>รายปี</td>\n",
              "      <td>217,081.00</td>\n",
              "      <td>270,570.60</td>\n",
              "      <td>258,979.53</td>\n",
              "      <td>128,176.42</td>\n",
              "      <td>255,372.18</td>\n",
              "      <td>252,568.71</td>\n",
              "      <td>187,418.88</td>\n",
              "      <td>287,254.83</td>\n",
              "      <td>315,311.67</td>\n",
              "      <td>188,175.93</td>\n",
              "      <td>284,908.87</td>\n",
              "      <td>269,816.52</td>\n",
              "      <td>195,650.60</td>\n",
              "      <td>9.0</td>\n",
              "      <td>ปริมาณการนำเข้าเมล็ดพันธุ์ควบคุม</td>\n",
              "      <td>NORWAY</td>\n",
              "      <td>เมตริกตัน</td>\n",
              "      <td>ประเทศ</td>\n",
              "      <td>รายปี</td>\n",
              "      <td>147,333.96</td>\n",
              "      <td>193,369.60</td>\n",
              "      <td>250,262.78</td>\n",
              "      <td>216,184.72</td>\n",
              "      <td>4,521,927.60</td>\n",
              "      <td>78,508.48</td>\n",
              "      <td>237,894.47</td>\n",
              "      <td>241,648.61</td>\n",
              "      <td>183,657.23</td>\n",
              "      <td>171,992.31</td>\n",
              "      <td>184,063.76</td>\n",
              "      <td>127,853.72</td>\n",
              "      <td>159,201.86</td>\n",
              "      <td>140,890.69</td>\n",
              "      <td>203,280.67</td>\n",
              "      <td>35,776.00427,341.00152,960.00455,887.00608,253...</td>\n",
              "      <td>159,201.86140,890.69203,280.67</td>\n",
              "      <td>195,650.60</td>\n",
              "      <td>195,650.6035,776.00427,341.00152,960.00455,887...</td>\n",
              "    </tr>\n",
              "    <tr>\n",
              "      <th>9</th>\n",
              "      <td>10</td>\n",
              "      <td>CANADA</td>\n",
              "      <td>ประเทศ</td>\n",
              "      <td>36.28</td>\n",
              "      <td>โรมันคาธอลิก</td>\n",
              "      <td>ออตตาวา</td>\n",
              "      <td>อังกฤษ/ฝรั่งเคส</td>\n",
              "      <td>1,701</td>\n",
              "      <td>3,620</td>\n",
              "      <td>10</td>\n",
              "      <td>สารป้องกันและกำจัดโรคพืชที่มีปริมาณการนำเข้าสูง</td>\n",
              "      <td>CANADA</td>\n",
              "      <td>กิโลกรัม</td>\n",
              "      <td>ประเทศ</td>\n",
              "      <td>รายปี</td>\n",
              "      <td>193,252.00</td>\n",
              "      <td>268,944.00</td>\n",
              "      <td>273,904.00</td>\n",
              "      <td>190,107.00</td>\n",
              "      <td>270,549.00</td>\n",
              "      <td>342,470.00</td>\n",
              "      <td>270,412.00</td>\n",
              "      <td>177,200.00</td>\n",
              "      <td>224,740.00</td>\n",
              "      <td>290,050.00</td>\n",
              "      <td>488,800.00</td>\n",
              "      <td>387,002.00</td>\n",
              "      <td>479,400.00</td>\n",
              "      <td>397,400.00</td>\n",
              "      <td>NaN</td>\n",
              "      <td>10.0</td>\n",
              "      <td>ปริมาณการนำเข้าปุ๋ยเคมีรายประเทศ</td>\n",
              "      <td>CANADA</td>\n",
              "      <td>เมตริกตัน</td>\n",
              "      <td>ประเทศ</td>\n",
              "      <td>รายปี</td>\n",
              "      <td>174,147.00</td>\n",
              "      <td>222,895.00</td>\n",
              "      <td>280,535.00</td>\n",
              "      <td>77,984.00</td>\n",
              "      <td>226,749.00</td>\n",
              "      <td>326,305.00</td>\n",
              "      <td>262,506.00</td>\n",
              "      <td>276,743.00</td>\n",
              "      <td>282,425.00</td>\n",
              "      <td>247,987.95</td>\n",
              "      <td>264,827.33</td>\n",
              "      <td>326,780.02</td>\n",
              "      <td>247490.3583</td>\n",
              "      <td>10.0</td>\n",
              "      <td>ปริมาณการนำเข้าเมล็ดพันธุ์ควบคุม</td>\n",
              "      <td>CANADA</td>\n",
              "      <td>เมตริกตัน</td>\n",
              "      <td>ประเทศ</td>\n",
              "      <td>รายปี</td>\n",
              "      <td>32,735.98</td>\n",
              "      <td>37,385.12</td>\n",
              "      <td>41,710.18</td>\n",
              "      <td>36,548.71</td>\n",
              "      <td>41,287.48</td>\n",
              "      <td>38,247.43</td>\n",
              "      <td>26,492.64</td>\n",
              "      <td>29,982.01</td>\n",
              "      <td>26,853.24</td>\n",
              "      <td>31,945.94</td>\n",
              "      <td>45,066.43</td>\n",
              "      <td>72,677.88</td>\n",
              "      <td>44,226.71</td>\n",
              "      <td>37,915.23</td>\n",
              "      <td>42,485.37</td>\n",
              "      <td>193,252.00268,944.00273,904.00190,107.00270,54...</td>\n",
              "      <td>44,226.7137,915.2342,485.37</td>\n",
              "      <td>247490.3583</td>\n",
              "      <td>247490.3583193,252.00268,944.00273,904.00190,1...</td>\n",
              "    </tr>\n",
              "    <tr>\n",
              "      <th>10</th>\n",
              "      <td>11</td>\n",
              "      <td>ISRAEL</td>\n",
              "      <td>ประเทศ</td>\n",
              "      <td>9.39</td>\n",
              "      <td>ยูดาห์</td>\n",
              "      <td>เยรูซาเลม</td>\n",
              "      <td>อีบรู/อาหรับ</td>\n",
              "      <td>1774</td>\n",
              "      <td>3,589</td>\n",
              "      <td>11</td>\n",
              "      <td>สารป้องกันและกำจัดโรคพืชที่มีปริมาณการนำเข้าสูง</td>\n",
              "      <td>ISRAEL</td>\n",
              "      <td>กิโลกรัม</td>\n",
              "      <td>ประเทศ</td>\n",
              "      <td>รายปี</td>\n",
              "      <td>659,500.00</td>\n",
              "      <td>479,450.00</td>\n",
              "      <td>407,100.00</td>\n",
              "      <td>582,588.00</td>\n",
              "      <td>1,055,810.00</td>\n",
              "      <td>514,614.00</td>\n",
              "      <td>610,975.00</td>\n",
              "      <td>565,668.00</td>\n",
              "      <td>835,038.00</td>\n",
              "      <td>767,710.00</td>\n",
              "      <td>1,478,870.00</td>\n",
              "      <td>936,528.50</td>\n",
              "      <td>661,460.00</td>\n",
              "      <td>703,783.00</td>\n",
              "      <td>NaN</td>\n",
              "      <td>11.0</td>\n",
              "      <td>ปริมาณการนำเข้าปุ๋ยเคมีรายประเทศ</td>\n",
              "      <td>ISRAEL</td>\n",
              "      <td>เมตริกตัน</td>\n",
              "      <td>ประเทศ</td>\n",
              "      <td>รายปี</td>\n",
              "      <td>102,123.60</td>\n",
              "      <td>100,282.78</td>\n",
              "      <td>89,390.52</td>\n",
              "      <td>62,160.14</td>\n",
              "      <td>89,596.51</td>\n",
              "      <td>106,348.49</td>\n",
              "      <td>91,633.00</td>\n",
              "      <td>82,574.75</td>\n",
              "      <td>85,132.93</td>\n",
              "      <td>71,774.04</td>\n",
              "      <td>65,912.29</td>\n",
              "      <td>57,580.12</td>\n",
              "      <td>51,819.16</td>\n",
              "      <td>11.0</td>\n",
              "      <td>ปริมาณการนำเข้าเมล็ดพันธุ์ควบคุม</td>\n",
              "      <td>ISRAEL</td>\n",
              "      <td>เมตริกตัน</td>\n",
              "      <td>ประเทศ</td>\n",
              "      <td>รายปี</td>\n",
              "      <td>949,650.90</td>\n",
              "      <td>985,228.00</td>\n",
              "      <td>701,662.00</td>\n",
              "      <td>796,401.00</td>\n",
              "      <td>1,000,295.10</td>\n",
              "      <td>620,069.50</td>\n",
              "      <td>814,003.00</td>\n",
              "      <td>903,313.00</td>\n",
              "      <td>906,133.92</td>\n",
              "      <td>758,324.00</td>\n",
              "      <td>957,404.00</td>\n",
              "      <td>1,354,486.50</td>\n",
              "      <td>769,030.28</td>\n",
              "      <td>626,835.00</td>\n",
              "      <td>878,960.00</td>\n",
              "      <td>659,500.00479,450.00407,100.00582,588.001,055,...</td>\n",
              "      <td>769,030.28626,835.00878,960.00</td>\n",
              "      <td>51,819.16</td>\n",
              "      <td>51,819.16659,500.00479,450.00407,100.00582,588...</td>\n",
              "    </tr>\n",
              "    <tr>\n",
              "      <th>11</th>\n",
              "      <td>12</td>\n",
              "      <td>JAPAN</td>\n",
              "      <td>ประเทศ</td>\n",
              "      <td>125</td>\n",
              "      <td>พุทธ</td>\n",
              "      <td>โตเกียว</td>\n",
              "      <td>ญี่ปุ่น</td>\n",
              "      <td>1,370</td>\n",
              "      <td>3,465</td>\n",
              "      <td>12</td>\n",
              "      <td>สารป้องกันและกำจัดโรคพืชที่มีปริมาณการนำเข้าสูง</td>\n",
              "      <td>JAPAN</td>\n",
              "      <td>กิโลกรัม</td>\n",
              "      <td>ประเทศ</td>\n",
              "      <td>รายปี</td>\n",
              "      <td>227,592.00</td>\n",
              "      <td>226,575.00</td>\n",
              "      <td>684,832.00</td>\n",
              "      <td>283,770.00</td>\n",
              "      <td>405,091.00</td>\n",
              "      <td>17,479.00</td>\n",
              "      <td>222,721.00</td>\n",
              "      <td>309,948.00</td>\n",
              "      <td>119,977.00</td>\n",
              "      <td>211,783.00</td>\n",
              "      <td>456,290.00</td>\n",
              "      <td>537,583.00</td>\n",
              "      <td>401,330.00</td>\n",
              "      <td>315767</td>\n",
              "      <td>NaN</td>\n",
              "      <td>12.0</td>\n",
              "      <td>ปริมาณการนำเข้าปุ๋ยเคมีรายประเทศ</td>\n",
              "      <td>JAPAN</td>\n",
              "      <td>เมตริกตัน</td>\n",
              "      <td>ประเทศ</td>\n",
              "      <td>รายปี</td>\n",
              "      <td>2</td>\n",
              "      <td>13,600.50</td>\n",
              "      <td>31,610.00</td>\n",
              "      <td>54,140.00</td>\n",
              "      <td>55,374.21</td>\n",
              "      <td>17,400.00</td>\n",
              "      <td>31,834.00</td>\n",
              "      <td>24,672.00</td>\n",
              "      <td>13,999.00</td>\n",
              "      <td>3,142.00</td>\n",
              "      <td>148</td>\n",
              "      <td>162.03</td>\n",
              "      <td>128.07</td>\n",
              "      <td>12.0</td>\n",
              "      <td>ปริมาณการนำเข้าเมล็ดพันธุ์ควบคุม</td>\n",
              "      <td>JAPAN</td>\n",
              "      <td>เมตริกตัน</td>\n",
              "      <td>ประเทศ</td>\n",
              "      <td>รายปี</td>\n",
              "      <td>520</td>\n",
              "      <td>7,000.00</td>\n",
              "      <td>64</td>\n",
              "      <td>31</td>\n",
              "      <td>153</td>\n",
              "      <td>22,081.54</td>\n",
              "      <td>2,866.00</td>\n",
              "      <td>555,759.67</td>\n",
              "      <td>35,755.86</td>\n",
              "      <td>468,976.68</td>\n",
              "      <td>3,200.00</td>\n",
              "      <td>2,000.00</td>\n",
              "      <td>0</td>\n",
              "      <td>46,975.67</td>\n",
              "      <td>35,678.46</td>\n",
              "      <td>227,592.00226,575.00684,832.00283,770.00405,09...</td>\n",
              "      <td>046,975.6735,678.46</td>\n",
              "      <td>128.07</td>\n",
              "      <td>128.07227,592.00226,575.00684,832.00283,770.00...</td>\n",
              "    </tr>\n",
              "    <tr>\n",
              "      <th>12</th>\n",
              "      <td>13</td>\n",
              "      <td>BAHRAIN</td>\n",
              "      <td>ประเทศ</td>\n",
              "      <td>0.688</td>\n",
              "      <td>อิสลาม</td>\n",
              "      <td>มานามา</td>\n",
              "      <td>อาหรับ</td>\n",
              "      <td>1,035</td>\n",
              "      <td>3,124</td>\n",
              "      <td>13</td>\n",
              "      <td>สารป้องกันและกำจัดโรคพืชที่มีปริมาณการนำเข้าสูง</td>\n",
              "      <td>BAHRAIN</td>\n",
              "      <td>กิโลกรัม</td>\n",
              "      <td>ประเทศ</td>\n",
              "      <td>รายปี</td>\n",
              "      <td>564,450.00</td>\n",
              "      <td>378,100.00</td>\n",
              "      <td>105,410.00</td>\n",
              "      <td>123,100.00</td>\n",
              "      <td>93,550.00</td>\n",
              "      <td>5</td>\n",
              "      <td>161,700.00</td>\n",
              "      <td>242,810.00</td>\n",
              "      <td>204,810.00</td>\n",
              "      <td>348,650.00</td>\n",
              "      <td>291,013.00</td>\n",
              "      <td>442,100.03</td>\n",
              "      <td>168,400.00</td>\n",
              "      <td>240315.2331</td>\n",
              "      <td>NaN</td>\n",
              "      <td>13.0</td>\n",
              "      <td>ปริมาณการนำเข้าปุ๋ยเคมีรายประเทศ</td>\n",
              "      <td>BAHRAIN</td>\n",
              "      <td>เมตริกตัน</td>\n",
              "      <td>ประเทศ</td>\n",
              "      <td>รายปี</td>\n",
              "      <td>86,684.43</td>\n",
              "      <td>77,326.00</td>\n",
              "      <td>71,876.00</td>\n",
              "      <td>52,323.93</td>\n",
              "      <td>24,564.92</td>\n",
              "      <td>23,971.72</td>\n",
              "      <td>65,666.16</td>\n",
              "      <td>63,864.26</td>\n",
              "      <td>68,998.27</td>\n",
              "      <td>68,196.23</td>\n",
              "      <td>52,179.91</td>\n",
              "      <td>46,376.21</td>\n",
              "      <td>79,850.77</td>\n",
              "      <td>13.0</td>\n",
              "      <td>ปริมาณการนำเข้าเมล็ดพันธุ์ควบคุม</td>\n",
              "      <td>BAHRAIN</td>\n",
              "      <td>เมตริกตัน</td>\n",
              "      <td>ประเทศ</td>\n",
              "      <td>รายปี</td>\n",
              "      <td>0</td>\n",
              "      <td>0</td>\n",
              "      <td>0</td>\n",
              "      <td>0</td>\n",
              "      <td>0</td>\n",
              "      <td>0</td>\n",
              "      <td>0</td>\n",
              "      <td>0</td>\n",
              "      <td>0</td>\n",
              "      <td>0</td>\n",
              "      <td>105,000.00</td>\n",
              "      <td>52,500.00</td>\n",
              "      <td>40,000.00</td>\n",
              "      <td>NaN</td>\n",
              "      <td>287,500.00</td>\n",
              "      <td>564,450.00378,100.00105,410.00123,100.0093,550...</td>\n",
              "      <td>NaN</td>\n",
              "      <td>79,850.77</td>\n",
              "      <td>NaN</td>\n",
              "    </tr>\n",
              "    <tr>\n",
              "      <th>13</th>\n",
              "      <td>14</td>\n",
              "      <td>PHILIPPINES</td>\n",
              "      <td>ประเทศ</td>\n",
              "      <td>109</td>\n",
              "      <td>คริสต์</td>\n",
              "      <td>มะนิลา</td>\n",
              "      <td>ฟิลิปีโน/อังกฤษ</td>\n",
              "      <td>601</td>\n",
              "      <td>286</td>\n",
              "      <td>14</td>\n",
              "      <td>สารป้องกันและกำจัดโรคพืชที่มีปริมาณการนำเข้าสูง</td>\n",
              "      <td>PHILIPPINES</td>\n",
              "      <td>กิโลกรัม</td>\n",
              "      <td>ประเทศ</td>\n",
              "      <td>รายปี</td>\n",
              "      <td>211,695.00</td>\n",
              "      <td>213,533.10</td>\n",
              "      <td>163,867.00</td>\n",
              "      <td>217,427.00</td>\n",
              "      <td>238,879.00</td>\n",
              "      <td>76,028.00</td>\n",
              "      <td>196,190.01</td>\n",
              "      <td>247,521.00</td>\n",
              "      <td>178,500.00</td>\n",
              "      <td>256,900.00</td>\n",
              "      <td>313,382.01</td>\n",
              "      <td>275,327.00</td>\n",
              "      <td>196,600.00</td>\n",
              "      <td>214296.0862</td>\n",
              "      <td>NaN</td>\n",
              "      <td>14.0</td>\n",
              "      <td>ปริมาณการนำเข้าปุ๋ยเคมีรายประเทศ</td>\n",
              "      <td>PHILIPPINES</td>\n",
              "      <td>เมตริกตัน</td>\n",
              "      <td>ประเทศ</td>\n",
              "      <td>รายปี</td>\n",
              "      <td>18,098.00</td>\n",
              "      <td>6,900.00</td>\n",
              "      <td>0</td>\n",
              "      <td>0</td>\n",
              "      <td>6,780.00</td>\n",
              "      <td>27,301.84</td>\n",
              "      <td>86,493.52</td>\n",
              "      <td>20,986.98</td>\n",
              "      <td>200</td>\n",
              "      <td>100</td>\n",
              "      <td>157</td>\n",
              "      <td>220</td>\n",
              "      <td>129</td>\n",
              "      <td>14.0</td>\n",
              "      <td>ปริมาณการนำเข้าเมล็ดพันธุ์ควบคุม</td>\n",
              "      <td>PHILIPPINES</td>\n",
              "      <td>เมตริกตัน</td>\n",
              "      <td>ประเทศ</td>\n",
              "      <td>รายปี</td>\n",
              "      <td>71</td>\n",
              "      <td>10,039.21</td>\n",
              "      <td>50</td>\n",
              "      <td>30</td>\n",
              "      <td>271.72</td>\n",
              "      <td>9.51</td>\n",
              "      <td>64.7</td>\n",
              "      <td>190.99</td>\n",
              "      <td>694.8</td>\n",
              "      <td>82.27</td>\n",
              "      <td>4.73</td>\n",
              "      <td>200,207.95</td>\n",
              "      <td>13.2</td>\n",
              "      <td>6.05</td>\n",
              "      <td>10.97</td>\n",
              "      <td>211,695.00213,533.10163,867.00217,427.00238,87...</td>\n",
              "      <td>13.26.0510.97</td>\n",
              "      <td>129</td>\n",
              "      <td>129211,695.00213,533.10163,867.00217,427.00238...</td>\n",
              "    </tr>\n",
              "    <tr>\n",
              "      <th>14</th>\n",
              "      <td>15</td>\n",
              "      <td>FINLAND</td>\n",
              "      <td>ประเทศ</td>\n",
              "      <td>5.53</td>\n",
              "      <td>คริสต์</td>\n",
              "      <td>เฮลซิงกิ</td>\n",
              "      <td>ฟินแลนด์/สวีเดน</td>\n",
              "      <td>1,536</td>\n",
              "      <td>4,135</td>\n",
              "      <td>15</td>\n",
              "      <td>สารป้องกันและกำจัดโรคพืชที่มีปริมาณการนำเข้าสูง</td>\n",
              "      <td>FINLAND</td>\n",
              "      <td>กิโลกรัม</td>\n",
              "      <td>ประเทศ</td>\n",
              "      <td>รายปี</td>\n",
              "      <td>0</td>\n",
              "      <td>0</td>\n",
              "      <td>0</td>\n",
              "      <td>0</td>\n",
              "      <td>7</td>\n",
              "      <td>0</td>\n",
              "      <td>1,568.00</td>\n",
              "      <td>3,897.00</td>\n",
              "      <td>12,576.00</td>\n",
              "      <td>0</td>\n",
              "      <td>76,750.00</td>\n",
              "      <td>150,479.00</td>\n",
              "      <td>345,987.00</td>\n",
              "      <td>527,936.00</td>\n",
              "      <td>NaN</td>\n",
              "      <td>15.0</td>\n",
              "      <td>ปริมาณการนำเข้าปุ๋ยเคมีรายประเทศ</td>\n",
              "      <td>FINLAND</td>\n",
              "      <td>เมตริกตัน</td>\n",
              "      <td>ประเทศ</td>\n",
              "      <td>รายปี</td>\n",
              "      <td>65,777.40</td>\n",
              "      <td>82,225.30</td>\n",
              "      <td>45,912.30</td>\n",
              "      <td>43,539.00</td>\n",
              "      <td>60,111.63</td>\n",
              "      <td>80,909.70</td>\n",
              "      <td>49,877.39</td>\n",
              "      <td>74,130.60</td>\n",
              "      <td>68,907.92</td>\n",
              "      <td>83,577.76</td>\n",
              "      <td>63,258.94</td>\n",
              "      <td>74,803.12</td>\n",
              "      <td>65,577.50</td>\n",
              "      <td>15.0</td>\n",
              "      <td>ปริมาณการนำเข้าเมล็ดพันธุ์ควบคุม</td>\n",
              "      <td>FINLAND</td>\n",
              "      <td>เมตริกตัน</td>\n",
              "      <td>ประเทศ</td>\n",
              "      <td>รายปี</td>\n",
              "      <td>216,000.00</td>\n",
              "      <td>884,175.00</td>\n",
              "      <td>520,000.00</td>\n",
              "      <td>829,414.00</td>\n",
              "      <td>900,568.40</td>\n",
              "      <td>12,089.16</td>\n",
              "      <td>7,906.60</td>\n",
              "      <td>5,561.06</td>\n",
              "      <td>11,696.73</td>\n",
              "      <td>137,901.70</td>\n",
              "      <td>632,832.18</td>\n",
              "      <td>1,027,625.90</td>\n",
              "      <td>1,437,357.82</td>\n",
              "      <td>1,922,077.73</td>\n",
              "      <td>1,994,106.49</td>\n",
              "      <td>0000701,568.003,897.0012,576.00076,750.00150,4...</td>\n",
              "      <td>1,437,357.821,922,077.731,994,106.49</td>\n",
              "      <td>65,577.50</td>\n",
              "      <td>65,577.500000701,568.003,897.0012,576.00076,75...</td>\n",
              "    </tr>\n",
              "    <tr>\n",
              "      <th>15</th>\n",
              "      <td>16</td>\n",
              "      <td>BANGLADESH</td>\n",
              "      <td>ประเทศ</td>\n",
              "      <td>163</td>\n",
              "      <td>อิสลาม</td>\n",
              "      <td>ธากา</td>\n",
              "      <td>เบงกอล</td>\n",
              "      <td>136</td>\n",
              "      <td>168</td>\n",
              "      <td>16</td>\n",
              "      <td>สารป้องกันและกำจัดโรคพืชที่มีปริมาณการนำเข้าสูง</td>\n",
              "      <td>BANGLADESH</td>\n",
              "      <td>กิโลกรัม</td>\n",
              "      <td>ประเทศ</td>\n",
              "      <td>รายปี</td>\n",
              "      <td>0</td>\n",
              "      <td>0</td>\n",
              "      <td>0</td>\n",
              "      <td>3</td>\n",
              "      <td>0</td>\n",
              "      <td>0</td>\n",
              "      <td>0</td>\n",
              "      <td>0</td>\n",
              "      <td>256</td>\n",
              "      <td>0</td>\n",
              "      <td>0</td>\n",
              "      <td>11,369.00</td>\n",
              "      <td>214,060.00</td>\n",
              "      <td>422,001.00</td>\n",
              "      <td>NaN</td>\n",
              "      <td>16.0</td>\n",
              "      <td>ปริมาณการนำเข้าปุ๋ยเคมีรายประเทศ</td>\n",
              "      <td>BANGLADESH</td>\n",
              "      <td>เมตริกตัน</td>\n",
              "      <td>ประเทศ</td>\n",
              "      <td>รายปี</td>\n",
              "      <td>43,758.00</td>\n",
              "      <td>0</td>\n",
              "      <td>0</td>\n",
              "      <td>42,537.79</td>\n",
              "      <td>13,824.67</td>\n",
              "      <td>49,499.72</td>\n",
              "      <td>0</td>\n",
              "      <td>0</td>\n",
              "      <td>0</td>\n",
              "      <td>0</td>\n",
              "      <td>31,000.00</td>\n",
              "      <td>0</td>\n",
              "      <td>0</td>\n",
              "      <td>16.0</td>\n",
              "      <td>ปริมาณการนำเข้าเมล็ดพันธุ์ควบคุม</td>\n",
              "      <td>BANGLADESH</td>\n",
              "      <td>เมตริกตัน</td>\n",
              "      <td>ประเทศ</td>\n",
              "      <td>รายปี</td>\n",
              "      <td>0</td>\n",
              "      <td>0</td>\n",
              "      <td>0</td>\n",
              "      <td>0</td>\n",
              "      <td>0</td>\n",
              "      <td>0</td>\n",
              "      <td>0</td>\n",
              "      <td>0</td>\n",
              "      <td>0</td>\n",
              "      <td>0</td>\n",
              "      <td>0</td>\n",
              "      <td>175.1</td>\n",
              "      <td>41.2</td>\n",
              "      <td>13</td>\n",
              "      <td>33</td>\n",
              "      <td>000300002560011,369.00214,060.00422,001.00</td>\n",
              "      <td>41.21333</td>\n",
              "      <td>0</td>\n",
              "      <td>0000300002560011,369.00214,060.00422,001.0041....</td>\n",
              "    </tr>\n",
              "    <tr>\n",
              "      <th>16</th>\n",
              "      <td>17</td>\n",
              "      <td>AUSTRALIA</td>\n",
              "      <td>ประเทศ</td>\n",
              "      <td>25.36</td>\n",
              "      <td>คริสต์</td>\n",
              "      <td>แคนเบอร์รา</td>\n",
              "      <td>อังกฤษ</td>\n",
              "      <td>1,944</td>\n",
              "      <td>4283</td>\n",
              "      <td>17</td>\n",
              "      <td>สารป้องกันและกำจัดโรคพืชที่มีมูลค่าการนำเข้าสูง</td>\n",
              "      <td>AUSTRALIA</td>\n",
              "      <td>บาท</td>\n",
              "      <td>ประเทศ</td>\n",
              "      <td>รายปี</td>\n",
              "      <td>148,857,088.00</td>\n",
              "      <td>209,736,558.00</td>\n",
              "      <td>149,438,447.30</td>\n",
              "      <td>199,984,829.30</td>\n",
              "      <td>177,876,025.80</td>\n",
              "      <td>136,663,617.50</td>\n",
              "      <td>182,159,947.70</td>\n",
              "      <td>179,044,886.40</td>\n",
              "      <td>193,614,493.80</td>\n",
              "      <td>222,860,151.30</td>\n",
              "      <td>284,319,239.70</td>\n",
              "      <td>276,237,325.80</td>\n",
              "      <td>207,023,055.71</td>\n",
              "      <td>164,300,813.26</td>\n",
              "      <td>NaN</td>\n",
              "      <td>17.0</td>\n",
              "      <td>ปริมาณการนำเข้าปุ๋ยเคมีรายประเทศ</td>\n",
              "      <td>AUSTRALIA</td>\n",
              "      <td>เมตริกตัน</td>\n",
              "      <td>ประเทศ</td>\n",
              "      <td>รายปี</td>\n",
              "      <td>27,294.47</td>\n",
              "      <td>35,104.37</td>\n",
              "      <td>29,025.77</td>\n",
              "      <td>34,356.89</td>\n",
              "      <td>36,948.10</td>\n",
              "      <td>15,593.97</td>\n",
              "      <td>45,119.46</td>\n",
              "      <td>27,136.36</td>\n",
              "      <td>42,128.31</td>\n",
              "      <td>33,360.69</td>\n",
              "      <td>66,380.78</td>\n",
              "      <td>60,971.94</td>\n",
              "      <td>63,381.83</td>\n",
              "      <td>17.0</td>\n",
              "      <td>ปริมาณการนำเข้าเมล็ดพันธุ์ควบคุม</td>\n",
              "      <td>AUSTRALIA</td>\n",
              "      <td>เมตริกตัน</td>\n",
              "      <td>ประเทศ</td>\n",
              "      <td>รายปี</td>\n",
              "      <td>327,454.25</td>\n",
              "      <td>128,939.74</td>\n",
              "      <td>29,219.70</td>\n",
              "      <td>41,167.12</td>\n",
              "      <td>54,835.83</td>\n",
              "      <td>34,255.08</td>\n",
              "      <td>36,830.30</td>\n",
              "      <td>27,120.76</td>\n",
              "      <td>79,407.62</td>\n",
              "      <td>51,452.13</td>\n",
              "      <td>98,990.91</td>\n",
              "      <td>105,498.45</td>\n",
              "      <td>76,691.98</td>\n",
              "      <td>24,501.69</td>\n",
              "      <td>16,646.96</td>\n",
              "      <td>148,857,088.00209,736,558.00149,438,447.30199,...</td>\n",
              "      <td>76,691.9824,501.6916,646.96</td>\n",
              "      <td>63,381.83</td>\n",
              "      <td>63,381.83148,857,088.00209,736,558.00149,438,4...</td>\n",
              "    </tr>\n",
              "    <tr>\n",
              "      <th>17</th>\n",
              "      <td>18</td>\n",
              "      <td>UNITED STATES</td>\n",
              "      <td>ประเทศ</td>\n",
              "      <td>328.2</td>\n",
              "      <td>คริสต์</td>\n",
              "      <td>วอชิงตัน ดี.ซี.</td>\n",
              "      <td>อังกฤษ</td>\n",
              "      <td>1,951</td>\n",
              "      <td>5493</td>\n",
              "      <td>18</td>\n",
              "      <td>สารป้องกันและกำจัดโรคพืชที่มีมูลค่าการนำเข้าสูง</td>\n",
              "      <td>UNITED STATES</td>\n",
              "      <td>บาท</td>\n",
              "      <td>ประเทศ</td>\n",
              "      <td>รายปี</td>\n",
              "      <td>37,014,144.00</td>\n",
              "      <td>64,267,704.00</td>\n",
              "      <td>34,088,390.00</td>\n",
              "      <td>29,419,514.00</td>\n",
              "      <td>41,231,160.31</td>\n",
              "      <td>206,534.92</td>\n",
              "      <td>9,219,250.00</td>\n",
              "      <td>32,572,284.00</td>\n",
              "      <td>24,880,816.00</td>\n",
              "      <td>16,935,430.77</td>\n",
              "      <td>12,342,560.77</td>\n",
              "      <td>11,388,900.86</td>\n",
              "      <td>11,647,353.36</td>\n",
              "      <td>25016464.85</td>\n",
              "      <td>NaN</td>\n",
              "      <td>18.0</td>\n",
              "      <td>ปริมาณการนำเข้าปุ๋ยเคมีรายประเทศ</td>\n",
              "      <td>UNITED STATES</td>\n",
              "      <td>เมตริกตัน</td>\n",
              "      <td>ประเทศ</td>\n",
              "      <td>รายปี</td>\n",
              "      <td>143,776.13</td>\n",
              "      <td>99,806.27</td>\n",
              "      <td>57,368.98</td>\n",
              "      <td>28,996.46</td>\n",
              "      <td>149,962.64</td>\n",
              "      <td>72,038.21</td>\n",
              "      <td>81,631.72</td>\n",
              "      <td>112,212.40</td>\n",
              "      <td>914.36</td>\n",
              "      <td>844.17</td>\n",
              "      <td>4,840.51</td>\n",
              "      <td>4,750.57</td>\n",
              "      <td>2,733.95</td>\n",
              "      <td>18.0</td>\n",
              "      <td>ปริมาณการนำเข้าเมล็ดพันธุ์ควบคุม</td>\n",
              "      <td>UNITED STATES</td>\n",
              "      <td>เมตริกตัน</td>\n",
              "      <td>ประเทศ</td>\n",
              "      <td>รายปี</td>\n",
              "      <td>5,000.00</td>\n",
              "      <td>20,000.00</td>\n",
              "      <td>860</td>\n",
              "      <td>37</td>\n",
              "      <td>50.4</td>\n",
              "      <td>41</td>\n",
              "      <td>4,000.00</td>\n",
              "      <td>5,260.00</td>\n",
              "      <td>0</td>\n",
              "      <td>0</td>\n",
              "      <td>422,400.00</td>\n",
              "      <td>383,425.00</td>\n",
              "      <td>174,305.80</td>\n",
              "      <td>15,472.76</td>\n",
              "      <td>245,977.05</td>\n",
              "      <td>37,014,144.0064,267,704.0034,088,390.0029,419,...</td>\n",
              "      <td>174,305.8015,472.76245,977.05</td>\n",
              "      <td>2,733.95</td>\n",
              "      <td>2,733.9537,014,144.0064,267,704.0034,088,390.0...</td>\n",
              "    </tr>\n",
              "    <tr>\n",
              "      <th>18</th>\n",
              "      <td>19</td>\n",
              "      <td>INDIA</td>\n",
              "      <td>ประเทศ</td>\n",
              "      <td>1,319</td>\n",
              "      <td>ฮินดู</td>\n",
              "      <td>นิวเดลี</td>\n",
              "      <td>ฮินดี/อังกฤษ</td>\n",
              "      <td>423</td>\n",
              "      <td>158</td>\n",
              "      <td>19</td>\n",
              "      <td>สารป้องกันและกำจัดโรคพืชที่มีมูลค่าการนำเข้าสูง</td>\n",
              "      <td>INDIA</td>\n",
              "      <td>บาท</td>\n",
              "      <td>ประเทศ</td>\n",
              "      <td>รายปี</td>\n",
              "      <td>174,819,686.70</td>\n",
              "      <td>240,412,662.20</td>\n",
              "      <td>76,155,094.00</td>\n",
              "      <td>100,058,699.00</td>\n",
              "      <td>181,342,257.70</td>\n",
              "      <td>70,864,530.33</td>\n",
              "      <td>110,230,056.10</td>\n",
              "      <td>137,829,547.50</td>\n",
              "      <td>170,999,194.00</td>\n",
              "      <td>217,979,011.90</td>\n",
              "      <td>275,367,882.00</td>\n",
              "      <td>244,483,708.30</td>\n",
              "      <td>226,480,952.77</td>\n",
              "      <td>357,910,666.15</td>\n",
              "      <td>NaN</td>\n",
              "      <td>19.0</td>\n",
              "      <td>ปริมาณการนำเข้าปุ๋ยเคมีรายประเทศ</td>\n",
              "      <td>INDIA</td>\n",
              "      <td>เมตริกตัน</td>\n",
              "      <td>ประเทศ</td>\n",
              "      <td>รายปี</td>\n",
              "      <td>100</td>\n",
              "      <td>0</td>\n",
              "      <td>16,028.00</td>\n",
              "      <td>0</td>\n",
              "      <td>353.34</td>\n",
              "      <td>2.7</td>\n",
              "      <td>0</td>\n",
              "      <td>0.32</td>\n",
              "      <td>0</td>\n",
              "      <td>157.64</td>\n",
              "      <td>191.4</td>\n",
              "      <td>122.8</td>\n",
              "      <td>137.4</td>\n",
              "      <td>19.0</td>\n",
              "      <td>ปริมาณการนำเข้าเมล็ดพันธุ์ควบคุม</td>\n",
              "      <td>INDIA</td>\n",
              "      <td>เมตริกตัน</td>\n",
              "      <td>ประเทศ</td>\n",
              "      <td>รายปี</td>\n",
              "      <td>0</td>\n",
              "      <td>0</td>\n",
              "      <td>0</td>\n",
              "      <td>0</td>\n",
              "      <td>0</td>\n",
              "      <td>0</td>\n",
              "      <td>0</td>\n",
              "      <td>465.44</td>\n",
              "      <td>141.6</td>\n",
              "      <td>0</td>\n",
              "      <td>90.9</td>\n",
              "      <td>104.8</td>\n",
              "      <td>80.5</td>\n",
              "      <td>69.3</td>\n",
              "      <td>115</td>\n",
              "      <td>174,819,686.70240,412,662.2076,155,094.00100,0...</td>\n",
              "      <td>80.569.3115</td>\n",
              "      <td>137.4</td>\n",
              "      <td>137.4174,819,686.70240,412,662.2076,155,094.00...</td>\n",
              "    </tr>\n",
              "    <tr>\n",
              "      <th>19</th>\n",
              "      <td>20</td>\n",
              "      <td>MOROCCO</td>\n",
              "      <td>ประเทศ</td>\n",
              "      <td>35.27</td>\n",
              "      <td>อิสลาม</td>\n",
              "      <td>ราบัต</td>\n",
              "      <td>อาหรับ/เบอร์เบอร์</td>\n",
              "      <td>644</td>\n",
              "      <td>248</td>\n",
              "      <td>20</td>\n",
              "      <td>สารป้องกันและกำจัดโรคพืชที่มีมูลค่าการนำเข้าสูง</td>\n",
              "      <td>MOROCCO</td>\n",
              "      <td>บาท</td>\n",
              "      <td>ประเทศ</td>\n",
              "      <td>รายปี</td>\n",
              "      <td>97,082,661.00</td>\n",
              "      <td>121,508,752.00</td>\n",
              "      <td>114,539,413.00</td>\n",
              "      <td>114,910,697.50</td>\n",
              "      <td>124,910,553.90</td>\n",
              "      <td>118,553,359.10</td>\n",
              "      <td>134,790,558.90</td>\n",
              "      <td>311,717,696.00</td>\n",
              "      <td>505,959,057.00</td>\n",
              "      <td>312,398,626.30</td>\n",
              "      <td>791,722,021.40</td>\n",
              "      <td>1,391,955,535.00</td>\n",
              "      <td>1,474,930,089.95</td>\n",
              "      <td>647,514,387.97</td>\n",
              "      <td>NaN</td>\n",
              "      <td>20.0</td>\n",
              "      <td>ปริมาณการนำเข้าปุ๋ยเคมีรายประเทศ</td>\n",
              "      <td>MOROCCO</td>\n",
              "      <td>เมตริกตัน</td>\n",
              "      <td>ประเทศ</td>\n",
              "      <td>รายปี</td>\n",
              "      <td>128,720.00</td>\n",
              "      <td>82,836.00</td>\n",
              "      <td>81,000.00</td>\n",
              "      <td>26,900.00</td>\n",
              "      <td>83,537.00</td>\n",
              "      <td>70,646.00</td>\n",
              "      <td>33,000.00</td>\n",
              "      <td>30,502.00</td>\n",
              "      <td>45,283.91</td>\n",
              "      <td>0</td>\n",
              "      <td>0</td>\n",
              "      <td>0</td>\n",
              "      <td>0</td>\n",
              "      <td>20.0</td>\n",
              "      <td>ปริมาณการนำเข้าเมล็ดพันธุ์ควบคุม</td>\n",
              "      <td>MOROCCO</td>\n",
              "      <td>เมตริกตัน</td>\n",
              "      <td>ประเทศ</td>\n",
              "      <td>รายปี</td>\n",
              "      <td>913,437.18</td>\n",
              "      <td>719,197.86</td>\n",
              "      <td>1,074,932.35</td>\n",
              "      <td>964,712.99</td>\n",
              "      <td>511,383.12</td>\n",
              "      <td>545,775.03</td>\n",
              "      <td>701,340.61</td>\n",
              "      <td>502,288.22</td>\n",
              "      <td>550,794.36</td>\n",
              "      <td>896,217.21</td>\n",
              "      <td>766,440.13</td>\n",
              "      <td>805,285.85</td>\n",
              "      <td>537,811.16</td>\n",
              "      <td>476,361.96</td>\n",
              "      <td>541,051.90</td>\n",
              "      <td>97,082,661.00121,508,752.00114,539,413.00114,9...</td>\n",
              "      <td>537,811.16476,361.96541,051.90</td>\n",
              "      <td>0</td>\n",
              "      <td>097,082,661.00121,508,752.00114,539,413.00114,...</td>\n",
              "    </tr>\n",
              "    <tr>\n",
              "      <th>20</th>\n",
              "      <td>21</td>\n",
              "      <td>POLAND</td>\n",
              "      <td>ประเทศ</td>\n",
              "      <td>38.26</td>\n",
              "      <td>คริสต์</td>\n",
              "      <td>วอร์ซอ</td>\n",
              "      <td>โปแลนด์</td>\n",
              "      <td>882</td>\n",
              "      <td>342</td>\n",
              "      <td>21</td>\n",
              "      <td>สารป้องกันและกำจัดโรคพืชที่มีมูลค่าการนำเข้าสูง</td>\n",
              "      <td>POLAND</td>\n",
              "      <td>บาท</td>\n",
              "      <td>ประเทศ</td>\n",
              "      <td>รายปี</td>\n",
              "      <td>73,391,207.00</td>\n",
              "      <td>64,786,838.00</td>\n",
              "      <td>66,004,336.44</td>\n",
              "      <td>98,469,018.00</td>\n",
              "      <td>93,283,798.45</td>\n",
              "      <td>103,066,385.70</td>\n",
              "      <td>115,514,082.00</td>\n",
              "      <td>92,350,711.82</td>\n",
              "      <td>68,482,733.00</td>\n",
              "      <td>94,934,557.08</td>\n",
              "      <td>104,885,335.10</td>\n",
              "      <td>84,997,158.18</td>\n",
              "      <td>42,465,216.39</td>\n",
              "      <td>64,923,759.44</td>\n",
              "      <td>NaN</td>\n",
              "      <td>21.0</td>\n",
              "      <td>ปริมาณการนำเข้าปุ๋ยเคมีรายประเทศ</td>\n",
              "      <td>POLAND</td>\n",
              "      <td>เมตริกตัน</td>\n",
              "      <td>ประเทศ</td>\n",
              "      <td>รายปี</td>\n",
              "      <td>15,317.40</td>\n",
              "      <td>42.2</td>\n",
              "      <td>84</td>\n",
              "      <td>22,771.00</td>\n",
              "      <td>32,564.17</td>\n",
              "      <td>3,477.86</td>\n",
              "      <td>3,713.66</td>\n",
              "      <td>390.3</td>\n",
              "      <td>1,204.80</td>\n",
              "      <td>63,202.68</td>\n",
              "      <td>917.7</td>\n",
              "      <td>2,105.40</td>\n",
              "      <td>1,017.40</td>\n",
              "      <td>21.0</td>\n",
              "      <td>ปริมาณการนำเข้าเมล็ดพันธุ์ควบคุม</td>\n",
              "      <td>POLAND</td>\n",
              "      <td>เมตริกตัน</td>\n",
              "      <td>ประเทศ</td>\n",
              "      <td>รายปี</td>\n",
              "      <td>964,608.50</td>\n",
              "      <td>662,838.00</td>\n",
              "      <td>310,568.77</td>\n",
              "      <td>482,750.00</td>\n",
              "      <td>302,892.00</td>\n",
              "      <td>128,496.56</td>\n",
              "      <td>59,966.42</td>\n",
              "      <td>114,340.48</td>\n",
              "      <td>50,167.29</td>\n",
              "      <td>36,372.08</td>\n",
              "      <td>40,000.00</td>\n",
              "      <td>40,100.00</td>\n",
              "      <td>41,062.00</td>\n",
              "      <td>10</td>\n",
              "      <td>14</td>\n",
              "      <td>73,391,207.0064,786,838.0066,004,336.4498,469,...</td>\n",
              "      <td>41,062.001014</td>\n",
              "      <td>1,017.40</td>\n",
              "      <td>1,017.4073,391,207.0064,786,838.0066,004,336.4...</td>\n",
              "    </tr>\n",
              "    <tr>\n",
              "      <th>21</th>\n",
              "      <td>22</td>\n",
              "      <td>GERMANY</td>\n",
              "      <td>ประเทศ</td>\n",
              "      <td>82.8</td>\n",
              "      <td>คริสต์</td>\n",
              "      <td>เบอร์ลิน</td>\n",
              "      <td>เยอรมัน</td>\n",
              "      <td>1,414</td>\n",
              "      <td>3,915</td>\n",
              "      <td>22</td>\n",
              "      <td>สารป้องกันและกำจัดโรคพืชที่มีมูลค่าการนำเข้าสูง</td>\n",
              "      <td>GERMANY</td>\n",
              "      <td>บาท</td>\n",
              "      <td>ประเทศ</td>\n",
              "      <td>รายปี</td>\n",
              "      <td>106,735,400.00</td>\n",
              "      <td>137,514,624.00</td>\n",
              "      <td>240,662,723.00</td>\n",
              "      <td>1,307,625,583.00</td>\n",
              "      <td>1,025,145,651.00</td>\n",
              "      <td>1,190,642,051.00</td>\n",
              "      <td>1,489,478,549.00</td>\n",
              "      <td>1,257,286,323.00</td>\n",
              "      <td>1,061,535,925.00</td>\n",
              "      <td>1,294,207,673.00</td>\n",
              "      <td>1,773,483,170.00</td>\n",
              "      <td>1,410,041,537.00</td>\n",
              "      <td>1,726,139,153.99</td>\n",
              "      <td>1,303,291,817.82</td>\n",
              "      <td>NaN</td>\n",
              "      <td>22.0</td>\n",
              "      <td>ปริมาณการนำเข้าปุ๋ยเคมีรายประเทศ</td>\n",
              "      <td>GERMANY</td>\n",
              "      <td>เมตริกตัน</td>\n",
              "      <td>ประเทศ</td>\n",
              "      <td>รายปี</td>\n",
              "      <td>114,523.09</td>\n",
              "      <td>106,614.26</td>\n",
              "      <td>104,260.39</td>\n",
              "      <td>22,052.27</td>\n",
              "      <td>68,605.92</td>\n",
              "      <td>94,095.82</td>\n",
              "      <td>124,170.80</td>\n",
              "      <td>111,971.25</td>\n",
              "      <td>94,755.51</td>\n",
              "      <td>86,322.57</td>\n",
              "      <td>87,120.04</td>\n",
              "      <td>134,281.13</td>\n",
              "      <td>95,591.76</td>\n",
              "      <td>22.0</td>\n",
              "      <td>ปริมาณการนำเข้าเมล็ดพันธุ์ควบคุม</td>\n",
              "      <td>GERMANY</td>\n",
              "      <td>เมตริกตัน</td>\n",
              "      <td>ประเทศ</td>\n",
              "      <td>รายปี</td>\n",
              "      <td>86,131.00</td>\n",
              "      <td>132,040.00</td>\n",
              "      <td>70,080.00</td>\n",
              "      <td>215,357.17</td>\n",
              "      <td>307,002.00</td>\n",
              "      <td>60,000.00</td>\n",
              "      <td>80,040.00</td>\n",
              "      <td>70,008.00</td>\n",
              "      <td>203,031.20</td>\n",
              "      <td>262,065.30</td>\n",
              "      <td>148575.467</td>\n",
              "      <td>12,000.00</td>\n",
              "      <td>60,000.00</td>\n",
              "      <td>80,004.00</td>\n",
              "      <td>137410.3182</td>\n",
              "      <td>106,735,400.00137,514,624.00240,662,723.001,30...</td>\n",
              "      <td>60,000.0080,004.00137410.3182</td>\n",
              "      <td>95,591.76</td>\n",
              "      <td>95,591.76106,735,400.00137,514,624.00240,662,7...</td>\n",
              "    </tr>\n",
              "    <tr>\n",
              "      <th>22</th>\n",
              "      <td>23</td>\n",
              "      <td>VIETNAM</td>\n",
              "      <td>ประเทศ</td>\n",
              "      <td>96.46</td>\n",
              "      <td>พุทธ</td>\n",
              "      <td>ฮานอย</td>\n",
              "      <td>เวียดนาม</td>\n",
              "      <td>639</td>\n",
              "      <td>222</td>\n",
              "      <td>23</td>\n",
              "      <td>สารป้องกันและกำจัดโรคพืชที่มีมูลค่าการนำเข้าสูง</td>\n",
              "      <td>VIETNAM</td>\n",
              "      <td>บาท</td>\n",
              "      <td>ประเทศ</td>\n",
              "      <td>รายปี</td>\n",
              "      <td>17,010,970.00</td>\n",
              "      <td>15,126,070.00</td>\n",
              "      <td>68,271,790.20</td>\n",
              "      <td>614,418,852.10</td>\n",
              "      <td>687,853,005.00</td>\n",
              "      <td>1,001,349,972.00</td>\n",
              "      <td>1,033,712,741.00</td>\n",
              "      <td>956,126,195.90</td>\n",
              "      <td>573,423,436.00</td>\n",
              "      <td>750,548,783.40</td>\n",
              "      <td>945,912,860.20</td>\n",
              "      <td>728,722,350.80</td>\n",
              "      <td>729,829,612.85</td>\n",
              "      <td>624792818.4</td>\n",
              "      <td>NaN</td>\n",
              "      <td>23.0</td>\n",
              "      <td>ปริมาณการนำเข้าปุ๋ยเคมีรายประเทศ</td>\n",
              "      <td>VIETNAM</td>\n",
              "      <td>เมตริกตัน</td>\n",
              "      <td>ประเทศ</td>\n",
              "      <td>รายปี</td>\n",
              "      <td>0</td>\n",
              "      <td>0</td>\n",
              "      <td>1,490.00</td>\n",
              "      <td>17,499.90</td>\n",
              "      <td>12,075.00</td>\n",
              "      <td>24,902.44</td>\n",
              "      <td>29,156.27</td>\n",
              "      <td>20,288.66</td>\n",
              "      <td>21,540.00</td>\n",
              "      <td>4,077.00</td>\n",
              "      <td>6,269.00</td>\n",
              "      <td>19,711.00</td>\n",
              "      <td>13,091.50</td>\n",
              "      <td>23.0</td>\n",
              "      <td>ปริมาณการนำเข้าเมล็ดพันธุ์ควบคุม</td>\n",
              "      <td>VIETNAM</td>\n",
              "      <td>เมตริกตัน</td>\n",
              "      <td>ประเทศ</td>\n",
              "      <td>รายปี</td>\n",
              "      <td>144,271.30</td>\n",
              "      <td>229,688.70</td>\n",
              "      <td>386,901.10</td>\n",
              "      <td>362,773.20</td>\n",
              "      <td>599,074.10</td>\n",
              "      <td>378,250.20</td>\n",
              "      <td>539,163.15</td>\n",
              "      <td>368,845.45</td>\n",
              "      <td>552,980.28</td>\n",
              "      <td>899,378.37</td>\n",
              "      <td>991,304.00</td>\n",
              "      <td>1,184,229.80</td>\n",
              "      <td>644,291.00</td>\n",
              "      <td>919,139.50</td>\n",
              "      <td>862,245.60</td>\n",
              "      <td>17,010,970.0015,126,070.0068,271,790.20614,418...</td>\n",
              "      <td>644,291.00919,139.50862,245.60</td>\n",
              "      <td>13,091.50</td>\n",
              "      <td>13,091.5017,010,970.0015,126,070.0068,271,790....</td>\n",
              "    </tr>\n",
              "    <tr>\n",
              "      <th>23</th>\n",
              "      <td>24</td>\n",
              "      <td>BELGIUM</td>\n",
              "      <td>ประเทศ</td>\n",
              "      <td>11.49</td>\n",
              "      <td>คริสต์</td>\n",
              "      <td>บรัสเวลส์</td>\n",
              "      <td>ดัตซ์/ฝรั่งเศส/เยอรมัน</td>\n",
              "      <td>1,495</td>\n",
              "      <td>1,638</td>\n",
              "      <td>24</td>\n",
              "      <td>สารป้องกันและกำจัดโรคพืชที่มีมูลค่าการนำเข้าสูง</td>\n",
              "      <td>BELGIUM</td>\n",
              "      <td>บาท</td>\n",
              "      <td>ประเทศ</td>\n",
              "      <td>รายปี</td>\n",
              "      <td>57,229,351.00</td>\n",
              "      <td>52,627,421.00</td>\n",
              "      <td>26,729,766.00</td>\n",
              "      <td>53,436,362.97</td>\n",
              "      <td>73,334,346.55</td>\n",
              "      <td>75,394,115.92</td>\n",
              "      <td>114,718,036.00</td>\n",
              "      <td>107,182,324.40</td>\n",
              "      <td>80,740,968.00</td>\n",
              "      <td>83,887,599.96</td>\n",
              "      <td>120,033,775.80</td>\n",
              "      <td>72,923,779.53</td>\n",
              "      <td>71,413,683.92</td>\n",
              "      <td>76127040.85</td>\n",
              "      <td>NaN</td>\n",
              "      <td>24.0</td>\n",
              "      <td>ปริมาณการนำเข้าปุ๋ยเคมีรายประเทศ</td>\n",
              "      <td>BELGIUM</td>\n",
              "      <td>เมตริกตัน</td>\n",
              "      <td>ประเทศ</td>\n",
              "      <td>รายปี</td>\n",
              "      <td>64,250.67</td>\n",
              "      <td>37,710.21</td>\n",
              "      <td>10,273.49</td>\n",
              "      <td>66,877.73</td>\n",
              "      <td>14,236.85</td>\n",
              "      <td>5,668.78</td>\n",
              "      <td>32,266.10</td>\n",
              "      <td>28,982.30</td>\n",
              "      <td>7,450.65</td>\n",
              "      <td>16,795.62</td>\n",
              "      <td>9,372.84</td>\n",
              "      <td>4,140.00</td>\n",
              "      <td>2,436.40</td>\n",
              "      <td>24.0</td>\n",
              "      <td>ปริมาณการนำเข้าเมล็ดพันธุ์ควบคุม</td>\n",
              "      <td>BELGIUM</td>\n",
              "      <td>เมตริกตัน</td>\n",
              "      <td>ประเทศ</td>\n",
              "      <td>รายปี</td>\n",
              "      <td>2,281,256.49</td>\n",
              "      <td>1,197,932.78</td>\n",
              "      <td>705,423.63</td>\n",
              "      <td>2,808,599.25</td>\n",
              "      <td>1,617,036.65</td>\n",
              "      <td>234,640.96</td>\n",
              "      <td>795,781.20</td>\n",
              "      <td>1,511,006.20</td>\n",
              "      <td>1,303,706.23</td>\n",
              "      <td>608,547.28</td>\n",
              "      <td>354,719.02</td>\n",
              "      <td>340,780.31</td>\n",
              "      <td>566,507.09</td>\n",
              "      <td>1,359,385.63</td>\n",
              "      <td>1,414,566.67</td>\n",
              "      <td>57,229,351.0052,627,421.0026,729,766.0053,436,...</td>\n",
              "      <td>566,507.091,359,385.631,414,566.67</td>\n",
              "      <td>2,436.40</td>\n",
              "      <td>2,436.4057,229,351.0052,627,421.0026,729,766.0...</td>\n",
              "    </tr>\n",
              "    <tr>\n",
              "      <th>24</th>\n",
              "      <td>25</td>\n",
              "      <td>INDONESIA</td>\n",
              "      <td>ประเทศ</td>\n",
              "      <td>261</td>\n",
              "      <td>อิสลาม</td>\n",
              "      <td>จาการ์ตา</td>\n",
              "      <td>อินโดนีเซีย</td>\n",
              "      <td>548</td>\n",
              "      <td>323</td>\n",
              "      <td>25</td>\n",
              "      <td>สารป้องกันและกำจัดโรคพืชที่มีมูลค่าการนำเข้าสูง</td>\n",
              "      <td>INDONESIA</td>\n",
              "      <td>บาท</td>\n",
              "      <td>ประเทศ</td>\n",
              "      <td>รายปี</td>\n",
              "      <td>1,830,376.00</td>\n",
              "      <td>40,056,792.00</td>\n",
              "      <td>7,150,961.00</td>\n",
              "      <td>39,372,235.00</td>\n",
              "      <td>62,251,530.00</td>\n",
              "      <td>22,230,248.29</td>\n",
              "      <td>61,253,086.00</td>\n",
              "      <td>40,730,605.00</td>\n",
              "      <td>44,462,717.00</td>\n",
              "      <td>51,373,935.73</td>\n",
              "      <td>125,532,596.90</td>\n",
              "      <td>84,090,660.41</td>\n",
              "      <td>64,993,728.68</td>\n",
              "      <td>64,998,715.06</td>\n",
              "      <td>NaN</td>\n",
              "      <td>NaN</td>\n",
              "      <td>NaN</td>\n",
              "      <td>NaN</td>\n",
              "      <td>NaN</td>\n",
              "      <td>NaN</td>\n",
              "      <td>NaN</td>\n",
              "      <td>NaN</td>\n",
              "      <td>NaN</td>\n",
              "      <td>NaN</td>\n",
              "      <td>NaN</td>\n",
              "      <td>NaN</td>\n",
              "      <td>NaN</td>\n",
              "      <td>NaN</td>\n",
              "      <td>NaN</td>\n",
              "      <td>NaN</td>\n",
              "      <td>NaN</td>\n",
              "      <td>Y2016_x</td>\n",
              "      <td>Y2017_x</td>\n",
              "      <td>Y2018_x</td>\n",
              "      <td>NaN</td>\n",
              "      <td>NaN</td>\n",
              "      <td>NaN</td>\n",
              "      <td>NaN</td>\n",
              "      <td>NaN</td>\n",
              "      <td>NaN</td>\n",
              "      <td>NaN</td>\n",
              "      <td>NaN</td>\n",
              "      <td>NaN</td>\n",
              "      <td>NaN</td>\n",
              "      <td>NaN</td>\n",
              "      <td>NaN</td>\n",
              "      <td>NaN</td>\n",
              "      <td>NaN</td>\n",
              "      <td>NaN</td>\n",
              "      <td>NaN</td>\n",
              "      <td>NaN</td>\n",
              "      <td>NaN</td>\n",
              "      <td>NaN</td>\n",
              "      <td>NaN</td>\n",
              "      <td>NaN</td>\n",
              "      <td>1,830,376.0040,056,792.007,150,961.0039,372,23...</td>\n",
              "      <td>NaN</td>\n",
              "      <td>Y2018_x</td>\n",
              "      <td>NaN</td>\n",
              "    </tr>\n",
              "    <tr>\n",
              "      <th>25</th>\n",
              "      <td>26</td>\n",
              "      <td>SWEDEN</td>\n",
              "      <td>ประเทศ</td>\n",
              "      <td>10.38</td>\n",
              "      <td>คริสต์</td>\n",
              "      <td>สต็อกโฮล์ม</td>\n",
              "      <td>ไม่ได้กำหนด/สวีเดน(พฤตินัย)</td>\n",
              "      <td>1,515</td>\n",
              "      <td>4,483</td>\n",
              "      <td>26</td>\n",
              "      <td>สารป้องกันและกำจัดโรคพืชที่มีมูลค่าการนำเข้าสูง</td>\n",
              "      <td>SWEDEN</td>\n",
              "      <td>บาท</td>\n",
              "      <td>ประเทศ</td>\n",
              "      <td>รายปี</td>\n",
              "      <td>20,316,944.00</td>\n",
              "      <td>38,945,078.00</td>\n",
              "      <td>31,914,437.00</td>\n",
              "      <td>33,885,169.90</td>\n",
              "      <td>46,627,244.58</td>\n",
              "      <td>55,186,164.96</td>\n",
              "      <td>39,149,895.15</td>\n",
              "      <td>33,337,638.00</td>\n",
              "      <td>39,748,392.00</td>\n",
              "      <td>48,638,424.15</td>\n",
              "      <td>90,716,794.85</td>\n",
              "      <td>78,151,767.30</td>\n",
              "      <td>104,226,057.35</td>\n",
              "      <td>71,455,250.21</td>\n",
              "      <td>NaN</td>\n",
              "      <td>26.0</td>\n",
              "      <td>ปริมาณการนำเข้าปุ๋ยเคมีรายประเทศ</td>\n",
              "      <td>SWEDEN</td>\n",
              "      <td>เมตริกตัน</td>\n",
              "      <td>ประเทศ</td>\n",
              "      <td>รายปี</td>\n",
              "      <td>49</td>\n",
              "      <td>0</td>\n",
              "      <td>0</td>\n",
              "      <td>0</td>\n",
              "      <td>0</td>\n",
              "      <td>0</td>\n",
              "      <td>24.5</td>\n",
              "      <td>97</td>\n",
              "      <td>73</td>\n",
              "      <td>49</td>\n",
              "      <td>57</td>\n",
              "      <td>49</td>\n",
              "      <td>0</td>\n",
              "      <td>26.0</td>\n",
              "      <td>ปริมาณการนำเข้าเมล็ดพันธุ์ควบคุม</td>\n",
              "      <td>SWEDEN</td>\n",
              "      <td>เมตริกตัน</td>\n",
              "      <td>ประเทศ</td>\n",
              "      <td>รายปี</td>\n",
              "      <td>376</td>\n",
              "      <td>5,240.50</td>\n",
              "      <td>6,441.50</td>\n",
              "      <td>376</td>\n",
              "      <td>14.16</td>\n",
              "      <td>1,300.00</td>\n",
              "      <td>1,500</td>\n",
              "      <td>781.56</td>\n",
              "      <td>2,332.72</td>\n",
              "      <td>1,993.30</td>\n",
              "      <td>8,754.26</td>\n",
              "      <td>7,225.30</td>\n",
              "      <td>13,921.44</td>\n",
              "      <td>5,939,285.29</td>\n",
              "      <td>5,154.40</td>\n",
              "      <td>20,316,944.0038,945,078.0031,914,437.0033,885,...</td>\n",
              "      <td>13,921.445,939,285.295,154.40</td>\n",
              "      <td>0</td>\n",
              "      <td>020,316,944.0038,945,078.0031,914,437.0033,885...</td>\n",
              "    </tr>\n",
              "    <tr>\n",
              "      <th>26</th>\n",
              "      <td>27</td>\n",
              "      <td>NETHERLANDS</td>\n",
              "      <td>ประเทศ</td>\n",
              "      <td>17.42</td>\n",
              "      <td>คริสต์นิกายโรมันคาธอลิก</td>\n",
              "      <td>อัมสเตอร์ดัม</td>\n",
              "      <td>ดัตช์</td>\n",
              "      <td>1,778</td>\n",
              "      <td>4,418</td>\n",
              "      <td>27</td>\n",
              "      <td>สารป้องกันและกำจัดโรคพืชที่มีมูลค่าการนำเข้าสูง</td>\n",
              "      <td>NETHERLANDS</td>\n",
              "      <td>บาท</td>\n",
              "      <td>ประเทศ</td>\n",
              "      <td>รายปี</td>\n",
              "      <td>95,626,575.00</td>\n",
              "      <td>94,351,776.00</td>\n",
              "      <td>78,368,029.00</td>\n",
              "      <td>84,794,189.00</td>\n",
              "      <td>147,961,996.60</td>\n",
              "      <td>79,778,317.25</td>\n",
              "      <td>92,642,785.00</td>\n",
              "      <td>91,213,246.00</td>\n",
              "      <td>125,900,856.00</td>\n",
              "      <td>109,201,050.90</td>\n",
              "      <td>202,666,394.40</td>\n",
              "      <td>159,041,532.90</td>\n",
              "      <td>104,971,982.24</td>\n",
              "      <td>108,790,649.31</td>\n",
              "      <td>NaN</td>\n",
              "      <td>27.0</td>\n",
              "      <td>ปริมาณการนำเข้าปุ๋ยเคมีรายประเทศ</td>\n",
              "      <td>NETHERLANDS</td>\n",
              "      <td>เมตริกตัน</td>\n",
              "      <td>ประเทศ</td>\n",
              "      <td>รายปี</td>\n",
              "      <td>54,000.02</td>\n",
              "      <td>8,138.72</td>\n",
              "      <td>15,244.30</td>\n",
              "      <td>4,816.18</td>\n",
              "      <td>19,853.28</td>\n",
              "      <td>30,264.29</td>\n",
              "      <td>78,352.31</td>\n",
              "      <td>38,006.85</td>\n",
              "      <td>16,536.90</td>\n",
              "      <td>73,930.18</td>\n",
              "      <td>28,355.12</td>\n",
              "      <td>49,866.59</td>\n",
              "      <td>59,542.63</td>\n",
              "      <td>27.0</td>\n",
              "      <td>ปริมาณการนำเข้าเมล็ดพันธุ์ควบคุม</td>\n",
              "      <td>NETHERLANDS</td>\n",
              "      <td>เมตริกตัน</td>\n",
              "      <td>ประเทศ</td>\n",
              "      <td>รายปี</td>\n",
              "      <td>5,681.00</td>\n",
              "      <td>0</td>\n",
              "      <td>68</td>\n",
              "      <td>1,563</td>\n",
              "      <td>17,682.80</td>\n",
              "      <td>16,779.00</td>\n",
              "      <td>15,230.00</td>\n",
              "      <td>0</td>\n",
              "      <td>0</td>\n",
              "      <td>0</td>\n",
              "      <td>0</td>\n",
              "      <td>0</td>\n",
              "      <td>3</td>\n",
              "      <td>257</td>\n",
              "      <td>87</td>\n",
              "      <td>95,626,575.0094,351,776.0078,368,029.0084,794,...</td>\n",
              "      <td>325787</td>\n",
              "      <td>59,542.63</td>\n",
              "      <td>59,542.6395,626,575.0094,351,776.0078,368,029....</td>\n",
              "    </tr>\n",
              "    <tr>\n",
              "      <th>27</th>\n",
              "      <td>28</td>\n",
              "      <td>CHILE</td>\n",
              "      <td>ประเทศ</td>\n",
              "      <td>18.25</td>\n",
              "      <td>คริสต์นิกายโรมันคาธอลิก</td>\n",
              "      <td>กรุงซันติอาโก</td>\n",
              "      <td>สเปน</td>\n",
              "      <td>905</td>\n",
              "      <td>1,123</td>\n",
              "      <td>28</td>\n",
              "      <td>สารป้องกันและกำจัดโรคพืชที่มีมูลค่าการนำเข้าสูง</td>\n",
              "      <td>CHILE</td>\n",
              "      <td>บาท</td>\n",
              "      <td>ประเทศ</td>\n",
              "      <td>รายปี</td>\n",
              "      <td>7,525,234.00</td>\n",
              "      <td>8,673,721.00</td>\n",
              "      <td>12,897,923.11</td>\n",
              "      <td>9,752,631.00</td>\n",
              "      <td>14,973,964.91</td>\n",
              "      <td>1,257,140.90</td>\n",
              "      <td>7,312,190.54</td>\n",
              "      <td>11,410,847.00</td>\n",
              "      <td>3,974,403.00</td>\n",
              "      <td>7,703,713.86</td>\n",
              "      <td>16,940,461.69</td>\n",
              "      <td>22,021,881.73</td>\n",
              "      <td>12,926,759.44</td>\n",
              "      <td>10566990.17</td>\n",
              "      <td>NaN</td>\n",
              "      <td>28.0</td>\n",
              "      <td>ปริมาณการนำเข้าปุ๋ยเคมีรายประเทศ</td>\n",
              "      <td>CHILE</td>\n",
              "      <td>เมตริกตัน</td>\n",
              "      <td>ประเทศ</td>\n",
              "      <td>รายปี</td>\n",
              "      <td>3,381.00</td>\n",
              "      <td>5,152.00</td>\n",
              "      <td>2,849.00</td>\n",
              "      <td>4,346.00</td>\n",
              "      <td>8,498.95</td>\n",
              "      <td>8,611.00</td>\n",
              "      <td>36,895.20</td>\n",
              "      <td>47,427.50</td>\n",
              "      <td>62,353.40</td>\n",
              "      <td>31,731.50</td>\n",
              "      <td>44,244.08</td>\n",
              "      <td>57,830.48</td>\n",
              "      <td>75,175.28</td>\n",
              "      <td>28.0</td>\n",
              "      <td>ปริมาณการนำเข้าเมล็ดพันธุ์ควบคุม</td>\n",
              "      <td>CHILE</td>\n",
              "      <td>เมตริกตัน</td>\n",
              "      <td>ประเทศ</td>\n",
              "      <td>รายปี</td>\n",
              "      <td>5.97</td>\n",
              "      <td>1.25</td>\n",
              "      <td>0</td>\n",
              "      <td>578</td>\n",
              "      <td>666</td>\n",
              "      <td>327.8</td>\n",
              "      <td>877.36</td>\n",
              "      <td>1,780.03</td>\n",
              "      <td>7,425.33</td>\n",
              "      <td>24,751.70</td>\n",
              "      <td>17,324.50</td>\n",
              "      <td>5,351.00</td>\n",
              "      <td>333.29</td>\n",
              "      <td>2.11</td>\n",
              "      <td>1,200.00</td>\n",
              "      <td>7,525,234.008,673,721.0012,897,923.119,752,631...</td>\n",
              "      <td>333.292.111,200.00</td>\n",
              "      <td>75,175.28</td>\n",
              "      <td>75,175.287,525,234.008,673,721.0012,897,923.11...</td>\n",
              "    </tr>\n",
              "    <tr>\n",
              "      <th>28</th>\n",
              "      <td>29</td>\n",
              "      <td>JORDAN</td>\n",
              "      <td>ประเทศ</td>\n",
              "      <td>10.53</td>\n",
              "      <td>อิสลาม</td>\n",
              "      <td>อัมมาน</td>\n",
              "      <td>อาหรับ</td>\n",
              "      <td>850</td>\n",
              "      <td>1,052</td>\n",
              "      <td>29</td>\n",
              "      <td>สารป้องกันและกำจัดโรคพืชที่มีมูลค่าการนำเข้าสูง</td>\n",
              "      <td>JORDAN</td>\n",
              "      <td>บาท</td>\n",
              "      <td>ประเทศ</td>\n",
              "      <td>รายปี</td>\n",
              "      <td>91,055,271.00</td>\n",
              "      <td>59,795,758.00</td>\n",
              "      <td>14,472,786.00</td>\n",
              "      <td>16,820,456.00</td>\n",
              "      <td>13,421,309.00</td>\n",
              "      <td>2,542.77</td>\n",
              "      <td>29,903.53</td>\n",
              "      <td>46,457,673.29</td>\n",
              "      <td>35,539,297.14</td>\n",
              "      <td>48,046,603.22</td>\n",
              "      <td>46,170,693.80</td>\n",
              "      <td>77,611,458.19</td>\n",
              "      <td>28,213,420.19</td>\n",
              "      <td>36741320.93</td>\n",
              "      <td>NaN</td>\n",
              "      <td>29.0</td>\n",
              "      <td>ปริมาณการนำเข้าปุ๋ยเคมีรายประเทศ</td>\n",
              "      <td>JORDAN</td>\n",
              "      <td>เมตริกตัน</td>\n",
              "      <td>ประเทศ</td>\n",
              "      <td>รายปี</td>\n",
              "      <td>45,236.00</td>\n",
              "      <td>36,228.00</td>\n",
              "      <td>28,195.15</td>\n",
              "      <td>4,194.95</td>\n",
              "      <td>22,273.84</td>\n",
              "      <td>70,033.64</td>\n",
              "      <td>33,909.58</td>\n",
              "      <td>60,897.00</td>\n",
              "      <td>58,426.90</td>\n",
              "      <td>787.58</td>\n",
              "      <td>2,832.89</td>\n",
              "      <td>2,651.62</td>\n",
              "      <td>1,588.51</td>\n",
              "      <td>29.0</td>\n",
              "      <td>ปริมาณการนำเข้าเมล็ดพันธุ์ควบคุม</td>\n",
              "      <td>JORDAN</td>\n",
              "      <td>เมตริกตัน</td>\n",
              "      <td>ประเทศ</td>\n",
              "      <td>รายปี</td>\n",
              "      <td>0</td>\n",
              "      <td>0</td>\n",
              "      <td>0</td>\n",
              "      <td>0</td>\n",
              "      <td>0</td>\n",
              "      <td>0</td>\n",
              "      <td>104.7</td>\n",
              "      <td>0</td>\n",
              "      <td>0</td>\n",
              "      <td>0</td>\n",
              "      <td>0</td>\n",
              "      <td>5</td>\n",
              "      <td>0</td>\n",
              "      <td>0</td>\n",
              "      <td>0</td>\n",
              "      <td>91,055,271.0059,795,758.0014,472,786.0016,820,...</td>\n",
              "      <td>000</td>\n",
              "      <td>1,588.51</td>\n",
              "      <td>1,588.5191,055,271.0059,795,758.0014,472,786.0...</td>\n",
              "    </tr>\n",
              "    <tr>\n",
              "      <th>29</th>\n",
              "      <td>30</td>\n",
              "      <td>SINGAPORE</td>\n",
              "      <td>ประเทศ</td>\n",
              "      <td>5.4</td>\n",
              "      <td>พุทธ</td>\n",
              "      <td>สิงคโปร์</td>\n",
              "      <td>อังกฤษ/จีน/มาเลย์และภาษาทมิฬ</td>\n",
              "      <td>2,169</td>\n",
              "      <td>4,577</td>\n",
              "      <td>30</td>\n",
              "      <td>สารป้องกันและกำจัดโรคพืชที่มีมูลค่าการนำเข้าสูง</td>\n",
              "      <td>SINGAPORE</td>\n",
              "      <td>บาท</td>\n",
              "      <td>ประเทศ</td>\n",
              "      <td>รายปี</td>\n",
              "      <td>34,852,396.00</td>\n",
              "      <td>34,223,973.00</td>\n",
              "      <td>25,970,474.00</td>\n",
              "      <td>34,667,233.65</td>\n",
              "      <td>34,347,171.92</td>\n",
              "      <td>12,563,256.53</td>\n",
              "      <td>28,291,521.47</td>\n",
              "      <td>37,465,210.17</td>\n",
              "      <td>29,566,901.77</td>\n",
              "      <td>45,096,950.27</td>\n",
              "      <td>59,372,618.38</td>\n",
              "      <td>55,516,314.74</td>\n",
              "      <td>37,430,541.25</td>\n",
              "      <td>36104966.4</td>\n",
              "      <td>NaN</td>\n",
              "      <td>30.0</td>\n",
              "      <td>ปริมาณการนำเข้าปุ๋ยเคมีรายประเทศ</td>\n",
              "      <td>SINGAPORE</td>\n",
              "      <td>เมตริกตัน</td>\n",
              "      <td>ประเทศ</td>\n",
              "      <td>รายปี</td>\n",
              "      <td>23.6</td>\n",
              "      <td>22</td>\n",
              "      <td>0</td>\n",
              "      <td>0</td>\n",
              "      <td>0</td>\n",
              "      <td>0</td>\n",
              "      <td>0</td>\n",
              "      <td>0</td>\n",
              "      <td>23.88</td>\n",
              "      <td>767.46</td>\n",
              "      <td>1,619.83</td>\n",
              "      <td>3,415.70</td>\n",
              "      <td>1,806.13</td>\n",
              "      <td>30.0</td>\n",
              "      <td>ปริมาณการนำเข้าเมล็ดพันธุ์ควบคุม</td>\n",
              "      <td>SINGAPORE</td>\n",
              "      <td>เมตริกตัน</td>\n",
              "      <td>ประเทศ</td>\n",
              "      <td>รายปี</td>\n",
              "      <td>5</td>\n",
              "      <td>0</td>\n",
              "      <td>0</td>\n",
              "      <td>0</td>\n",
              "      <td>0</td>\n",
              "      <td>0</td>\n",
              "      <td>0</td>\n",
              "      <td>0</td>\n",
              "      <td>0</td>\n",
              "      <td>0</td>\n",
              "      <td>0</td>\n",
              "      <td>0</td>\n",
              "      <td>0</td>\n",
              "      <td>0</td>\n",
              "      <td>7</td>\n",
              "      <td>34,852,396.0034,223,973.0025,970,474.0034,667,...</td>\n",
              "      <td>007</td>\n",
              "      <td>1,806.13</td>\n",
              "      <td>1,806.1334,852,396.0034,223,973.0025,970,474.0...</td>\n",
              "    </tr>\n",
              "    <tr>\n",
              "      <th>30</th>\n",
              "      <td>31</td>\n",
              "      <td>TAIWAN</td>\n",
              "      <td>ประเทศ</td>\n",
              "      <td>23.57</td>\n",
              "      <td>พุทธ</td>\n",
              "      <td>ไทเป</td>\n",
              "      <td>จีนกลาง</td>\n",
              "      <td>1,057</td>\n",
              "      <td>2,542</td>\n",
              "      <td>31</td>\n",
              "      <td>สารป้องกันและกำจัดโรคพืชที่มีมูลค่าการนำเข้าสูง</td>\n",
              "      <td>TAIWAN</td>\n",
              "      <td>บาท</td>\n",
              "      <td>ประเทศ</td>\n",
              "      <td>รายปี</td>\n",
              "      <td>0</td>\n",
              "      <td>0</td>\n",
              "      <td>0</td>\n",
              "      <td>0</td>\n",
              "      <td>0</td>\n",
              "      <td>0</td>\n",
              "      <td>0</td>\n",
              "      <td>0</td>\n",
              "      <td>0</td>\n",
              "      <td>0</td>\n",
              "      <td>0</td>\n",
              "      <td>0</td>\n",
              "      <td>0</td>\n",
              "      <td>187,614,347.65</td>\n",
              "      <td>NaN</td>\n",
              "      <td>31.0</td>\n",
              "      <td>ปริมาณการนำเข้าปุ๋ยเคมีรายประเทศ</td>\n",
              "      <td>TAIWAN</td>\n",
              "      <td>เมตริกตัน</td>\n",
              "      <td>ประเทศ</td>\n",
              "      <td>รายปี</td>\n",
              "      <td>802.5</td>\n",
              "      <td>2,419.84</td>\n",
              "      <td>2,543.29</td>\n",
              "      <td>1,044.87</td>\n",
              "      <td>1,880.32</td>\n",
              "      <td>2,741.82</td>\n",
              "      <td>2,444.84</td>\n",
              "      <td>5,011.95</td>\n",
              "      <td>15,344.80</td>\n",
              "      <td>12,137.68</td>\n",
              "      <td>25,265.36</td>\n",
              "      <td>41,579.76</td>\n",
              "      <td>11,789.20</td>\n",
              "      <td>31.0</td>\n",
              "      <td>ปริมาณการนำเข้าเมล็ดพันธุ์ควบคุม</td>\n",
              "      <td>TAIWAN</td>\n",
              "      <td>เมตริกตัน</td>\n",
              "      <td>ประเทศ</td>\n",
              "      <td>รายปี</td>\n",
              "      <td>0</td>\n",
              "      <td>0</td>\n",
              "      <td>0</td>\n",
              "      <td>0</td>\n",
              "      <td>0</td>\n",
              "      <td>0</td>\n",
              "      <td>0</td>\n",
              "      <td>0</td>\n",
              "      <td>40,000.00</td>\n",
              "      <td>37,978.00</td>\n",
              "      <td>0</td>\n",
              "      <td>0</td>\n",
              "      <td>0</td>\n",
              "      <td>0</td>\n",
              "      <td>0</td>\n",
              "      <td>0000000000000187,614,347.65</td>\n",
              "      <td>000</td>\n",
              "      <td>11,789.20</td>\n",
              "      <td>11,789.200000000000000187,614,347.65000</td>\n",
              "    </tr>\n",
              "    <tr>\n",
              "      <th>31</th>\n",
              "      <td>32</td>\n",
              "      <td>ITALY</td>\n",
              "      <td>ประเทศ</td>\n",
              "      <td>60.31</td>\n",
              "      <td>คริสต์</td>\n",
              "      <td>โรม</td>\n",
              "      <td>อิตาลี</td>\n",
              "      <td>1,359</td>\n",
              "      <td>2,683</td>\n",
              "      <td>32</td>\n",
              "      <td>สารป้องกันและกำจัดโรคพืชที่มีมูลค่าการนำเข้าสูง</td>\n",
              "      <td>ITALY</td>\n",
              "      <td>บาท</td>\n",
              "      <td>ประเทศ</td>\n",
              "      <td>รายปี</td>\n",
              "      <td>0</td>\n",
              "      <td>0</td>\n",
              "      <td>0</td>\n",
              "      <td>0</td>\n",
              "      <td>0</td>\n",
              "      <td>0</td>\n",
              "      <td>0</td>\n",
              "      <td>0</td>\n",
              "      <td>0</td>\n",
              "      <td>0</td>\n",
              "      <td>NaN</td>\n",
              "      <td>NaN</td>\n",
              "      <td>NaN</td>\n",
              "      <td>34,910,108.61</td>\n",
              "      <td>NaN</td>\n",
              "      <td>32.0</td>\n",
              "      <td>ปริมาณการนำเข้าปุ๋ยเคมีรายประเทศ</td>\n",
              "      <td>ITALY</td>\n",
              "      <td>เมตริกตัน</td>\n",
              "      <td>ประเทศ</td>\n",
              "      <td>รายปี</td>\n",
              "      <td>150.23</td>\n",
              "      <td>317.35</td>\n",
              "      <td>326.28</td>\n",
              "      <td>870.2</td>\n",
              "      <td>2,811.08</td>\n",
              "      <td>7,642.38</td>\n",
              "      <td>12,462.45</td>\n",
              "      <td>21,710.11</td>\n",
              "      <td>7,736.05</td>\n",
              "      <td>19,795.18</td>\n",
              "      <td>16,690.91</td>\n",
              "      <td>5,498.66</td>\n",
              "      <td>1,958.47</td>\n",
              "      <td>32.0</td>\n",
              "      <td>ปริมาณการนำเข้าเมล็ดพันธุ์ควบคุม</td>\n",
              "      <td>ITALY</td>\n",
              "      <td>เมตริกตัน</td>\n",
              "      <td>ประเทศ</td>\n",
              "      <td>รายปี</td>\n",
              "      <td>0</td>\n",
              "      <td>0</td>\n",
              "      <td>0</td>\n",
              "      <td>146.8</td>\n",
              "      <td>30</td>\n",
              "      <td>625</td>\n",
              "      <td>15</td>\n",
              "      <td>75</td>\n",
              "      <td>0</td>\n",
              "      <td>0</td>\n",
              "      <td>0</td>\n",
              "      <td>0</td>\n",
              "      <td>0</td>\n",
              "      <td>0</td>\n",
              "      <td>0</td>\n",
              "      <td>NaN</td>\n",
              "      <td>000</td>\n",
              "      <td>1,958.47</td>\n",
              "      <td>NaN</td>\n",
              "    </tr>\n",
              "  </tbody>\n",
              "</table>\n",
              "</div>"
            ],
            "text/plain": [
              "    id_x  ...                                              total\n",
              "0      1  ...  927324.7552,249,315.002,143,682.001,192,758.30...\n",
              "1      2  ...  645736.271,160,075.001,519,815.00782,375.00794...\n",
              "2      3  ...  392424.0451,875,370.001,724,557.001,332,152.90...\n",
              "3      4  ...  434565.1042647,240.00890,090.00665,440.00673,7...\n",
              "4      5  ...  252642.6558709,000.00512,800.00420,400.00708,0...\n",
              "5      6  ...  596639.4825101,198.00120,678.00194,505.00392,6...\n",
              "6      7  ...  75,065.4028,790.0029,875.00160,147.20267,567.2...\n",
              "7      8  ...  4,292.37327,000.00313,200.00149,603.00294,000....\n",
              "8      9  ...  195,650.6035,776.00427,341.00152,960.00455,887...\n",
              "9     10  ...  247490.3583193,252.00268,944.00273,904.00190,1...\n",
              "10    11  ...  51,819.16659,500.00479,450.00407,100.00582,588...\n",
              "11    12  ...  128.07227,592.00226,575.00684,832.00283,770.00...\n",
              "12    13  ...                                                NaN\n",
              "13    14  ...  129211,695.00213,533.10163,867.00217,427.00238...\n",
              "14    15  ...  65,577.500000701,568.003,897.0012,576.00076,75...\n",
              "15    16  ...  0000300002560011,369.00214,060.00422,001.0041....\n",
              "16    17  ...  63,381.83148,857,088.00209,736,558.00149,438,4...\n",
              "17    18  ...  2,733.9537,014,144.0064,267,704.0034,088,390.0...\n",
              "18    19  ...  137.4174,819,686.70240,412,662.2076,155,094.00...\n",
              "19    20  ...  097,082,661.00121,508,752.00114,539,413.00114,...\n",
              "20    21  ...  1,017.4073,391,207.0064,786,838.0066,004,336.4...\n",
              "21    22  ...  95,591.76106,735,400.00137,514,624.00240,662,7...\n",
              "22    23  ...  13,091.5017,010,970.0015,126,070.0068,271,790....\n",
              "23    24  ...  2,436.4057,229,351.0052,627,421.0026,729,766.0...\n",
              "24    25  ...                                                NaN\n",
              "25    26  ...  020,316,944.0038,945,078.0031,914,437.0033,885...\n",
              "26    27  ...  59,542.6395,626,575.0094,351,776.0078,368,029....\n",
              "27    28  ...  75,175.287,525,234.008,673,721.0012,897,923.11...\n",
              "28    29  ...  1,588.5191,055,271.0059,795,758.0014,472,786.0...\n",
              "29    30  ...  1,806.1334,852,396.0034,223,973.0025,970,474.0...\n",
              "30    31  ...            11,789.200000000000000187,614,347.65000\n",
              "31    32  ...                                                NaN\n",
              "\n",
              "[32 rows x 74 columns]"
            ]
          },
          "metadata": {},
          "execution_count": 113
        }
      ]
    },
    {
      "cell_type": "code",
      "metadata": {
        "colab": {
          "base_uri": "https://localhost:8080/",
          "height": 937
        },
        "id": "QX-sf-5wwTVQ",
        "outputId": "3d0eeffb-880a-40a1-c630-3af62676cf9c"
      },
      "source": [
        "data1"
      ],
      "execution_count": 114,
      "outputs": [
        {
          "output_type": "execute_result",
          "data": {
            "text/html": [
              "<div>\n",
              "<style scoped>\n",
              "    .dataframe tbody tr th:only-of-type {\n",
              "        vertical-align: middle;\n",
              "    }\n",
              "\n",
              "    .dataframe tbody tr th {\n",
              "        vertical-align: top;\n",
              "    }\n",
              "\n",
              "    .dataframe thead th {\n",
              "        text-align: right;\n",
              "    }\n",
              "</style>\n",
              "<table border=\"1\" class=\"dataframe\">\n",
              "  <thead>\n",
              "    <tr style=\"text-align: right;\">\n",
              "      <th></th>\n",
              "      <th>country</th>\n",
              "      <th>total</th>\n",
              "      <th>C_Agicult</th>\n",
              "    </tr>\n",
              "  </thead>\n",
              "  <tbody>\n",
              "    <tr>\n",
              "      <th>0</th>\n",
              "      <td>SAUDI ARABIA</td>\n",
              "      <td>927324.7552,249,315.002,143,682.001,192,758.30...</td>\n",
              "      <td>0</td>\n",
              "    </tr>\n",
              "    <tr>\n",
              "      <th>1</th>\n",
              "      <td>CHINA</td>\n",
              "      <td>645736.271,160,075.001,519,815.00782,375.00794...</td>\n",
              "      <td>0</td>\n",
              "    </tr>\n",
              "    <tr>\n",
              "      <th>2</th>\n",
              "      <td>KOREA  REPUBLIC OF</td>\n",
              "      <td>392424.0451,875,370.001,724,557.001,332,152.90...</td>\n",
              "      <td>1</td>\n",
              "    </tr>\n",
              "    <tr>\n",
              "      <th>3</th>\n",
              "      <td>QATAR</td>\n",
              "      <td>434565.1042647,240.00890,090.00665,440.00673,7...</td>\n",
              "      <td>0</td>\n",
              "    </tr>\n",
              "    <tr>\n",
              "      <th>4</th>\n",
              "      <td>MALAYSIA</td>\n",
              "      <td>252642.6558709,000.00512,800.00420,400.00708,0...</td>\n",
              "      <td>0</td>\n",
              "    </tr>\n",
              "    <tr>\n",
              "      <th>5</th>\n",
              "      <td>RUSSIAN FEDERATION (CIS)</td>\n",
              "      <td>596639.4825101,198.00120,678.00194,505.00392,6...</td>\n",
              "      <td>1</td>\n",
              "    </tr>\n",
              "    <tr>\n",
              "      <th>6</th>\n",
              "      <td>KUWAIT</td>\n",
              "      <td>75,065.4028,790.0029,875.00160,147.20267,567.2...</td>\n",
              "      <td>1</td>\n",
              "    </tr>\n",
              "    <tr>\n",
              "      <th>7</th>\n",
              "      <td>EGYPT</td>\n",
              "      <td>4,292.37327,000.00313,200.00149,603.00294,000....</td>\n",
              "      <td>0</td>\n",
              "    </tr>\n",
              "    <tr>\n",
              "      <th>8</th>\n",
              "      <td>NORWAY</td>\n",
              "      <td>195,650.6035,776.00427,341.00152,960.00455,887...</td>\n",
              "      <td>0</td>\n",
              "    </tr>\n",
              "    <tr>\n",
              "      <th>9</th>\n",
              "      <td>CANADA</td>\n",
              "      <td>247490.3583193,252.00268,944.00273,904.00190,1...</td>\n",
              "      <td>0</td>\n",
              "    </tr>\n",
              "    <tr>\n",
              "      <th>10</th>\n",
              "      <td>ISRAEL</td>\n",
              "      <td>51,819.16659,500.00479,450.00407,100.00582,588...</td>\n",
              "      <td>1</td>\n",
              "    </tr>\n",
              "    <tr>\n",
              "      <th>11</th>\n",
              "      <td>JAPAN</td>\n",
              "      <td>128.07227,592.00226,575.00684,832.00283,770.00...</td>\n",
              "      <td>1</td>\n",
              "    </tr>\n",
              "    <tr>\n",
              "      <th>13</th>\n",
              "      <td>PHILIPPINES</td>\n",
              "      <td>129211,695.00213,533.10163,867.00217,427.00238...</td>\n",
              "      <td>0</td>\n",
              "    </tr>\n",
              "    <tr>\n",
              "      <th>14</th>\n",
              "      <td>FINLAND</td>\n",
              "      <td>65,577.500000701,568.003,897.0012,576.00076,75...</td>\n",
              "      <td>0</td>\n",
              "    </tr>\n",
              "    <tr>\n",
              "      <th>15</th>\n",
              "      <td>BANGLADESH</td>\n",
              "      <td>0000300002560011,369.00214,060.00422,001.0041....</td>\n",
              "      <td>0</td>\n",
              "    </tr>\n",
              "    <tr>\n",
              "      <th>16</th>\n",
              "      <td>AUSTRALIA</td>\n",
              "      <td>63,381.83148,857,088.00209,736,558.00149,438,4...</td>\n",
              "      <td>0</td>\n",
              "    </tr>\n",
              "    <tr>\n",
              "      <th>17</th>\n",
              "      <td>UNITED STATES</td>\n",
              "      <td>2,733.9537,014,144.0064,267,704.0034,088,390.0...</td>\n",
              "      <td>0</td>\n",
              "    </tr>\n",
              "    <tr>\n",
              "      <th>18</th>\n",
              "      <td>INDIA</td>\n",
              "      <td>137.4174,819,686.70240,412,662.2076,155,094.00...</td>\n",
              "      <td>1</td>\n",
              "    </tr>\n",
              "    <tr>\n",
              "      <th>19</th>\n",
              "      <td>MOROCCO</td>\n",
              "      <td>097,082,661.00121,508,752.00114,539,413.00114,...</td>\n",
              "      <td>1</td>\n",
              "    </tr>\n",
              "    <tr>\n",
              "      <th>20</th>\n",
              "      <td>POLAND</td>\n",
              "      <td>1,017.4073,391,207.0064,786,838.0066,004,336.4...</td>\n",
              "      <td>0</td>\n",
              "    </tr>\n",
              "    <tr>\n",
              "      <th>21</th>\n",
              "      <td>GERMANY</td>\n",
              "      <td>95,591.76106,735,400.00137,514,624.00240,662,7...</td>\n",
              "      <td>1</td>\n",
              "    </tr>\n",
              "    <tr>\n",
              "      <th>22</th>\n",
              "      <td>VIETNAM</td>\n",
              "      <td>13,091.5017,010,970.0015,126,070.0068,271,790....</td>\n",
              "      <td>1</td>\n",
              "    </tr>\n",
              "    <tr>\n",
              "      <th>23</th>\n",
              "      <td>BELGIUM</td>\n",
              "      <td>2,436.4057,229,351.0052,627,421.0026,729,766.0...</td>\n",
              "      <td>1</td>\n",
              "    </tr>\n",
              "    <tr>\n",
              "      <th>25</th>\n",
              "      <td>SWEDEN</td>\n",
              "      <td>020,316,944.0038,945,078.0031,914,437.0033,885...</td>\n",
              "      <td>1</td>\n",
              "    </tr>\n",
              "    <tr>\n",
              "      <th>26</th>\n",
              "      <td>NETHERLANDS</td>\n",
              "      <td>59,542.6395,626,575.0094,351,776.0078,368,029....</td>\n",
              "      <td>1</td>\n",
              "    </tr>\n",
              "    <tr>\n",
              "      <th>27</th>\n",
              "      <td>CHILE</td>\n",
              "      <td>75,175.287,525,234.008,673,721.0012,897,923.11...</td>\n",
              "      <td>0</td>\n",
              "    </tr>\n",
              "    <tr>\n",
              "      <th>28</th>\n",
              "      <td>JORDAN</td>\n",
              "      <td>1,588.5191,055,271.0059,795,758.0014,472,786.0...</td>\n",
              "      <td>1</td>\n",
              "    </tr>\n",
              "    <tr>\n",
              "      <th>29</th>\n",
              "      <td>SINGAPORE</td>\n",
              "      <td>1,806.1334,852,396.0034,223,973.0025,970,474.0...</td>\n",
              "      <td>0</td>\n",
              "    </tr>\n",
              "    <tr>\n",
              "      <th>30</th>\n",
              "      <td>TAIWAN</td>\n",
              "      <td>11,789.200000000000000187,614,347.65000</td>\n",
              "      <td>1</td>\n",
              "    </tr>\n",
              "  </tbody>\n",
              "</table>\n",
              "</div>"
            ],
            "text/plain": [
              "                     country  ... C_Agicult\n",
              "0               SAUDI ARABIA  ...         0\n",
              "1                      CHINA  ...         0\n",
              "2         KOREA  REPUBLIC OF  ...         1\n",
              "3                      QATAR  ...         0\n",
              "4                   MALAYSIA  ...         0\n",
              "5   RUSSIAN FEDERATION (CIS)  ...         1\n",
              "6                     KUWAIT  ...         1\n",
              "7                      EGYPT  ...         0\n",
              "8                     NORWAY  ...         0\n",
              "9                     CANADA  ...         0\n",
              "10                    ISRAEL  ...         1\n",
              "11                     JAPAN  ...         1\n",
              "13               PHILIPPINES  ...         0\n",
              "14                   FINLAND  ...         0\n",
              "15                BANGLADESH  ...         0\n",
              "16                 AUSTRALIA  ...         0\n",
              "17             UNITED STATES  ...         0\n",
              "18                     INDIA  ...         1\n",
              "19                   MOROCCO  ...         1\n",
              "20                    POLAND  ...         0\n",
              "21                   GERMANY  ...         1\n",
              "22                   VIETNAM  ...         1\n",
              "23                   BELGIUM  ...         1\n",
              "25                    SWEDEN  ...         1\n",
              "26               NETHERLANDS  ...         1\n",
              "27                     CHILE  ...         0\n",
              "28                    JORDAN  ...         1\n",
              "29                 SINGAPORE  ...         0\n",
              "30                    TAIWAN  ...         1\n",
              "\n",
              "[29 rows x 3 columns]"
            ]
          },
          "metadata": {},
          "execution_count": 114
        }
      ]
    },
    {
      "cell_type": "code",
      "metadata": {
        "colab": {
          "base_uri": "https://localhost:8080/",
          "height": 1000
        },
        "id": "0jfCd2YBwcmw",
        "outputId": "2dbf3245-ce0f-42b1-80f0-31ff976ff839"
      },
      "source": [
        "data_new1 = merged_04[['country','population(million)','living expenses(USD)','avg income(USD)','total']]\n",
        "data_new1"
      ],
      "execution_count": 115,
      "outputs": [
        {
          "output_type": "execute_result",
          "data": {
            "text/html": [
              "<div>\n",
              "<style scoped>\n",
              "    .dataframe tbody tr th:only-of-type {\n",
              "        vertical-align: middle;\n",
              "    }\n",
              "\n",
              "    .dataframe tbody tr th {\n",
              "        vertical-align: top;\n",
              "    }\n",
              "\n",
              "    .dataframe thead th {\n",
              "        text-align: right;\n",
              "    }\n",
              "</style>\n",
              "<table border=\"1\" class=\"dataframe\">\n",
              "  <thead>\n",
              "    <tr style=\"text-align: right;\">\n",
              "      <th></th>\n",
              "      <th>country</th>\n",
              "      <th>population(million)</th>\n",
              "      <th>living expenses(USD)</th>\n",
              "      <th>avg income(USD)</th>\n",
              "      <th>total</th>\n",
              "    </tr>\n",
              "  </thead>\n",
              "  <tbody>\n",
              "    <tr>\n",
              "      <th>0</th>\n",
              "      <td>SAUDI ARABIA</td>\n",
              "      <td>34.22</td>\n",
              "      <td>952</td>\n",
              "      <td>4,754</td>\n",
              "      <td>927324.7552,249,315.002,143,682.001,192,758.30...</td>\n",
              "    </tr>\n",
              "    <tr>\n",
              "      <th>1</th>\n",
              "      <td>CHINA</td>\n",
              "      <td>1,400</td>\n",
              "      <td>752</td>\n",
              "      <td>884</td>\n",
              "      <td>645736.271,160,075.001,519,815.00782,375.00794...</td>\n",
              "    </tr>\n",
              "    <tr>\n",
              "      <th>2</th>\n",
              "      <td>KOREA  REPUBLIC OF</td>\n",
              "      <td>51</td>\n",
              "      <td>1,154</td>\n",
              "      <td>2,738</td>\n",
              "      <td>392424.0451,875,370.001,724,557.001,332,152.90...</td>\n",
              "    </tr>\n",
              "    <tr>\n",
              "      <th>3</th>\n",
              "      <td>QATAR</td>\n",
              "      <td>2</td>\n",
              "      <td>1,856</td>\n",
              "      <td>4,684</td>\n",
              "      <td>434565.1042647,240.00890,090.00665,440.00673,7...</td>\n",
              "    </tr>\n",
              "    <tr>\n",
              "      <th>4</th>\n",
              "      <td>MALAYSIA</td>\n",
              "      <td>30</td>\n",
              "      <td>652</td>\n",
              "      <td>882</td>\n",
              "      <td>252642.6558709,000.00512,800.00420,400.00708,0...</td>\n",
              "    </tr>\n",
              "    <tr>\n",
              "      <th>5</th>\n",
              "      <td>RUSSIAN FEDERATION (CIS)</td>\n",
              "      <td>146</td>\n",
              "      <td>424</td>\n",
              "      <td>891</td>\n",
              "      <td>596639.4825101,198.00120,678.00194,505.00392,6...</td>\n",
              "    </tr>\n",
              "    <tr>\n",
              "      <th>6</th>\n",
              "      <td>KUWAIT</td>\n",
              "      <td>4.207</td>\n",
              "      <td>1,326</td>\n",
              "      <td>3,024</td>\n",
              "      <td>75,065.4028,790.0029,875.00160,147.20267,567.2...</td>\n",
              "    </tr>\n",
              "    <tr>\n",
              "      <th>7</th>\n",
              "      <td>EGYPT</td>\n",
              "      <td>93</td>\n",
              "      <td>449</td>\n",
              "      <td>250</td>\n",
              "      <td>4,292.37327,000.00313,200.00149,603.00294,000....</td>\n",
              "    </tr>\n",
              "    <tr>\n",
              "      <th>8</th>\n",
              "      <td>NORWAY</td>\n",
              "      <td>5.39</td>\n",
              "      <td>2,074</td>\n",
              "      <td>6,521</td>\n",
              "      <td>195,650.6035,776.00427,341.00152,960.00455,887...</td>\n",
              "    </tr>\n",
              "    <tr>\n",
              "      <th>9</th>\n",
              "      <td>CANADA</td>\n",
              "      <td>36.28</td>\n",
              "      <td>1,701</td>\n",
              "      <td>3,620</td>\n",
              "      <td>247490.3583193,252.00268,944.00273,904.00190,1...</td>\n",
              "    </tr>\n",
              "    <tr>\n",
              "      <th>10</th>\n",
              "      <td>ISRAEL</td>\n",
              "      <td>9.39</td>\n",
              "      <td>1774</td>\n",
              "      <td>3,589</td>\n",
              "      <td>51,819.16659,500.00479,450.00407,100.00582,588...</td>\n",
              "    </tr>\n",
              "    <tr>\n",
              "      <th>11</th>\n",
              "      <td>JAPAN</td>\n",
              "      <td>125</td>\n",
              "      <td>1,370</td>\n",
              "      <td>3,465</td>\n",
              "      <td>128.07227,592.00226,575.00684,832.00283,770.00...</td>\n",
              "    </tr>\n",
              "    <tr>\n",
              "      <th>12</th>\n",
              "      <td>BAHRAIN</td>\n",
              "      <td>0.688</td>\n",
              "      <td>1,035</td>\n",
              "      <td>3,124</td>\n",
              "      <td>NaN</td>\n",
              "    </tr>\n",
              "    <tr>\n",
              "      <th>13</th>\n",
              "      <td>PHILIPPINES</td>\n",
              "      <td>109</td>\n",
              "      <td>601</td>\n",
              "      <td>286</td>\n",
              "      <td>129211,695.00213,533.10163,867.00217,427.00238...</td>\n",
              "    </tr>\n",
              "    <tr>\n",
              "      <th>14</th>\n",
              "      <td>FINLAND</td>\n",
              "      <td>5.53</td>\n",
              "      <td>1,536</td>\n",
              "      <td>4,135</td>\n",
              "      <td>65,577.500000701,568.003,897.0012,576.00076,75...</td>\n",
              "    </tr>\n",
              "    <tr>\n",
              "      <th>15</th>\n",
              "      <td>BANGLADESH</td>\n",
              "      <td>163</td>\n",
              "      <td>136</td>\n",
              "      <td>168</td>\n",
              "      <td>0000300002560011,369.00214,060.00422,001.0041....</td>\n",
              "    </tr>\n",
              "    <tr>\n",
              "      <th>16</th>\n",
              "      <td>AUSTRALIA</td>\n",
              "      <td>25.36</td>\n",
              "      <td>1,944</td>\n",
              "      <td>4283</td>\n",
              "      <td>63,381.83148,857,088.00209,736,558.00149,438,4...</td>\n",
              "    </tr>\n",
              "    <tr>\n",
              "      <th>17</th>\n",
              "      <td>UNITED STATES</td>\n",
              "      <td>328.2</td>\n",
              "      <td>1,951</td>\n",
              "      <td>5493</td>\n",
              "      <td>2,733.9537,014,144.0064,267,704.0034,088,390.0...</td>\n",
              "    </tr>\n",
              "    <tr>\n",
              "      <th>18</th>\n",
              "      <td>INDIA</td>\n",
              "      <td>1,319</td>\n",
              "      <td>423</td>\n",
              "      <td>158</td>\n",
              "      <td>137.4174,819,686.70240,412,662.2076,155,094.00...</td>\n",
              "    </tr>\n",
              "    <tr>\n",
              "      <th>19</th>\n",
              "      <td>MOROCCO</td>\n",
              "      <td>35.27</td>\n",
              "      <td>644</td>\n",
              "      <td>248</td>\n",
              "      <td>097,082,661.00121,508,752.00114,539,413.00114,...</td>\n",
              "    </tr>\n",
              "    <tr>\n",
              "      <th>20</th>\n",
              "      <td>POLAND</td>\n",
              "      <td>38.26</td>\n",
              "      <td>882</td>\n",
              "      <td>342</td>\n",
              "      <td>1,017.4073,391,207.0064,786,838.0066,004,336.4...</td>\n",
              "    </tr>\n",
              "    <tr>\n",
              "      <th>21</th>\n",
              "      <td>GERMANY</td>\n",
              "      <td>82.8</td>\n",
              "      <td>1,414</td>\n",
              "      <td>3,915</td>\n",
              "      <td>95,591.76106,735,400.00137,514,624.00240,662,7...</td>\n",
              "    </tr>\n",
              "    <tr>\n",
              "      <th>22</th>\n",
              "      <td>VIETNAM</td>\n",
              "      <td>96.46</td>\n",
              "      <td>639</td>\n",
              "      <td>222</td>\n",
              "      <td>13,091.5017,010,970.0015,126,070.0068,271,790....</td>\n",
              "    </tr>\n",
              "    <tr>\n",
              "      <th>23</th>\n",
              "      <td>BELGIUM</td>\n",
              "      <td>11.49</td>\n",
              "      <td>1,495</td>\n",
              "      <td>1,638</td>\n",
              "      <td>2,436.4057,229,351.0052,627,421.0026,729,766.0...</td>\n",
              "    </tr>\n",
              "    <tr>\n",
              "      <th>24</th>\n",
              "      <td>INDONESIA</td>\n",
              "      <td>261</td>\n",
              "      <td>548</td>\n",
              "      <td>323</td>\n",
              "      <td>NaN</td>\n",
              "    </tr>\n",
              "    <tr>\n",
              "      <th>25</th>\n",
              "      <td>SWEDEN</td>\n",
              "      <td>10.38</td>\n",
              "      <td>1,515</td>\n",
              "      <td>4,483</td>\n",
              "      <td>020,316,944.0038,945,078.0031,914,437.0033,885...</td>\n",
              "    </tr>\n",
              "    <tr>\n",
              "      <th>26</th>\n",
              "      <td>NETHERLANDS</td>\n",
              "      <td>17.42</td>\n",
              "      <td>1,778</td>\n",
              "      <td>4,418</td>\n",
              "      <td>59,542.6395,626,575.0094,351,776.0078,368,029....</td>\n",
              "    </tr>\n",
              "    <tr>\n",
              "      <th>27</th>\n",
              "      <td>CHILE</td>\n",
              "      <td>18.25</td>\n",
              "      <td>905</td>\n",
              "      <td>1,123</td>\n",
              "      <td>75,175.287,525,234.008,673,721.0012,897,923.11...</td>\n",
              "    </tr>\n",
              "    <tr>\n",
              "      <th>28</th>\n",
              "      <td>JORDAN</td>\n",
              "      <td>10.53</td>\n",
              "      <td>850</td>\n",
              "      <td>1,052</td>\n",
              "      <td>1,588.5191,055,271.0059,795,758.0014,472,786.0...</td>\n",
              "    </tr>\n",
              "    <tr>\n",
              "      <th>29</th>\n",
              "      <td>SINGAPORE</td>\n",
              "      <td>5.4</td>\n",
              "      <td>2,169</td>\n",
              "      <td>4,577</td>\n",
              "      <td>1,806.1334,852,396.0034,223,973.0025,970,474.0...</td>\n",
              "    </tr>\n",
              "    <tr>\n",
              "      <th>30</th>\n",
              "      <td>TAIWAN</td>\n",
              "      <td>23.57</td>\n",
              "      <td>1,057</td>\n",
              "      <td>2,542</td>\n",
              "      <td>11,789.200000000000000187,614,347.65000</td>\n",
              "    </tr>\n",
              "    <tr>\n",
              "      <th>31</th>\n",
              "      <td>ITALY</td>\n",
              "      <td>60.31</td>\n",
              "      <td>1,359</td>\n",
              "      <td>2,683</td>\n",
              "      <td>NaN</td>\n",
              "    </tr>\n",
              "  </tbody>\n",
              "</table>\n",
              "</div>"
            ],
            "text/plain": [
              "                     country  ...                                              total\n",
              "0               SAUDI ARABIA  ...  927324.7552,249,315.002,143,682.001,192,758.30...\n",
              "1                      CHINA  ...  645736.271,160,075.001,519,815.00782,375.00794...\n",
              "2         KOREA  REPUBLIC OF  ...  392424.0451,875,370.001,724,557.001,332,152.90...\n",
              "3                      QATAR  ...  434565.1042647,240.00890,090.00665,440.00673,7...\n",
              "4                   MALAYSIA  ...  252642.6558709,000.00512,800.00420,400.00708,0...\n",
              "5   RUSSIAN FEDERATION (CIS)  ...  596639.4825101,198.00120,678.00194,505.00392,6...\n",
              "6                     KUWAIT  ...  75,065.4028,790.0029,875.00160,147.20267,567.2...\n",
              "7                      EGYPT  ...  4,292.37327,000.00313,200.00149,603.00294,000....\n",
              "8                     NORWAY  ...  195,650.6035,776.00427,341.00152,960.00455,887...\n",
              "9                     CANADA  ...  247490.3583193,252.00268,944.00273,904.00190,1...\n",
              "10                    ISRAEL  ...  51,819.16659,500.00479,450.00407,100.00582,588...\n",
              "11                     JAPAN  ...  128.07227,592.00226,575.00684,832.00283,770.00...\n",
              "12                   BAHRAIN  ...                                                NaN\n",
              "13               PHILIPPINES  ...  129211,695.00213,533.10163,867.00217,427.00238...\n",
              "14                   FINLAND  ...  65,577.500000701,568.003,897.0012,576.00076,75...\n",
              "15                BANGLADESH  ...  0000300002560011,369.00214,060.00422,001.0041....\n",
              "16                 AUSTRALIA  ...  63,381.83148,857,088.00209,736,558.00149,438,4...\n",
              "17             UNITED STATES  ...  2,733.9537,014,144.0064,267,704.0034,088,390.0...\n",
              "18                     INDIA  ...  137.4174,819,686.70240,412,662.2076,155,094.00...\n",
              "19                   MOROCCO  ...  097,082,661.00121,508,752.00114,539,413.00114,...\n",
              "20                    POLAND  ...  1,017.4073,391,207.0064,786,838.0066,004,336.4...\n",
              "21                   GERMANY  ...  95,591.76106,735,400.00137,514,624.00240,662,7...\n",
              "22                   VIETNAM  ...  13,091.5017,010,970.0015,126,070.0068,271,790....\n",
              "23                   BELGIUM  ...  2,436.4057,229,351.0052,627,421.0026,729,766.0...\n",
              "24                 INDONESIA  ...                                                NaN\n",
              "25                    SWEDEN  ...  020,316,944.0038,945,078.0031,914,437.0033,885...\n",
              "26               NETHERLANDS  ...  59,542.6395,626,575.0094,351,776.0078,368,029....\n",
              "27                     CHILE  ...  75,175.287,525,234.008,673,721.0012,897,923.11...\n",
              "28                    JORDAN  ...  1,588.5191,055,271.0059,795,758.0014,472,786.0...\n",
              "29                 SINGAPORE  ...  1,806.1334,852,396.0034,223,973.0025,970,474.0...\n",
              "30                    TAIWAN  ...            11,789.200000000000000187,614,347.65000\n",
              "31                     ITALY  ...                                                NaN\n",
              "\n",
              "[32 rows x 5 columns]"
            ]
          },
          "metadata": {},
          "execution_count": 115
        }
      ]
    },
    {
      "cell_type": "code",
      "metadata": {
        "colab": {
          "base_uri": "https://localhost:8080/",
          "height": 937
        },
        "id": "E7bovWA7w32h",
        "outputId": "8b6819a6-ff1e-45f9-8afd-0230b958525f"
      },
      "source": [
        "data_new1 = data_new1.dropna()\n",
        "data_new1"
      ],
      "execution_count": 128,
      "outputs": [
        {
          "output_type": "execute_result",
          "data": {
            "text/html": [
              "<div>\n",
              "<style scoped>\n",
              "    .dataframe tbody tr th:only-of-type {\n",
              "        vertical-align: middle;\n",
              "    }\n",
              "\n",
              "    .dataframe tbody tr th {\n",
              "        vertical-align: top;\n",
              "    }\n",
              "\n",
              "    .dataframe thead th {\n",
              "        text-align: right;\n",
              "    }\n",
              "</style>\n",
              "<table border=\"1\" class=\"dataframe\">\n",
              "  <thead>\n",
              "    <tr style=\"text-align: right;\">\n",
              "      <th></th>\n",
              "      <th>country</th>\n",
              "      <th>population(million)</th>\n",
              "      <th>living expenses(USD)</th>\n",
              "      <th>avg income(USD)</th>\n",
              "      <th>total</th>\n",
              "    </tr>\n",
              "  </thead>\n",
              "  <tbody>\n",
              "    <tr>\n",
              "      <th>0</th>\n",
              "      <td>SAUDI ARABIA</td>\n",
              "      <td>34.22</td>\n",
              "      <td>952</td>\n",
              "      <td>4,754</td>\n",
              "      <td>927324.7552,249,315.002,143,682.001,192,758.30...</td>\n",
              "    </tr>\n",
              "    <tr>\n",
              "      <th>1</th>\n",
              "      <td>CHINA</td>\n",
              "      <td>1,400</td>\n",
              "      <td>752</td>\n",
              "      <td>884</td>\n",
              "      <td>645736.271,160,075.001,519,815.00782,375.00794...</td>\n",
              "    </tr>\n",
              "    <tr>\n",
              "      <th>2</th>\n",
              "      <td>KOREA  REPUBLIC OF</td>\n",
              "      <td>51</td>\n",
              "      <td>1,154</td>\n",
              "      <td>2,738</td>\n",
              "      <td>392424.0451,875,370.001,724,557.001,332,152.90...</td>\n",
              "    </tr>\n",
              "    <tr>\n",
              "      <th>3</th>\n",
              "      <td>QATAR</td>\n",
              "      <td>2</td>\n",
              "      <td>1,856</td>\n",
              "      <td>4,684</td>\n",
              "      <td>434565.1042647,240.00890,090.00665,440.00673,7...</td>\n",
              "    </tr>\n",
              "    <tr>\n",
              "      <th>4</th>\n",
              "      <td>MALAYSIA</td>\n",
              "      <td>30</td>\n",
              "      <td>652</td>\n",
              "      <td>882</td>\n",
              "      <td>252642.6558709,000.00512,800.00420,400.00708,0...</td>\n",
              "    </tr>\n",
              "    <tr>\n",
              "      <th>5</th>\n",
              "      <td>RUSSIAN FEDERATION (CIS)</td>\n",
              "      <td>146</td>\n",
              "      <td>424</td>\n",
              "      <td>891</td>\n",
              "      <td>596639.4825101,198.00120,678.00194,505.00392,6...</td>\n",
              "    </tr>\n",
              "    <tr>\n",
              "      <th>6</th>\n",
              "      <td>KUWAIT</td>\n",
              "      <td>4.207</td>\n",
              "      <td>1,326</td>\n",
              "      <td>3,024</td>\n",
              "      <td>75,065.4028,790.0029,875.00160,147.20267,567.2...</td>\n",
              "    </tr>\n",
              "    <tr>\n",
              "      <th>7</th>\n",
              "      <td>EGYPT</td>\n",
              "      <td>93</td>\n",
              "      <td>449</td>\n",
              "      <td>250</td>\n",
              "      <td>4,292.37327,000.00313,200.00149,603.00294,000....</td>\n",
              "    </tr>\n",
              "    <tr>\n",
              "      <th>8</th>\n",
              "      <td>NORWAY</td>\n",
              "      <td>5.39</td>\n",
              "      <td>2,074</td>\n",
              "      <td>6,521</td>\n",
              "      <td>195,650.6035,776.00427,341.00152,960.00455,887...</td>\n",
              "    </tr>\n",
              "    <tr>\n",
              "      <th>9</th>\n",
              "      <td>CANADA</td>\n",
              "      <td>36.28</td>\n",
              "      <td>1,701</td>\n",
              "      <td>3,620</td>\n",
              "      <td>247490.3583193,252.00268,944.00273,904.00190,1...</td>\n",
              "    </tr>\n",
              "    <tr>\n",
              "      <th>10</th>\n",
              "      <td>ISRAEL</td>\n",
              "      <td>9.39</td>\n",
              "      <td>1774</td>\n",
              "      <td>3,589</td>\n",
              "      <td>51,819.16659,500.00479,450.00407,100.00582,588...</td>\n",
              "    </tr>\n",
              "    <tr>\n",
              "      <th>11</th>\n",
              "      <td>JAPAN</td>\n",
              "      <td>125</td>\n",
              "      <td>1,370</td>\n",
              "      <td>3,465</td>\n",
              "      <td>128.07227,592.00226,575.00684,832.00283,770.00...</td>\n",
              "    </tr>\n",
              "    <tr>\n",
              "      <th>13</th>\n",
              "      <td>PHILIPPINES</td>\n",
              "      <td>109</td>\n",
              "      <td>601</td>\n",
              "      <td>286</td>\n",
              "      <td>129211,695.00213,533.10163,867.00217,427.00238...</td>\n",
              "    </tr>\n",
              "    <tr>\n",
              "      <th>14</th>\n",
              "      <td>FINLAND</td>\n",
              "      <td>5.53</td>\n",
              "      <td>1,536</td>\n",
              "      <td>4,135</td>\n",
              "      <td>65,577.500000701,568.003,897.0012,576.00076,75...</td>\n",
              "    </tr>\n",
              "    <tr>\n",
              "      <th>15</th>\n",
              "      <td>BANGLADESH</td>\n",
              "      <td>163</td>\n",
              "      <td>136</td>\n",
              "      <td>168</td>\n",
              "      <td>0000300002560011,369.00214,060.00422,001.0041....</td>\n",
              "    </tr>\n",
              "    <tr>\n",
              "      <th>16</th>\n",
              "      <td>AUSTRALIA</td>\n",
              "      <td>25.36</td>\n",
              "      <td>1,944</td>\n",
              "      <td>4283</td>\n",
              "      <td>63,381.83148,857,088.00209,736,558.00149,438,4...</td>\n",
              "    </tr>\n",
              "    <tr>\n",
              "      <th>17</th>\n",
              "      <td>UNITED STATES</td>\n",
              "      <td>328.2</td>\n",
              "      <td>1,951</td>\n",
              "      <td>5493</td>\n",
              "      <td>2,733.9537,014,144.0064,267,704.0034,088,390.0...</td>\n",
              "    </tr>\n",
              "    <tr>\n",
              "      <th>18</th>\n",
              "      <td>INDIA</td>\n",
              "      <td>1,319</td>\n",
              "      <td>423</td>\n",
              "      <td>158</td>\n",
              "      <td>137.4174,819,686.70240,412,662.2076,155,094.00...</td>\n",
              "    </tr>\n",
              "    <tr>\n",
              "      <th>19</th>\n",
              "      <td>MOROCCO</td>\n",
              "      <td>35.27</td>\n",
              "      <td>644</td>\n",
              "      <td>248</td>\n",
              "      <td>097,082,661.00121,508,752.00114,539,413.00114,...</td>\n",
              "    </tr>\n",
              "    <tr>\n",
              "      <th>20</th>\n",
              "      <td>POLAND</td>\n",
              "      <td>38.26</td>\n",
              "      <td>882</td>\n",
              "      <td>342</td>\n",
              "      <td>1,017.4073,391,207.0064,786,838.0066,004,336.4...</td>\n",
              "    </tr>\n",
              "    <tr>\n",
              "      <th>21</th>\n",
              "      <td>GERMANY</td>\n",
              "      <td>82.8</td>\n",
              "      <td>1,414</td>\n",
              "      <td>3,915</td>\n",
              "      <td>95,591.76106,735,400.00137,514,624.00240,662,7...</td>\n",
              "    </tr>\n",
              "    <tr>\n",
              "      <th>22</th>\n",
              "      <td>VIETNAM</td>\n",
              "      <td>96.46</td>\n",
              "      <td>639</td>\n",
              "      <td>222</td>\n",
              "      <td>13,091.5017,010,970.0015,126,070.0068,271,790....</td>\n",
              "    </tr>\n",
              "    <tr>\n",
              "      <th>23</th>\n",
              "      <td>BELGIUM</td>\n",
              "      <td>11.49</td>\n",
              "      <td>1,495</td>\n",
              "      <td>1,638</td>\n",
              "      <td>2,436.4057,229,351.0052,627,421.0026,729,766.0...</td>\n",
              "    </tr>\n",
              "    <tr>\n",
              "      <th>25</th>\n",
              "      <td>SWEDEN</td>\n",
              "      <td>10.38</td>\n",
              "      <td>1,515</td>\n",
              "      <td>4,483</td>\n",
              "      <td>020,316,944.0038,945,078.0031,914,437.0033,885...</td>\n",
              "    </tr>\n",
              "    <tr>\n",
              "      <th>26</th>\n",
              "      <td>NETHERLANDS</td>\n",
              "      <td>17.42</td>\n",
              "      <td>1,778</td>\n",
              "      <td>4,418</td>\n",
              "      <td>59,542.6395,626,575.0094,351,776.0078,368,029....</td>\n",
              "    </tr>\n",
              "    <tr>\n",
              "      <th>27</th>\n",
              "      <td>CHILE</td>\n",
              "      <td>18.25</td>\n",
              "      <td>905</td>\n",
              "      <td>1,123</td>\n",
              "      <td>75,175.287,525,234.008,673,721.0012,897,923.11...</td>\n",
              "    </tr>\n",
              "    <tr>\n",
              "      <th>28</th>\n",
              "      <td>JORDAN</td>\n",
              "      <td>10.53</td>\n",
              "      <td>850</td>\n",
              "      <td>1,052</td>\n",
              "      <td>1,588.5191,055,271.0059,795,758.0014,472,786.0...</td>\n",
              "    </tr>\n",
              "    <tr>\n",
              "      <th>29</th>\n",
              "      <td>SINGAPORE</td>\n",
              "      <td>5.4</td>\n",
              "      <td>2,169</td>\n",
              "      <td>4,577</td>\n",
              "      <td>1,806.1334,852,396.0034,223,973.0025,970,474.0...</td>\n",
              "    </tr>\n",
              "    <tr>\n",
              "      <th>30</th>\n",
              "      <td>TAIWAN</td>\n",
              "      <td>23.57</td>\n",
              "      <td>1,057</td>\n",
              "      <td>2,542</td>\n",
              "      <td>11,789.200000000000000187,614,347.65000</td>\n",
              "    </tr>\n",
              "  </tbody>\n",
              "</table>\n",
              "</div>"
            ],
            "text/plain": [
              "                     country  ...                                              total\n",
              "0               SAUDI ARABIA  ...  927324.7552,249,315.002,143,682.001,192,758.30...\n",
              "1                      CHINA  ...  645736.271,160,075.001,519,815.00782,375.00794...\n",
              "2         KOREA  REPUBLIC OF  ...  392424.0451,875,370.001,724,557.001,332,152.90...\n",
              "3                      QATAR  ...  434565.1042647,240.00890,090.00665,440.00673,7...\n",
              "4                   MALAYSIA  ...  252642.6558709,000.00512,800.00420,400.00708,0...\n",
              "5   RUSSIAN FEDERATION (CIS)  ...  596639.4825101,198.00120,678.00194,505.00392,6...\n",
              "6                     KUWAIT  ...  75,065.4028,790.0029,875.00160,147.20267,567.2...\n",
              "7                      EGYPT  ...  4,292.37327,000.00313,200.00149,603.00294,000....\n",
              "8                     NORWAY  ...  195,650.6035,776.00427,341.00152,960.00455,887...\n",
              "9                     CANADA  ...  247490.3583193,252.00268,944.00273,904.00190,1...\n",
              "10                    ISRAEL  ...  51,819.16659,500.00479,450.00407,100.00582,588...\n",
              "11                     JAPAN  ...  128.07227,592.00226,575.00684,832.00283,770.00...\n",
              "13               PHILIPPINES  ...  129211,695.00213,533.10163,867.00217,427.00238...\n",
              "14                   FINLAND  ...  65,577.500000701,568.003,897.0012,576.00076,75...\n",
              "15                BANGLADESH  ...  0000300002560011,369.00214,060.00422,001.0041....\n",
              "16                 AUSTRALIA  ...  63,381.83148,857,088.00209,736,558.00149,438,4...\n",
              "17             UNITED STATES  ...  2,733.9537,014,144.0064,267,704.0034,088,390.0...\n",
              "18                     INDIA  ...  137.4174,819,686.70240,412,662.2076,155,094.00...\n",
              "19                   MOROCCO  ...  097,082,661.00121,508,752.00114,539,413.00114,...\n",
              "20                    POLAND  ...  1,017.4073,391,207.0064,786,838.0066,004,336.4...\n",
              "21                   GERMANY  ...  95,591.76106,735,400.00137,514,624.00240,662,7...\n",
              "22                   VIETNAM  ...  13,091.5017,010,970.0015,126,070.0068,271,790....\n",
              "23                   BELGIUM  ...  2,436.4057,229,351.0052,627,421.0026,729,766.0...\n",
              "25                    SWEDEN  ...  020,316,944.0038,945,078.0031,914,437.0033,885...\n",
              "26               NETHERLANDS  ...  59,542.6395,626,575.0094,351,776.0078,368,029....\n",
              "27                     CHILE  ...  75,175.287,525,234.008,673,721.0012,897,923.11...\n",
              "28                    JORDAN  ...  1,588.5191,055,271.0059,795,758.0014,472,786.0...\n",
              "29                 SINGAPORE  ...  1,806.1334,852,396.0034,223,973.0025,970,474.0...\n",
              "30                    TAIWAN  ...            11,789.200000000000000187,614,347.65000\n",
              "\n",
              "[29 rows x 5 columns]"
            ]
          },
          "metadata": {},
          "execution_count": 128
        }
      ]
    },
    {
      "cell_type": "code",
      "metadata": {
        "id": "OVu4xq-h3uw8"
      },
      "source": [
        "import numpy as np"
      ],
      "execution_count": 129,
      "outputs": []
    },
    {
      "cell_type": "code",
      "metadata": {
        "id": "LE9OJOfR06sS",
        "colab": {
          "base_uri": "https://localhost:8080/",
          "height": 178
        },
        "outputId": "6865c2fe-4d45-49c1-e5db-6d7cf96b4cc5"
      },
      "source": [
        "data_new1['total(M^5)'] = data_new1[{'total'/1000000**5}]\n",
        "data_new1"
      ],
      "execution_count": 130,
      "outputs": [
        {
          "output_type": "error",
          "ename": "TypeError",
          "evalue": "ignored",
          "traceback": [
            "\u001b[0;31m---------------------------------------------------------------------------\u001b[0m",
            "\u001b[0;31mTypeError\u001b[0m                                 Traceback (most recent call last)",
            "\u001b[0;32m<ipython-input-130-a35e5624b46d>\u001b[0m in \u001b[0;36m<module>\u001b[0;34m()\u001b[0m\n\u001b[0;32m----> 1\u001b[0;31m \u001b[0mdata_new1\u001b[0m\u001b[0;34m[\u001b[0m\u001b[0;34m'total(M^5)'\u001b[0m\u001b[0;34m]\u001b[0m \u001b[0;34m=\u001b[0m \u001b[0mdata_new1\u001b[0m\u001b[0;34m[\u001b[0m\u001b[0;34m{\u001b[0m\u001b[0;34m'total'\u001b[0m\u001b[0;34m/\u001b[0m\u001b[0;36m1000000\u001b[0m\u001b[0;34m**\u001b[0m\u001b[0;36m5\u001b[0m\u001b[0;34m}\u001b[0m\u001b[0;34m]\u001b[0m\u001b[0;34m\u001b[0m\u001b[0;34m\u001b[0m\u001b[0m\n\u001b[0m\u001b[1;32m      2\u001b[0m \u001b[0mdata_new1\u001b[0m\u001b[0;34m\u001b[0m\u001b[0;34m\u001b[0m\u001b[0m\n",
            "\u001b[0;31mTypeError\u001b[0m: unsupported operand type(s) for /: 'str' and 'int'"
          ]
        }
      ]
    },
    {
      "cell_type": "code",
      "metadata": {
        "colab": {
          "base_uri": "https://localhost:8080/"
        },
        "id": "hWdE3gxxxR4h",
        "outputId": "59e88e67-fae9-43da-effe-9027c9a86bb5"
      },
      "source": [
        "removes = data_new1.shape[0] - data_new1.dropna().shape[0]\n",
        "print(f'size before drop = {data_new1.shape[0]}')\n",
        "print(f'size after drop = {data_new1.dropna().shape[0]}')\n",
        " #จากการคำนวณพบว่ามีข้อมูลที่หายไป 3 แถว"
      ],
      "execution_count": 123,
      "outputs": [
        {
          "output_type": "stream",
          "name": "stdout",
          "text": [
            "size before drop = 29\n",
            "size after drop = 29\n"
          ]
        }
      ]
    },
    {
      "cell_type": "code",
      "metadata": {
        "colab": {
          "base_uri": "https://localhost:8080/"
        },
        "id": "fmMuB-BVxRy3",
        "outputId": "28094035-db80-45a0-8e5a-b8b4cfb9745e"
      },
      "source": [
        "data_new1.isnull().any()\n",
        "#จะเห็นว่าไม่มีค่า Missing แล้ว"
      ],
      "execution_count": 122,
      "outputs": [
        {
          "output_type": "execute_result",
          "data": {
            "text/plain": [
              "country                 False\n",
              "population(million)     False\n",
              "living expenses(USD)    False\n",
              "avg income(USD)         False\n",
              "total                   False\n",
              "dtype: bool"
            ]
          },
          "metadata": {},
          "execution_count": 122
        }
      ]
    },
    {
      "cell_type": "code",
      "metadata": {
        "colab": {
          "base_uri": "https://localhost:8080/",
          "height": 211
        },
        "id": "-Rn3IebqypAo",
        "outputId": "699cbe7f-40b0-4076-cc45-31681e42ea03"
      },
      "source": [
        "plt.scatter(range(len(data_new1['avg income(USD)'])),data_new1['total'],s=100)\n",
        "plt.show()"
      ],
      "execution_count": 125,
      "outputs": [
        {
          "output_type": "display_data",
          "data": {
            "image/png": "[encoded data removed]",
            "text/plain": [
              "<Figure size 432x288 with 1 Axes>"
            ]
          },
          "metadata": {
            "needs_background": "light"
          }
        }
      ]
    },
    {
      "cell_type": "code",
      "metadata": {
        "id": "x8hxjzL6yo27"
      },
      "source": [
        ""
      ],
      "execution_count": null,
      "outputs": []
    },
    {
      "cell_type": "markdown",
      "metadata": {
        "id": "gEdOsOD5IvPG"
      },
      "source": [
        "![download.jpg](data:image/jpeg;base64,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)"
      ]
    },
    {
      "cell_type": "markdown",
      "metadata": {
        "id": "Vi6Umy4-IwCT"
      },
      "source": [
        "##จบโปรเจคนาตาชา"
      ]
    }
  ]
}