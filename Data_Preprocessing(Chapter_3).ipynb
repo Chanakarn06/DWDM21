{
  "nbformat": 4,
  "nbformat_minor": 0,
  "metadata": {
    "colab": {
      "name": "Data Preprocessing(Chapter 3).ipynb",
      "provenance": [],
      "authorship_tag": "ABX9TyNXndrNUgxiBZI+Sw2qH1z8",
      "include_colab_link": true
    },
    "kernelspec": {
      "name": "python3",
      "display_name": "Python 3"
    },
    "language_info": {
      "name": "python"
    }
  },
  "cells": [
    {
      "cell_type": "markdown",
      "metadata": {
        "id": "view-in-github",
        "colab_type": "text"
      },
      "source": [
        "<a href=\"https://colab.research.google.com/github/Chanakarn06/DWDM21/blob/main/Data_Preprocessing(Chapter_3).ipynb\" target=\"_parent\"><img src=\"https://colab.research.google.com/assets/colab-badge.svg\" alt=\"Open In Colab\"/></a>"
      ]
    },
    {
      "cell_type": "code",
      "metadata": {
        "id": "9kwPBUdG7GdM"
      },
      "source": [
        "import pandas as pd # ทำงานกับข้อมูลลักษณะ ตาราง"
      ],
      "execution_count": 1,
      "outputs": []
    },
    {
      "cell_type": "code",
      "metadata": {
        "colab": {
          "base_uri": "https://localhost:8080/"
        },
        "id": "QWxD7chv8K2J",
        "outputId": "aed62aae-5ace-4350-dfc5-68da173edca6"
      },
      "source": [
        "from google.colab import drive # เชื่อม google drive\n",
        "drive.mount('/content/drive')"
      ],
      "execution_count": 2,
      "outputs": [
        {
          "output_type": "stream",
          "text": [
            "Mounted at /content/drive\n"
          ],
          "name": "stdout"
        }
      ]
    },
    {
      "cell_type": "code",
      "metadata": {
        "id": "AI5PA1tc8XYX"
      },
      "source": [
        "import os # จัดการไฟล์และ path"
      ],
      "execution_count": 3,
      "outputs": []
    },
    {
      "cell_type": "code",
      "metadata": {
        "id": "75pKmMPs8cHQ"
      },
      "source": [
        "path = '/content/drive/My Drive/DWDM2021_DATA'"
      ],
      "execution_count": 4,
      "outputs": []
    },
    {
      "cell_type": "code",
      "metadata": {
        "colab": {
          "base_uri": "https://localhost:8080/",
          "height": 527
        },
        "id": "3QLss5RA8wc5",
        "outputId": "6e0bacab-8fa4-4ceb-e130-ff248b8f56fc"
      },
      "source": [
        "data_cases = pd.read_csv(os.path.join(path,'confirmed-cases (5).csv'))\n",
        "data_cases"
      ],
      "execution_count": 5,
      "outputs": [
        {
          "output_type": "execute_result",
          "data": {
            "text/html": [
              "<div>\n",
              "<style scoped>\n",
              "    .dataframe tbody tr th:only-of-type {\n",
              "        vertical-align: middle;\n",
              "    }\n",
              "\n",
              "    .dataframe tbody tr th {\n",
              "        vertical-align: top;\n",
              "    }\n",
              "\n",
              "    .dataframe thead th {\n",
              "        text-align: right;\n",
              "    }\n",
              "</style>\n",
              "<table border=\"1\" class=\"dataframe\">\n",
              "  <thead>\n",
              "    <tr style=\"text-align: right;\">\n",
              "      <th></th>\n",
              "      <th>No.</th>\n",
              "      <th>announce_date</th>\n",
              "      <th>Notified date</th>\n",
              "      <th>sex</th>\n",
              "      <th>age</th>\n",
              "      <th>Unit</th>\n",
              "      <th>nationality</th>\n",
              "      <th>province_of_isolation</th>\n",
              "      <th>risk</th>\n",
              "      <th>province_of_onset</th>\n",
              "      <th>district_of_onset</th>\n",
              "    </tr>\n",
              "  </thead>\n",
              "  <tbody>\n",
              "    <tr>\n",
              "      <th>0</th>\n",
              "      <td>1.0</td>\n",
              "      <td>12/1/2020</td>\n",
              "      <td>NaN</td>\n",
              "      <td>หญิง</td>\n",
              "      <td>61.0</td>\n",
              "      <td>ปี</td>\n",
              "      <td>China</td>\n",
              "      <td>กรุงเทพมหานคร</td>\n",
              "      <td>คนต่างชาติเดินทางมาจากต่างประเทศ</td>\n",
              "      <td>กรุงเทพมหานคร</td>\n",
              "      <td>NaN</td>\n",
              "    </tr>\n",
              "    <tr>\n",
              "      <th>1</th>\n",
              "      <td>2.0</td>\n",
              "      <td>17/1/2020</td>\n",
              "      <td>NaN</td>\n",
              "      <td>หญิง</td>\n",
              "      <td>74.0</td>\n",
              "      <td>ปี</td>\n",
              "      <td>China</td>\n",
              "      <td>กรุงเทพมหานคร</td>\n",
              "      <td>คนต่างชาติเดินทางมาจากต่างประเทศ</td>\n",
              "      <td>กรุงเทพมหานคร</td>\n",
              "      <td>NaN</td>\n",
              "    </tr>\n",
              "    <tr>\n",
              "      <th>2</th>\n",
              "      <td>3.0</td>\n",
              "      <td>22/1/2020</td>\n",
              "      <td>NaN</td>\n",
              "      <td>หญิง</td>\n",
              "      <td>73.0</td>\n",
              "      <td>ปี</td>\n",
              "      <td>Thailand</td>\n",
              "      <td>นครปฐม</td>\n",
              "      <td>คนต่างชาติเดินทางมาจากต่างประเทศ</td>\n",
              "      <td>นครปฐม</td>\n",
              "      <td>เมือง</td>\n",
              "    </tr>\n",
              "    <tr>\n",
              "      <th>3</th>\n",
              "      <td>4.0</td>\n",
              "      <td>22/1/2020</td>\n",
              "      <td>NaN</td>\n",
              "      <td>ชาย</td>\n",
              "      <td>68.0</td>\n",
              "      <td>ปี</td>\n",
              "      <td>China</td>\n",
              "      <td>กรุงเทพมหานคร</td>\n",
              "      <td>คนต่างชาติเดินทางมาจากต่างประเทศ</td>\n",
              "      <td>กรุงเทพมหานคร</td>\n",
              "      <td>NaN</td>\n",
              "    </tr>\n",
              "    <tr>\n",
              "      <th>4</th>\n",
              "      <td>5.0</td>\n",
              "      <td>24/1/2020</td>\n",
              "      <td>NaN</td>\n",
              "      <td>หญิง</td>\n",
              "      <td>66.0</td>\n",
              "      <td>ปี</td>\n",
              "      <td>China</td>\n",
              "      <td>นนทบุรี</td>\n",
              "      <td>คนต่างชาติเดินทางมาจากต่างประเทศ</td>\n",
              "      <td>กรุงเทพมหานคร</td>\n",
              "      <td>NaN</td>\n",
              "    </tr>\n",
              "    <tr>\n",
              "      <th>...</th>\n",
              "      <td>...</td>\n",
              "      <td>...</td>\n",
              "      <td>...</td>\n",
              "      <td>...</td>\n",
              "      <td>...</td>\n",
              "      <td>...</td>\n",
              "      <td>...</td>\n",
              "      <td>...</td>\n",
              "      <td>...</td>\n",
              "      <td>...</td>\n",
              "      <td>...</td>\n",
              "    </tr>\n",
              "    <tr>\n",
              "      <th>543301</th>\n",
              "      <td>543302.0</td>\n",
              "      <td>28/7/2021</td>\n",
              "      <td>27/7/2021</td>\n",
              "      <td>ชาย</td>\n",
              "      <td>39.0</td>\n",
              "      <td>ปี</td>\n",
              "      <td>NaN</td>\n",
              "      <td>สุพรรณบุรี</td>\n",
              "      <td>ทัณฑสถาน/เรือนจำ</td>\n",
              "      <td>สุพรรณบุรี</td>\n",
              "      <td>NaN</td>\n",
              "    </tr>\n",
              "    <tr>\n",
              "      <th>543302</th>\n",
              "      <td>543303.0</td>\n",
              "      <td>28/7/2021</td>\n",
              "      <td>27/7/2021</td>\n",
              "      <td>ชาย</td>\n",
              "      <td>37.0</td>\n",
              "      <td>ปี</td>\n",
              "      <td>NaN</td>\n",
              "      <td>สุพรรณบุรี</td>\n",
              "      <td>ทัณฑสถาน/เรือนจำ</td>\n",
              "      <td>สุพรรณบุรี</td>\n",
              "      <td>NaN</td>\n",
              "    </tr>\n",
              "    <tr>\n",
              "      <th>543303</th>\n",
              "      <td>543304.0</td>\n",
              "      <td>28/7/2021</td>\n",
              "      <td>27/7/2021</td>\n",
              "      <td>ชาย</td>\n",
              "      <td>28.0</td>\n",
              "      <td>ปี</td>\n",
              "      <td>NaN</td>\n",
              "      <td>สุพรรณบุรี</td>\n",
              "      <td>ทัณฑสถาน/เรือนจำ</td>\n",
              "      <td>สุพรรณบุรี</td>\n",
              "      <td>NaN</td>\n",
              "    </tr>\n",
              "    <tr>\n",
              "      <th>543304</th>\n",
              "      <td>543305.0</td>\n",
              "      <td>28/7/2021</td>\n",
              "      <td>27/7/2021</td>\n",
              "      <td>ชาย</td>\n",
              "      <td>26.0</td>\n",
              "      <td>ปี</td>\n",
              "      <td>NaN</td>\n",
              "      <td>ปัตตานี</td>\n",
              "      <td>ทัณฑสถาน/เรือนจำ</td>\n",
              "      <td>ปัตตานี</td>\n",
              "      <td>NaN</td>\n",
              "    </tr>\n",
              "    <tr>\n",
              "      <th>543305</th>\n",
              "      <td>NaN</td>\n",
              "      <td>NaN</td>\n",
              "      <td>NaN</td>\n",
              "      <td>NaN</td>\n",
              "      <td>NaN</td>\n",
              "      <td>NaN</td>\n",
              "      <td>NaN</td>\n",
              "      <td>NaN</td>\n",
              "      <td>NaN</td>\n",
              "      <td>NaN</td>\n",
              "      <td>NaN</td>\n",
              "    </tr>\n",
              "  </tbody>\n",
              "</table>\n",
              "<p>543306 rows × 11 columns</p>\n",
              "</div>"
            ],
            "text/plain": [
              "             No. announce_date  ... province_of_onset district_of_onset\n",
              "0            1.0     12/1/2020  ...     กรุงเทพมหานคร               NaN\n",
              "1            2.0     17/1/2020  ...     กรุงเทพมหานคร               NaN\n",
              "2            3.0     22/1/2020  ...            นครปฐม             เมือง\n",
              "3            4.0     22/1/2020  ...     กรุงเทพมหานคร               NaN\n",
              "4            5.0     24/1/2020  ...     กรุงเทพมหานคร               NaN\n",
              "...          ...           ...  ...               ...               ...\n",
              "543301  543302.0     28/7/2021  ...        สุพรรณบุรี               NaN\n",
              "543302  543303.0     28/7/2021  ...        สุพรรณบุรี               NaN\n",
              "543303  543304.0     28/7/2021  ...        สุพรรณบุรี               NaN\n",
              "543304  543305.0     28/7/2021  ...           ปัตตานี               NaN\n",
              "543305       NaN           NaN  ...               NaN               NaN\n",
              "\n",
              "[543306 rows x 11 columns]"
            ]
          },
          "metadata": {
            "tags": []
          },
          "execution_count": 5
        }
      ]
    },
    {
      "cell_type": "markdown",
      "metadata": {
        "id": "oAjQcPOJBlqT"
      },
      "source": [
        "Meta Data (Data ที่ใช้อธิบาย Data)"
      ]
    },
    {
      "cell_type": "markdown",
      "metadata": {
        "id": "CWNUvwRKClAZ"
      },
      "source": [
        "ชี้ข้อมูลในตาราง"
      ]
    },
    {
      "cell_type": "markdown",
      "metadata": {
        "id": "bxlOKWkTCpWG"
      },
      "source": [
        "# ชี้แบบธรรมดา ใช้ [ชื่ออ column][index]"
      ]
    },
    {
      "cell_type": "code",
      "metadata": {
        "colab": {
          "base_uri": "https://localhost:8080/"
        },
        "id": "ZAbfLcV5C5tS",
        "outputId": "16585a02-33cb-4d46-8738-24d8134a59bd"
      },
      "source": [
        "data_cases['risk']"
      ],
      "execution_count": 6,
      "outputs": [
        {
          "output_type": "execute_result",
          "data": {
            "text/plain": [
              "0         คนต่างชาติเดินทางมาจากต่างประเทศ\n",
              "1         คนต่างชาติเดินทางมาจากต่างประเทศ\n",
              "2         คนต่างชาติเดินทางมาจากต่างประเทศ\n",
              "3         คนต่างชาติเดินทางมาจากต่างประเทศ\n",
              "4         คนต่างชาติเดินทางมาจากต่างประเทศ\n",
              "                        ...               \n",
              "543301                    ทัณฑสถาน/เรือนจำ\n",
              "543302                    ทัณฑสถาน/เรือนจำ\n",
              "543303                    ทัณฑสถาน/เรือนจำ\n",
              "543304                    ทัณฑสถาน/เรือนจำ\n",
              "543305                                 NaN\n",
              "Name: risk, Length: 543306, dtype: object"
            ]
          },
          "metadata": {
            "tags": []
          },
          "execution_count": 6
        }
      ]
    },
    {
      "cell_type": "code",
      "metadata": {
        "colab": {
          "base_uri": "https://localhost:8080/",
          "height": 35
        },
        "id": "e6_4ULnhDNZt",
        "outputId": "1525d03a-8ab0-4648-b549-94a81b1f0bb5"
      },
      "source": [
        "data_cases['risk'][678]"
      ],
      "execution_count": 7,
      "outputs": [
        {
          "output_type": "execute_result",
          "data": {
            "application/vnd.google.colaboratory.intrinsic+json": {
              "type": "string"
            },
            "text/plain": [
              "'สัมผัสใกล้ชิดกับผู้ป่วยยืนยันรายก่อนหน้านี้'"
            ]
          },
          "metadata": {
            "tags": []
          },
          "execution_count": 7
        }
      ]
    },
    {
      "cell_type": "code",
      "metadata": {
        "id": "yQT7CJtWFyKs",
        "colab": {
          "base_uri": "https://localhost:8080/",
          "height": 423
        },
        "outputId": "827d4b93-4520-4aef-c48d-19762a16c422"
      },
      "source": [
        "data_cases[['age','risk','sex']]"
      ],
      "execution_count": 8,
      "outputs": [
        {
          "output_type": "execute_result",
          "data": {
            "text/html": [
              "<div>\n",
              "<style scoped>\n",
              "    .dataframe tbody tr th:only-of-type {\n",
              "        vertical-align: middle;\n",
              "    }\n",
              "\n",
              "    .dataframe tbody tr th {\n",
              "        vertical-align: top;\n",
              "    }\n",
              "\n",
              "    .dataframe thead th {\n",
              "        text-align: right;\n",
              "    }\n",
              "</style>\n",
              "<table border=\"1\" class=\"dataframe\">\n",
              "  <thead>\n",
              "    <tr style=\"text-align: right;\">\n",
              "      <th></th>\n",
              "      <th>age</th>\n",
              "      <th>risk</th>\n",
              "      <th>sex</th>\n",
              "    </tr>\n",
              "  </thead>\n",
              "  <tbody>\n",
              "    <tr>\n",
              "      <th>0</th>\n",
              "      <td>61.0</td>\n",
              "      <td>คนต่างชาติเดินทางมาจากต่างประเทศ</td>\n",
              "      <td>หญิง</td>\n",
              "    </tr>\n",
              "    <tr>\n",
              "      <th>1</th>\n",
              "      <td>74.0</td>\n",
              "      <td>คนต่างชาติเดินทางมาจากต่างประเทศ</td>\n",
              "      <td>หญิง</td>\n",
              "    </tr>\n",
              "    <tr>\n",
              "      <th>2</th>\n",
              "      <td>73.0</td>\n",
              "      <td>คนต่างชาติเดินทางมาจากต่างประเทศ</td>\n",
              "      <td>หญิง</td>\n",
              "    </tr>\n",
              "    <tr>\n",
              "      <th>3</th>\n",
              "      <td>68.0</td>\n",
              "      <td>คนต่างชาติเดินทางมาจากต่างประเทศ</td>\n",
              "      <td>ชาย</td>\n",
              "    </tr>\n",
              "    <tr>\n",
              "      <th>4</th>\n",
              "      <td>66.0</td>\n",
              "      <td>คนต่างชาติเดินทางมาจากต่างประเทศ</td>\n",
              "      <td>หญิง</td>\n",
              "    </tr>\n",
              "    <tr>\n",
              "      <th>...</th>\n",
              "      <td>...</td>\n",
              "      <td>...</td>\n",
              "      <td>...</td>\n",
              "    </tr>\n",
              "    <tr>\n",
              "      <th>543301</th>\n",
              "      <td>39.0</td>\n",
              "      <td>ทัณฑสถาน/เรือนจำ</td>\n",
              "      <td>ชาย</td>\n",
              "    </tr>\n",
              "    <tr>\n",
              "      <th>543302</th>\n",
              "      <td>37.0</td>\n",
              "      <td>ทัณฑสถาน/เรือนจำ</td>\n",
              "      <td>ชาย</td>\n",
              "    </tr>\n",
              "    <tr>\n",
              "      <th>543303</th>\n",
              "      <td>28.0</td>\n",
              "      <td>ทัณฑสถาน/เรือนจำ</td>\n",
              "      <td>ชาย</td>\n",
              "    </tr>\n",
              "    <tr>\n",
              "      <th>543304</th>\n",
              "      <td>26.0</td>\n",
              "      <td>ทัณฑสถาน/เรือนจำ</td>\n",
              "      <td>ชาย</td>\n",
              "    </tr>\n",
              "    <tr>\n",
              "      <th>543305</th>\n",
              "      <td>NaN</td>\n",
              "      <td>NaN</td>\n",
              "      <td>NaN</td>\n",
              "    </tr>\n",
              "  </tbody>\n",
              "</table>\n",
              "<p>543306 rows × 3 columns</p>\n",
              "</div>"
            ],
            "text/plain": [
              "         age                              risk   sex\n",
              "0       61.0  คนต่างชาติเดินทางมาจากต่างประเทศ  หญิง\n",
              "1       74.0  คนต่างชาติเดินทางมาจากต่างประเทศ  หญิง\n",
              "2       73.0  คนต่างชาติเดินทางมาจากต่างประเทศ  หญิง\n",
              "3       68.0  คนต่างชาติเดินทางมาจากต่างประเทศ   ชาย\n",
              "4       66.0  คนต่างชาติเดินทางมาจากต่างประเทศ  หญิง\n",
              "...      ...                               ...   ...\n",
              "543301  39.0                  ทัณฑสถาน/เรือนจำ   ชาย\n",
              "543302  37.0                  ทัณฑสถาน/เรือนจำ   ชาย\n",
              "543303  28.0                  ทัณฑสถาน/เรือนจำ   ชาย\n",
              "543304  26.0                  ทัณฑสถาน/เรือนจำ   ชาย\n",
              "543305   NaN                               NaN   NaN\n",
              "\n",
              "[543306 rows x 3 columns]"
            ]
          },
          "metadata": {
            "tags": []
          },
          "execution_count": 8
        }
      ]
    },
    {
      "cell_type": "markdown",
      "metadata": {
        "id": "giFdeXAjF24y"
      },
      "source": [
        "ชี้แบบ .iloc[] (มองข้อมูลเป็น matrix)"
      ]
    },
    {
      "cell_type": "code",
      "metadata": {
        "id": "btY_T33uF4fm",
        "colab": {
          "base_uri": "https://localhost:8080/",
          "height": 35
        },
        "outputId": "78b27df0-9c43-431b-a62e-add07f663954"
      },
      "source": [
        "data_cases.iloc[678,8]"
      ],
      "execution_count": 9,
      "outputs": [
        {
          "output_type": "execute_result",
          "data": {
            "application/vnd.google.colaboratory.intrinsic+json": {
              "type": "string"
            },
            "text/plain": [
              "'สัมผัสใกล้ชิดกับผู้ป่วยยืนยันรายก่อนหน้านี้'"
            ]
          },
          "metadata": {
            "tags": []
          },
          "execution_count": 9
        }
      ]
    },
    {
      "cell_type": "code",
      "metadata": {
        "id": "2nTOKleDF6df",
        "colab": {
          "base_uri": "https://localhost:8080/",
          "height": 363
        },
        "outputId": "153f0ecf-1538-42c8-d8eb-62c8beb4a7e4"
      },
      "source": [
        "data_cases.iloc[-10:,4:9:2]"
      ],
      "execution_count": 10,
      "outputs": [
        {
          "output_type": "execute_result",
          "data": {
            "text/html": [
              "<div>\n",
              "<style scoped>\n",
              "    .dataframe tbody tr th:only-of-type {\n",
              "        vertical-align: middle;\n",
              "    }\n",
              "\n",
              "    .dataframe tbody tr th {\n",
              "        vertical-align: top;\n",
              "    }\n",
              "\n",
              "    .dataframe thead th {\n",
              "        text-align: right;\n",
              "    }\n",
              "</style>\n",
              "<table border=\"1\" class=\"dataframe\">\n",
              "  <thead>\n",
              "    <tr style=\"text-align: right;\">\n",
              "      <th></th>\n",
              "      <th>age</th>\n",
              "      <th>nationality</th>\n",
              "      <th>risk</th>\n",
              "    </tr>\n",
              "  </thead>\n",
              "  <tbody>\n",
              "    <tr>\n",
              "      <th>543296</th>\n",
              "      <td>47.0</td>\n",
              "      <td>NaN</td>\n",
              "      <td>ทัณฑสถาน/เรือนจำ</td>\n",
              "    </tr>\n",
              "    <tr>\n",
              "      <th>543297</th>\n",
              "      <td>38.0</td>\n",
              "      <td>NaN</td>\n",
              "      <td>ทัณฑสถาน/เรือนจำ</td>\n",
              "    </tr>\n",
              "    <tr>\n",
              "      <th>543298</th>\n",
              "      <td>39.0</td>\n",
              "      <td>NaN</td>\n",
              "      <td>ทัณฑสถาน/เรือนจำ</td>\n",
              "    </tr>\n",
              "    <tr>\n",
              "      <th>543299</th>\n",
              "      <td>40.0</td>\n",
              "      <td>NaN</td>\n",
              "      <td>ทัณฑสถาน/เรือนจำ</td>\n",
              "    </tr>\n",
              "    <tr>\n",
              "      <th>543300</th>\n",
              "      <td>38.0</td>\n",
              "      <td>NaN</td>\n",
              "      <td>ทัณฑสถาน/เรือนจำ</td>\n",
              "    </tr>\n",
              "    <tr>\n",
              "      <th>543301</th>\n",
              "      <td>39.0</td>\n",
              "      <td>NaN</td>\n",
              "      <td>ทัณฑสถาน/เรือนจำ</td>\n",
              "    </tr>\n",
              "    <tr>\n",
              "      <th>543302</th>\n",
              "      <td>37.0</td>\n",
              "      <td>NaN</td>\n",
              "      <td>ทัณฑสถาน/เรือนจำ</td>\n",
              "    </tr>\n",
              "    <tr>\n",
              "      <th>543303</th>\n",
              "      <td>28.0</td>\n",
              "      <td>NaN</td>\n",
              "      <td>ทัณฑสถาน/เรือนจำ</td>\n",
              "    </tr>\n",
              "    <tr>\n",
              "      <th>543304</th>\n",
              "      <td>26.0</td>\n",
              "      <td>NaN</td>\n",
              "      <td>ทัณฑสถาน/เรือนจำ</td>\n",
              "    </tr>\n",
              "    <tr>\n",
              "      <th>543305</th>\n",
              "      <td>NaN</td>\n",
              "      <td>NaN</td>\n",
              "      <td>NaN</td>\n",
              "    </tr>\n",
              "  </tbody>\n",
              "</table>\n",
              "</div>"
            ],
            "text/plain": [
              "         age nationality              risk\n",
              "543296  47.0         NaN  ทัณฑสถาน/เรือนจำ\n",
              "543297  38.0         NaN  ทัณฑสถาน/เรือนจำ\n",
              "543298  39.0         NaN  ทัณฑสถาน/เรือนจำ\n",
              "543299  40.0         NaN  ทัณฑสถาน/เรือนจำ\n",
              "543300  38.0         NaN  ทัณฑสถาน/เรือนจำ\n",
              "543301  39.0         NaN  ทัณฑสถาน/เรือนจำ\n",
              "543302  37.0         NaN  ทัณฑสถาน/เรือนจำ\n",
              "543303  28.0         NaN  ทัณฑสถาน/เรือนจำ\n",
              "543304  26.0         NaN  ทัณฑสถาน/เรือนจำ\n",
              "543305   NaN         NaN               NaN"
            ]
          },
          "metadata": {
            "tags": []
          },
          "execution_count": 10
        }
      ]
    },
    {
      "cell_type": "code",
      "metadata": {
        "id": "lgrpu-wvF8yH",
        "colab": {
          "base_uri": "https://localhost:8080/",
          "height": 363
        },
        "outputId": "dbc1dbe2-7748-4eed-d023-9e72ffa6370b"
      },
      "source": [
        "data_cases.iloc[-10:,[3,4,8]]"
      ],
      "execution_count": 11,
      "outputs": [
        {
          "output_type": "execute_result",
          "data": {
            "text/html": [
              "<div>\n",
              "<style scoped>\n",
              "    .dataframe tbody tr th:only-of-type {\n",
              "        vertical-align: middle;\n",
              "    }\n",
              "\n",
              "    .dataframe tbody tr th {\n",
              "        vertical-align: top;\n",
              "    }\n",
              "\n",
              "    .dataframe thead th {\n",
              "        text-align: right;\n",
              "    }\n",
              "</style>\n",
              "<table border=\"1\" class=\"dataframe\">\n",
              "  <thead>\n",
              "    <tr style=\"text-align: right;\">\n",
              "      <th></th>\n",
              "      <th>sex</th>\n",
              "      <th>age</th>\n",
              "      <th>risk</th>\n",
              "    </tr>\n",
              "  </thead>\n",
              "  <tbody>\n",
              "    <tr>\n",
              "      <th>543296</th>\n",
              "      <td>ชาย</td>\n",
              "      <td>47.0</td>\n",
              "      <td>ทัณฑสถาน/เรือนจำ</td>\n",
              "    </tr>\n",
              "    <tr>\n",
              "      <th>543297</th>\n",
              "      <td>ชาย</td>\n",
              "      <td>38.0</td>\n",
              "      <td>ทัณฑสถาน/เรือนจำ</td>\n",
              "    </tr>\n",
              "    <tr>\n",
              "      <th>543298</th>\n",
              "      <td>ชาย</td>\n",
              "      <td>39.0</td>\n",
              "      <td>ทัณฑสถาน/เรือนจำ</td>\n",
              "    </tr>\n",
              "    <tr>\n",
              "      <th>543299</th>\n",
              "      <td>ชาย</td>\n",
              "      <td>40.0</td>\n",
              "      <td>ทัณฑสถาน/เรือนจำ</td>\n",
              "    </tr>\n",
              "    <tr>\n",
              "      <th>543300</th>\n",
              "      <td>ชาย</td>\n",
              "      <td>38.0</td>\n",
              "      <td>ทัณฑสถาน/เรือนจำ</td>\n",
              "    </tr>\n",
              "    <tr>\n",
              "      <th>543301</th>\n",
              "      <td>ชาย</td>\n",
              "      <td>39.0</td>\n",
              "      <td>ทัณฑสถาน/เรือนจำ</td>\n",
              "    </tr>\n",
              "    <tr>\n",
              "      <th>543302</th>\n",
              "      <td>ชาย</td>\n",
              "      <td>37.0</td>\n",
              "      <td>ทัณฑสถาน/เรือนจำ</td>\n",
              "    </tr>\n",
              "    <tr>\n",
              "      <th>543303</th>\n",
              "      <td>ชาย</td>\n",
              "      <td>28.0</td>\n",
              "      <td>ทัณฑสถาน/เรือนจำ</td>\n",
              "    </tr>\n",
              "    <tr>\n",
              "      <th>543304</th>\n",
              "      <td>ชาย</td>\n",
              "      <td>26.0</td>\n",
              "      <td>ทัณฑสถาน/เรือนจำ</td>\n",
              "    </tr>\n",
              "    <tr>\n",
              "      <th>543305</th>\n",
              "      <td>NaN</td>\n",
              "      <td>NaN</td>\n",
              "      <td>NaN</td>\n",
              "    </tr>\n",
              "  </tbody>\n",
              "</table>\n",
              "</div>"
            ],
            "text/plain": [
              "        sex   age              risk\n",
              "543296  ชาย  47.0  ทัณฑสถาน/เรือนจำ\n",
              "543297  ชาย  38.0  ทัณฑสถาน/เรือนจำ\n",
              "543298  ชาย  39.0  ทัณฑสถาน/เรือนจำ\n",
              "543299  ชาย  40.0  ทัณฑสถาน/เรือนจำ\n",
              "543300  ชาย  38.0  ทัณฑสถาน/เรือนจำ\n",
              "543301  ชาย  39.0  ทัณฑสถาน/เรือนจำ\n",
              "543302  ชาย  37.0  ทัณฑสถาน/เรือนจำ\n",
              "543303  ชาย  28.0  ทัณฑสถาน/เรือนจำ\n",
              "543304  ชาย  26.0  ทัณฑสถาน/เรือนจำ\n",
              "543305  NaN   NaN               NaN"
            ]
          },
          "metadata": {
            "tags": []
          },
          "execution_count": 11
        }
      ]
    },
    {
      "cell_type": "code",
      "metadata": {
        "id": "1m-k62LXF-fc",
        "colab": {
          "base_uri": "https://localhost:8080/",
          "height": 300
        },
        "outputId": "54ed1e44-5122-4c58-fa09-0b59f9325bf1"
      },
      "source": [
        "data_cases.describe()"
      ],
      "execution_count": 12,
      "outputs": [
        {
          "output_type": "execute_result",
          "data": {
            "text/html": [
              "<div>\n",
              "<style scoped>\n",
              "    .dataframe tbody tr th:only-of-type {\n",
              "        vertical-align: middle;\n",
              "    }\n",
              "\n",
              "    .dataframe tbody tr th {\n",
              "        vertical-align: top;\n",
              "    }\n",
              "\n",
              "    .dataframe thead th {\n",
              "        text-align: right;\n",
              "    }\n",
              "</style>\n",
              "<table border=\"1\" class=\"dataframe\">\n",
              "  <thead>\n",
              "    <tr style=\"text-align: right;\">\n",
              "      <th></th>\n",
              "      <th>No.</th>\n",
              "      <th>age</th>\n",
              "    </tr>\n",
              "  </thead>\n",
              "  <tbody>\n",
              "    <tr>\n",
              "      <th>count</th>\n",
              "      <td>543305.000000</td>\n",
              "      <td>491048.000000</td>\n",
              "    </tr>\n",
              "    <tr>\n",
              "      <th>mean</th>\n",
              "      <td>271653.000000</td>\n",
              "      <td>35.519252</td>\n",
              "    </tr>\n",
              "    <tr>\n",
              "      <th>std</th>\n",
              "      <td>156838.788338</td>\n",
              "      <td>16.197363</td>\n",
              "    </tr>\n",
              "    <tr>\n",
              "      <th>min</th>\n",
              "      <td>1.000000</td>\n",
              "      <td>1.000000</td>\n",
              "    </tr>\n",
              "    <tr>\n",
              "      <th>25%</th>\n",
              "      <td>135827.000000</td>\n",
              "      <td>25.000000</td>\n",
              "    </tr>\n",
              "    <tr>\n",
              "      <th>50%</th>\n",
              "      <td>271653.000000</td>\n",
              "      <td>34.000000</td>\n",
              "    </tr>\n",
              "    <tr>\n",
              "      <th>75%</th>\n",
              "      <td>407479.000000</td>\n",
              "      <td>46.000000</td>\n",
              "    </tr>\n",
              "    <tr>\n",
              "      <th>max</th>\n",
              "      <td>543305.000000</td>\n",
              "      <td>108.000000</td>\n",
              "    </tr>\n",
              "  </tbody>\n",
              "</table>\n",
              "</div>"
            ],
            "text/plain": [
              "                 No.            age\n",
              "count  543305.000000  491048.000000\n",
              "mean   271653.000000      35.519252\n",
              "std    156838.788338      16.197363\n",
              "min         1.000000       1.000000\n",
              "25%    135827.000000      25.000000\n",
              "50%    271653.000000      34.000000\n",
              "75%    407479.000000      46.000000\n",
              "max    543305.000000     108.000000"
            ]
          },
          "metadata": {
            "tags": []
          },
          "execution_count": 12
        }
      ]
    },
    {
      "cell_type": "code",
      "metadata": {
        "id": "8luMNv4OGA8Z",
        "colab": {
          "base_uri": "https://localhost:8080/",
          "height": 404
        },
        "outputId": "d3333da1-eaa4-4605-b879-2811d3ac5ebc"
      },
      "source": [
        "from matplotlib import pyplot as plt\n",
        "\n",
        "plt.boxplot(data_cases['age'])"
      ],
      "execution_count": 13,
      "outputs": [
        {
          "output_type": "execute_result",
          "data": {
            "text/plain": [
              "{'boxes': [<matplotlib.lines.Line2D at 0x7f02daece790>],\n",
              " 'caps': [<matplotlib.lines.Line2D at 0x7f02daed8850>,\n",
              "  <matplotlib.lines.Line2D at 0x7f02daed8d90>],\n",
              " 'fliers': [<matplotlib.lines.Line2D at 0x7f02daede890>],\n",
              " 'means': [],\n",
              " 'medians': [<matplotlib.lines.Line2D at 0x7f02daede350>],\n",
              " 'whiskers': [<matplotlib.lines.Line2D at 0x7f02daeced90>,\n",
              "  <matplotlib.lines.Line2D at 0x7f02daed8310>]}"
            ]
          },
          "metadata": {
            "tags": []
          },
          "execution_count": 13
        },
        {
          "output_type": "display_data",
          "data": {
            "image/png": "[encoded data removed]",
            "text/plain": [
              "<Figure size 432x288 with 1 Axes>"
            ]
          },
          "metadata": {
            "tags": [],
            "needs_background": "light"
          }
        }
      ]
    },
    {
      "cell_type": "code",
      "metadata": {
        "colab": {
          "base_uri": "https://localhost:8080/"
        },
        "id": "dHuXwHXpDVT_",
        "outputId": "7273f3c3-9467-4da4-af3d-8eb3de207940"
      },
      "source": [
        "data_cases.iloc[-10,4]"
      ],
      "execution_count": 14,
      "outputs": [
        {
          "output_type": "execute_result",
          "data": {
            "text/plain": [
              "47.0"
            ]
          },
          "metadata": {
            "tags": []
          },
          "execution_count": 14
        }
      ]
    },
    {
      "cell_type": "markdown",
      "metadata": {
        "id": "6hikhnVMFukp"
      },
      "source": [
        "#Missing Values\n",
        "\n",
        "\n",
        "\n",
        "\n",
        "*   NaN = Not a Number\n",
        "*   Null\n",
        "* NA = Not Available\n",
        "\n"
      ]
    },
    {
      "cell_type": "code",
      "metadata": {
        "id": "EqeXx2HlGp8x",
        "colab": {
          "base_uri": "https://localhost:8080/",
          "height": 527
        },
        "outputId": "12ae9a6b-a1a3-4c49-c1af-3b6a4fc2a281"
      },
      "source": [
        "data_cases"
      ],
      "execution_count": 15,
      "outputs": [
        {
          "output_type": "execute_result",
          "data": {
            "text/html": [
              "<div>\n",
              "<style scoped>\n",
              "    .dataframe tbody tr th:only-of-type {\n",
              "        vertical-align: middle;\n",
              "    }\n",
              "\n",
              "    .dataframe tbody tr th {\n",
              "        vertical-align: top;\n",
              "    }\n",
              "\n",
              "    .dataframe thead th {\n",
              "        text-align: right;\n",
              "    }\n",
              "</style>\n",
              "<table border=\"1\" class=\"dataframe\">\n",
              "  <thead>\n",
              "    <tr style=\"text-align: right;\">\n",
              "      <th></th>\n",
              "      <th>No.</th>\n",
              "      <th>announce_date</th>\n",
              "      <th>Notified date</th>\n",
              "      <th>sex</th>\n",
              "      <th>age</th>\n",
              "      <th>Unit</th>\n",
              "      <th>nationality</th>\n",
              "      <th>province_of_isolation</th>\n",
              "      <th>risk</th>\n",
              "      <th>province_of_onset</th>\n",
              "      <th>district_of_onset</th>\n",
              "    </tr>\n",
              "  </thead>\n",
              "  <tbody>\n",
              "    <tr>\n",
              "      <th>0</th>\n",
              "      <td>1.0</td>\n",
              "      <td>12/1/2020</td>\n",
              "      <td>NaN</td>\n",
              "      <td>หญิง</td>\n",
              "      <td>61.0</td>\n",
              "      <td>ปี</td>\n",
              "      <td>China</td>\n",
              "      <td>กรุงเทพมหานคร</td>\n",
              "      <td>คนต่างชาติเดินทางมาจากต่างประเทศ</td>\n",
              "      <td>กรุงเทพมหานคร</td>\n",
              "      <td>NaN</td>\n",
              "    </tr>\n",
              "    <tr>\n",
              "      <th>1</th>\n",
              "      <td>2.0</td>\n",
              "      <td>17/1/2020</td>\n",
              "      <td>NaN</td>\n",
              "      <td>หญิง</td>\n",
              "      <td>74.0</td>\n",
              "      <td>ปี</td>\n",
              "      <td>China</td>\n",
              "      <td>กรุงเทพมหานคร</td>\n",
              "      <td>คนต่างชาติเดินทางมาจากต่างประเทศ</td>\n",
              "      <td>กรุงเทพมหานคร</td>\n",
              "      <td>NaN</td>\n",
              "    </tr>\n",
              "    <tr>\n",
              "      <th>2</th>\n",
              "      <td>3.0</td>\n",
              "      <td>22/1/2020</td>\n",
              "      <td>NaN</td>\n",
              "      <td>หญิง</td>\n",
              "      <td>73.0</td>\n",
              "      <td>ปี</td>\n",
              "      <td>Thailand</td>\n",
              "      <td>นครปฐม</td>\n",
              "      <td>คนต่างชาติเดินทางมาจากต่างประเทศ</td>\n",
              "      <td>นครปฐม</td>\n",
              "      <td>เมือง</td>\n",
              "    </tr>\n",
              "    <tr>\n",
              "      <th>3</th>\n",
              "      <td>4.0</td>\n",
              "      <td>22/1/2020</td>\n",
              "      <td>NaN</td>\n",
              "      <td>ชาย</td>\n",
              "      <td>68.0</td>\n",
              "      <td>ปี</td>\n",
              "      <td>China</td>\n",
              "      <td>กรุงเทพมหานคร</td>\n",
              "      <td>คนต่างชาติเดินทางมาจากต่างประเทศ</td>\n",
              "      <td>กรุงเทพมหานคร</td>\n",
              "      <td>NaN</td>\n",
              "    </tr>\n",
              "    <tr>\n",
              "      <th>4</th>\n",
              "      <td>5.0</td>\n",
              "      <td>24/1/2020</td>\n",
              "      <td>NaN</td>\n",
              "      <td>หญิง</td>\n",
              "      <td>66.0</td>\n",
              "      <td>ปี</td>\n",
              "      <td>China</td>\n",
              "      <td>นนทบุรี</td>\n",
              "      <td>คนต่างชาติเดินทางมาจากต่างประเทศ</td>\n",
              "      <td>กรุงเทพมหานคร</td>\n",
              "      <td>NaN</td>\n",
              "    </tr>\n",
              "    <tr>\n",
              "      <th>...</th>\n",
              "      <td>...</td>\n",
              "      <td>...</td>\n",
              "      <td>...</td>\n",
              "      <td>...</td>\n",
              "      <td>...</td>\n",
              "      <td>...</td>\n",
              "      <td>...</td>\n",
              "      <td>...</td>\n",
              "      <td>...</td>\n",
              "      <td>...</td>\n",
              "      <td>...</td>\n",
              "    </tr>\n",
              "    <tr>\n",
              "      <th>543301</th>\n",
              "      <td>543302.0</td>\n",
              "      <td>28/7/2021</td>\n",
              "      <td>27/7/2021</td>\n",
              "      <td>ชาย</td>\n",
              "      <td>39.0</td>\n",
              "      <td>ปี</td>\n",
              "      <td>NaN</td>\n",
              "      <td>สุพรรณบุรี</td>\n",
              "      <td>ทัณฑสถาน/เรือนจำ</td>\n",
              "      <td>สุพรรณบุรี</td>\n",
              "      <td>NaN</td>\n",
              "    </tr>\n",
              "    <tr>\n",
              "      <th>543302</th>\n",
              "      <td>543303.0</td>\n",
              "      <td>28/7/2021</td>\n",
              "      <td>27/7/2021</td>\n",
              "      <td>ชาย</td>\n",
              "      <td>37.0</td>\n",
              "      <td>ปี</td>\n",
              "      <td>NaN</td>\n",
              "      <td>สุพรรณบุรี</td>\n",
              "      <td>ทัณฑสถาน/เรือนจำ</td>\n",
              "      <td>สุพรรณบุรี</td>\n",
              "      <td>NaN</td>\n",
              "    </tr>\n",
              "    <tr>\n",
              "      <th>543303</th>\n",
              "      <td>543304.0</td>\n",
              "      <td>28/7/2021</td>\n",
              "      <td>27/7/2021</td>\n",
              "      <td>ชาย</td>\n",
              "      <td>28.0</td>\n",
              "      <td>ปี</td>\n",
              "      <td>NaN</td>\n",
              "      <td>สุพรรณบุรี</td>\n",
              "      <td>ทัณฑสถาน/เรือนจำ</td>\n",
              "      <td>สุพรรณบุรี</td>\n",
              "      <td>NaN</td>\n",
              "    </tr>\n",
              "    <tr>\n",
              "      <th>543304</th>\n",
              "      <td>543305.0</td>\n",
              "      <td>28/7/2021</td>\n",
              "      <td>27/7/2021</td>\n",
              "      <td>ชาย</td>\n",
              "      <td>26.0</td>\n",
              "      <td>ปี</td>\n",
              "      <td>NaN</td>\n",
              "      <td>ปัตตานี</td>\n",
              "      <td>ทัณฑสถาน/เรือนจำ</td>\n",
              "      <td>ปัตตานี</td>\n",
              "      <td>NaN</td>\n",
              "    </tr>\n",
              "    <tr>\n",
              "      <th>543305</th>\n",
              "      <td>NaN</td>\n",
              "      <td>NaN</td>\n",
              "      <td>NaN</td>\n",
              "      <td>NaN</td>\n",
              "      <td>NaN</td>\n",
              "      <td>NaN</td>\n",
              "      <td>NaN</td>\n",
              "      <td>NaN</td>\n",
              "      <td>NaN</td>\n",
              "      <td>NaN</td>\n",
              "      <td>NaN</td>\n",
              "    </tr>\n",
              "  </tbody>\n",
              "</table>\n",
              "<p>543306 rows × 11 columns</p>\n",
              "</div>"
            ],
            "text/plain": [
              "             No. announce_date  ... province_of_onset district_of_onset\n",
              "0            1.0     12/1/2020  ...     กรุงเทพมหานคร               NaN\n",
              "1            2.0     17/1/2020  ...     กรุงเทพมหานคร               NaN\n",
              "2            3.0     22/1/2020  ...            นครปฐม             เมือง\n",
              "3            4.0     22/1/2020  ...     กรุงเทพมหานคร               NaN\n",
              "4            5.0     24/1/2020  ...     กรุงเทพมหานคร               NaN\n",
              "...          ...           ...  ...               ...               ...\n",
              "543301  543302.0     28/7/2021  ...        สุพรรณบุรี               NaN\n",
              "543302  543303.0     28/7/2021  ...        สุพรรณบุรี               NaN\n",
              "543303  543304.0     28/7/2021  ...        สุพรรณบุรี               NaN\n",
              "543304  543305.0     28/7/2021  ...           ปัตตานี               NaN\n",
              "543305       NaN           NaN  ...               NaN               NaN\n",
              "\n",
              "[543306 rows x 11 columns]"
            ]
          },
          "metadata": {
            "tags": []
          },
          "execution_count": 15
        }
      ]
    },
    {
      "cell_type": "code",
      "metadata": {
        "id": "uarRIWvWGukk",
        "colab": {
          "base_uri": "https://localhost:8080/",
          "height": 423
        },
        "outputId": "1b6b2b98-6805-4a72-ac2e-b31ed40f7533"
      },
      "source": [
        "data_cases.isnull()"
      ],
      "execution_count": 16,
      "outputs": [
        {
          "output_type": "execute_result",
          "data": {
            "text/html": [
              "<div>\n",
              "<style scoped>\n",
              "    .dataframe tbody tr th:only-of-type {\n",
              "        vertical-align: middle;\n",
              "    }\n",
              "\n",
              "    .dataframe tbody tr th {\n",
              "        vertical-align: top;\n",
              "    }\n",
              "\n",
              "    .dataframe thead th {\n",
              "        text-align: right;\n",
              "    }\n",
              "</style>\n",
              "<table border=\"1\" class=\"dataframe\">\n",
              "  <thead>\n",
              "    <tr style=\"text-align: right;\">\n",
              "      <th></th>\n",
              "      <th>No.</th>\n",
              "      <th>announce_date</th>\n",
              "      <th>Notified date</th>\n",
              "      <th>sex</th>\n",
              "      <th>age</th>\n",
              "      <th>Unit</th>\n",
              "      <th>nationality</th>\n",
              "      <th>province_of_isolation</th>\n",
              "      <th>risk</th>\n",
              "      <th>province_of_onset</th>\n",
              "      <th>district_of_onset</th>\n",
              "    </tr>\n",
              "  </thead>\n",
              "  <tbody>\n",
              "    <tr>\n",
              "      <th>0</th>\n",
              "      <td>False</td>\n",
              "      <td>False</td>\n",
              "      <td>True</td>\n",
              "      <td>False</td>\n",
              "      <td>False</td>\n",
              "      <td>False</td>\n",
              "      <td>False</td>\n",
              "      <td>False</td>\n",
              "      <td>False</td>\n",
              "      <td>False</td>\n",
              "      <td>True</td>\n",
              "    </tr>\n",
              "    <tr>\n",
              "      <th>1</th>\n",
              "      <td>False</td>\n",
              "      <td>False</td>\n",
              "      <td>True</td>\n",
              "      <td>False</td>\n",
              "      <td>False</td>\n",
              "      <td>False</td>\n",
              "      <td>False</td>\n",
              "      <td>False</td>\n",
              "      <td>False</td>\n",
              "      <td>False</td>\n",
              "      <td>True</td>\n",
              "    </tr>\n",
              "    <tr>\n",
              "      <th>2</th>\n",
              "      <td>False</td>\n",
              "      <td>False</td>\n",
              "      <td>True</td>\n",
              "      <td>False</td>\n",
              "      <td>False</td>\n",
              "      <td>False</td>\n",
              "      <td>False</td>\n",
              "      <td>False</td>\n",
              "      <td>False</td>\n",
              "      <td>False</td>\n",
              "      <td>False</td>\n",
              "    </tr>\n",
              "    <tr>\n",
              "      <th>3</th>\n",
              "      <td>False</td>\n",
              "      <td>False</td>\n",
              "      <td>True</td>\n",
              "      <td>False</td>\n",
              "      <td>False</td>\n",
              "      <td>False</td>\n",
              "      <td>False</td>\n",
              "      <td>False</td>\n",
              "      <td>False</td>\n",
              "      <td>False</td>\n",
              "      <td>True</td>\n",
              "    </tr>\n",
              "    <tr>\n",
              "      <th>4</th>\n",
              "      <td>False</td>\n",
              "      <td>False</td>\n",
              "      <td>True</td>\n",
              "      <td>False</td>\n",
              "      <td>False</td>\n",
              "      <td>False</td>\n",
              "      <td>False</td>\n",
              "      <td>False</td>\n",
              "      <td>False</td>\n",
              "      <td>False</td>\n",
              "      <td>True</td>\n",
              "    </tr>\n",
              "    <tr>\n",
              "      <th>...</th>\n",
              "      <td>...</td>\n",
              "      <td>...</td>\n",
              "      <td>...</td>\n",
              "      <td>...</td>\n",
              "      <td>...</td>\n",
              "      <td>...</td>\n",
              "      <td>...</td>\n",
              "      <td>...</td>\n",
              "      <td>...</td>\n",
              "      <td>...</td>\n",
              "      <td>...</td>\n",
              "    </tr>\n",
              "    <tr>\n",
              "      <th>543301</th>\n",
              "      <td>False</td>\n",
              "      <td>False</td>\n",
              "      <td>False</td>\n",
              "      <td>False</td>\n",
              "      <td>False</td>\n",
              "      <td>False</td>\n",
              "      <td>True</td>\n",
              "      <td>False</td>\n",
              "      <td>False</td>\n",
              "      <td>False</td>\n",
              "      <td>True</td>\n",
              "    </tr>\n",
              "    <tr>\n",
              "      <th>543302</th>\n",
              "      <td>False</td>\n",
              "      <td>False</td>\n",
              "      <td>False</td>\n",
              "      <td>False</td>\n",
              "      <td>False</td>\n",
              "      <td>False</td>\n",
              "      <td>True</td>\n",
              "      <td>False</td>\n",
              "      <td>False</td>\n",
              "      <td>False</td>\n",
              "      <td>True</td>\n",
              "    </tr>\n",
              "    <tr>\n",
              "      <th>543303</th>\n",
              "      <td>False</td>\n",
              "      <td>False</td>\n",
              "      <td>False</td>\n",
              "      <td>False</td>\n",
              "      <td>False</td>\n",
              "      <td>False</td>\n",
              "      <td>True</td>\n",
              "      <td>False</td>\n",
              "      <td>False</td>\n",
              "      <td>False</td>\n",
              "      <td>True</td>\n",
              "    </tr>\n",
              "    <tr>\n",
              "      <th>543304</th>\n",
              "      <td>False</td>\n",
              "      <td>False</td>\n",
              "      <td>False</td>\n",
              "      <td>False</td>\n",
              "      <td>False</td>\n",
              "      <td>False</td>\n",
              "      <td>True</td>\n",
              "      <td>False</td>\n",
              "      <td>False</td>\n",
              "      <td>False</td>\n",
              "      <td>True</td>\n",
              "    </tr>\n",
              "    <tr>\n",
              "      <th>543305</th>\n",
              "      <td>True</td>\n",
              "      <td>True</td>\n",
              "      <td>True</td>\n",
              "      <td>True</td>\n",
              "      <td>True</td>\n",
              "      <td>True</td>\n",
              "      <td>True</td>\n",
              "      <td>True</td>\n",
              "      <td>True</td>\n",
              "      <td>True</td>\n",
              "      <td>True</td>\n",
              "    </tr>\n",
              "  </tbody>\n",
              "</table>\n",
              "<p>543306 rows × 11 columns</p>\n",
              "</div>"
            ],
            "text/plain": [
              "          No.  announce_date  ...  province_of_onset  district_of_onset\n",
              "0       False          False  ...              False               True\n",
              "1       False          False  ...              False               True\n",
              "2       False          False  ...              False              False\n",
              "3       False          False  ...              False               True\n",
              "4       False          False  ...              False               True\n",
              "...       ...            ...  ...                ...                ...\n",
              "543301  False          False  ...              False               True\n",
              "543302  False          False  ...              False               True\n",
              "543303  False          False  ...              False               True\n",
              "543304  False          False  ...              False               True\n",
              "543305   True           True  ...               True               True\n",
              "\n",
              "[543306 rows x 11 columns]"
            ]
          },
          "metadata": {
            "tags": []
          },
          "execution_count": 16
        }
      ]
    },
    {
      "cell_type": "code",
      "metadata": {
        "colab": {
          "base_uri": "https://localhost:8080/"
        },
        "id": "m1RCu7EUGcq6",
        "outputId": "85262b7d-6628-406e-82fd-c58ac4217807"
      },
      "source": [
        "data_cases.isnull().any() #สรุปข้อมูลเป็นรายคอลัม"
      ],
      "execution_count": 17,
      "outputs": [
        {
          "output_type": "execute_result",
          "data": {
            "text/plain": [
              "No.                      True\n",
              "announce_date            True\n",
              "Notified date            True\n",
              "sex                      True\n",
              "age                      True\n",
              "Unit                     True\n",
              "nationality              True\n",
              "province_of_isolation    True\n",
              "risk                     True\n",
              "province_of_onset        True\n",
              "district_of_onset        True\n",
              "dtype: bool"
            ]
          },
          "metadata": {
            "tags": []
          },
          "execution_count": 17
        }
      ]
    },
    {
      "cell_type": "markdown",
      "metadata": {
        "id": "REIXIreiGn4q"
      },
      "source": [
        "### Handlind Missing Value 1 (ลบค่า missing) "
      ]
    },
    {
      "cell_type": "code",
      "metadata": {
        "colab": {
          "base_uri": "https://localhost:8080/",
          "height": 0
        },
        "id": "zc8evaOQGnLV",
        "outputId": "bebad531-492d-48e4-9137-39f0d6df91ea"
      },
      "source": [
        "plt.boxplot(data_cases['age'].dropna())"
      ],
      "execution_count": 18,
      "outputs": [
        {
          "output_type": "execute_result",
          "data": {
            "text/plain": [
              "{'boxes': [<matplotlib.lines.Line2D at 0x7f02da9a4e90>],\n",
              " 'caps': [<matplotlib.lines.Line2D at 0x7f02da9acf10>,\n",
              "  <matplotlib.lines.Line2D at 0x7f02da9b2490>],\n",
              " 'fliers': [<matplotlib.lines.Line2D at 0x7f02da9b2f50>],\n",
              " 'means': [],\n",
              " 'medians': [<matplotlib.lines.Line2D at 0x7f02da9b2a10>],\n",
              " 'whiskers': [<matplotlib.lines.Line2D at 0x7f02da9ac490>,\n",
              "  <matplotlib.lines.Line2D at 0x7f02da9ac9d0>]}"
            ]
          },
          "metadata": {
            "tags": []
          },
          "execution_count": 18
        },
        {
          "output_type": "display_data",
          "data": {
            "image/png": "[encoded data removed]",
            "text/plain": [
              "<Figure size 432x288 with 1 Axes>"
            ]
          },
          "metadata": {
            "tags": [],
            "needs_background": "light"
          }
        }
      ]
    },
    {
      "cell_type": "code",
      "metadata": {
        "colab": {
          "base_uri": "https://localhost:8080/",
          "height": 0
        },
        "id": "wi47fSv3IBjI",
        "outputId": "0e55fe0c-6bda-4f9c-d87f-cec377e7fa50"
      },
      "source": [
        "data_cases.dropna()"
      ],
      "execution_count": 19,
      "outputs": [
        {
          "output_type": "execute_result",
          "data": {
            "text/html": [
              "<div>\n",
              "<style scoped>\n",
              "    .dataframe tbody tr th:only-of-type {\n",
              "        vertical-align: middle;\n",
              "    }\n",
              "\n",
              "    .dataframe tbody tr th {\n",
              "        vertical-align: top;\n",
              "    }\n",
              "\n",
              "    .dataframe thead th {\n",
              "        text-align: right;\n",
              "    }\n",
              "</style>\n",
              "<table border=\"1\" class=\"dataframe\">\n",
              "  <thead>\n",
              "    <tr style=\"text-align: right;\">\n",
              "      <th></th>\n",
              "      <th>No.</th>\n",
              "      <th>announce_date</th>\n",
              "      <th>Notified date</th>\n",
              "      <th>sex</th>\n",
              "      <th>age</th>\n",
              "      <th>Unit</th>\n",
              "      <th>nationality</th>\n",
              "      <th>province_of_isolation</th>\n",
              "      <th>risk</th>\n",
              "      <th>province_of_onset</th>\n",
              "      <th>district_of_onset</th>\n",
              "    </tr>\n",
              "  </thead>\n",
              "  <tbody>\n",
              "    <tr>\n",
              "      <th>47</th>\n",
              "      <td>48.0</td>\n",
              "      <td>6/3/2020</td>\n",
              "      <td>4/3/2020</td>\n",
              "      <td>ชาย</td>\n",
              "      <td>43.0</td>\n",
              "      <td>ปี</td>\n",
              "      <td>United Kingdom</td>\n",
              "      <td>กรุงเทพมหานคร</td>\n",
              "      <td>คนต่างชาติเดินทางมาจากต่างประเทศ</td>\n",
              "      <td>กรุงเทพมหานคร</td>\n",
              "      <td>คลองตัน</td>\n",
              "    </tr>\n",
              "    <tr>\n",
              "      <th>124</th>\n",
              "      <td>125.0</td>\n",
              "      <td>6/3/2021</td>\n",
              "      <td>5/3/2021</td>\n",
              "      <td>หญิง</td>\n",
              "      <td>55.0</td>\n",
              "      <td>ปี</td>\n",
              "      <td>Thailand</td>\n",
              "      <td>ปทุมธานี</td>\n",
              "      <td>Cluster ตลาดพรพัฒน์</td>\n",
              "      <td>ปทุมธานี</td>\n",
              "      <td>ธัญบุรี</td>\n",
              "    </tr>\n",
              "    <tr>\n",
              "      <th>161</th>\n",
              "      <td>162.0</td>\n",
              "      <td>17/3/2020</td>\n",
              "      <td>21/3/2020</td>\n",
              "      <td>ชาย</td>\n",
              "      <td>14.0</td>\n",
              "      <td>ปี</td>\n",
              "      <td>Thailand</td>\n",
              "      <td>สุราษฎร์ธานี</td>\n",
              "      <td>สัมผัสใกล้ชิดกับผู้ป่วยยืนยันรายก่อนหน้านี้</td>\n",
              "      <td>สุราษฎร์ธานี</td>\n",
              "      <td>เมือง</td>\n",
              "    </tr>\n",
              "    <tr>\n",
              "      <th>181</th>\n",
              "      <td>182.0</td>\n",
              "      <td>18/3/2020</td>\n",
              "      <td>15/3/2020</td>\n",
              "      <td>ชาย</td>\n",
              "      <td>33.0</td>\n",
              "      <td>ปี</td>\n",
              "      <td>Thailand</td>\n",
              "      <td>ขอนแก่น</td>\n",
              "      <td>สนามมวย</td>\n",
              "      <td>ขอนแก่น</td>\n",
              "      <td>เมือง</td>\n",
              "    </tr>\n",
              "    <tr>\n",
              "      <th>186</th>\n",
              "      <td>187.0</td>\n",
              "      <td>18/3/2020</td>\n",
              "      <td>16/3/2020</td>\n",
              "      <td>ชาย</td>\n",
              "      <td>36.0</td>\n",
              "      <td>ปี</td>\n",
              "      <td>Thailand</td>\n",
              "      <td>ร้อยเอ็ด</td>\n",
              "      <td>สนามมวย</td>\n",
              "      <td>ร้อยเอ็ด</td>\n",
              "      <td>เชียงขวัญ</td>\n",
              "    </tr>\n",
              "    <tr>\n",
              "      <th>...</th>\n",
              "      <td>...</td>\n",
              "      <td>...</td>\n",
              "      <td>...</td>\n",
              "      <td>...</td>\n",
              "      <td>...</td>\n",
              "      <td>...</td>\n",
              "      <td>...</td>\n",
              "      <td>...</td>\n",
              "      <td>...</td>\n",
              "      <td>...</td>\n",
              "      <td>...</td>\n",
              "    </tr>\n",
              "    <tr>\n",
              "      <th>543098</th>\n",
              "      <td>543099.0</td>\n",
              "      <td>28/7/2021</td>\n",
              "      <td>27/7/2021</td>\n",
              "      <td>หญิง</td>\n",
              "      <td>63.0</td>\n",
              "      <td>ปี</td>\n",
              "      <td>Thailand</td>\n",
              "      <td>กรุงเทพมหานคร</td>\n",
              "      <td>สัมผัสใกล้ชิดกับผู้ป่วยยืนยันรายก่อนหน้านี้</td>\n",
              "      <td>นครปฐม</td>\n",
              "      <td>พุทธมณฑล</td>\n",
              "    </tr>\n",
              "    <tr>\n",
              "      <th>543099</th>\n",
              "      <td>543100.0</td>\n",
              "      <td>28/7/2021</td>\n",
              "      <td>27/7/2021</td>\n",
              "      <td>ชาย</td>\n",
              "      <td>67.0</td>\n",
              "      <td>ปี</td>\n",
              "      <td>Thailand</td>\n",
              "      <td>กรุงเทพมหานคร</td>\n",
              "      <td>สัมผัสใกล้ชิดกับผู้ป่วยยืนยันรายก่อนหน้านี้</td>\n",
              "      <td>กรุงเทพมหานคร</td>\n",
              "      <td>หนองแขม</td>\n",
              "    </tr>\n",
              "    <tr>\n",
              "      <th>543100</th>\n",
              "      <td>543101.0</td>\n",
              "      <td>28/7/2021</td>\n",
              "      <td>27/7/2021</td>\n",
              "      <td>หญิง</td>\n",
              "      <td>68.0</td>\n",
              "      <td>ปี</td>\n",
              "      <td>Thailand</td>\n",
              "      <td>กรุงเทพมหานคร</td>\n",
              "      <td>สัมผัสใกล้ชิดกับผู้ป่วยยืนยันรายก่อนหน้านี้</td>\n",
              "      <td>กรุงเทพมหานคร</td>\n",
              "      <td>ดุสิต</td>\n",
              "    </tr>\n",
              "    <tr>\n",
              "      <th>543101</th>\n",
              "      <td>543102.0</td>\n",
              "      <td>28/7/2021</td>\n",
              "      <td>27/7/2021</td>\n",
              "      <td>ชาย</td>\n",
              "      <td>73.0</td>\n",
              "      <td>ปี</td>\n",
              "      <td>Thailand</td>\n",
              "      <td>กรุงเทพมหานคร</td>\n",
              "      <td>สัมผัสใกล้ชิดกับผู้ป่วยยืนยันรายก่อนหน้านี้</td>\n",
              "      <td>กรุงเทพมหานคร</td>\n",
              "      <td>ราษฎร์บูรณะ</td>\n",
              "    </tr>\n",
              "    <tr>\n",
              "      <th>543102</th>\n",
              "      <td>543103.0</td>\n",
              "      <td>28/7/2021</td>\n",
              "      <td>27/7/2021</td>\n",
              "      <td>หญิง</td>\n",
              "      <td>106.0</td>\n",
              "      <td>ปี</td>\n",
              "      <td>Thailand</td>\n",
              "      <td>กรุงเทพมหานคร</td>\n",
              "      <td>สัมผัสใกล้ชิดกับผู้ป่วยยืนยันรายก่อนหน้านี้</td>\n",
              "      <td>กรุงเทพมหานคร</td>\n",
              "      <td>ประเวศ</td>\n",
              "    </tr>\n",
              "  </tbody>\n",
              "</table>\n",
              "<p>385643 rows × 11 columns</p>\n",
              "</div>"
            ],
            "text/plain": [
              "             No. announce_date  ... province_of_onset district_of_onset\n",
              "47          48.0      6/3/2020  ...     กรุงเทพมหานคร           คลองตัน\n",
              "124        125.0      6/3/2021  ...          ปทุมธานี           ธัญบุรี\n",
              "161        162.0     17/3/2020  ...      สุราษฎร์ธานี             เมือง\n",
              "181        182.0     18/3/2020  ...           ขอนแก่น             เมือง\n",
              "186        187.0     18/3/2020  ...          ร้อยเอ็ด         เชียงขวัญ\n",
              "...          ...           ...  ...               ...               ...\n",
              "543098  543099.0     28/7/2021  ...            นครปฐม          พุทธมณฑล\n",
              "543099  543100.0     28/7/2021  ...     กรุงเทพมหานคร           หนองแขม\n",
              "543100  543101.0     28/7/2021  ...     กรุงเทพมหานคร             ดุสิต\n",
              "543101  543102.0     28/7/2021  ...     กรุงเทพมหานคร       ราษฎร์บูรณะ\n",
              "543102  543103.0     28/7/2021  ...     กรุงเทพมหานคร            ประเวศ\n",
              "\n",
              "[385643 rows x 11 columns]"
            ]
          },
          "metadata": {
            "tags": []
          },
          "execution_count": 19
        }
      ]
    },
    {
      "cell_type": "code",
      "metadata": {
        "colab": {
          "base_uri": "https://localhost:8080/"
        },
        "id": "diduk4oNIXUN",
        "outputId": "b4d1ba59-07ee-49c0-e39a-b196ac019c35"
      },
      "source": [
        "data_cases.dropna().shape"
      ],
      "execution_count": 20,
      "outputs": [
        {
          "output_type": "execute_result",
          "data": {
            "text/plain": [
              "(385643, 11)"
            ]
          },
          "metadata": {
            "tags": []
          },
          "execution_count": 20
        }
      ]
    },
    {
      "cell_type": "code",
      "metadata": {
        "colab": {
          "base_uri": "https://localhost:8080/"
        },
        "id": "md3d_yNPId3d",
        "outputId": "e8f9af91-8a32-49de-fdc7-0ea55d91ec22"
      },
      "source": [
        "data_cases.dropna().shape[0]"
      ],
      "execution_count": 21,
      "outputs": [
        {
          "output_type": "execute_result",
          "data": {
            "text/plain": [
              "385643"
            ]
          },
          "metadata": {
            "tags": []
          },
          "execution_count": 21
        }
      ]
    },
    {
      "cell_type": "code",
      "metadata": {
        "id": "NeGVY_GPKNbZ"
      },
      "source": [
        ""
      ],
      "execution_count": 21,
      "outputs": []
    },
    {
      "cell_type": "markdown",
      "metadata": {
        "id": "SfAYxRUJIiR9"
      },
      "source": [
        "###Quiz 3 หาว่า การทำ dropna() ทำให้ข้อมูลหายไปกี่ %\n",
        "\n",
        "\n",
        "\n",
        "\n",
        "```\n",
        "size before drop = 1000\n",
        "size after drop = 10\n",
        "we loss 99% of data\n",
        "```\n",
        "\n",
        "\n",
        "\n",
        "\n",
        "\n"
      ]
    },
    {
      "cell_type": "code",
      "metadata": {
        "colab": {
          "base_uri": "https://localhost:8080/"
        },
        "id": "H6p0MKePKdHH",
        "outputId": "18f8da11-1ca4-4655-bedd-5e3abce8abb9"
      },
      "source": [
        "after = data_cases.shape[0] - data_cases.dropna().shape[0]\n",
        "after"
      ],
      "execution_count": 22,
      "outputs": [
        {
          "output_type": "execute_result",
          "data": {
            "text/plain": [
              "157663"
            ]
          },
          "metadata": {
            "tags": []
          },
          "execution_count": 22
        }
      ]
    },
    {
      "cell_type": "code",
      "metadata": {
        "colab": {
          "base_uri": "https://localhost:8080/"
        },
        "id": "nz93GCaXNIN1",
        "outputId": "08c86da2-4f65-454f-d867-87bc72dddb9c"
      },
      "source": [
        "data_af = (after/data_cases.shape[0])*100\n",
        "data_af"
      ],
      "execution_count": 23,
      "outputs": [
        {
          "output_type": "execute_result",
          "data": {
            "text/plain": [
              "29.019189922437818"
            ]
          },
          "metadata": {
            "tags": []
          },
          "execution_count": 23
        }
      ]
    },
    {
      "cell_type": "code",
      "metadata": {
        "colab": {
          "base_uri": "https://localhost:8080/"
        },
        "id": "QX_Ykrr2Ny6j",
        "outputId": "2ee09be1-f90e-4895-9478-3431bcba085a"
      },
      "source": [
        "removed = data_cases.shape[0] - data_cases.dropna().shape[0]\n",
        "\n",
        "print(f'size before drop = {data_cases.shape[0]}')\n",
        "print(f'size after drop = {data_cases.dropna().shape[0]}')\n",
        "print(f'we lost {100*(removed/data_cases.shape[0])}% of data')"
      ],
      "execution_count": 24,
      "outputs": [
        {
          "output_type": "stream",
          "text": [
            "size before drop = 543306\n",
            "size after drop = 385643\n",
            "we lost 29.019189922437818% of data\n"
          ],
          "name": "stdout"
        }
      ]
    },
    {
      "cell_type": "markdown",
      "metadata": {
        "id": "nHpoufPzOcvw"
      },
      "source": [
        "### Handling Missing Value 1.5 (ลบค่า Missing เฉพาะใน column ที่เราสนใจ) "
      ]
    },
    {
      "cell_type": "code",
      "metadata": {
        "id": "VQxhTiCTOsdL"
      },
      "source": [
        "data_cases_nomissingAge = data_cases.dropna(subset=['age'])"
      ],
      "execution_count": 25,
      "outputs": []
    },
    {
      "cell_type": "code",
      "metadata": {
        "colab": {
          "base_uri": "https://localhost:8080/",
          "height": 0
        },
        "id": "fKMnZ9tSPPyI",
        "outputId": "c0030591-e0a7-46b1-a182-4db437ac95cf"
      },
      "source": [
        "plt.boxplot(data_cases_nomissingAge['age'])"
      ],
      "execution_count": 26,
      "outputs": [
        {
          "output_type": "execute_result",
          "data": {
            "text/plain": [
              "{'boxes': [<matplotlib.lines.Line2D at 0x7f02d9ea1890>],\n",
              " 'caps': [<matplotlib.lines.Line2D at 0x7f02d9ea6910>,\n",
              "  <matplotlib.lines.Line2D at 0x7f02d9ea6e50>],\n",
              " 'fliers': [<matplotlib.lines.Line2D at 0x7f02d9ead950>],\n",
              " 'means': [],\n",
              " 'medians': [<matplotlib.lines.Line2D at 0x7f02d9ead410>],\n",
              " 'whiskers': [<matplotlib.lines.Line2D at 0x7f02d9ea1e50>,\n",
              "  <matplotlib.lines.Line2D at 0x7f02d9ea63d0>]}"
            ]
          },
          "metadata": {
            "tags": []
          },
          "execution_count": 26
        },
        {
          "output_type": "display_data",
          "data": {
            "image/png": "[encoded data removed]",
            "text/plain": [
              "<Figure size 432x288 with 1 Axes>"
            ]
          },
          "metadata": {
            "tags": [],
            "needs_background": "light"
          }
        }
      ]
    },
    {
      "cell_type": "markdown",
      "metadata": {
        "id": "q6yv4PePPewW"
      },
      "source": [
        "Quiz 3.1 ให้หาว่า การทำ dropna() แบบเลือก drop เฉพาะ column ที่เราสนใจ ทำให้ข้อมูลหายไปกี่ %"
      ]
    },
    {
      "cell_type": "code",
      "metadata": {
        "colab": {
          "base_uri": "https://localhost:8080/"
        },
        "id": "HOjWkxaVQnux",
        "outputId": "c21faf41-b750-4102-bd50-405bc00dcae5"
      },
      "source": [
        "removed = data_cases.shape[0] - data_cases_nomissingAge.shape[0]\n",
        "\n",
        "print(f'size before drop = {data_cases.shape[0]}')\n",
        "print(f'size after drop = {data_cases_nomissingAge.shape[0]}')\n",
        "print(f'we lost {100*(removed/data_cases.shape[0])}% of data')"
      ],
      "execution_count": 27,
      "outputs": [
        {
          "output_type": "stream",
          "text": [
            "size before drop = 543306\n",
            "size after drop = 491048\n",
            "we lost 9.618520686316735% of data\n"
          ],
          "name": "stdout"
        }
      ]
    },
    {
      "cell_type": "markdown",
      "metadata": {
        "id": "eYOSwnlwSvfD"
      },
      "source": [
        "### Handling Missing Value 2 (แทนด้วย class ใหม่ (unknown)"
      ]
    },
    {
      "cell_type": "code",
      "metadata": {
        "id": "NW3u0b9dRSRI",
        "colab": {
          "base_uri": "https://localhost:8080/",
          "height": 0
        },
        "outputId": "23eb84b6-6c34-47af-b0a5-d89d2147a666"
      },
      "source": [
        "data_cases"
      ],
      "execution_count": 28,
      "outputs": [
        {
          "output_type": "execute_result",
          "data": {
            "text/html": [
              "<div>\n",
              "<style scoped>\n",
              "    .dataframe tbody tr th:only-of-type {\n",
              "        vertical-align: middle;\n",
              "    }\n",
              "\n",
              "    .dataframe tbody tr th {\n",
              "        vertical-align: top;\n",
              "    }\n",
              "\n",
              "    .dataframe thead th {\n",
              "        text-align: right;\n",
              "    }\n",
              "</style>\n",
              "<table border=\"1\" class=\"dataframe\">\n",
              "  <thead>\n",
              "    <tr style=\"text-align: right;\">\n",
              "      <th></th>\n",
              "      <th>No.</th>\n",
              "      <th>announce_date</th>\n",
              "      <th>Notified date</th>\n",
              "      <th>sex</th>\n",
              "      <th>age</th>\n",
              "      <th>Unit</th>\n",
              "      <th>nationality</th>\n",
              "      <th>province_of_isolation</th>\n",
              "      <th>risk</th>\n",
              "      <th>province_of_onset</th>\n",
              "      <th>district_of_onset</th>\n",
              "    </tr>\n",
              "  </thead>\n",
              "  <tbody>\n",
              "    <tr>\n",
              "      <th>0</th>\n",
              "      <td>1.0</td>\n",
              "      <td>12/1/2020</td>\n",
              "      <td>NaN</td>\n",
              "      <td>หญิง</td>\n",
              "      <td>61.0</td>\n",
              "      <td>ปี</td>\n",
              "      <td>China</td>\n",
              "      <td>กรุงเทพมหานคร</td>\n",
              "      <td>คนต่างชาติเดินทางมาจากต่างประเทศ</td>\n",
              "      <td>กรุงเทพมหานคร</td>\n",
              "      <td>NaN</td>\n",
              "    </tr>\n",
              "    <tr>\n",
              "      <th>1</th>\n",
              "      <td>2.0</td>\n",
              "      <td>17/1/2020</td>\n",
              "      <td>NaN</td>\n",
              "      <td>หญิง</td>\n",
              "      <td>74.0</td>\n",
              "      <td>ปี</td>\n",
              "      <td>China</td>\n",
              "      <td>กรุงเทพมหานคร</td>\n",
              "      <td>คนต่างชาติเดินทางมาจากต่างประเทศ</td>\n",
              "      <td>กรุงเทพมหานคร</td>\n",
              "      <td>NaN</td>\n",
              "    </tr>\n",
              "    <tr>\n",
              "      <th>2</th>\n",
              "      <td>3.0</td>\n",
              "      <td>22/1/2020</td>\n",
              "      <td>NaN</td>\n",
              "      <td>หญิง</td>\n",
              "      <td>73.0</td>\n",
              "      <td>ปี</td>\n",
              "      <td>Thailand</td>\n",
              "      <td>นครปฐม</td>\n",
              "      <td>คนต่างชาติเดินทางมาจากต่างประเทศ</td>\n",
              "      <td>นครปฐม</td>\n",
              "      <td>เมือง</td>\n",
              "    </tr>\n",
              "    <tr>\n",
              "      <th>3</th>\n",
              "      <td>4.0</td>\n",
              "      <td>22/1/2020</td>\n",
              "      <td>NaN</td>\n",
              "      <td>ชาย</td>\n",
              "      <td>68.0</td>\n",
              "      <td>ปี</td>\n",
              "      <td>China</td>\n",
              "      <td>กรุงเทพมหานคร</td>\n",
              "      <td>คนต่างชาติเดินทางมาจากต่างประเทศ</td>\n",
              "      <td>กรุงเทพมหานคร</td>\n",
              "      <td>NaN</td>\n",
              "    </tr>\n",
              "    <tr>\n",
              "      <th>4</th>\n",
              "      <td>5.0</td>\n",
              "      <td>24/1/2020</td>\n",
              "      <td>NaN</td>\n",
              "      <td>หญิง</td>\n",
              "      <td>66.0</td>\n",
              "      <td>ปี</td>\n",
              "      <td>China</td>\n",
              "      <td>นนทบุรี</td>\n",
              "      <td>คนต่างชาติเดินทางมาจากต่างประเทศ</td>\n",
              "      <td>กรุงเทพมหานคร</td>\n",
              "      <td>NaN</td>\n",
              "    </tr>\n",
              "    <tr>\n",
              "      <th>...</th>\n",
              "      <td>...</td>\n",
              "      <td>...</td>\n",
              "      <td>...</td>\n",
              "      <td>...</td>\n",
              "      <td>...</td>\n",
              "      <td>...</td>\n",
              "      <td>...</td>\n",
              "      <td>...</td>\n",
              "      <td>...</td>\n",
              "      <td>...</td>\n",
              "      <td>...</td>\n",
              "    </tr>\n",
              "    <tr>\n",
              "      <th>543301</th>\n",
              "      <td>543302.0</td>\n",
              "      <td>28/7/2021</td>\n",
              "      <td>27/7/2021</td>\n",
              "      <td>ชาย</td>\n",
              "      <td>39.0</td>\n",
              "      <td>ปี</td>\n",
              "      <td>NaN</td>\n",
              "      <td>สุพรรณบุรี</td>\n",
              "      <td>ทัณฑสถาน/เรือนจำ</td>\n",
              "      <td>สุพรรณบุรี</td>\n",
              "      <td>NaN</td>\n",
              "    </tr>\n",
              "    <tr>\n",
              "      <th>543302</th>\n",
              "      <td>543303.0</td>\n",
              "      <td>28/7/2021</td>\n",
              "      <td>27/7/2021</td>\n",
              "      <td>ชาย</td>\n",
              "      <td>37.0</td>\n",
              "      <td>ปี</td>\n",
              "      <td>NaN</td>\n",
              "      <td>สุพรรณบุรี</td>\n",
              "      <td>ทัณฑสถาน/เรือนจำ</td>\n",
              "      <td>สุพรรณบุรี</td>\n",
              "      <td>NaN</td>\n",
              "    </tr>\n",
              "    <tr>\n",
              "      <th>543303</th>\n",
              "      <td>543304.0</td>\n",
              "      <td>28/7/2021</td>\n",
              "      <td>27/7/2021</td>\n",
              "      <td>ชาย</td>\n",
              "      <td>28.0</td>\n",
              "      <td>ปี</td>\n",
              "      <td>NaN</td>\n",
              "      <td>สุพรรณบุรี</td>\n",
              "      <td>ทัณฑสถาน/เรือนจำ</td>\n",
              "      <td>สุพรรณบุรี</td>\n",
              "      <td>NaN</td>\n",
              "    </tr>\n",
              "    <tr>\n",
              "      <th>543304</th>\n",
              "      <td>543305.0</td>\n",
              "      <td>28/7/2021</td>\n",
              "      <td>27/7/2021</td>\n",
              "      <td>ชาย</td>\n",
              "      <td>26.0</td>\n",
              "      <td>ปี</td>\n",
              "      <td>NaN</td>\n",
              "      <td>ปัตตานี</td>\n",
              "      <td>ทัณฑสถาน/เรือนจำ</td>\n",
              "      <td>ปัตตานี</td>\n",
              "      <td>NaN</td>\n",
              "    </tr>\n",
              "    <tr>\n",
              "      <th>543305</th>\n",
              "      <td>NaN</td>\n",
              "      <td>NaN</td>\n",
              "      <td>NaN</td>\n",
              "      <td>NaN</td>\n",
              "      <td>NaN</td>\n",
              "      <td>NaN</td>\n",
              "      <td>NaN</td>\n",
              "      <td>NaN</td>\n",
              "      <td>NaN</td>\n",
              "      <td>NaN</td>\n",
              "      <td>NaN</td>\n",
              "    </tr>\n",
              "  </tbody>\n",
              "</table>\n",
              "<p>543306 rows × 11 columns</p>\n",
              "</div>"
            ],
            "text/plain": [
              "             No. announce_date  ... province_of_onset district_of_onset\n",
              "0            1.0     12/1/2020  ...     กรุงเทพมหานคร               NaN\n",
              "1            2.0     17/1/2020  ...     กรุงเทพมหานคร               NaN\n",
              "2            3.0     22/1/2020  ...            นครปฐม             เมือง\n",
              "3            4.0     22/1/2020  ...     กรุงเทพมหานคร               NaN\n",
              "4            5.0     24/1/2020  ...     กรุงเทพมหานคร               NaN\n",
              "...          ...           ...  ...               ...               ...\n",
              "543301  543302.0     28/7/2021  ...        สุพรรณบุรี               NaN\n",
              "543302  543303.0     28/7/2021  ...        สุพรรณบุรี               NaN\n",
              "543303  543304.0     28/7/2021  ...        สุพรรณบุรี               NaN\n",
              "543304  543305.0     28/7/2021  ...           ปัตตานี               NaN\n",
              "543305       NaN           NaN  ...               NaN               NaN\n",
              "\n",
              "[543306 rows x 11 columns]"
            ]
          },
          "metadata": {
            "tags": []
          },
          "execution_count": 28
        }
      ]
    },
    {
      "cell_type": "code",
      "metadata": {
        "id": "SZxNUaIvHAFL"
      },
      "source": [
        "data_cases[['risk']] = data_cases[['risk']].fillna('ไม่มีข้อมูล')"
      ],
      "execution_count": 29,
      "outputs": []
    },
    {
      "cell_type": "code",
      "metadata": {
        "id": "_LLp3tMdHBmD",
        "colab": {
          "base_uri": "https://localhost:8080/"
        },
        "outputId": "3084ac4d-713b-4138-fc38-524db012eb7f"
      },
      "source": [
        "set(data_cases['risk'])"
      ],
      "execution_count": 30,
      "outputs": [
        {
          "output_type": "execute_result",
          "data": {
            "text/plain": [
              "{'2.สัมผัสผู้ติดเชื้อ',\n",
              " 'ACF รองเมือง',\n",
              " 'ACF สนามกีฬาธูปะเตมีย์',\n",
              " 'ACF สนามกีฬาไทย-ญี่ปุ่น',\n",
              " 'ACF สีลม',\n",
              " 'ACF เคหะหลักสี่',\n",
              " 'Cluster Icon siam',\n",
              " \"Cluster Memory 90's กรุงเทพมหานคร\",\n",
              " 'Cluster New Jazz กรุงเทพมหานคร',\n",
              " 'Cluster The Lounge Salaya',\n",
              " 'Cluster กรุงเทพมหานคร. คลองเตย',\n",
              " 'Cluster คลองเตย',\n",
              " 'Cluster งานมอเตอร์ โชว์',\n",
              " 'Cluster จนท. สนามบินสุวรรณภูมิ',\n",
              " 'Cluster จันทบุรี',\n",
              " 'Cluster จันทบุรี (ชาวกินี )',\n",
              " 'Cluster จันทบุรี (ชาวกินี)',\n",
              " 'Cluster ชลบุรี',\n",
              " 'Cluster ชลบุรี บริษัทไดกิ้น',\n",
              " 'Cluster ชลบุรี โรงเบียร์ 90',\n",
              " 'Cluster ตราด',\n",
              " 'Cluster ตราด ',\n",
              " 'Cluster ตลาดนนทบุรี',\n",
              " 'Cluster ตลาดบางพลี',\n",
              " 'Cluster ตลาดบางแค',\n",
              " 'Cluster ตลาดบางแค/คลองขวาง',\n",
              " 'Cluster ตลาดพรพัฒน์',\n",
              " 'Cluster ตลาดสี่มุมเมือง',\n",
              " 'Cluster ทัณฑสถานหญิงกลาง',\n",
              " 'Cluster ทัณฑสถานโรงพยาบาลราชทัณฑ์',\n",
              " 'Cluster ทันฑสถานบำบัดพิเศษกลาง',\n",
              " 'Cluster บริษัทศรีสวัสดิ์',\n",
              " 'Cluster บางแค',\n",
              " 'Cluster บ่อนพัทยา/ชลบุรี',\n",
              " 'Cluster บ่อนเทพารักษ์',\n",
              " 'Cluster บ่อนไก่อ่างทอง',\n",
              " 'Cluster ปากช่อง',\n",
              " 'Cluster ผับ Thonglor',\n",
              " 'Cluster มหาสารคาม',\n",
              " 'Cluster ระยอง',\n",
              " 'Cluster ระยอง วิริยะประกันภัย',\n",
              " 'Cluster สถานบันเทิงย่านทองหล่อ',\n",
              " 'Cluster สมุทรปราการ (โรงงาน บริษัทเมทัล โปรดักส์)',\n",
              " 'Cluster สมุทรปราการ GRP Hightech',\n",
              " 'Cluster สมุทรปราการ ตลาดเคหะบางพลี',\n",
              " 'Cluster สมุทรสาคร',\n",
              " 'Cluster ห้างแสงทอง (สายล่าง)',\n",
              " 'Cluster เครือคัสเซ่อร์พีคโฮลดิ้ง (CPG,CPH)',\n",
              " 'Cluster เรือนจำกลางคลองเปรม',\n",
              " 'Cluster เรือนจำพิเศษกรุงเทพ',\n",
              " 'Cluster เรือนจำพิเศษธนบุรี',\n",
              " 'Cluster เรือนจำพิเศษมีนบุรี',\n",
              " 'Cluster โรงงาน  Big Star',\n",
              " 'Cluster โรงงาน Big Star',\n",
              " 'Cluster โรงงาน QPP ประจวบฯ',\n",
              " 'Cluster โรงงาน standard can',\n",
              " 'Cluster โรงงานทำขนม บางขุนเทียน',\n",
              " 'Refer in',\n",
              " 'SHUI',\n",
              " 'Sandbox',\n",
              " 'State Quarantine',\n",
              " 'cluster ชลบุรี\\n(อยู่ระหว่างการสอบสวน)',\n",
              " 'การค้นหาผู้ป่วยเชิงรุกและค้นหาผู้ติดเชื้อในชุมชน',\n",
              " 'คนต่างชาติเดินทางมาจากต่างประเทศ',\n",
              " 'คนไทยมาจากพื้นที่เสี่ยง',\n",
              " 'คนไทยเดินทางกลับจากต่างประเทศ',\n",
              " 'คนไทยเดินทางมาจากต่างประเทศ',\n",
              " 'ค้นหาเชิงรุก',\n",
              " 'ตรวจก่อนทำหัตถการ',\n",
              " 'ตรวจสุขภาพแรงงานต่างด้าว',\n",
              " 'ตลาด',\n",
              " 'ทัณฑสถาน/เรือนจำ',\n",
              " 'บุคลากรด้านการแพทย์และสาธารณสุข',\n",
              " 'ปอดอักเสบ (Pneumonia)',\n",
              " 'ปอดอักเสบ Pneumonia',\n",
              " 'ผับหัวหิน',\n",
              " 'ผู้ติดเชื้อในประเทศ',\n",
              " 'ผู้ที่เดินทางมาจากต่างประเทศ และเข้า AOQ',\n",
              " 'ผู้ที่เดินทางมาจากต่างประเทศ และเข้า ASQ/ALQ',\n",
              " 'ผู้ที่เดินทางมาจากต่างประเทศ และเข้า HQ/AHQ',\n",
              " 'ผู้ที่เดินทางมาจากต่างประเทศ และเข้า OQ',\n",
              " 'ผู้ป่วย PUI',\n",
              " 'ผู้ป่วย กรุงเทพมหานคร',\n",
              " 'ผู้เดินทางมาจากพื้นที่เสี่ยง กรุงเทพมหานคร.',\n",
              " 'พิธีกรรมทางศาสนา',\n",
              " 'มาจากพื้นที่เสียง จ.ปทุมธานี',\n",
              " 'มาจากพื้นที่เสี่ยง',\n",
              " 'มาจากพื้นที่เสี่ยง จ.ปทุมธานี',\n",
              " 'รอประสาน',\n",
              " 'ระบุไม่ได้',\n",
              " 'ระหว่างการสอบสวนโรค',\n",
              " 'ระหว่างสอบสวน',\n",
              " 'รับจ้างขนของที่ตลาดท่ายาง',\n",
              " 'ร้านอาหาร',\n",
              " 'ศูนย์กักกัน ผู้ต้องกัก',\n",
              " 'สถานที่ทำงาน',\n",
              " 'สถานบันเทิง',\n",
              " 'สน.วัดพระยาไกร',\n",
              " 'สนามมวย',\n",
              " 'สัมผัสผู้ติดเชื้อยืนยัน\\nอยู่ระหว่างสอบสวน',\n",
              " 'สัมผัสผู้ติดเชื้อยืนยัน อยู่ระหว่างสอบสวน',\n",
              " 'สัมผัสผู้ป่วยที่ติดโควิด',\n",
              " 'สัมผัสผู้ป่วยยืนยัน',\n",
              " 'สัมผัสผู้ป่วยยืนยัน \\n อยู่ระหว่างสอบสวน',\n",
              " 'สัมผัสผู้ป่วยยืนยัน (ยังไม่สามารถระบุได้)',\n",
              " 'สัมผัสผู้ป่วยยืนยัน ภายในครอบครัว/ชุมชน/เพื่อน',\n",
              " 'สัมผัสผู้ป่วยยืนยัน อยุ๋ระหว่างสอบสวน',\n",
              " 'สัมผัสผู้ป่วยยืนยัน อยู่ระหว่างสอบสวน',\n",
              " 'สัมผัสผู้ป่วยยืนยันเพื่อนร่วมงาน',\n",
              " 'สัมผัสผู้เดินทางจากต่างประเทศ',\n",
              " 'สัมผัสสามีสะอาด เขตบ้าน (รพ.มหาชัย 2)',\n",
              " 'สัมผัสใกล้ชิดกับผู้ป่วยยืนยันรายก่อนหน้านี้',\n",
              " 'สัมผัสใกล้ชิดผู้ป่วยยันยันก่อนหน้า',\n",
              " 'สัมผัสใกล้ชิดผู้ป่วยยืนยันก่อนหน้า',\n",
              " 'สัมผัสในสถานพยาบาล',\n",
              " 'อยุ่ระหว่างสอบสวน',\n",
              " 'อยู่ระหว่างการสอบสวน',\n",
              " 'อยู่ระหว่างการสอบสวน\\n',\n",
              " 'อยู่ระหว่างสอบสวน',\n",
              " 'อยู่ระหว่างสอบสวนโรค',\n",
              " 'อาชีพเสี่ยง เช่น ทำงานในสถานที่แออัด หรือทำงานใกล้ชิดสัมผัสชาวต่างชาติ เป็นต้น',\n",
              " 'อาศัย/เดินทางไปในพื้นที่ที่มีการระบาด',\n",
              " 'อื่น',\n",
              " 'อื่นๆ',\n",
              " 'เดินทางมาจากพื้นที่จังหวัดเสี่ยง',\n",
              " 'เดินทางมาจากพื้นที่มีการระบาดของโรค',\n",
              " 'เดินทางมาจากพื้นที่เสี่ยง จ.กรุงเทพฯ จอมทอง',\n",
              " 'เดินทางมาจากพื้นที่เสี่ยงที่มีการระบาดของโรค',\n",
              " 'แรงงานต่างด้าวตรวจก่อนขึ้นทะเบียน',\n",
              " 'ไปยัง/มาจาก พื้นที่ระบาดกรุงเทพมหานครมหานคร',\n",
              " 'ไปยังพื้นที่ที่มีการระบาด',\n",
              " 'ไปสถานที่ชุมชน เช่น ตลาดนัด สถานที่ท่องเที่ยว',\n",
              " 'ไปสถานที่เสี่ยง เช่น ตลาด สถานที่ชุมชน',\n",
              " 'ไปสถานที่แออัด เช่น งานแฟร์ คอนเสิร์ต',\n",
              " 'ไปเที่ยวสถานบันเทิงในอุบลที่พบการระบาดของโรค Ubar',\n",
              " 'ไปแหล่งชุมชน/สถานที่คนหนาแน่น',\n",
              " 'ไม่มีข้อมูล'}"
            ]
          },
          "metadata": {
            "tags": []
          },
          "execution_count": 30
        }
      ]
    },
    {
      "cell_type": "markdown",
      "metadata": {
        "id": "LtuCPlTPHEIn"
      },
      "source": [
        "### Handling Missing Value 3 (แทนด้วย class ใหม่ (ค่าที่เหมาะสม))"
      ]
    },
    {
      "cell_type": "code",
      "metadata": {
        "id": "oMx8gXvzHF6H",
        "colab": {
          "base_uri": "https://localhost:8080/"
        },
        "outputId": "7aae37a4-a731-4a2a-e7eb-6865865e1bff"
      },
      "source": [
        "set(data_cases['Unit'])\n"
      ],
      "execution_count": 31,
      "outputs": [
        {
          "output_type": "execute_result",
          "data": {
            "text/plain": [
              "{' วัน', ' เดือน', nan, 'ปี', 'วัน', 'เดือน'}"
            ]
          },
          "metadata": {
            "tags": []
          },
          "execution_count": 31
        }
      ]
    },
    {
      "cell_type": "code",
      "metadata": {
        "id": "ErbefRbqHHja"
      },
      "source": [
        "data_cases[['Unit']] = data_cases[['Unit']].fillna('ปี?')"
      ],
      "execution_count": 32,
      "outputs": []
    },
    {
      "cell_type": "code",
      "metadata": {
        "id": "LT1M1weAHKmH",
        "colab": {
          "base_uri": "https://localhost:8080/"
        },
        "outputId": "bff50070-5125-4462-8837-0e9f54997683"
      },
      "source": [
        "\n",
        "data_cases.isnull().any()"
      ],
      "execution_count": 33,
      "outputs": [
        {
          "output_type": "execute_result",
          "data": {
            "text/plain": [
              "No.                       True\n",
              "announce_date             True\n",
              "Notified date             True\n",
              "sex                       True\n",
              "age                       True\n",
              "Unit                     False\n",
              "nationality               True\n",
              "province_of_isolation     True\n",
              "risk                     False\n",
              "province_of_onset         True\n",
              "district_of_onset         True\n",
              "dtype: bool"
            ]
          },
          "metadata": {
            "tags": []
          },
          "execution_count": 33
        }
      ]
    },
    {
      "cell_type": "markdown",
      "metadata": {
        "id": "3Qgs0pSkb_J7"
      },
      "source": [
        "###Handling Missing Value 4 (แทนด้วย ค่ากลาง)\n",
        "ถ้าเป็น numeric ใช้ mean"
      ]
    },
    {
      "cell_type": "code",
      "metadata": {
        "colab": {
          "base_uri": "https://localhost:8080/"
        },
        "id": "trFarf9Gb-_N",
        "outputId": "a5bbd801-a352-4d2b-c429-5ecf119e94e1"
      },
      "source": [
        "data_cases[['age']].mean()"
      ],
      "execution_count": 34,
      "outputs": [
        {
          "output_type": "execute_result",
          "data": {
            "text/plain": [
              "age    35.519252\n",
              "dtype: float64"
            ]
          },
          "metadata": {
            "tags": []
          },
          "execution_count": 34
        }
      ]
    },
    {
      "cell_type": "code",
      "metadata": {
        "colab": {
          "base_uri": "https://localhost:8080/"
        },
        "id": "mO0vhtyPcKh6",
        "outputId": "356cc46f-27e3-4dd3-87f0-56b4b143ddba"
      },
      "source": [
        "data_cases[['age']].dropna().mean()\n"
      ],
      "execution_count": 35,
      "outputs": [
        {
          "output_type": "execute_result",
          "data": {
            "text/plain": [
              "age    35.519252\n",
              "dtype: float64"
            ]
          },
          "metadata": {
            "tags": []
          },
          "execution_count": 35
        }
      ]
    },
    {
      "cell_type": "code",
      "metadata": {
        "id": "HDVnWzFWcPdQ"
      },
      "source": [
        "# หา mean\n",
        "avg_age = data_cases[['age']].mean()\n",
        "# เติม mean ลงไปแทนค่า missing\n",
        "data_cases[['age']] = data_cases[['age']].fillna(avg_age)"
      ],
      "execution_count": 36,
      "outputs": []
    },
    {
      "cell_type": "code",
      "metadata": {
        "colab": {
          "base_uri": "https://localhost:8080/"
        },
        "id": "oVOegKIscSWf",
        "outputId": "56921212-ce1a-40cf-91ed-79cddec3e05e"
      },
      "source": [
        "data_cases.isnull().any()"
      ],
      "execution_count": 37,
      "outputs": [
        {
          "output_type": "execute_result",
          "data": {
            "text/plain": [
              "No.                       True\n",
              "announce_date             True\n",
              "Notified date             True\n",
              "sex                       True\n",
              "age                      False\n",
              "Unit                     False\n",
              "nationality               True\n",
              "province_of_isolation     True\n",
              "risk                     False\n",
              "province_of_onset         True\n",
              "district_of_onset         True\n",
              "dtype: bool"
            ]
          },
          "metadata": {
            "tags": []
          },
          "execution_count": 37
        }
      ]
    },
    {
      "cell_type": "code",
      "metadata": {
        "colab": {
          "base_uri": "https://localhost:8080/"
        },
        "id": "0_0lmwZfcVNM",
        "outputId": "1eb731f4-6306-4495-c837-63b95c15d22a"
      },
      "source": [
        "data_cases[['age']].mean()"
      ],
      "execution_count": 38,
      "outputs": [
        {
          "output_type": "execute_result",
          "data": {
            "text/plain": [
              "age    35.519252\n",
              "dtype: float64"
            ]
          },
          "metadata": {
            "tags": []
          },
          "execution_count": 38
        }
      ]
    },
    {
      "cell_type": "code",
      "metadata": {
        "colab": {
          "base_uri": "https://localhost:8080/",
          "height": 81
        },
        "id": "reSQOm9McYHd",
        "outputId": "3c94dae9-9c86-48be-f38d-b10f8d174bad"
      },
      "source": [
        "data_cases[['nationality']].mode()\n"
      ],
      "execution_count": 39,
      "outputs": [
        {
          "output_type": "execute_result",
          "data": {
            "text/html": [
              "<div>\n",
              "<style scoped>\n",
              "    .dataframe tbody tr th:only-of-type {\n",
              "        vertical-align: middle;\n",
              "    }\n",
              "\n",
              "    .dataframe tbody tr th {\n",
              "        vertical-align: top;\n",
              "    }\n",
              "\n",
              "    .dataframe thead th {\n",
              "        text-align: right;\n",
              "    }\n",
              "</style>\n",
              "<table border=\"1\" class=\"dataframe\">\n",
              "  <thead>\n",
              "    <tr style=\"text-align: right;\">\n",
              "      <th></th>\n",
              "      <th>nationality</th>\n",
              "    </tr>\n",
              "  </thead>\n",
              "  <tbody>\n",
              "    <tr>\n",
              "      <th>0</th>\n",
              "      <td>Thailand</td>\n",
              "    </tr>\n",
              "  </tbody>\n",
              "</table>\n",
              "</div>"
            ],
            "text/plain": [
              "  nationality\n",
              "0    Thailand"
            ]
          },
          "metadata": {
            "tags": []
          },
          "execution_count": 39
        }
      ]
    },
    {
      "cell_type": "code",
      "metadata": {
        "colab": {
          "base_uri": "https://localhost:8080/",
          "height": 35
        },
        "id": "yfq5sshYcabS",
        "outputId": "b20760e4-fe3c-475a-fe94-0a946835f20a"
      },
      "source": [
        "data_cases[['nationality']].mode().iloc[0,0]"
      ],
      "execution_count": 40,
      "outputs": [
        {
          "output_type": "execute_result",
          "data": {
            "application/vnd.google.colaboratory.intrinsic+json": {
              "type": "string"
            },
            "text/plain": [
              "'Thailand'"
            ]
          },
          "metadata": {
            "tags": []
          },
          "execution_count": 40
        }
      ]
    },
    {
      "cell_type": "code",
      "metadata": {
        "colab": {
          "base_uri": "https://localhost:8080/"
        },
        "id": "-FM4WG8gcauY",
        "outputId": "dcb4e47d-0dd7-4f02-cfbb-2f6886c83a00"
      },
      "source": [
        "data_cases['nationality'].mode()"
      ],
      "execution_count": 41,
      "outputs": [
        {
          "output_type": "execute_result",
          "data": {
            "text/plain": [
              "0    Thailand\n",
              "dtype: object"
            ]
          },
          "metadata": {
            "tags": []
          },
          "execution_count": 41
        }
      ]
    },
    {
      "cell_type": "code",
      "metadata": {
        "id": "8qLNb7nRccvL"
      },
      "source": [
        "# หา mode\n",
        "mode_nation = data_cases[['nationality']].mode().iloc[0,0]\n",
        "# เติม mean ลงไปแทนค่า missing\n",
        "data_cases[['nationality']] = data_cases[['nationality']].fillna(mode_nation)"
      ],
      "execution_count": 42,
      "outputs": []
    },
    {
      "cell_type": "code",
      "metadata": {
        "colab": {
          "base_uri": "https://localhost:8080/"
        },
        "id": "9wbmEkLvcenL",
        "outputId": "f3168473-81f3-4bc5-b7e4-1013631eba35"
      },
      "source": [
        "data_cases.isnull().any()"
      ],
      "execution_count": 43,
      "outputs": [
        {
          "output_type": "execute_result",
          "data": {
            "text/plain": [
              "No.                       True\n",
              "announce_date             True\n",
              "Notified date             True\n",
              "sex                       True\n",
              "age                      False\n",
              "Unit                     False\n",
              "nationality              False\n",
              "province_of_isolation     True\n",
              "risk                     False\n",
              "province_of_onset         True\n",
              "district_of_onset         True\n",
              "dtype: bool"
            ]
          },
          "metadata": {
            "tags": []
          },
          "execution_count": 43
        }
      ]
    },
    {
      "cell_type": "markdown",
      "metadata": {
        "id": "-d0JiUfNcke7"
      },
      "source": [
        "ถ้าเป็น ordinal ใช้ median\n",
        "\n",
        "เติมด้วยค่าของ column ใกล้เคียง (เดี๋ยวย้อนกลับมา)"
      ]
    },
    {
      "cell_type": "code",
      "metadata": {
        "colab": {
          "base_uri": "https://localhost:8080/",
          "height": 1000
        },
        "id": "j6X4-RhMcglD",
        "outputId": "1ee2cefb-a502-47d3-a0d3-e75c399cb617"
      },
      "source": [
        "data_cases.head(20)\n"
      ],
      "execution_count": 44,
      "outputs": [
        {
          "output_type": "execute_result",
          "data": {
            "text/html": [
              "<div>\n",
              "<style scoped>\n",
              "    .dataframe tbody tr th:only-of-type {\n",
              "        vertical-align: middle;\n",
              "    }\n",
              "\n",
              "    .dataframe tbody tr th {\n",
              "        vertical-align: top;\n",
              "    }\n",
              "\n",
              "    .dataframe thead th {\n",
              "        text-align: right;\n",
              "    }\n",
              "</style>\n",
              "<table border=\"1\" class=\"dataframe\">\n",
              "  <thead>\n",
              "    <tr style=\"text-align: right;\">\n",
              "      <th></th>\n",
              "      <th>No.</th>\n",
              "      <th>announce_date</th>\n",
              "      <th>Notified date</th>\n",
              "      <th>sex</th>\n",
              "      <th>age</th>\n",
              "      <th>Unit</th>\n",
              "      <th>nationality</th>\n",
              "      <th>province_of_isolation</th>\n",
              "      <th>risk</th>\n",
              "      <th>province_of_onset</th>\n",
              "      <th>district_of_onset</th>\n",
              "    </tr>\n",
              "  </thead>\n",
              "  <tbody>\n",
              "    <tr>\n",
              "      <th>0</th>\n",
              "      <td>1.0</td>\n",
              "      <td>12/1/2020</td>\n",
              "      <td>NaN</td>\n",
              "      <td>หญิง</td>\n",
              "      <td>61.0</td>\n",
              "      <td>ปี</td>\n",
              "      <td>China</td>\n",
              "      <td>กรุงเทพมหานคร</td>\n",
              "      <td>คนต่างชาติเดินทางมาจากต่างประเทศ</td>\n",
              "      <td>กรุงเทพมหานคร</td>\n",
              "      <td>NaN</td>\n",
              "    </tr>\n",
              "    <tr>\n",
              "      <th>1</th>\n",
              "      <td>2.0</td>\n",
              "      <td>17/1/2020</td>\n",
              "      <td>NaN</td>\n",
              "      <td>หญิง</td>\n",
              "      <td>74.0</td>\n",
              "      <td>ปี</td>\n",
              "      <td>China</td>\n",
              "      <td>กรุงเทพมหานคร</td>\n",
              "      <td>คนต่างชาติเดินทางมาจากต่างประเทศ</td>\n",
              "      <td>กรุงเทพมหานคร</td>\n",
              "      <td>NaN</td>\n",
              "    </tr>\n",
              "    <tr>\n",
              "      <th>2</th>\n",
              "      <td>3.0</td>\n",
              "      <td>22/1/2020</td>\n",
              "      <td>NaN</td>\n",
              "      <td>หญิง</td>\n",
              "      <td>73.0</td>\n",
              "      <td>ปี</td>\n",
              "      <td>Thailand</td>\n",
              "      <td>นครปฐม</td>\n",
              "      <td>คนต่างชาติเดินทางมาจากต่างประเทศ</td>\n",
              "      <td>นครปฐม</td>\n",
              "      <td>เมือง</td>\n",
              "    </tr>\n",
              "    <tr>\n",
              "      <th>3</th>\n",
              "      <td>4.0</td>\n",
              "      <td>22/1/2020</td>\n",
              "      <td>NaN</td>\n",
              "      <td>ชาย</td>\n",
              "      <td>68.0</td>\n",
              "      <td>ปี</td>\n",
              "      <td>China</td>\n",
              "      <td>กรุงเทพมหานคร</td>\n",
              "      <td>คนต่างชาติเดินทางมาจากต่างประเทศ</td>\n",
              "      <td>กรุงเทพมหานคร</td>\n",
              "      <td>NaN</td>\n",
              "    </tr>\n",
              "    <tr>\n",
              "      <th>4</th>\n",
              "      <td>5.0</td>\n",
              "      <td>24/1/2020</td>\n",
              "      <td>NaN</td>\n",
              "      <td>หญิง</td>\n",
              "      <td>66.0</td>\n",
              "      <td>ปี</td>\n",
              "      <td>China</td>\n",
              "      <td>นนทบุรี</td>\n",
              "      <td>คนต่างชาติเดินทางมาจากต่างประเทศ</td>\n",
              "      <td>กรุงเทพมหานคร</td>\n",
              "      <td>NaN</td>\n",
              "    </tr>\n",
              "    <tr>\n",
              "      <th>5</th>\n",
              "      <td>6.0</td>\n",
              "      <td>25/1/2020</td>\n",
              "      <td>NaN</td>\n",
              "      <td>หญิง</td>\n",
              "      <td>33.0</td>\n",
              "      <td>ปี</td>\n",
              "      <td>China</td>\n",
              "      <td>กรุงเทพมหานคร</td>\n",
              "      <td>คนต่างชาติเดินทางมาจากต่างประเทศ</td>\n",
              "      <td>กรุงเทพมหานคร</td>\n",
              "      <td>NaN</td>\n",
              "    </tr>\n",
              "    <tr>\n",
              "      <th>6</th>\n",
              "      <td>7.0</td>\n",
              "      <td>26/1/2020</td>\n",
              "      <td>NaN</td>\n",
              "      <td>หญิง</td>\n",
              "      <td>57.0</td>\n",
              "      <td>ปี</td>\n",
              "      <td>China</td>\n",
              "      <td>กรุงเทพมหานคร</td>\n",
              "      <td>คนต่างชาติเดินทางมาจากต่างประเทศ</td>\n",
              "      <td>กรุงเทพมหานคร</td>\n",
              "      <td>NaN</td>\n",
              "    </tr>\n",
              "    <tr>\n",
              "      <th>7</th>\n",
              "      <td>8.0</td>\n",
              "      <td>26/1/2020</td>\n",
              "      <td>NaN</td>\n",
              "      <td>หญิง</td>\n",
              "      <td>73.0</td>\n",
              "      <td>ปี</td>\n",
              "      <td>China</td>\n",
              "      <td>ประจวบคีรีขันธ์</td>\n",
              "      <td>คนต่างชาติเดินทางมาจากต่างประเทศ</td>\n",
              "      <td>ประจวบคีรีขันธ์</td>\n",
              "      <td>หัวหิน</td>\n",
              "    </tr>\n",
              "    <tr>\n",
              "      <th>8</th>\n",
              "      <td>9.0</td>\n",
              "      <td>28/1/2020</td>\n",
              "      <td>NaN</td>\n",
              "      <td>ชาย</td>\n",
              "      <td>63.0</td>\n",
              "      <td>ปี</td>\n",
              "      <td>China</td>\n",
              "      <td>กรุงเทพมหานคร</td>\n",
              "      <td>คนต่างชาติเดินทางมาจากต่างประเทศ</td>\n",
              "      <td>กรุงเทพมหานคร</td>\n",
              "      <td>NaN</td>\n",
              "    </tr>\n",
              "    <tr>\n",
              "      <th>9</th>\n",
              "      <td>10.0</td>\n",
              "      <td>28/1/2020</td>\n",
              "      <td>NaN</td>\n",
              "      <td>หญิง</td>\n",
              "      <td>28.0</td>\n",
              "      <td>ปี</td>\n",
              "      <td>China</td>\n",
              "      <td>นนทบุรี</td>\n",
              "      <td>คนต่างชาติเดินทางมาจากต่างประเทศ</td>\n",
              "      <td>นนทบุรี</td>\n",
              "      <td>NaN</td>\n",
              "    </tr>\n",
              "    <tr>\n",
              "      <th>10</th>\n",
              "      <td>11.0</td>\n",
              "      <td>28/1/2020</td>\n",
              "      <td>NaN</td>\n",
              "      <td>ชาย</td>\n",
              "      <td>33.0</td>\n",
              "      <td>ปี</td>\n",
              "      <td>China</td>\n",
              "      <td>กรุงเทพมหานคร</td>\n",
              "      <td>สัมผัสใกล้ชิดกับผู้ป่วยยืนยันรายก่อนหน้านี้</td>\n",
              "      <td>กรุงเทพมหานคร</td>\n",
              "      <td>NaN</td>\n",
              "    </tr>\n",
              "    <tr>\n",
              "      <th>11</th>\n",
              "      <td>12.0</td>\n",
              "      <td>28/1/2020</td>\n",
              "      <td>NaN</td>\n",
              "      <td>ชาย</td>\n",
              "      <td>61.0</td>\n",
              "      <td>ปี</td>\n",
              "      <td>China</td>\n",
              "      <td>กรุงเทพมหานคร</td>\n",
              "      <td>สัมผัสใกล้ชิดกับผู้ป่วยยืนยันรายก่อนหน้านี้</td>\n",
              "      <td>กรุงเทพมหานคร</td>\n",
              "      <td>NaN</td>\n",
              "    </tr>\n",
              "    <tr>\n",
              "      <th>12</th>\n",
              "      <td>13.0</td>\n",
              "      <td>28/1/2020</td>\n",
              "      <td>NaN</td>\n",
              "      <td>ชาย</td>\n",
              "      <td>6.0</td>\n",
              "      <td>ปี</td>\n",
              "      <td>China</td>\n",
              "      <td>กรุงเทพมหานคร</td>\n",
              "      <td>สัมผัสใกล้ชิดกับผู้ป่วยยืนยันรายก่อนหน้านี้</td>\n",
              "      <td>กรุงเทพมหานคร</td>\n",
              "      <td>NaN</td>\n",
              "    </tr>\n",
              "    <tr>\n",
              "      <th>13</th>\n",
              "      <td>14.0</td>\n",
              "      <td>28/1/2020</td>\n",
              "      <td>NaN</td>\n",
              "      <td>หญิง</td>\n",
              "      <td>32.0</td>\n",
              "      <td>ปี</td>\n",
              "      <td>China</td>\n",
              "      <td>ภูเก็ต</td>\n",
              "      <td>คนต่างชาติเดินทางมาจากต่างประเทศ</td>\n",
              "      <td>ภูเก็ต</td>\n",
              "      <td>เมือง</td>\n",
              "    </tr>\n",
              "    <tr>\n",
              "      <th>14</th>\n",
              "      <td>15.0</td>\n",
              "      <td>31/1/2020</td>\n",
              "      <td>NaN</td>\n",
              "      <td>ชาย</td>\n",
              "      <td>56.0</td>\n",
              "      <td>ปี</td>\n",
              "      <td>China</td>\n",
              "      <td>กรุงเทพมหานคร</td>\n",
              "      <td>คนต่างชาติเดินทางมาจากต่างประเทศ</td>\n",
              "      <td>กรุงเทพมหานคร</td>\n",
              "      <td>NaN</td>\n",
              "    </tr>\n",
              "    <tr>\n",
              "      <th>15</th>\n",
              "      <td>16.0</td>\n",
              "      <td>31/1/2020</td>\n",
              "      <td>NaN</td>\n",
              "      <td>ชาย</td>\n",
              "      <td>50.0</td>\n",
              "      <td>ปี</td>\n",
              "      <td>Thailand</td>\n",
              "      <td>กรุงเทพมหานคร</td>\n",
              "      <td>อาชีพเสี่ยง เช่น ทำงานในสถานที่แออัด หรือทำงาน...</td>\n",
              "      <td>กรุงเทพมหานคร</td>\n",
              "      <td>NaN</td>\n",
              "    </tr>\n",
              "    <tr>\n",
              "      <th>16</th>\n",
              "      <td>17.0</td>\n",
              "      <td>31/1/2020</td>\n",
              "      <td>NaN</td>\n",
              "      <td>ชาย</td>\n",
              "      <td>28.0</td>\n",
              "      <td>ปี</td>\n",
              "      <td>China</td>\n",
              "      <td>เชียงใหม่</td>\n",
              "      <td>คนต่างชาติเดินทางมาจากต่างประเทศ</td>\n",
              "      <td>เชียงใหม่</td>\n",
              "      <td>หางดง</td>\n",
              "    </tr>\n",
              "    <tr>\n",
              "      <th>17</th>\n",
              "      <td>18.0</td>\n",
              "      <td>31/1/2020</td>\n",
              "      <td>NaN</td>\n",
              "      <td>ชาย</td>\n",
              "      <td>30.0</td>\n",
              "      <td>ปี</td>\n",
              "      <td>China</td>\n",
              "      <td>กรุงเทพมหานคร</td>\n",
              "      <td>คนต่างชาติเดินทางมาจากต่างประเทศ</td>\n",
              "      <td>กรุงเทพมหานคร</td>\n",
              "      <td>NaN</td>\n",
              "    </tr>\n",
              "    <tr>\n",
              "      <th>18</th>\n",
              "      <td>19.0</td>\n",
              "      <td>31/1/2020</td>\n",
              "      <td>NaN</td>\n",
              "      <td>ชาย</td>\n",
              "      <td>33.0</td>\n",
              "      <td>ปี</td>\n",
              "      <td>China</td>\n",
              "      <td>กรุงเทพมหานคร</td>\n",
              "      <td>คนต่างชาติเดินทางมาจากต่างประเทศ</td>\n",
              "      <td>กรุงเทพมหานคร</td>\n",
              "      <td>NaN</td>\n",
              "    </tr>\n",
              "    <tr>\n",
              "      <th>19</th>\n",
              "      <td>20.0</td>\n",
              "      <td>4/2/2020</td>\n",
              "      <td>NaN</td>\n",
              "      <td>หญิง</td>\n",
              "      <td>43.0</td>\n",
              "      <td>ปี</td>\n",
              "      <td>Thailand</td>\n",
              "      <td>กรุงเทพมหานคร</td>\n",
              "      <td>คนไทยเดินทางกลับจากต่างประเทศ</td>\n",
              "      <td>กรุงเทพมหานคร</td>\n",
              "      <td>NaN</td>\n",
              "    </tr>\n",
              "  </tbody>\n",
              "</table>\n",
              "</div>"
            ],
            "text/plain": [
              "     No. announce_date  ... province_of_onset district_of_onset\n",
              "0    1.0     12/1/2020  ...     กรุงเทพมหานคร               NaN\n",
              "1    2.0     17/1/2020  ...     กรุงเทพมหานคร               NaN\n",
              "2    3.0     22/1/2020  ...            นครปฐม             เมือง\n",
              "3    4.0     22/1/2020  ...     กรุงเทพมหานคร               NaN\n",
              "4    5.0     24/1/2020  ...     กรุงเทพมหานคร               NaN\n",
              "5    6.0     25/1/2020  ...     กรุงเทพมหานคร               NaN\n",
              "6    7.0     26/1/2020  ...     กรุงเทพมหานคร               NaN\n",
              "7    8.0     26/1/2020  ...   ประจวบคีรีขันธ์            หัวหิน\n",
              "8    9.0     28/1/2020  ...     กรุงเทพมหานคร               NaN\n",
              "9   10.0     28/1/2020  ...           นนทบุรี               NaN\n",
              "10  11.0     28/1/2020  ...     กรุงเทพมหานคร               NaN\n",
              "11  12.0     28/1/2020  ...     กรุงเทพมหานคร               NaN\n",
              "12  13.0     28/1/2020  ...     กรุงเทพมหานคร               NaN\n",
              "13  14.0     28/1/2020  ...            ภูเก็ต             เมือง\n",
              "14  15.0     31/1/2020  ...     กรุงเทพมหานคร               NaN\n",
              "15  16.0     31/1/2020  ...     กรุงเทพมหานคร               NaN\n",
              "16  17.0     31/1/2020  ...         เชียงใหม่             หางดง\n",
              "17  18.0     31/1/2020  ...     กรุงเทพมหานคร               NaN\n",
              "18  19.0     31/1/2020  ...     กรุงเทพมหานคร               NaN\n",
              "19  20.0      4/2/2020  ...     กรุงเทพมหานคร               NaN\n",
              "\n",
              "[20 rows x 11 columns]"
            ]
          },
          "metadata": {
            "tags": []
          },
          "execution_count": 44
        }
      ]
    },
    {
      "cell_type": "markdown",
      "metadata": {
        "id": "DAnSLClwctet"
      },
      "source": [
        "###Handling Missing Value 5 (แทนด้วย ค่ากลางของ samples ใน class เดียวกัน)"
      ]
    },
    {
      "cell_type": "code",
      "metadata": {
        "colab": {
          "base_uri": "https://localhost:8080/",
          "height": 527
        },
        "id": "stCn8xeicx_C",
        "outputId": "5442de10-4ca5-4ae8-b9fd-52b8d5b0cf92"
      },
      "source": [
        "data_cases2 = pd.read_csv(os.path.join(path,'confirmed-cases (5).csv'))\n",
        "data_cases2"
      ],
      "execution_count": 45,
      "outputs": [
        {
          "output_type": "execute_result",
          "data": {
            "text/html": [
              "<div>\n",
              "<style scoped>\n",
              "    .dataframe tbody tr th:only-of-type {\n",
              "        vertical-align: middle;\n",
              "    }\n",
              "\n",
              "    .dataframe tbody tr th {\n",
              "        vertical-align: top;\n",
              "    }\n",
              "\n",
              "    .dataframe thead th {\n",
              "        text-align: right;\n",
              "    }\n",
              "</style>\n",
              "<table border=\"1\" class=\"dataframe\">\n",
              "  <thead>\n",
              "    <tr style=\"text-align: right;\">\n",
              "      <th></th>\n",
              "      <th>No.</th>\n",
              "      <th>announce_date</th>\n",
              "      <th>Notified date</th>\n",
              "      <th>sex</th>\n",
              "      <th>age</th>\n",
              "      <th>Unit</th>\n",
              "      <th>nationality</th>\n",
              "      <th>province_of_isolation</th>\n",
              "      <th>risk</th>\n",
              "      <th>province_of_onset</th>\n",
              "      <th>district_of_onset</th>\n",
              "    </tr>\n",
              "  </thead>\n",
              "  <tbody>\n",
              "    <tr>\n",
              "      <th>0</th>\n",
              "      <td>1.0</td>\n",
              "      <td>12/1/2020</td>\n",
              "      <td>NaN</td>\n",
              "      <td>หญิง</td>\n",
              "      <td>61.0</td>\n",
              "      <td>ปี</td>\n",
              "      <td>China</td>\n",
              "      <td>กรุงเทพมหานคร</td>\n",
              "      <td>คนต่างชาติเดินทางมาจากต่างประเทศ</td>\n",
              "      <td>กรุงเทพมหานคร</td>\n",
              "      <td>NaN</td>\n",
              "    </tr>\n",
              "    <tr>\n",
              "      <th>1</th>\n",
              "      <td>2.0</td>\n",
              "      <td>17/1/2020</td>\n",
              "      <td>NaN</td>\n",
              "      <td>หญิง</td>\n",
              "      <td>74.0</td>\n",
              "      <td>ปี</td>\n",
              "      <td>China</td>\n",
              "      <td>กรุงเทพมหานคร</td>\n",
              "      <td>คนต่างชาติเดินทางมาจากต่างประเทศ</td>\n",
              "      <td>กรุงเทพมหานคร</td>\n",
              "      <td>NaN</td>\n",
              "    </tr>\n",
              "    <tr>\n",
              "      <th>2</th>\n",
              "      <td>3.0</td>\n",
              "      <td>22/1/2020</td>\n",
              "      <td>NaN</td>\n",
              "      <td>หญิง</td>\n",
              "      <td>73.0</td>\n",
              "      <td>ปี</td>\n",
              "      <td>Thailand</td>\n",
              "      <td>นครปฐม</td>\n",
              "      <td>คนต่างชาติเดินทางมาจากต่างประเทศ</td>\n",
              "      <td>นครปฐม</td>\n",
              "      <td>เมือง</td>\n",
              "    </tr>\n",
              "    <tr>\n",
              "      <th>3</th>\n",
              "      <td>4.0</td>\n",
              "      <td>22/1/2020</td>\n",
              "      <td>NaN</td>\n",
              "      <td>ชาย</td>\n",
              "      <td>68.0</td>\n",
              "      <td>ปี</td>\n",
              "      <td>China</td>\n",
              "      <td>กรุงเทพมหานคร</td>\n",
              "      <td>คนต่างชาติเดินทางมาจากต่างประเทศ</td>\n",
              "      <td>กรุงเทพมหานคร</td>\n",
              "      <td>NaN</td>\n",
              "    </tr>\n",
              "    <tr>\n",
              "      <th>4</th>\n",
              "      <td>5.0</td>\n",
              "      <td>24/1/2020</td>\n",
              "      <td>NaN</td>\n",
              "      <td>หญิง</td>\n",
              "      <td>66.0</td>\n",
              "      <td>ปี</td>\n",
              "      <td>China</td>\n",
              "      <td>นนทบุรี</td>\n",
              "      <td>คนต่างชาติเดินทางมาจากต่างประเทศ</td>\n",
              "      <td>กรุงเทพมหานคร</td>\n",
              "      <td>NaN</td>\n",
              "    </tr>\n",
              "    <tr>\n",
              "      <th>...</th>\n",
              "      <td>...</td>\n",
              "      <td>...</td>\n",
              "      <td>...</td>\n",
              "      <td>...</td>\n",
              "      <td>...</td>\n",
              "      <td>...</td>\n",
              "      <td>...</td>\n",
              "      <td>...</td>\n",
              "      <td>...</td>\n",
              "      <td>...</td>\n",
              "      <td>...</td>\n",
              "    </tr>\n",
              "    <tr>\n",
              "      <th>543301</th>\n",
              "      <td>543302.0</td>\n",
              "      <td>28/7/2021</td>\n",
              "      <td>27/7/2021</td>\n",
              "      <td>ชาย</td>\n",
              "      <td>39.0</td>\n",
              "      <td>ปี</td>\n",
              "      <td>NaN</td>\n",
              "      <td>สุพรรณบุรี</td>\n",
              "      <td>ทัณฑสถาน/เรือนจำ</td>\n",
              "      <td>สุพรรณบุรี</td>\n",
              "      <td>NaN</td>\n",
              "    </tr>\n",
              "    <tr>\n",
              "      <th>543302</th>\n",
              "      <td>543303.0</td>\n",
              "      <td>28/7/2021</td>\n",
              "      <td>27/7/2021</td>\n",
              "      <td>ชาย</td>\n",
              "      <td>37.0</td>\n",
              "      <td>ปี</td>\n",
              "      <td>NaN</td>\n",
              "      <td>สุพรรณบุรี</td>\n",
              "      <td>ทัณฑสถาน/เรือนจำ</td>\n",
              "      <td>สุพรรณบุรี</td>\n",
              "      <td>NaN</td>\n",
              "    </tr>\n",
              "    <tr>\n",
              "      <th>543303</th>\n",
              "      <td>543304.0</td>\n",
              "      <td>28/7/2021</td>\n",
              "      <td>27/7/2021</td>\n",
              "      <td>ชาย</td>\n",
              "      <td>28.0</td>\n",
              "      <td>ปี</td>\n",
              "      <td>NaN</td>\n",
              "      <td>สุพรรณบุรี</td>\n",
              "      <td>ทัณฑสถาน/เรือนจำ</td>\n",
              "      <td>สุพรรณบุรี</td>\n",
              "      <td>NaN</td>\n",
              "    </tr>\n",
              "    <tr>\n",
              "      <th>543304</th>\n",
              "      <td>543305.0</td>\n",
              "      <td>28/7/2021</td>\n",
              "      <td>27/7/2021</td>\n",
              "      <td>ชาย</td>\n",
              "      <td>26.0</td>\n",
              "      <td>ปี</td>\n",
              "      <td>NaN</td>\n",
              "      <td>ปัตตานี</td>\n",
              "      <td>ทัณฑสถาน/เรือนจำ</td>\n",
              "      <td>ปัตตานี</td>\n",
              "      <td>NaN</td>\n",
              "    </tr>\n",
              "    <tr>\n",
              "      <th>543305</th>\n",
              "      <td>NaN</td>\n",
              "      <td>NaN</td>\n",
              "      <td>NaN</td>\n",
              "      <td>NaN</td>\n",
              "      <td>NaN</td>\n",
              "      <td>NaN</td>\n",
              "      <td>NaN</td>\n",
              "      <td>NaN</td>\n",
              "      <td>NaN</td>\n",
              "      <td>NaN</td>\n",
              "      <td>NaN</td>\n",
              "    </tr>\n",
              "  </tbody>\n",
              "</table>\n",
              "<p>543306 rows × 11 columns</p>\n",
              "</div>"
            ],
            "text/plain": [
              "             No. announce_date  ... province_of_onset district_of_onset\n",
              "0            1.0     12/1/2020  ...     กรุงเทพมหานคร               NaN\n",
              "1            2.0     17/1/2020  ...     กรุงเทพมหานคร               NaN\n",
              "2            3.0     22/1/2020  ...            นครปฐม             เมือง\n",
              "3            4.0     22/1/2020  ...     กรุงเทพมหานคร               NaN\n",
              "4            5.0     24/1/2020  ...     กรุงเทพมหานคร               NaN\n",
              "...          ...           ...  ...               ...               ...\n",
              "543301  543302.0     28/7/2021  ...        สุพรรณบุรี               NaN\n",
              "543302  543303.0     28/7/2021  ...        สุพรรณบุรี               NaN\n",
              "543303  543304.0     28/7/2021  ...        สุพรรณบุรี               NaN\n",
              "543304  543305.0     28/7/2021  ...           ปัตตานี               NaN\n",
              "543305       NaN           NaN  ...               NaN               NaN\n",
              "\n",
              "[543306 rows x 11 columns]"
            ]
          },
          "metadata": {
            "tags": []
          },
          "execution_count": 45
        }
      ]
    },
    {
      "cell_type": "markdown",
      "metadata": {
        "id": "m7QyOJrfdEB2"
      },
      "source": [
        "###Select data by values [PD]"
      ]
    },
    {
      "cell_type": "markdown",
      "metadata": {
        "id": "YKFW-dZidHys"
      },
      "source": [
        "การเลือก record สามารถเลือกโดยใช้ list ของ boolean(ความยาวของ list เท่ากับ จำนวน record)\n",
        "\n",
        "ชื่อตาราง[list ของ boolean]\n",
        "\n",
        "สร้าง list ของ boolean"
      ]
    },
    {
      "cell_type": "code",
      "metadata": {
        "colab": {
          "base_uri": "https://localhost:8080/"
        },
        "id": "BpS0Mxaccw6C",
        "outputId": "cef66ebe-5c96-42fe-8342-332cc378158c"
      },
      "source": [
        "data_cases2['risk'] == 'ทัณฑสถาน/เรือนจำ'"
      ],
      "execution_count": 46,
      "outputs": [
        {
          "output_type": "execute_result",
          "data": {
            "text/plain": [
              "0         False\n",
              "1         False\n",
              "2         False\n",
              "3         False\n",
              "4         False\n",
              "          ...  \n",
              "543301     True\n",
              "543302     True\n",
              "543303     True\n",
              "543304     True\n",
              "543305    False\n",
              "Name: risk, Length: 543306, dtype: bool"
            ]
          },
          "metadata": {
            "tags": []
          },
          "execution_count": 46
        }
      ]
    },
    {
      "cell_type": "markdown",
      "metadata": {
        "id": "vGOrT4sQdNVN"
      },
      "source": [
        "นำ list ของ boolean มาเลือกค่าในตาราง"
      ]
    },
    {
      "cell_type": "code",
      "metadata": {
        "colab": {
          "base_uri": "https://localhost:8080/",
          "height": 614
        },
        "id": "paetxB1pdKVi",
        "outputId": "e3b3af80-0497-47cb-de17-721bf1f85fc4"
      },
      "source": [
        "data_cases2[data_cases2['risk'] == 'ทัณฑสถาน/เรือนจำ']"
      ],
      "execution_count": 47,
      "outputs": [
        {
          "output_type": "execute_result",
          "data": {
            "text/html": [
              "<div>\n",
              "<style scoped>\n",
              "    .dataframe tbody tr th:only-of-type {\n",
              "        vertical-align: middle;\n",
              "    }\n",
              "\n",
              "    .dataframe tbody tr th {\n",
              "        vertical-align: top;\n",
              "    }\n",
              "\n",
              "    .dataframe thead th {\n",
              "        text-align: right;\n",
              "    }\n",
              "</style>\n",
              "<table border=\"1\" class=\"dataframe\">\n",
              "  <thead>\n",
              "    <tr style=\"text-align: right;\">\n",
              "      <th></th>\n",
              "      <th>No.</th>\n",
              "      <th>announce_date</th>\n",
              "      <th>Notified date</th>\n",
              "      <th>sex</th>\n",
              "      <th>age</th>\n",
              "      <th>Unit</th>\n",
              "      <th>nationality</th>\n",
              "      <th>province_of_isolation</th>\n",
              "      <th>risk</th>\n",
              "      <th>province_of_onset</th>\n",
              "      <th>district_of_onset</th>\n",
              "    </tr>\n",
              "  </thead>\n",
              "  <tbody>\n",
              "    <tr>\n",
              "      <th>100018</th>\n",
              "      <td>100019.0</td>\n",
              "      <td>16/5/2021</td>\n",
              "      <td>15/5/2021</td>\n",
              "      <td>หญิง</td>\n",
              "      <td>26.0</td>\n",
              "      <td>ปี</td>\n",
              "      <td>Thailand</td>\n",
              "      <td>ฉะเชิงเทรา</td>\n",
              "      <td>ทัณฑสถาน/เรือนจำ</td>\n",
              "      <td>ฉะเชิงเทรา</td>\n",
              "      <td>เมืองฉะเชิงเทรา‎</td>\n",
              "    </tr>\n",
              "    <tr>\n",
              "      <th>100019</th>\n",
              "      <td>100020.0</td>\n",
              "      <td>16/5/2021</td>\n",
              "      <td>15/5/2021</td>\n",
              "      <td>หญิง</td>\n",
              "      <td>41.0</td>\n",
              "      <td>ปี</td>\n",
              "      <td>Thailand</td>\n",
              "      <td>ฉะเชิงเทรา</td>\n",
              "      <td>ทัณฑสถาน/เรือนจำ</td>\n",
              "      <td>ฉะเชิงเทรา</td>\n",
              "      <td>เมืองฉะเชิงเทรา‎</td>\n",
              "    </tr>\n",
              "    <tr>\n",
              "      <th>101468</th>\n",
              "      <td>101469.0</td>\n",
              "      <td>17/5/2021</td>\n",
              "      <td>16/5/2021</td>\n",
              "      <td>NaN</td>\n",
              "      <td>NaN</td>\n",
              "      <td>NaN</td>\n",
              "      <td>NaN</td>\n",
              "      <td>เชียงใหม่</td>\n",
              "      <td>ทัณฑสถาน/เรือนจำ</td>\n",
              "      <td>NaN</td>\n",
              "      <td>NaN</td>\n",
              "    </tr>\n",
              "    <tr>\n",
              "      <th>101469</th>\n",
              "      <td>101470.0</td>\n",
              "      <td>17/5/2021</td>\n",
              "      <td>16/5/2021</td>\n",
              "      <td>NaN</td>\n",
              "      <td>NaN</td>\n",
              "      <td>NaN</td>\n",
              "      <td>NaN</td>\n",
              "      <td>เชียงใหม่</td>\n",
              "      <td>ทัณฑสถาน/เรือนจำ</td>\n",
              "      <td>NaN</td>\n",
              "      <td>NaN</td>\n",
              "    </tr>\n",
              "    <tr>\n",
              "      <th>101470</th>\n",
              "      <td>101471.0</td>\n",
              "      <td>17/5/2021</td>\n",
              "      <td>16/5/2021</td>\n",
              "      <td>NaN</td>\n",
              "      <td>NaN</td>\n",
              "      <td>NaN</td>\n",
              "      <td>NaN</td>\n",
              "      <td>เชียงใหม่</td>\n",
              "      <td>ทัณฑสถาน/เรือนจำ</td>\n",
              "      <td>NaN</td>\n",
              "      <td>NaN</td>\n",
              "    </tr>\n",
              "    <tr>\n",
              "      <th>...</th>\n",
              "      <td>...</td>\n",
              "      <td>...</td>\n",
              "      <td>...</td>\n",
              "      <td>...</td>\n",
              "      <td>...</td>\n",
              "      <td>...</td>\n",
              "      <td>...</td>\n",
              "      <td>...</td>\n",
              "      <td>...</td>\n",
              "      <td>...</td>\n",
              "      <td>...</td>\n",
              "    </tr>\n",
              "    <tr>\n",
              "      <th>543300</th>\n",
              "      <td>543301.0</td>\n",
              "      <td>28/7/2021</td>\n",
              "      <td>27/7/2021</td>\n",
              "      <td>ชาย</td>\n",
              "      <td>38.0</td>\n",
              "      <td>ปี</td>\n",
              "      <td>NaN</td>\n",
              "      <td>สุพรรณบุรี</td>\n",
              "      <td>ทัณฑสถาน/เรือนจำ</td>\n",
              "      <td>สุพรรณบุรี</td>\n",
              "      <td>NaN</td>\n",
              "    </tr>\n",
              "    <tr>\n",
              "      <th>543301</th>\n",
              "      <td>543302.0</td>\n",
              "      <td>28/7/2021</td>\n",
              "      <td>27/7/2021</td>\n",
              "      <td>ชาย</td>\n",
              "      <td>39.0</td>\n",
              "      <td>ปี</td>\n",
              "      <td>NaN</td>\n",
              "      <td>สุพรรณบุรี</td>\n",
              "      <td>ทัณฑสถาน/เรือนจำ</td>\n",
              "      <td>สุพรรณบุรี</td>\n",
              "      <td>NaN</td>\n",
              "    </tr>\n",
              "    <tr>\n",
              "      <th>543302</th>\n",
              "      <td>543303.0</td>\n",
              "      <td>28/7/2021</td>\n",
              "      <td>27/7/2021</td>\n",
              "      <td>ชาย</td>\n",
              "      <td>37.0</td>\n",
              "      <td>ปี</td>\n",
              "      <td>NaN</td>\n",
              "      <td>สุพรรณบุรี</td>\n",
              "      <td>ทัณฑสถาน/เรือนจำ</td>\n",
              "      <td>สุพรรณบุรี</td>\n",
              "      <td>NaN</td>\n",
              "    </tr>\n",
              "    <tr>\n",
              "      <th>543303</th>\n",
              "      <td>543304.0</td>\n",
              "      <td>28/7/2021</td>\n",
              "      <td>27/7/2021</td>\n",
              "      <td>ชาย</td>\n",
              "      <td>28.0</td>\n",
              "      <td>ปี</td>\n",
              "      <td>NaN</td>\n",
              "      <td>สุพรรณบุรี</td>\n",
              "      <td>ทัณฑสถาน/เรือนจำ</td>\n",
              "      <td>สุพรรณบุรี</td>\n",
              "      <td>NaN</td>\n",
              "    </tr>\n",
              "    <tr>\n",
              "      <th>543304</th>\n",
              "      <td>543305.0</td>\n",
              "      <td>28/7/2021</td>\n",
              "      <td>27/7/2021</td>\n",
              "      <td>ชาย</td>\n",
              "      <td>26.0</td>\n",
              "      <td>ปี</td>\n",
              "      <td>NaN</td>\n",
              "      <td>ปัตตานี</td>\n",
              "      <td>ทัณฑสถาน/เรือนจำ</td>\n",
              "      <td>ปัตตานี</td>\n",
              "      <td>NaN</td>\n",
              "    </tr>\n",
              "  </tbody>\n",
              "</table>\n",
              "<p>41778 rows × 11 columns</p>\n",
              "</div>"
            ],
            "text/plain": [
              "             No. announce_date  ... province_of_onset district_of_onset\n",
              "100018  100019.0     16/5/2021  ...        ฉะเชิงเทรา  เมืองฉะเชิงเทรา‎\n",
              "100019  100020.0     16/5/2021  ...        ฉะเชิงเทรา  เมืองฉะเชิงเทรา‎\n",
              "101468  101469.0     17/5/2021  ...               NaN               NaN\n",
              "101469  101470.0     17/5/2021  ...               NaN               NaN\n",
              "101470  101471.0     17/5/2021  ...               NaN               NaN\n",
              "...          ...           ...  ...               ...               ...\n",
              "543300  543301.0     28/7/2021  ...        สุพรรณบุรี               NaN\n",
              "543301  543302.0     28/7/2021  ...        สุพรรณบุรี               NaN\n",
              "543302  543303.0     28/7/2021  ...        สุพรรณบุรี               NaN\n",
              "543303  543304.0     28/7/2021  ...        สุพรรณบุรี               NaN\n",
              "543304  543305.0     28/7/2021  ...           ปัตตานี               NaN\n",
              "\n",
              "[41778 rows x 11 columns]"
            ]
          },
          "metadata": {
            "tags": []
          },
          "execution_count": 47
        }
      ]
    },
    {
      "cell_type": "markdown",
      "metadata": {
        "id": "dvLQowJpdSGn"
      },
      "source": [
        "สร้าง list ของ boolean"
      ]
    },
    {
      "cell_type": "code",
      "metadata": {
        "colab": {
          "base_uri": "https://localhost:8080/"
        },
        "id": "vLiTxT56dTwe",
        "outputId": "945da4d4-ff42-4a42-fdc1-a8e1248aa845"
      },
      "source": [
        "data_cases2['age'] > 70"
      ],
      "execution_count": 48,
      "outputs": [
        {
          "output_type": "execute_result",
          "data": {
            "text/plain": [
              "0         False\n",
              "1          True\n",
              "2          True\n",
              "3         False\n",
              "4         False\n",
              "          ...  \n",
              "543301    False\n",
              "543302    False\n",
              "543303    False\n",
              "543304    False\n",
              "543305    False\n",
              "Name: age, Length: 543306, dtype: bool"
            ]
          },
          "metadata": {
            "tags": []
          },
          "execution_count": 48
        }
      ]
    },
    {
      "cell_type": "markdown",
      "metadata": {
        "id": "Md70_IyldWJ1"
      },
      "source": [
        "เลือก"
      ]
    },
    {
      "cell_type": "code",
      "metadata": {
        "colab": {
          "base_uri": "https://localhost:8080/",
          "height": 597
        },
        "id": "5s5e0cCtdYLU",
        "outputId": "d619f25a-65b5-4f52-dcf4-72a0fd3423f1"
      },
      "source": [
        "data_cases2[data_cases2['age'] > 70]"
      ],
      "execution_count": 49,
      "outputs": [
        {
          "output_type": "execute_result",
          "data": {
            "text/html": [
              "<div>\n",
              "<style scoped>\n",
              "    .dataframe tbody tr th:only-of-type {\n",
              "        vertical-align: middle;\n",
              "    }\n",
              "\n",
              "    .dataframe tbody tr th {\n",
              "        vertical-align: top;\n",
              "    }\n",
              "\n",
              "    .dataframe thead th {\n",
              "        text-align: right;\n",
              "    }\n",
              "</style>\n",
              "<table border=\"1\" class=\"dataframe\">\n",
              "  <thead>\n",
              "    <tr style=\"text-align: right;\">\n",
              "      <th></th>\n",
              "      <th>No.</th>\n",
              "      <th>announce_date</th>\n",
              "      <th>Notified date</th>\n",
              "      <th>sex</th>\n",
              "      <th>age</th>\n",
              "      <th>Unit</th>\n",
              "      <th>nationality</th>\n",
              "      <th>province_of_isolation</th>\n",
              "      <th>risk</th>\n",
              "      <th>province_of_onset</th>\n",
              "      <th>district_of_onset</th>\n",
              "    </tr>\n",
              "  </thead>\n",
              "  <tbody>\n",
              "    <tr>\n",
              "      <th>1</th>\n",
              "      <td>2.0</td>\n",
              "      <td>17/1/2020</td>\n",
              "      <td>NaN</td>\n",
              "      <td>หญิง</td>\n",
              "      <td>74.0</td>\n",
              "      <td>ปี</td>\n",
              "      <td>China</td>\n",
              "      <td>กรุงเทพมหานคร</td>\n",
              "      <td>คนต่างชาติเดินทางมาจากต่างประเทศ</td>\n",
              "      <td>กรุงเทพมหานคร</td>\n",
              "      <td>NaN</td>\n",
              "    </tr>\n",
              "    <tr>\n",
              "      <th>2</th>\n",
              "      <td>3.0</td>\n",
              "      <td>22/1/2020</td>\n",
              "      <td>NaN</td>\n",
              "      <td>หญิง</td>\n",
              "      <td>73.0</td>\n",
              "      <td>ปี</td>\n",
              "      <td>Thailand</td>\n",
              "      <td>นครปฐม</td>\n",
              "      <td>คนต่างชาติเดินทางมาจากต่างประเทศ</td>\n",
              "      <td>นครปฐม</td>\n",
              "      <td>เมือง</td>\n",
              "    </tr>\n",
              "    <tr>\n",
              "      <th>7</th>\n",
              "      <td>8.0</td>\n",
              "      <td>26/1/2020</td>\n",
              "      <td>NaN</td>\n",
              "      <td>หญิง</td>\n",
              "      <td>73.0</td>\n",
              "      <td>ปี</td>\n",
              "      <td>China</td>\n",
              "      <td>ประจวบคีรีขันธ์</td>\n",
              "      <td>คนต่างชาติเดินทางมาจากต่างประเทศ</td>\n",
              "      <td>ประจวบคีรีขันธ์</td>\n",
              "      <td>หัวหิน</td>\n",
              "    </tr>\n",
              "    <tr>\n",
              "      <th>82</th>\n",
              "      <td>83.0</td>\n",
              "      <td>15/3/2020</td>\n",
              "      <td>NaN</td>\n",
              "      <td>ชาย</td>\n",
              "      <td>76.0</td>\n",
              "      <td>ปี</td>\n",
              "      <td>Thailand</td>\n",
              "      <td>กรุงเทพมหานคร</td>\n",
              "      <td>สนามมวย</td>\n",
              "      <td>กรุงเทพมหานคร</td>\n",
              "      <td>NaN</td>\n",
              "    </tr>\n",
              "    <tr>\n",
              "      <th>119</th>\n",
              "      <td>120.0</td>\n",
              "      <td>16/3/2020</td>\n",
              "      <td>NaN</td>\n",
              "      <td>ชาย</td>\n",
              "      <td>73.0</td>\n",
              "      <td>ปี</td>\n",
              "      <td>Thailand</td>\n",
              "      <td>กรุงเทพมหานคร</td>\n",
              "      <td>สนามมวย</td>\n",
              "      <td>ฉะเชิงเทรา</td>\n",
              "      <td>NaN</td>\n",
              "    </tr>\n",
              "    <tr>\n",
              "      <th>...</th>\n",
              "      <td>...</td>\n",
              "      <td>...</td>\n",
              "      <td>...</td>\n",
              "      <td>...</td>\n",
              "      <td>...</td>\n",
              "      <td>...</td>\n",
              "      <td>...</td>\n",
              "      <td>...</td>\n",
              "      <td>...</td>\n",
              "      <td>...</td>\n",
              "      <td>...</td>\n",
              "    </tr>\n",
              "    <tr>\n",
              "      <th>543095</th>\n",
              "      <td>543096.0</td>\n",
              "      <td>28/7/2021</td>\n",
              "      <td>27/7/2021</td>\n",
              "      <td>หญิง</td>\n",
              "      <td>74.0</td>\n",
              "      <td>ปี</td>\n",
              "      <td>Thailand</td>\n",
              "      <td>กรุงเทพมหานคร</td>\n",
              "      <td>สัมผัสใกล้ชิดกับผู้ป่วยยืนยันรายก่อนหน้านี้</td>\n",
              "      <td>กรุงเทพมหานคร</td>\n",
              "      <td>จอมทอง</td>\n",
              "    </tr>\n",
              "    <tr>\n",
              "      <th>543101</th>\n",
              "      <td>543102.0</td>\n",
              "      <td>28/7/2021</td>\n",
              "      <td>27/7/2021</td>\n",
              "      <td>ชาย</td>\n",
              "      <td>73.0</td>\n",
              "      <td>ปี</td>\n",
              "      <td>Thailand</td>\n",
              "      <td>กรุงเทพมหานคร</td>\n",
              "      <td>สัมผัสใกล้ชิดกับผู้ป่วยยืนยันรายก่อนหน้านี้</td>\n",
              "      <td>กรุงเทพมหานคร</td>\n",
              "      <td>ราษฎร์บูรณะ</td>\n",
              "    </tr>\n",
              "    <tr>\n",
              "      <th>543102</th>\n",
              "      <td>543103.0</td>\n",
              "      <td>28/7/2021</td>\n",
              "      <td>27/7/2021</td>\n",
              "      <td>หญิง</td>\n",
              "      <td>106.0</td>\n",
              "      <td>ปี</td>\n",
              "      <td>Thailand</td>\n",
              "      <td>กรุงเทพมหานคร</td>\n",
              "      <td>สัมผัสใกล้ชิดกับผู้ป่วยยืนยันรายก่อนหน้านี้</td>\n",
              "      <td>กรุงเทพมหานคร</td>\n",
              "      <td>ประเวศ</td>\n",
              "    </tr>\n",
              "    <tr>\n",
              "      <th>543270</th>\n",
              "      <td>543271.0</td>\n",
              "      <td>28/7/2021</td>\n",
              "      <td>27/7/2021</td>\n",
              "      <td>ชาย</td>\n",
              "      <td>78.0</td>\n",
              "      <td>ปี</td>\n",
              "      <td>NaN</td>\n",
              "      <td>สุพรรณบุรี</td>\n",
              "      <td>ทัณฑสถาน/เรือนจำ</td>\n",
              "      <td>สุพรรณบุรี</td>\n",
              "      <td>NaN</td>\n",
              "    </tr>\n",
              "    <tr>\n",
              "      <th>543272</th>\n",
              "      <td>543273.0</td>\n",
              "      <td>28/7/2021</td>\n",
              "      <td>27/7/2021</td>\n",
              "      <td>ชาย</td>\n",
              "      <td>72.0</td>\n",
              "      <td>ปี</td>\n",
              "      <td>NaN</td>\n",
              "      <td>สุพรรณบุรี</td>\n",
              "      <td>ทัณฑสถาน/เรือนจำ</td>\n",
              "      <td>สุพรรณบุรี</td>\n",
              "      <td>NaN</td>\n",
              "    </tr>\n",
              "  </tbody>\n",
              "</table>\n",
              "<p>12344 rows × 11 columns</p>\n",
              "</div>"
            ],
            "text/plain": [
              "             No. announce_date  ... province_of_onset district_of_onset\n",
              "1            2.0     17/1/2020  ...     กรุงเทพมหานคร               NaN\n",
              "2            3.0     22/1/2020  ...            นครปฐม             เมือง\n",
              "7            8.0     26/1/2020  ...   ประจวบคีรีขันธ์            หัวหิน\n",
              "82          83.0     15/3/2020  ...     กรุงเทพมหานคร               NaN\n",
              "119        120.0     16/3/2020  ...        ฉะเชิงเทรา               NaN\n",
              "...          ...           ...  ...               ...               ...\n",
              "543095  543096.0     28/7/2021  ...     กรุงเทพมหานคร            จอมทอง\n",
              "543101  543102.0     28/7/2021  ...     กรุงเทพมหานคร       ราษฎร์บูรณะ\n",
              "543102  543103.0     28/7/2021  ...     กรุงเทพมหานคร            ประเวศ\n",
              "543270  543271.0     28/7/2021  ...        สุพรรณบุรี               NaN\n",
              "543272  543273.0     28/7/2021  ...        สุพรรณบุรี               NaN\n",
              "\n",
              "[12344 rows x 11 columns]"
            ]
          },
          "metadata": {
            "tags": []
          },
          "execution_count": 49
        }
      ]
    },
    {
      "cell_type": "code",
      "metadata": {
        "id": "clHq9XRCdaTM"
      },
      "source": [
        "blist_age70up = data_cases2['age'] > 70"
      ],
      "execution_count": 50,
      "outputs": []
    },
    {
      "cell_type": "code",
      "metadata": {
        "colab": {
          "base_uri": "https://localhost:8080/"
        },
        "id": "sRpoRviIdayg",
        "outputId": "aca4b545-769a-40d1-9e2b-3448c9d50468"
      },
      "source": [
        "blist_female = data_cases2['sex'] == 'หญิง'\n",
        "blist_female"
      ],
      "execution_count": 51,
      "outputs": [
        {
          "output_type": "execute_result",
          "data": {
            "text/plain": [
              "0          True\n",
              "1          True\n",
              "2          True\n",
              "3         False\n",
              "4          True\n",
              "          ...  \n",
              "543301    False\n",
              "543302    False\n",
              "543303    False\n",
              "543304    False\n",
              "543305    False\n",
              "Name: sex, Length: 543306, dtype: bool"
            ]
          },
          "metadata": {
            "tags": []
          },
          "execution_count": 51
        }
      ]
    },
    {
      "cell_type": "markdown",
      "metadata": {
        "id": "fuI3Q-yPdef-"
      },
      "source": [
        "เราใช้ & (and) และ | (or) ในการรวม list ของ boolean"
      ]
    },
    {
      "cell_type": "code",
      "metadata": {
        "colab": {
          "base_uri": "https://localhost:8080/"
        },
        "id": "_GFCxvrsdcXy",
        "outputId": "ec0160bf-c5b2-40de-e6f3-ec77c7a1a332"
      },
      "source": [
        "blist_age70up & blist_female\n"
      ],
      "execution_count": 52,
      "outputs": [
        {
          "output_type": "execute_result",
          "data": {
            "text/plain": [
              "0         False\n",
              "1          True\n",
              "2          True\n",
              "3         False\n",
              "4         False\n",
              "          ...  \n",
              "543301    False\n",
              "543302    False\n",
              "543303    False\n",
              "543304    False\n",
              "543305    False\n",
              "Length: 543306, dtype: bool"
            ]
          },
          "metadata": {
            "tags": []
          },
          "execution_count": 52
        }
      ]
    },
    {
      "cell_type": "code",
      "metadata": {
        "colab": {
          "base_uri": "https://localhost:8080/",
          "height": 787
        },
        "id": "iv2cjpCWdiZ6",
        "outputId": "9f78418c-219f-4aa0-f0cf-f0b4d0b4e5d0"
      },
      "source": [
        "data_cases2[blist_age70up & blist_female]"
      ],
      "execution_count": 55,
      "outputs": [
        {
          "output_type": "execute_result",
          "data": {
            "text/html": [
              "<div>\n",
              "<style scoped>\n",
              "    .dataframe tbody tr th:only-of-type {\n",
              "        vertical-align: middle;\n",
              "    }\n",
              "\n",
              "    .dataframe tbody tr th {\n",
              "        vertical-align: top;\n",
              "    }\n",
              "\n",
              "    .dataframe thead th {\n",
              "        text-align: right;\n",
              "    }\n",
              "</style>\n",
              "<table border=\"1\" class=\"dataframe\">\n",
              "  <thead>\n",
              "    <tr style=\"text-align: right;\">\n",
              "      <th></th>\n",
              "      <th>No.</th>\n",
              "      <th>announce_date</th>\n",
              "      <th>Notified date</th>\n",
              "      <th>sex</th>\n",
              "      <th>age</th>\n",
              "      <th>Unit</th>\n",
              "      <th>nationality</th>\n",
              "      <th>province_of_isolation</th>\n",
              "      <th>risk</th>\n",
              "      <th>province_of_onset</th>\n",
              "      <th>district_of_onset</th>\n",
              "    </tr>\n",
              "  </thead>\n",
              "  <tbody>\n",
              "    <tr>\n",
              "      <th>1</th>\n",
              "      <td>2.0</td>\n",
              "      <td>17/1/2020</td>\n",
              "      <td>NaN</td>\n",
              "      <td>หญิง</td>\n",
              "      <td>74.0</td>\n",
              "      <td>ปี</td>\n",
              "      <td>China</td>\n",
              "      <td>กรุงเทพมหานคร</td>\n",
              "      <td>คนต่างชาติเดินทางมาจากต่างประเทศ</td>\n",
              "      <td>กรุงเทพมหานคร</td>\n",
              "      <td>NaN</td>\n",
              "    </tr>\n",
              "    <tr>\n",
              "      <th>2</th>\n",
              "      <td>3.0</td>\n",
              "      <td>22/1/2020</td>\n",
              "      <td>NaN</td>\n",
              "      <td>หญิง</td>\n",
              "      <td>73.0</td>\n",
              "      <td>ปี</td>\n",
              "      <td>Thailand</td>\n",
              "      <td>นครปฐม</td>\n",
              "      <td>คนต่างชาติเดินทางมาจากต่างประเทศ</td>\n",
              "      <td>นครปฐม</td>\n",
              "      <td>เมือง</td>\n",
              "    </tr>\n",
              "    <tr>\n",
              "      <th>7</th>\n",
              "      <td>8.0</td>\n",
              "      <td>26/1/2020</td>\n",
              "      <td>NaN</td>\n",
              "      <td>หญิง</td>\n",
              "      <td>73.0</td>\n",
              "      <td>ปี</td>\n",
              "      <td>China</td>\n",
              "      <td>ประจวบคีรีขันธ์</td>\n",
              "      <td>คนต่างชาติเดินทางมาจากต่างประเทศ</td>\n",
              "      <td>ประจวบคีรีขันธ์</td>\n",
              "      <td>หัวหิน</td>\n",
              "    </tr>\n",
              "    <tr>\n",
              "      <th>476</th>\n",
              "      <td>477.0</td>\n",
              "      <td>22/3/2020</td>\n",
              "      <td>21/3/2020</td>\n",
              "      <td>หญิง</td>\n",
              "      <td>72.0</td>\n",
              "      <td>ปี</td>\n",
              "      <td>Thailand</td>\n",
              "      <td>กรุงเทพมหานคร</td>\n",
              "      <td>สัมผัสใกล้ชิดกับผู้ป่วยยืนยันรายก่อนหน้านี้</td>\n",
              "      <td>กรุงเทพมหานคร</td>\n",
              "      <td>ภาษีเจริญ</td>\n",
              "    </tr>\n",
              "    <tr>\n",
              "      <th>564</th>\n",
              "      <td>565.0</td>\n",
              "      <td>22/3/2020</td>\n",
              "      <td>21/3/2020</td>\n",
              "      <td>หญิง</td>\n",
              "      <td>71.0</td>\n",
              "      <td>ปี</td>\n",
              "      <td>Thailand</td>\n",
              "      <td>นนทบุรี</td>\n",
              "      <td>สัมผัสใกล้ชิดกับผู้ป่วยยืนยันรายก่อนหน้านี้</td>\n",
              "      <td>นนทบุรี</td>\n",
              "      <td>NaN</td>\n",
              "    </tr>\n",
              "    <tr>\n",
              "      <th>...</th>\n",
              "      <td>...</td>\n",
              "      <td>...</td>\n",
              "      <td>...</td>\n",
              "      <td>...</td>\n",
              "      <td>...</td>\n",
              "      <td>...</td>\n",
              "      <td>...</td>\n",
              "      <td>...</td>\n",
              "      <td>...</td>\n",
              "      <td>...</td>\n",
              "      <td>...</td>\n",
              "    </tr>\n",
              "    <tr>\n",
              "      <th>543054</th>\n",
              "      <td>543055.0</td>\n",
              "      <td>28/7/2021</td>\n",
              "      <td>27/7/2021</td>\n",
              "      <td>หญิง</td>\n",
              "      <td>79.0</td>\n",
              "      <td>ปี</td>\n",
              "      <td>Thailand</td>\n",
              "      <td>กรุงเทพมหานคร</td>\n",
              "      <td>สัมผัสใกล้ชิดกับผู้ป่วยยืนยันรายก่อนหน้านี้</td>\n",
              "      <td>กรุงเทพมหานคร</td>\n",
              "      <td>ประเวศ</td>\n",
              "    </tr>\n",
              "    <tr>\n",
              "      <th>543086</th>\n",
              "      <td>543087.0</td>\n",
              "      <td>28/7/2021</td>\n",
              "      <td>27/7/2021</td>\n",
              "      <td>หญิง</td>\n",
              "      <td>84.0</td>\n",
              "      <td>ปี</td>\n",
              "      <td>Thailand</td>\n",
              "      <td>กรุงเทพมหานคร</td>\n",
              "      <td>สัมผัสใกล้ชิดกับผู้ป่วยยืนยันรายก่อนหน้านี้</td>\n",
              "      <td>กรุงเทพมหานคร</td>\n",
              "      <td>บางบอน</td>\n",
              "    </tr>\n",
              "    <tr>\n",
              "      <th>543088</th>\n",
              "      <td>543089.0</td>\n",
              "      <td>28/7/2021</td>\n",
              "      <td>27/7/2021</td>\n",
              "      <td>หญิง</td>\n",
              "      <td>75.0</td>\n",
              "      <td>ปี</td>\n",
              "      <td>Thailand</td>\n",
              "      <td>กรุงเทพมหานคร</td>\n",
              "      <td>สัมผัสใกล้ชิดกับผู้ป่วยยืนยันรายก่อนหน้านี้</td>\n",
              "      <td>กรุงเทพมหานคร</td>\n",
              "      <td>ลาดพร้าว</td>\n",
              "    </tr>\n",
              "    <tr>\n",
              "      <th>543095</th>\n",
              "      <td>543096.0</td>\n",
              "      <td>28/7/2021</td>\n",
              "      <td>27/7/2021</td>\n",
              "      <td>หญิง</td>\n",
              "      <td>74.0</td>\n",
              "      <td>ปี</td>\n",
              "      <td>Thailand</td>\n",
              "      <td>กรุงเทพมหานคร</td>\n",
              "      <td>สัมผัสใกล้ชิดกับผู้ป่วยยืนยันรายก่อนหน้านี้</td>\n",
              "      <td>กรุงเทพมหานคร</td>\n",
              "      <td>จอมทอง</td>\n",
              "    </tr>\n",
              "    <tr>\n",
              "      <th>543102</th>\n",
              "      <td>543103.0</td>\n",
              "      <td>28/7/2021</td>\n",
              "      <td>27/7/2021</td>\n",
              "      <td>หญิง</td>\n",
              "      <td>106.0</td>\n",
              "      <td>ปี</td>\n",
              "      <td>Thailand</td>\n",
              "      <td>กรุงเทพมหานคร</td>\n",
              "      <td>สัมผัสใกล้ชิดกับผู้ป่วยยืนยันรายก่อนหน้านี้</td>\n",
              "      <td>กรุงเทพมหานคร</td>\n",
              "      <td>ประเวศ</td>\n",
              "    </tr>\n",
              "  </tbody>\n",
              "</table>\n",
              "<p>6739 rows × 11 columns</p>\n",
              "</div>"
            ],
            "text/plain": [
              "             No. announce_date  ... province_of_onset district_of_onset\n",
              "1            2.0     17/1/2020  ...     กรุงเทพมหานคร               NaN\n",
              "2            3.0     22/1/2020  ...            นครปฐม             เมือง\n",
              "7            8.0     26/1/2020  ...   ประจวบคีรีขันธ์            หัวหิน\n",
              "476        477.0     22/3/2020  ...     กรุงเทพมหานคร         ภาษีเจริญ\n",
              "564        565.0     22/3/2020  ...           นนทบุรี               NaN\n",
              "...          ...           ...  ...               ...               ...\n",
              "543054  543055.0     28/7/2021  ...     กรุงเทพมหานคร            ประเวศ\n",
              "543086  543087.0     28/7/2021  ...     กรุงเทพมหานคร            บางบอน\n",
              "543088  543089.0     28/7/2021  ...     กรุงเทพมหานคร          ลาดพร้าว\n",
              "543095  543096.0     28/7/2021  ...     กรุงเทพมหานคร            จอมทอง\n",
              "543102  543103.0     28/7/2021  ...     กรุงเทพมหานคร            ประเวศ\n",
              "\n",
              "[6739 rows x 11 columns]"
            ]
          },
          "metadata": {
            "tags": []
          },
          "execution_count": 55
        }
      ]
    },
    {
      "cell_type": "markdown",
      "metadata": {
        "id": "3JyW5F2MdoS8"
      },
      "source": [
        "Quiz 4 + HW\n",
        "หา records ต่อไปนี้\n",
        "\n",
        " 1.  records ที่ กักตัวที่ขอนแก่น\n",
        " 2.  records ที่ กักตัวที่ ขอนแก่น+โคราช+อุดร\n",
        " 3.  records ที่ เป็นผู้หญิงที่พบเชื้อที่ กทม\n",
        " 4.  records ที่ เป็นผู้ชาย อายุ 18-22 ปี ที่กักตัวที่เชียงใหม่\n",
        " 5.  หาอายุเฉลี่ยของคนที่พบเชื้อที่ ขอนแก่น"
      ]
    },
    {
      "cell_type": "markdown",
      "metadata": {
        "id": "vvZsMj-tQpQy"
      },
      "source": [
        "1"
      ]
    },
    {
      "cell_type": "code",
      "metadata": {
        "id": "dVbRucefQn2l",
        "outputId": "ce6f9347-6b1a-4bde-f12e-b8e3ee6994f3",
        "colab": {
          "base_uri": "https://localhost:8080/",
          "height": 683
        }
      },
      "source": [
        "data_cases2[data_cases2['province_of_isolation']=='ขอนแก่น']"
      ],
      "execution_count": 57,
      "outputs": [
        {
          "output_type": "execute_result",
          "data": {
            "text/html": [
              "<div>\n",
              "<style scoped>\n",
              "    .dataframe tbody tr th:only-of-type {\n",
              "        vertical-align: middle;\n",
              "    }\n",
              "\n",
              "    .dataframe tbody tr th {\n",
              "        vertical-align: top;\n",
              "    }\n",
              "\n",
              "    .dataframe thead th {\n",
              "        text-align: right;\n",
              "    }\n",
              "</style>\n",
              "<table border=\"1\" class=\"dataframe\">\n",
              "  <thead>\n",
              "    <tr style=\"text-align: right;\">\n",
              "      <th></th>\n",
              "      <th>No.</th>\n",
              "      <th>announce_date</th>\n",
              "      <th>Notified date</th>\n",
              "      <th>sex</th>\n",
              "      <th>age</th>\n",
              "      <th>Unit</th>\n",
              "      <th>nationality</th>\n",
              "      <th>province_of_isolation</th>\n",
              "      <th>risk</th>\n",
              "      <th>province_of_onset</th>\n",
              "      <th>district_of_onset</th>\n",
              "    </tr>\n",
              "  </thead>\n",
              "  <tbody>\n",
              "    <tr>\n",
              "      <th>181</th>\n",
              "      <td>182.0</td>\n",
              "      <td>18/3/2020</td>\n",
              "      <td>15/3/2020</td>\n",
              "      <td>ชาย</td>\n",
              "      <td>33.0</td>\n",
              "      <td>ปี</td>\n",
              "      <td>Thailand</td>\n",
              "      <td>ขอนแก่น</td>\n",
              "      <td>สนามมวย</td>\n",
              "      <td>ขอนแก่น</td>\n",
              "      <td>เมือง</td>\n",
              "    </tr>\n",
              "    <tr>\n",
              "      <th>463</th>\n",
              "      <td>464.0</td>\n",
              "      <td>22/3/2020</td>\n",
              "      <td>21/3/2020</td>\n",
              "      <td>หญิง</td>\n",
              "      <td>36.0</td>\n",
              "      <td>ปี</td>\n",
              "      <td>Thailand</td>\n",
              "      <td>ขอนแก่น</td>\n",
              "      <td>สัมผัสใกล้ชิดกับผู้ป่วยยืนยันรายก่อนหน้านี้</td>\n",
              "      <td>ขอนแก่น</td>\n",
              "      <td>เมือง</td>\n",
              "    </tr>\n",
              "    <tr>\n",
              "      <th>1467</th>\n",
              "      <td>1468.0</td>\n",
              "      <td>30/3/2020</td>\n",
              "      <td>26/3/2020</td>\n",
              "      <td>ชาย</td>\n",
              "      <td>19.0</td>\n",
              "      <td>ปี</td>\n",
              "      <td>Thailand</td>\n",
              "      <td>ขอนแก่น</td>\n",
              "      <td>คนไทยเดินทางกลับจากต่างประเทศ</td>\n",
              "      <td>ขอนแก่น</td>\n",
              "      <td>เมือง</td>\n",
              "    </tr>\n",
              "    <tr>\n",
              "      <th>1971</th>\n",
              "      <td>1972.0</td>\n",
              "      <td>3/4/2020</td>\n",
              "      <td>31/3/2020</td>\n",
              "      <td>หญิง</td>\n",
              "      <td>70.0</td>\n",
              "      <td>ปี</td>\n",
              "      <td>Thailand</td>\n",
              "      <td>ขอนแก่น</td>\n",
              "      <td>ไปสถานที่ชุมชน เช่น ตลาดนัด สถานที่ท่องเที่ยว</td>\n",
              "      <td>ขอนแก่น</td>\n",
              "      <td>เมือง</td>\n",
              "    </tr>\n",
              "    <tr>\n",
              "      <th>2638</th>\n",
              "      <td>2639.0</td>\n",
              "      <td>15/4/2020</td>\n",
              "      <td>14/4/2020</td>\n",
              "      <td>หญิง</td>\n",
              "      <td>63.0</td>\n",
              "      <td>ปี</td>\n",
              "      <td>Thailand</td>\n",
              "      <td>ขอนแก่น</td>\n",
              "      <td>สัมผัสผู้เดินทางจากต่างประเทศ</td>\n",
              "      <td>ขอนแก่น</td>\n",
              "      <td>น้ำพอง</td>\n",
              "    </tr>\n",
              "    <tr>\n",
              "      <th>...</th>\n",
              "      <td>...</td>\n",
              "      <td>...</td>\n",
              "      <td>...</td>\n",
              "      <td>...</td>\n",
              "      <td>...</td>\n",
              "      <td>...</td>\n",
              "      <td>...</td>\n",
              "      <td>...</td>\n",
              "      <td>...</td>\n",
              "      <td>...</td>\n",
              "      <td>...</td>\n",
              "    </tr>\n",
              "    <tr>\n",
              "      <th>535470</th>\n",
              "      <td>535471.0</td>\n",
              "      <td>28/7/2021</td>\n",
              "      <td>27/7/2021</td>\n",
              "      <td>หญิง</td>\n",
              "      <td>73.0</td>\n",
              "      <td>ปี</td>\n",
              "      <td>NaN</td>\n",
              "      <td>ขอนแก่น</td>\n",
              "      <td>สัมผัสใกล้ชิดกับผู้ป่วยยืนยันรายก่อนหน้านี้</td>\n",
              "      <td>ขอนแก่น</td>\n",
              "      <td>น้ำพอง</td>\n",
              "    </tr>\n",
              "    <tr>\n",
              "      <th>535471</th>\n",
              "      <td>535472.0</td>\n",
              "      <td>28/7/2021</td>\n",
              "      <td>27/7/2021</td>\n",
              "      <td>หญิง</td>\n",
              "      <td>22.0</td>\n",
              "      <td>ปี</td>\n",
              "      <td>NaN</td>\n",
              "      <td>ขอนแก่น</td>\n",
              "      <td>สัมผัสใกล้ชิดกับผู้ป่วยยืนยันรายก่อนหน้านี้</td>\n",
              "      <td>ขอนแก่น</td>\n",
              "      <td>บ้านฝาง</td>\n",
              "    </tr>\n",
              "    <tr>\n",
              "      <th>535472</th>\n",
              "      <td>535473.0</td>\n",
              "      <td>28/7/2021</td>\n",
              "      <td>27/7/2021</td>\n",
              "      <td>ชาย</td>\n",
              "      <td>47.0</td>\n",
              "      <td>ปี</td>\n",
              "      <td>NaN</td>\n",
              "      <td>ขอนแก่น</td>\n",
              "      <td>สัมผัสใกล้ชิดกับผู้ป่วยยืนยันรายก่อนหน้านี้</td>\n",
              "      <td>ขอนแก่น</td>\n",
              "      <td>ศิลา</td>\n",
              "    </tr>\n",
              "    <tr>\n",
              "      <th>535473</th>\n",
              "      <td>535474.0</td>\n",
              "      <td>28/7/2021</td>\n",
              "      <td>27/7/2021</td>\n",
              "      <td>ชาย</td>\n",
              "      <td>37.0</td>\n",
              "      <td>ปี</td>\n",
              "      <td>NaN</td>\n",
              "      <td>ขอนแก่น</td>\n",
              "      <td>อื่นๆ</td>\n",
              "      <td>ขอนแก่น</td>\n",
              "      <td>เมือง</td>\n",
              "    </tr>\n",
              "    <tr>\n",
              "      <th>535474</th>\n",
              "      <td>535475.0</td>\n",
              "      <td>28/7/2021</td>\n",
              "      <td>27/7/2021</td>\n",
              "      <td>ชาย</td>\n",
              "      <td>19.0</td>\n",
              "      <td>ปี</td>\n",
              "      <td>NaN</td>\n",
              "      <td>ขอนแก่น</td>\n",
              "      <td>สัมผัสใกล้ชิดกับผู้ป่วยยืนยันรายก่อนหน้านี้</td>\n",
              "      <td>ขอนแก่น</td>\n",
              "      <td>อุบลรัตน์</td>\n",
              "    </tr>\n",
              "  </tbody>\n",
              "</table>\n",
              "<p>3923 rows × 11 columns</p>\n",
              "</div>"
            ],
            "text/plain": [
              "             No. announce_date  ... province_of_onset district_of_onset\n",
              "181        182.0     18/3/2020  ...           ขอนแก่น             เมือง\n",
              "463        464.0     22/3/2020  ...           ขอนแก่น             เมือง\n",
              "1467      1468.0     30/3/2020  ...           ขอนแก่น             เมือง\n",
              "1971      1972.0      3/4/2020  ...           ขอนแก่น             เมือง\n",
              "2638      2639.0     15/4/2020  ...           ขอนแก่น            น้ำพอง\n",
              "...          ...           ...  ...               ...               ...\n",
              "535470  535471.0     28/7/2021  ...           ขอนแก่น            น้ำพอง\n",
              "535471  535472.0     28/7/2021  ...           ขอนแก่น           บ้านฝาง\n",
              "535472  535473.0     28/7/2021  ...           ขอนแก่น              ศิลา\n",
              "535473  535474.0     28/7/2021  ...           ขอนแก่น             เมือง\n",
              "535474  535475.0     28/7/2021  ...           ขอนแก่น         อุบลรัตน์\n",
              "\n",
              "[3923 rows x 11 columns]"
            ]
          },
          "metadata": {
            "tags": []
          },
          "execution_count": 57
        }
      ]
    },
    {
      "cell_type": "markdown",
      "metadata": {
        "id": "fczAob-_RakZ"
      },
      "source": [
        "2"
      ]
    },
    {
      "cell_type": "code",
      "metadata": {
        "id": "w3RzJ2QsRb6t",
        "outputId": "51fbb95e-b316-42fd-d7bc-8e24e48cc167",
        "colab": {
          "base_uri": "https://localhost:8080/",
          "height": 562
        }
      },
      "source": [
        "data_cases2[(data_cases2['province_of_isolation'] == 'ขอนแก่น') | (data_cases2['province_of_isolation'] == 'นครราชสีมา') | (data_cases2['province_of_isolation'] == 'อุดรธานี')]"
      ],
      "execution_count": 60,
      "outputs": [
        {
          "output_type": "execute_result",
          "data": {
            "text/html": [
              "<div>\n",
              "<style scoped>\n",
              "    .dataframe tbody tr th:only-of-type {\n",
              "        vertical-align: middle;\n",
              "    }\n",
              "\n",
              "    .dataframe tbody tr th {\n",
              "        vertical-align: top;\n",
              "    }\n",
              "\n",
              "    .dataframe thead th {\n",
              "        text-align: right;\n",
              "    }\n",
              "</style>\n",
              "<table border=\"1\" class=\"dataframe\">\n",
              "  <thead>\n",
              "    <tr style=\"text-align: right;\">\n",
              "      <th></th>\n",
              "      <th>No.</th>\n",
              "      <th>announce_date</th>\n",
              "      <th>Notified date</th>\n",
              "      <th>sex</th>\n",
              "      <th>age</th>\n",
              "      <th>Unit</th>\n",
              "      <th>nationality</th>\n",
              "      <th>province_of_isolation</th>\n",
              "      <th>risk</th>\n",
              "      <th>province_of_onset</th>\n",
              "      <th>district_of_onset</th>\n",
              "    </tr>\n",
              "  </thead>\n",
              "  <tbody>\n",
              "    <tr>\n",
              "      <th>181</th>\n",
              "      <td>182.0</td>\n",
              "      <td>18/3/2020</td>\n",
              "      <td>15/3/2020</td>\n",
              "      <td>ชาย</td>\n",
              "      <td>33.0</td>\n",
              "      <td>ปี</td>\n",
              "      <td>Thailand</td>\n",
              "      <td>ขอนแก่น</td>\n",
              "      <td>สนามมวย</td>\n",
              "      <td>ขอนแก่น</td>\n",
              "      <td>เมือง</td>\n",
              "    </tr>\n",
              "    <tr>\n",
              "      <th>189</th>\n",
              "      <td>190.0</td>\n",
              "      <td>18/3/2020</td>\n",
              "      <td>16/3/2020</td>\n",
              "      <td>ชาย</td>\n",
              "      <td>57.0</td>\n",
              "      <td>ปี</td>\n",
              "      <td>Thailand</td>\n",
              "      <td>นครราชสีมา</td>\n",
              "      <td>สนามมวย</td>\n",
              "      <td>นครราชสีมา</td>\n",
              "      <td>พิมาย</td>\n",
              "    </tr>\n",
              "    <tr>\n",
              "      <th>207</th>\n",
              "      <td>208.0</td>\n",
              "      <td>18/3/2020</td>\n",
              "      <td>16/3/2020</td>\n",
              "      <td>หญิง</td>\n",
              "      <td>30.0</td>\n",
              "      <td>ปี</td>\n",
              "      <td>Thailand</td>\n",
              "      <td>นครราชสีมา</td>\n",
              "      <td>สถานบันเทิง</td>\n",
              "      <td>กรุงเทพมหานคร</td>\n",
              "      <td>NaN</td>\n",
              "    </tr>\n",
              "    <tr>\n",
              "      <th>212</th>\n",
              "      <td>213.0</td>\n",
              "      <td>18/3/2020</td>\n",
              "      <td>14/3/2020</td>\n",
              "      <td>หญิง</td>\n",
              "      <td>22.0</td>\n",
              "      <td>ปี</td>\n",
              "      <td>Thailand</td>\n",
              "      <td>นครราชสีมา</td>\n",
              "      <td>ไปสถานที่ชุมชน เช่น ตลาดนัด สถานที่ท่องเที่ยว</td>\n",
              "      <td>นครราชสีมา</td>\n",
              "      <td>วังน้ำเขียว</td>\n",
              "    </tr>\n",
              "    <tr>\n",
              "      <th>284</th>\n",
              "      <td>285.0</td>\n",
              "      <td>20/3/2020</td>\n",
              "      <td>17/3/2020</td>\n",
              "      <td>ชาย</td>\n",
              "      <td>42.0</td>\n",
              "      <td>ปี</td>\n",
              "      <td>Thailand</td>\n",
              "      <td>นครราชสีมา</td>\n",
              "      <td>สนามมวย</td>\n",
              "      <td>นครราชสีมา</td>\n",
              "      <td>เมืองนครราชสีมา</td>\n",
              "    </tr>\n",
              "    <tr>\n",
              "      <th>...</th>\n",
              "      <td>...</td>\n",
              "      <td>...</td>\n",
              "      <td>...</td>\n",
              "      <td>...</td>\n",
              "      <td>...</td>\n",
              "      <td>...</td>\n",
              "      <td>...</td>\n",
              "      <td>...</td>\n",
              "      <td>...</td>\n",
              "      <td>...</td>\n",
              "      <td>...</td>\n",
              "    </tr>\n",
              "    <tr>\n",
              "      <th>536858</th>\n",
              "      <td>536859.0</td>\n",
              "      <td>28/7/2021</td>\n",
              "      <td>27/7/2021</td>\n",
              "      <td>NaN</td>\n",
              "      <td>NaN</td>\n",
              "      <td>NaN</td>\n",
              "      <td>Thailand</td>\n",
              "      <td>นครราชสีมา</td>\n",
              "      <td>อยู่ระหว่างการสอบสวน</td>\n",
              "      <td>NaN</td>\n",
              "      <td>NaN</td>\n",
              "    </tr>\n",
              "    <tr>\n",
              "      <th>536859</th>\n",
              "      <td>536860.0</td>\n",
              "      <td>28/7/2021</td>\n",
              "      <td>27/7/2021</td>\n",
              "      <td>NaN</td>\n",
              "      <td>NaN</td>\n",
              "      <td>NaN</td>\n",
              "      <td>NaN</td>\n",
              "      <td>นครราชสีมา</td>\n",
              "      <td>อยู่ระหว่างการสอบสวน</td>\n",
              "      <td>NaN</td>\n",
              "      <td>NaN</td>\n",
              "    </tr>\n",
              "    <tr>\n",
              "      <th>536860</th>\n",
              "      <td>536861.0</td>\n",
              "      <td>28/7/2021</td>\n",
              "      <td>27/7/2021</td>\n",
              "      <td>NaN</td>\n",
              "      <td>NaN</td>\n",
              "      <td>NaN</td>\n",
              "      <td>Thailand</td>\n",
              "      <td>นครราชสีมา</td>\n",
              "      <td>อยู่ระหว่างการสอบสวน</td>\n",
              "      <td>NaN</td>\n",
              "      <td>NaN</td>\n",
              "    </tr>\n",
              "    <tr>\n",
              "      <th>536861</th>\n",
              "      <td>536862.0</td>\n",
              "      <td>28/7/2021</td>\n",
              "      <td>27/7/2021</td>\n",
              "      <td>NaN</td>\n",
              "      <td>NaN</td>\n",
              "      <td>NaN</td>\n",
              "      <td>Thailand</td>\n",
              "      <td>นครราชสีมา</td>\n",
              "      <td>อยู่ระหว่างการสอบสวน</td>\n",
              "      <td>NaN</td>\n",
              "      <td>NaN</td>\n",
              "    </tr>\n",
              "    <tr>\n",
              "      <th>536862</th>\n",
              "      <td>536863.0</td>\n",
              "      <td>28/7/2021</td>\n",
              "      <td>27/7/2021</td>\n",
              "      <td>NaN</td>\n",
              "      <td>NaN</td>\n",
              "      <td>NaN</td>\n",
              "      <td>Thailand</td>\n",
              "      <td>นครราชสีมา</td>\n",
              "      <td>อยู่ระหว่างการสอบสวน</td>\n",
              "      <td>NaN</td>\n",
              "      <td>NaN</td>\n",
              "    </tr>\n",
              "  </tbody>\n",
              "</table>\n",
              "<p>11498 rows × 11 columns</p>\n",
              "</div>"
            ],
            "text/plain": [
              "             No. announce_date  ... province_of_onset district_of_onset\n",
              "181        182.0     18/3/2020  ...           ขอนแก่น             เมือง\n",
              "189        190.0     18/3/2020  ...        นครราชสีมา             พิมาย\n",
              "207        208.0     18/3/2020  ...     กรุงเทพมหานคร               NaN\n",
              "212        213.0     18/3/2020  ...        นครราชสีมา       วังน้ำเขียว\n",
              "284        285.0     20/3/2020  ...        นครราชสีมา   เมืองนครราชสีมา\n",
              "...          ...           ...  ...               ...               ...\n",
              "536858  536859.0     28/7/2021  ...               NaN               NaN\n",
              "536859  536860.0     28/7/2021  ...               NaN               NaN\n",
              "536860  536861.0     28/7/2021  ...               NaN               NaN\n",
              "536861  536862.0     28/7/2021  ...               NaN               NaN\n",
              "536862  536863.0     28/7/2021  ...               NaN               NaN\n",
              "\n",
              "[11498 rows x 11 columns]"
            ]
          },
          "metadata": {
            "tags": []
          },
          "execution_count": 60
        }
      ]
    },
    {
      "cell_type": "markdown",
      "metadata": {
        "id": "YHCQRjRzSGs8"
      },
      "source": [
        "3"
      ]
    },
    {
      "cell_type": "code",
      "metadata": {
        "id": "s_jkkzwISFXn",
        "outputId": "06d87cb4-0b97-4d3f-d172-94a477c02e51",
        "colab": {
          "base_uri": "https://localhost:8080/",
          "height": 614
        }
      },
      "source": [
        "data_cases2[(data_cases2['sex'] == 'หญิง') & (data_cases2['province_of_isolation'] == 'กรุงเทพมหานคร')]\n"
      ],
      "execution_count": 61,
      "outputs": [
        {
          "output_type": "execute_result",
          "data": {
            "text/html": [
              "<div>\n",
              "<style scoped>\n",
              "    .dataframe tbody tr th:only-of-type {\n",
              "        vertical-align: middle;\n",
              "    }\n",
              "\n",
              "    .dataframe tbody tr th {\n",
              "        vertical-align: top;\n",
              "    }\n",
              "\n",
              "    .dataframe thead th {\n",
              "        text-align: right;\n",
              "    }\n",
              "</style>\n",
              "<table border=\"1\" class=\"dataframe\">\n",
              "  <thead>\n",
              "    <tr style=\"text-align: right;\">\n",
              "      <th></th>\n",
              "      <th>No.</th>\n",
              "      <th>announce_date</th>\n",
              "      <th>Notified date</th>\n",
              "      <th>sex</th>\n",
              "      <th>age</th>\n",
              "      <th>Unit</th>\n",
              "      <th>nationality</th>\n",
              "      <th>province_of_isolation</th>\n",
              "      <th>risk</th>\n",
              "      <th>province_of_onset</th>\n",
              "      <th>district_of_onset</th>\n",
              "    </tr>\n",
              "  </thead>\n",
              "  <tbody>\n",
              "    <tr>\n",
              "      <th>0</th>\n",
              "      <td>1.0</td>\n",
              "      <td>12/1/2020</td>\n",
              "      <td>NaN</td>\n",
              "      <td>หญิง</td>\n",
              "      <td>61.0</td>\n",
              "      <td>ปี</td>\n",
              "      <td>China</td>\n",
              "      <td>กรุงเทพมหานคร</td>\n",
              "      <td>คนต่างชาติเดินทางมาจากต่างประเทศ</td>\n",
              "      <td>กรุงเทพมหานคร</td>\n",
              "      <td>NaN</td>\n",
              "    </tr>\n",
              "    <tr>\n",
              "      <th>1</th>\n",
              "      <td>2.0</td>\n",
              "      <td>17/1/2020</td>\n",
              "      <td>NaN</td>\n",
              "      <td>หญิง</td>\n",
              "      <td>74.0</td>\n",
              "      <td>ปี</td>\n",
              "      <td>China</td>\n",
              "      <td>กรุงเทพมหานคร</td>\n",
              "      <td>คนต่างชาติเดินทางมาจากต่างประเทศ</td>\n",
              "      <td>กรุงเทพมหานคร</td>\n",
              "      <td>NaN</td>\n",
              "    </tr>\n",
              "    <tr>\n",
              "      <th>5</th>\n",
              "      <td>6.0</td>\n",
              "      <td>25/1/2020</td>\n",
              "      <td>NaN</td>\n",
              "      <td>หญิง</td>\n",
              "      <td>33.0</td>\n",
              "      <td>ปี</td>\n",
              "      <td>China</td>\n",
              "      <td>กรุงเทพมหานคร</td>\n",
              "      <td>คนต่างชาติเดินทางมาจากต่างประเทศ</td>\n",
              "      <td>กรุงเทพมหานคร</td>\n",
              "      <td>NaN</td>\n",
              "    </tr>\n",
              "    <tr>\n",
              "      <th>6</th>\n",
              "      <td>7.0</td>\n",
              "      <td>26/1/2020</td>\n",
              "      <td>NaN</td>\n",
              "      <td>หญิง</td>\n",
              "      <td>57.0</td>\n",
              "      <td>ปี</td>\n",
              "      <td>China</td>\n",
              "      <td>กรุงเทพมหานคร</td>\n",
              "      <td>คนต่างชาติเดินทางมาจากต่างประเทศ</td>\n",
              "      <td>กรุงเทพมหานคร</td>\n",
              "      <td>NaN</td>\n",
              "    </tr>\n",
              "    <tr>\n",
              "      <th>19</th>\n",
              "      <td>20.0</td>\n",
              "      <td>4/2/2020</td>\n",
              "      <td>NaN</td>\n",
              "      <td>หญิง</td>\n",
              "      <td>43.0</td>\n",
              "      <td>ปี</td>\n",
              "      <td>Thailand</td>\n",
              "      <td>กรุงเทพมหานคร</td>\n",
              "      <td>คนไทยเดินทางกลับจากต่างประเทศ</td>\n",
              "      <td>กรุงเทพมหานคร</td>\n",
              "      <td>NaN</td>\n",
              "    </tr>\n",
              "    <tr>\n",
              "      <th>...</th>\n",
              "      <td>...</td>\n",
              "      <td>...</td>\n",
              "      <td>...</td>\n",
              "      <td>...</td>\n",
              "      <td>...</td>\n",
              "      <td>...</td>\n",
              "      <td>...</td>\n",
              "      <td>...</td>\n",
              "      <td>...</td>\n",
              "      <td>...</td>\n",
              "      <td>...</td>\n",
              "    </tr>\n",
              "    <tr>\n",
              "      <th>543100</th>\n",
              "      <td>543101.0</td>\n",
              "      <td>28/7/2021</td>\n",
              "      <td>27/7/2021</td>\n",
              "      <td>หญิง</td>\n",
              "      <td>68.0</td>\n",
              "      <td>ปี</td>\n",
              "      <td>Thailand</td>\n",
              "      <td>กรุงเทพมหานคร</td>\n",
              "      <td>สัมผัสใกล้ชิดกับผู้ป่วยยืนยันรายก่อนหน้านี้</td>\n",
              "      <td>กรุงเทพมหานคร</td>\n",
              "      <td>ดุสิต</td>\n",
              "    </tr>\n",
              "    <tr>\n",
              "      <th>543102</th>\n",
              "      <td>543103.0</td>\n",
              "      <td>28/7/2021</td>\n",
              "      <td>27/7/2021</td>\n",
              "      <td>หญิง</td>\n",
              "      <td>106.0</td>\n",
              "      <td>ปี</td>\n",
              "      <td>Thailand</td>\n",
              "      <td>กรุงเทพมหานคร</td>\n",
              "      <td>สัมผัสใกล้ชิดกับผู้ป่วยยืนยันรายก่อนหน้านี้</td>\n",
              "      <td>กรุงเทพมหานคร</td>\n",
              "      <td>ประเวศ</td>\n",
              "    </tr>\n",
              "    <tr>\n",
              "      <th>543148</th>\n",
              "      <td>543149.0</td>\n",
              "      <td>28/7/2021</td>\n",
              "      <td>27/7/2021</td>\n",
              "      <td>หญิง</td>\n",
              "      <td>30.0</td>\n",
              "      <td>ปี</td>\n",
              "      <td>NaN</td>\n",
              "      <td>กรุงเทพมหานคร</td>\n",
              "      <td>ทัณฑสถาน/เรือนจำ</td>\n",
              "      <td>กรุงเทพมหานคร</td>\n",
              "      <td>NaN</td>\n",
              "    </tr>\n",
              "    <tr>\n",
              "      <th>543149</th>\n",
              "      <td>543150.0</td>\n",
              "      <td>28/7/2021</td>\n",
              "      <td>27/7/2021</td>\n",
              "      <td>หญิง</td>\n",
              "      <td>26.0</td>\n",
              "      <td>ปี</td>\n",
              "      <td>NaN</td>\n",
              "      <td>กรุงเทพมหานคร</td>\n",
              "      <td>ทัณฑสถาน/เรือนจำ</td>\n",
              "      <td>กรุงเทพมหานคร</td>\n",
              "      <td>NaN</td>\n",
              "    </tr>\n",
              "    <tr>\n",
              "      <th>543150</th>\n",
              "      <td>543151.0</td>\n",
              "      <td>28/7/2021</td>\n",
              "      <td>27/7/2021</td>\n",
              "      <td>หญิง</td>\n",
              "      <td>54.0</td>\n",
              "      <td>ปี</td>\n",
              "      <td>NaN</td>\n",
              "      <td>กรุงเทพมหานคร</td>\n",
              "      <td>ทัณฑสถาน/เรือนจำ</td>\n",
              "      <td>กรุงเทพมหานคร</td>\n",
              "      <td>NaN</td>\n",
              "    </tr>\n",
              "  </tbody>\n",
              "</table>\n",
              "<p>70793 rows × 11 columns</p>\n",
              "</div>"
            ],
            "text/plain": [
              "             No. announce_date  ... province_of_onset district_of_onset\n",
              "0            1.0     12/1/2020  ...     กรุงเทพมหานคร               NaN\n",
              "1            2.0     17/1/2020  ...     กรุงเทพมหานคร               NaN\n",
              "5            6.0     25/1/2020  ...     กรุงเทพมหานคร               NaN\n",
              "6            7.0     26/1/2020  ...     กรุงเทพมหานคร               NaN\n",
              "19          20.0      4/2/2020  ...     กรุงเทพมหานคร               NaN\n",
              "...          ...           ...  ...               ...               ...\n",
              "543100  543101.0     28/7/2021  ...     กรุงเทพมหานคร             ดุสิต\n",
              "543102  543103.0     28/7/2021  ...     กรุงเทพมหานคร            ประเวศ\n",
              "543148  543149.0     28/7/2021  ...     กรุงเทพมหานคร               NaN\n",
              "543149  543150.0     28/7/2021  ...     กรุงเทพมหานคร               NaN\n",
              "543150  543151.0     28/7/2021  ...     กรุงเทพมหานคร               NaN\n",
              "\n",
              "[70793 rows x 11 columns]"
            ]
          },
          "metadata": {
            "tags": []
          },
          "execution_count": 61
        }
      ]
    },
    {
      "cell_type": "markdown",
      "metadata": {
        "id": "w_O_NP0USTQ1"
      },
      "source": [
        "4"
      ]
    },
    {
      "cell_type": "code",
      "metadata": {
        "id": "kWXIlprgSWjs",
        "outputId": "995fe6c6-42a8-4d8a-fbab-91a6baf61a6e",
        "colab": {
          "base_uri": "https://localhost:8080/",
          "height": 510
        }
      },
      "source": [
        "data_cases2[(data_cases2['sex'] == 'ชาย') & (data_cases2['age'] >= 18 )& (data_cases2['age'] <= 22 )& (data_cases2['province_of_isolation'] == 'เชียงใหม่')]"
      ],
      "execution_count": 62,
      "outputs": [
        {
          "output_type": "execute_result",
          "data": {
            "text/html": [
              "<div>\n",
              "<style scoped>\n",
              "    .dataframe tbody tr th:only-of-type {\n",
              "        vertical-align: middle;\n",
              "    }\n",
              "\n",
              "    .dataframe tbody tr th {\n",
              "        vertical-align: top;\n",
              "    }\n",
              "\n",
              "    .dataframe thead th {\n",
              "        text-align: right;\n",
              "    }\n",
              "</style>\n",
              "<table border=\"1\" class=\"dataframe\">\n",
              "  <thead>\n",
              "    <tr style=\"text-align: right;\">\n",
              "      <th></th>\n",
              "      <th>No.</th>\n",
              "      <th>announce_date</th>\n",
              "      <th>Notified date</th>\n",
              "      <th>sex</th>\n",
              "      <th>age</th>\n",
              "      <th>Unit</th>\n",
              "      <th>nationality</th>\n",
              "      <th>province_of_isolation</th>\n",
              "      <th>risk</th>\n",
              "      <th>province_of_onset</th>\n",
              "      <th>district_of_onset</th>\n",
              "    </tr>\n",
              "  </thead>\n",
              "  <tbody>\n",
              "    <tr>\n",
              "      <th>1407</th>\n",
              "      <td>1408.0</td>\n",
              "      <td>30/3/2020</td>\n",
              "      <td>29/3/2020</td>\n",
              "      <td>ชาย</td>\n",
              "      <td>21.0</td>\n",
              "      <td>ปี</td>\n",
              "      <td>Thailand</td>\n",
              "      <td>เชียงใหม่</td>\n",
              "      <td>สัมผัสใกล้ชิดกับผู้ป่วยยืนยันรายก่อนหน้านี้</td>\n",
              "      <td>เชียงใหม่</td>\n",
              "      <td>เมือง</td>\n",
              "    </tr>\n",
              "    <tr>\n",
              "      <th>30340</th>\n",
              "      <td>30341.0</td>\n",
              "      <td>9/4/2021</td>\n",
              "      <td>8/4/2021</td>\n",
              "      <td>ชาย</td>\n",
              "      <td>22.0</td>\n",
              "      <td>ปี</td>\n",
              "      <td>Thailand</td>\n",
              "      <td>เชียงใหม่</td>\n",
              "      <td>สถานบันเทิง</td>\n",
              "      <td>เชียงใหม่</td>\n",
              "      <td>เมืองเชียงใหม่</td>\n",
              "    </tr>\n",
              "    <tr>\n",
              "      <th>31499</th>\n",
              "      <td>31500.0</td>\n",
              "      <td>10/4/2021</td>\n",
              "      <td>9/4/2021</td>\n",
              "      <td>ชาย</td>\n",
              "      <td>22.0</td>\n",
              "      <td>ปี</td>\n",
              "      <td>Thailand</td>\n",
              "      <td>เชียงใหม่</td>\n",
              "      <td>สถานบันเทิง</td>\n",
              "      <td>เชียงใหม่</td>\n",
              "      <td>NaN</td>\n",
              "    </tr>\n",
              "    <tr>\n",
              "      <th>31500</th>\n",
              "      <td>31501.0</td>\n",
              "      <td>10/4/2021</td>\n",
              "      <td>9/4/2021</td>\n",
              "      <td>ชาย</td>\n",
              "      <td>22.0</td>\n",
              "      <td>ปี</td>\n",
              "      <td>Thailand</td>\n",
              "      <td>เชียงใหม่</td>\n",
              "      <td>สถานบันเทิง</td>\n",
              "      <td>เชียงใหม่</td>\n",
              "      <td>NaN</td>\n",
              "    </tr>\n",
              "    <tr>\n",
              "      <th>31501</th>\n",
              "      <td>31502.0</td>\n",
              "      <td>10/4/2021</td>\n",
              "      <td>9/4/2021</td>\n",
              "      <td>ชาย</td>\n",
              "      <td>20.0</td>\n",
              "      <td>ปี</td>\n",
              "      <td>Thailand</td>\n",
              "      <td>เชียงใหม่</td>\n",
              "      <td>สถานบันเทิง</td>\n",
              "      <td>เชียงใหม่</td>\n",
              "      <td>NaN</td>\n",
              "    </tr>\n",
              "    <tr>\n",
              "      <th>...</th>\n",
              "      <td>...</td>\n",
              "      <td>...</td>\n",
              "      <td>...</td>\n",
              "      <td>...</td>\n",
              "      <td>...</td>\n",
              "      <td>...</td>\n",
              "      <td>...</td>\n",
              "      <td>...</td>\n",
              "      <td>...</td>\n",
              "      <td>...</td>\n",
              "      <td>...</td>\n",
              "    </tr>\n",
              "    <tr>\n",
              "      <th>512632</th>\n",
              "      <td>512633.0</td>\n",
              "      <td>27/7/2021</td>\n",
              "      <td>26/7/2021</td>\n",
              "      <td>ชาย</td>\n",
              "      <td>22.0</td>\n",
              "      <td>ปี</td>\n",
              "      <td>NaN</td>\n",
              "      <td>เชียงใหม่</td>\n",
              "      <td>อื่นๆ</td>\n",
              "      <td>เชียงใหม่</td>\n",
              "      <td>NaN</td>\n",
              "    </tr>\n",
              "    <tr>\n",
              "      <th>512648</th>\n",
              "      <td>512649.0</td>\n",
              "      <td>27/7/2021</td>\n",
              "      <td>26/7/2021</td>\n",
              "      <td>ชาย</td>\n",
              "      <td>20.0</td>\n",
              "      <td>ปี</td>\n",
              "      <td>NaN</td>\n",
              "      <td>เชียงใหม่</td>\n",
              "      <td>สัมผัสใกล้ชิดกับผู้ป่วยยืนยันรายก่อนหน้านี้</td>\n",
              "      <td>เชียงใหม่</td>\n",
              "      <td>หางดง</td>\n",
              "    </tr>\n",
              "    <tr>\n",
              "      <th>526967</th>\n",
              "      <td>526968.0</td>\n",
              "      <td>28/7/2021</td>\n",
              "      <td>27/7/2021</td>\n",
              "      <td>ชาย</td>\n",
              "      <td>18.0</td>\n",
              "      <td>ปี</td>\n",
              "      <td>NaN</td>\n",
              "      <td>เชียงใหม่</td>\n",
              "      <td>อื่นๆ</td>\n",
              "      <td>เชียงใหม่</td>\n",
              "      <td>เชียงดาว</td>\n",
              "    </tr>\n",
              "    <tr>\n",
              "      <th>526977</th>\n",
              "      <td>526978.0</td>\n",
              "      <td>28/7/2021</td>\n",
              "      <td>27/7/2021</td>\n",
              "      <td>ชาย</td>\n",
              "      <td>22.0</td>\n",
              "      <td>ปี</td>\n",
              "      <td>NaN</td>\n",
              "      <td>เชียงใหม่</td>\n",
              "      <td>อื่นๆ</td>\n",
              "      <td>NaN</td>\n",
              "      <td>NaN</td>\n",
              "    </tr>\n",
              "    <tr>\n",
              "      <th>526991</th>\n",
              "      <td>526992.0</td>\n",
              "      <td>28/7/2021</td>\n",
              "      <td>27/7/2021</td>\n",
              "      <td>ชาย</td>\n",
              "      <td>19.0</td>\n",
              "      <td>ปี</td>\n",
              "      <td>NaN</td>\n",
              "      <td>เชียงใหม่</td>\n",
              "      <td>อื่นๆ</td>\n",
              "      <td>เชียงใหม่</td>\n",
              "      <td>ไชยปราการ</td>\n",
              "    </tr>\n",
              "  </tbody>\n",
              "</table>\n",
              "<p>416 rows × 11 columns</p>\n",
              "</div>"
            ],
            "text/plain": [
              "             No. announce_date  ... province_of_onset district_of_onset\n",
              "1407      1408.0     30/3/2020  ...         เชียงใหม่             เมือง\n",
              "30340    30341.0      9/4/2021  ...         เชียงใหม่    เมืองเชียงใหม่\n",
              "31499    31500.0     10/4/2021  ...         เชียงใหม่               NaN\n",
              "31500    31501.0     10/4/2021  ...         เชียงใหม่               NaN\n",
              "31501    31502.0     10/4/2021  ...         เชียงใหม่               NaN\n",
              "...          ...           ...  ...               ...               ...\n",
              "512632  512633.0     27/7/2021  ...         เชียงใหม่               NaN\n",
              "512648  512649.0     27/7/2021  ...         เชียงใหม่             หางดง\n",
              "526967  526968.0     28/7/2021  ...         เชียงใหม่          เชียงดาว\n",
              "526977  526978.0     28/7/2021  ...               NaN               NaN\n",
              "526991  526992.0     28/7/2021  ...         เชียงใหม่         ไชยปราการ\n",
              "\n",
              "[416 rows x 11 columns]"
            ]
          },
          "metadata": {
            "tags": []
          },
          "execution_count": 62
        }
      ]
    },
    {
      "cell_type": "markdown",
      "metadata": {
        "id": "HiUngjZ4Sg0L"
      },
      "source": [
        "5"
      ]
    },
    {
      "cell_type": "code",
      "metadata": {
        "id": "w0rc_d4jShVf",
        "outputId": "c0e8262d-5bd0-4432-bbc8-ae4fa0c6a430",
        "colab": {
          "base_uri": "https://localhost:8080/",
          "height": 683
        }
      },
      "source": [
        "data_cases2[(data_cases2['province_of_isolation'] == 'ขอนแก่น')]"
      ],
      "execution_count": 64,
      "outputs": [
        {
          "output_type": "execute_result",
          "data": {
            "text/html": [
              "<div>\n",
              "<style scoped>\n",
              "    .dataframe tbody tr th:only-of-type {\n",
              "        vertical-align: middle;\n",
              "    }\n",
              "\n",
              "    .dataframe tbody tr th {\n",
              "        vertical-align: top;\n",
              "    }\n",
              "\n",
              "    .dataframe thead th {\n",
              "        text-align: right;\n",
              "    }\n",
              "</style>\n",
              "<table border=\"1\" class=\"dataframe\">\n",
              "  <thead>\n",
              "    <tr style=\"text-align: right;\">\n",
              "      <th></th>\n",
              "      <th>No.</th>\n",
              "      <th>announce_date</th>\n",
              "      <th>Notified date</th>\n",
              "      <th>sex</th>\n",
              "      <th>age</th>\n",
              "      <th>Unit</th>\n",
              "      <th>nationality</th>\n",
              "      <th>province_of_isolation</th>\n",
              "      <th>risk</th>\n",
              "      <th>province_of_onset</th>\n",
              "      <th>district_of_onset</th>\n",
              "    </tr>\n",
              "  </thead>\n",
              "  <tbody>\n",
              "    <tr>\n",
              "      <th>181</th>\n",
              "      <td>182.0</td>\n",
              "      <td>18/3/2020</td>\n",
              "      <td>15/3/2020</td>\n",
              "      <td>ชาย</td>\n",
              "      <td>33.0</td>\n",
              "      <td>ปี</td>\n",
              "      <td>Thailand</td>\n",
              "      <td>ขอนแก่น</td>\n",
              "      <td>สนามมวย</td>\n",
              "      <td>ขอนแก่น</td>\n",
              "      <td>เมือง</td>\n",
              "    </tr>\n",
              "    <tr>\n",
              "      <th>463</th>\n",
              "      <td>464.0</td>\n",
              "      <td>22/3/2020</td>\n",
              "      <td>21/3/2020</td>\n",
              "      <td>หญิง</td>\n",
              "      <td>36.0</td>\n",
              "      <td>ปี</td>\n",
              "      <td>Thailand</td>\n",
              "      <td>ขอนแก่น</td>\n",
              "      <td>สัมผัสใกล้ชิดกับผู้ป่วยยืนยันรายก่อนหน้านี้</td>\n",
              "      <td>ขอนแก่น</td>\n",
              "      <td>เมือง</td>\n",
              "    </tr>\n",
              "    <tr>\n",
              "      <th>1467</th>\n",
              "      <td>1468.0</td>\n",
              "      <td>30/3/2020</td>\n",
              "      <td>26/3/2020</td>\n",
              "      <td>ชาย</td>\n",
              "      <td>19.0</td>\n",
              "      <td>ปี</td>\n",
              "      <td>Thailand</td>\n",
              "      <td>ขอนแก่น</td>\n",
              "      <td>คนไทยเดินทางกลับจากต่างประเทศ</td>\n",
              "      <td>ขอนแก่น</td>\n",
              "      <td>เมือง</td>\n",
              "    </tr>\n",
              "    <tr>\n",
              "      <th>1971</th>\n",
              "      <td>1972.0</td>\n",
              "      <td>3/4/2020</td>\n",
              "      <td>31/3/2020</td>\n",
              "      <td>หญิง</td>\n",
              "      <td>70.0</td>\n",
              "      <td>ปี</td>\n",
              "      <td>Thailand</td>\n",
              "      <td>ขอนแก่น</td>\n",
              "      <td>ไปสถานที่ชุมชน เช่น ตลาดนัด สถานที่ท่องเที่ยว</td>\n",
              "      <td>ขอนแก่น</td>\n",
              "      <td>เมือง</td>\n",
              "    </tr>\n",
              "    <tr>\n",
              "      <th>2638</th>\n",
              "      <td>2639.0</td>\n",
              "      <td>15/4/2020</td>\n",
              "      <td>14/4/2020</td>\n",
              "      <td>หญิง</td>\n",
              "      <td>63.0</td>\n",
              "      <td>ปี</td>\n",
              "      <td>Thailand</td>\n",
              "      <td>ขอนแก่น</td>\n",
              "      <td>สัมผัสผู้เดินทางจากต่างประเทศ</td>\n",
              "      <td>ขอนแก่น</td>\n",
              "      <td>น้ำพอง</td>\n",
              "    </tr>\n",
              "    <tr>\n",
              "      <th>...</th>\n",
              "      <td>...</td>\n",
              "      <td>...</td>\n",
              "      <td>...</td>\n",
              "      <td>...</td>\n",
              "      <td>...</td>\n",
              "      <td>...</td>\n",
              "      <td>...</td>\n",
              "      <td>...</td>\n",
              "      <td>...</td>\n",
              "      <td>...</td>\n",
              "      <td>...</td>\n",
              "    </tr>\n",
              "    <tr>\n",
              "      <th>535470</th>\n",
              "      <td>535471.0</td>\n",
              "      <td>28/7/2021</td>\n",
              "      <td>27/7/2021</td>\n",
              "      <td>หญิง</td>\n",
              "      <td>73.0</td>\n",
              "      <td>ปี</td>\n",
              "      <td>NaN</td>\n",
              "      <td>ขอนแก่น</td>\n",
              "      <td>สัมผัสใกล้ชิดกับผู้ป่วยยืนยันรายก่อนหน้านี้</td>\n",
              "      <td>ขอนแก่น</td>\n",
              "      <td>น้ำพอง</td>\n",
              "    </tr>\n",
              "    <tr>\n",
              "      <th>535471</th>\n",
              "      <td>535472.0</td>\n",
              "      <td>28/7/2021</td>\n",
              "      <td>27/7/2021</td>\n",
              "      <td>หญิง</td>\n",
              "      <td>22.0</td>\n",
              "      <td>ปี</td>\n",
              "      <td>NaN</td>\n",
              "      <td>ขอนแก่น</td>\n",
              "      <td>สัมผัสใกล้ชิดกับผู้ป่วยยืนยันรายก่อนหน้านี้</td>\n",
              "      <td>ขอนแก่น</td>\n",
              "      <td>บ้านฝาง</td>\n",
              "    </tr>\n",
              "    <tr>\n",
              "      <th>535472</th>\n",
              "      <td>535473.0</td>\n",
              "      <td>28/7/2021</td>\n",
              "      <td>27/7/2021</td>\n",
              "      <td>ชาย</td>\n",
              "      <td>47.0</td>\n",
              "      <td>ปี</td>\n",
              "      <td>NaN</td>\n",
              "      <td>ขอนแก่น</td>\n",
              "      <td>สัมผัสใกล้ชิดกับผู้ป่วยยืนยันรายก่อนหน้านี้</td>\n",
              "      <td>ขอนแก่น</td>\n",
              "      <td>ศิลา</td>\n",
              "    </tr>\n",
              "    <tr>\n",
              "      <th>535473</th>\n",
              "      <td>535474.0</td>\n",
              "      <td>28/7/2021</td>\n",
              "      <td>27/7/2021</td>\n",
              "      <td>ชาย</td>\n",
              "      <td>37.0</td>\n",
              "      <td>ปี</td>\n",
              "      <td>NaN</td>\n",
              "      <td>ขอนแก่น</td>\n",
              "      <td>อื่นๆ</td>\n",
              "      <td>ขอนแก่น</td>\n",
              "      <td>เมือง</td>\n",
              "    </tr>\n",
              "    <tr>\n",
              "      <th>535474</th>\n",
              "      <td>535475.0</td>\n",
              "      <td>28/7/2021</td>\n",
              "      <td>27/7/2021</td>\n",
              "      <td>ชาย</td>\n",
              "      <td>19.0</td>\n",
              "      <td>ปี</td>\n",
              "      <td>NaN</td>\n",
              "      <td>ขอนแก่น</td>\n",
              "      <td>สัมผัสใกล้ชิดกับผู้ป่วยยืนยันรายก่อนหน้านี้</td>\n",
              "      <td>ขอนแก่น</td>\n",
              "      <td>อุบลรัตน์</td>\n",
              "    </tr>\n",
              "  </tbody>\n",
              "</table>\n",
              "<p>3923 rows × 11 columns</p>\n",
              "</div>"
            ],
            "text/plain": [
              "             No. announce_date  ... province_of_onset district_of_onset\n",
              "181        182.0     18/3/2020  ...           ขอนแก่น             เมือง\n",
              "463        464.0     22/3/2020  ...           ขอนแก่น             เมือง\n",
              "1467      1468.0     30/3/2020  ...           ขอนแก่น             เมือง\n",
              "1971      1972.0      3/4/2020  ...           ขอนแก่น             เมือง\n",
              "2638      2639.0     15/4/2020  ...           ขอนแก่น            น้ำพอง\n",
              "...          ...           ...  ...               ...               ...\n",
              "535470  535471.0     28/7/2021  ...           ขอนแก่น            น้ำพอง\n",
              "535471  535472.0     28/7/2021  ...           ขอนแก่น           บ้านฝาง\n",
              "535472  535473.0     28/7/2021  ...           ขอนแก่น              ศิลา\n",
              "535473  535474.0     28/7/2021  ...           ขอนแก่น             เมือง\n",
              "535474  535475.0     28/7/2021  ...           ขอนแก่น         อุบลรัตน์\n",
              "\n",
              "[3923 rows x 11 columns]"
            ]
          },
          "metadata": {
            "tags": []
          },
          "execution_count": 64
        }
      ]
    },
    {
      "cell_type": "code",
      "metadata": {
        "id": "2Lk6P3gaSyfQ",
        "outputId": "e83ee05a-bc4c-4d69-914a-c2e0fb5795fc",
        "colab": {
          "base_uri": "https://localhost:8080/"
        }
      },
      "source": [
        "Avg_KK = data_cases2[(data_cases2['province_of_isolation'] == 'ขอนแก่น')].mean()\n",
        "Avg_KK"
      ],
      "execution_count": 67,
      "outputs": [
        {
          "output_type": "execute_result",
          "data": {
            "text/plain": [
              "No.    374497.513128\n",
              "age        34.822239\n",
              "dtype: float64"
            ]
          },
          "metadata": {
            "tags": []
          },
          "execution_count": 67
        }
      ]
    }
  ]
}